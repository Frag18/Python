{
 "cells": [
  {
   "cell_type": "markdown",
   "id": "f913262e",
   "metadata": {
    "id": "f913262e"
   },
   "source": [
    "# Web Scraping Using Python & BeautifulSoup\n",
    "                 \n",
    "# FLIPCART PRODUCT REVIEW"
   ]
  },
  {
   "cell_type": "markdown",
   "id": "910356b2",
   "metadata": {
    "id": "910356b2"
   },
   "source": [
    "If you want to scrape a website:\n",
    "    \n",
    "    (1) Use the API\n",
    "    (2) HTML Web Scraping using some tool like\n",
    "    Step 0:Setting up the environment\n",
    "    Step 1:Get the HTML\n",
    "    Step 2:Parse the HTML\n",
    "    Step 3:HTML tree traversal"
   ]
  },
  {
   "cell_type": "markdown",
   "id": "040a68f1",
   "metadata": {
    "id": "040a68f1"
   },
   "source": [
    "STEP 0:-Setting up the environment"
   ]
  },
  {
   "cell_type": "code",
   "execution_count": 1,
   "id": "ffae972b",
   "metadata": {
    "id": "ffae972b"
   },
   "outputs": [],
   "source": [
    "import requests\n",
    "from bs4 import BeautifulSoup\n",
    "#import pandas as pd\n",
    "URL = \"https://www.flipkart.com/hp-15s-ryzen-3-dual-core-3250u-4-gb-1-tb-hdd-windows-10-home-15s-gr0006au-thin-light-laptop/product-reviews/itmdbb2d234797b6?pid=COMFZHZFZFFBJBHH&lid=LSTCOMFZHZFZFFBJBHH7WNMPE&marketplace=FLIPKART\""
   ]
  },
  {
   "cell_type": "markdown",
   "id": "bf78760d",
   "metadata": {
    "id": "bf78760d"
   },
   "source": [
    "STEP 1:-Get the HTML"
   ]
  },
  {
   "cell_type": "code",
   "execution_count": 2,
   "id": "9966fb9b",
   "metadata": {
    "id": "9966fb9b"
   },
   "outputs": [
    {
     "name": "stdout",
     "output_type": "stream",
     "text": [
      "b'<!doctype html><html lang=\"en\"><head><link href=\"https://rukminim2.flixcart.com\" rel=\"preconnect\"/><link rel=\"stylesheet\" href=\"//static-assets-web.flixcart.com/fk-p-linchpin-web/fk-cp-zion/css/app_modules.chunk.905c37.css\"/><link rel=\"stylesheet\" href=\"//static-assets-web.flixcart.com/fk-p-linchpin-web/fk-cp-zion/css/app.chunk.e82689.css\"/><meta http-equiv=\"Content-type\" content=\"text/html; charset=utf-8\"/><meta http-equiv=\"X-UA-Compatible\" content=\"IE=Edge\"/><meta property=\"fb:page_id\" content=\"102988293558\"/><meta property=\"fb:admins\" content=\"658873552,624500995,100000233612389\"/><link rel=\"shortcut icon\" href=\"https:///www/promos/new/20150528-140547-favicon-retina.ico\"/><link type=\"application/opensearchdescription+xml\" rel=\"search\" href=\"/osdd.xml?v=2\"/><meta property=\"og:type\" content=\"website\"/><meta name=\"og_site_name\" property=\"og:site_name\" content=\"Flipkart.com\"/><link rel=\"apple-touch-icon\" sizes=\"57x57\" href=\"/apple-touch-icon-57x57.png\"/><link rel=\"apple-touch-icon\" sizes=\"72x72\" href=\"/apple-touch-icon-72x72.png\"/><link rel=\"apple-touch-icon\" sizes=\"114x114\" href=\"/apple-touch-icon-114x114.png\"/><link rel=\"apple-touch-icon\" sizes=\"144x144\" href=\"/apple-touch-icon-144x144.png\"/><link rel=\"apple-touch-icon\" href=\"/apple-touch-icon-57x57.png\"/><meta name=\"twitter:card\" content=\"app\"><meta name=\"twitter:site\" content=\"@flipkart\"><meta name=\"twitter:creator\" content=\"@flipkart\"><meta name=\"twitter:title\" content=\"Hp 15s Ryzen 3 Dual Core 3250u 4 Gb 1 Tb Hdd Windows 10 Home 15s Gr0006au Thin Light Laptop Reviews: Latest Review of Hp 15s Ryzen 3 Dual Core 3250u 4 Gb 1 Tb Hdd Windows 10 Home 15s Gr0006au Thin Light Laptop | Price in India | Flipkart.com\"><meta name=\"twitter:description\" content=\"Shop for electronics, apparels & more using our Flipkart app Free shipping & COD.\"><meta name=\"twitter:app:country\" content=\"in\"><meta name=\"al:ios:app_name\" content=\"Flipkart\"><meta name=\"al:ios:app_store_id\" content=\"742044692\"><meta name=\"twitter:app:name:iphone\" content=\"Flipkart\"><meta name=\"twitter:app:id:iphone\" content=\"742044692\"><meta name=\"twitter:app:url:iphone\" content=\"http://dl.flipkart.com/dl/home?\"><meta name=\"twitter:app:name:ipad\" content=\"Flipkart\"><meta name=\"twitter:app:id:ipad\" content=\"742044692\"><meta name=\"twitter:app:url:ipad\" content=\"http://dl.flipkart.com/dl/home?\"><meta name=\"twitter:app:name:googleplay\" content=\"Flipkart\"><meta name=\"twitter:app:id:googleplay\" content=\"com.flipkart.android\"><meta name=\"twitter:app:url:googleplay\" content=\"http://dl.flipkart.com/dl/home?\"><style>#container {\\n\\t\\t\\theight: 100%;\\n\\t\\t}</style>  <link rel=\"stylesheet\" href=\"///fk-cp-zion/css/AllReviewsPage.chunk.03bdc3.css\"/><title>Hp 15s Ryzen 3 Dual Core 3250u 4 Gb 1 Tb Hdd Windows 10 Home 15s Gr0006au Thin Light Laptop Reviews: Latest Review of Hp 15s Ryzen 3 Dual Core 3250u 4 Gb 1 Tb Hdd Windows 10 Home 15s Gr0006au Thin Light Laptop | Price in India | Flipkart.com</title><meta name=\"og_title\" property=\"og:title\" content=\"Hp 15s Ryzen 3 Dual Core 3250u 4 Gb 1 Tb Hdd Windows 10 Home 15s Gr0006au Thin Light Laptop Reviews: Latest Review of Hp 15s Ryzen 3 Dual Core 3250u 4 Gb 1 Tb Hdd Windows 10 Home 15s Gr0006au Thin Light Laptop | Price in India | Flipkart.com\"/><meta name=\"Keywords\" content=\"Hp 15s Ryzen 3 Dual Core 3250u 4 Gb 1 Tb Hdd Windows 10 Home 15s Gr0006au Thin Light Laptop Reviews\"/> <meta name=\"Description\" content=\"Read Latest Reviews of Hp 15s Ryzen 3 Dual Core 3250u 4 Gb 1 Tb Hdd Windows 10 Home 15s Gr0006au Thin Light Laptop on Flipkart.com. Find genuine customer reviews and ratings. Buy Hp 15s Ryzen 3 Dual Core 3250u 4 Gb 1 Tb Hdd Windows 10 Home 15s Gr0006au Thin Light Laptop at best prices on Flipkart.com.\"/><meta property=\"og:description\" content=\"Read Latest Reviews of Hp 15s Ryzen 3 Dual Core 3250u 4 Gb 1 Tb Hdd Windows 10 Home 15s Gr0006au Thin Light Laptop on Flipkart.com. Find genuine customer reviews and ratings. Buy Hp 15s Ryzen 3 Dual Core 3250u 4 Gb 1 Tb Hdd Windows 10 Home 15s Gr0006au Thin Light Laptop at best prices on Flipkart.com.\"/>       <meta name=\"msvalidate.01\" content=\"F4EEB3A0AFFDD385992A06E6920C0AC3\"/> <!--[if IE 9 ]>\\n\\t<script nonce=\"5991165315307019647\">\\n\\t\\twindow.browserVersion = \\'IE9\\';\\n\\t\\tdocument.documentElement.className += \\' ie9\\';\\n\\t</script>\\n\\t<![endif]--><!--[if !IE]><!--><script nonce=\"5991165315307019647\">if (/*@cc_on!@*/false) {\\n\\t\\t\\twindow.browserVersion = \\'IE10\\';\\n\\t\\t\\tdocument.documentElement.className += \\' ie10\\';\\n\\t\\t}</script><!--<![endif]-->   <script nonce=\"5991165315307019647\">!function(){if(\"PerformancePaintTiming\" in window){var e=window.__perf={e:[]};e.o=new PerformanceObserver(function(n){e.e=e.e.concat(n.getEntries())});try{e.o.observe({entryTypes:[\"paint\"]})}catch(e){}}}();\\n\\n\\t\\tif (requestAnimationFrame && performance && performance.mark) {\\n\\t\\t\\trequestAnimationFrame(function () {\\n\\t\\t\\t\\twindow.first_paint = performance.now();\\n\\t\\t\\t\\tperformance.mark(\"first_paint\");\\n\\t\\t\\t});\\n\\t\\t}\\n\\n        // web-vitals polyfill for FID\\n        !function(n,e){var t,o,i,c=[],f={passive:!0,capture:!0},r=new Date,a=\"pointerup\",u=\"pointercancel\";function p(n,c){t||(t=c,o=n,i=new Date,w(e),s())}function s(){o>=0&&o<i-r&&(c.forEach(function(n){n(o,t)}),c=[])}function l(t){if(t.cancelable){var o=(t.timeStamp>1e12?new Date:performance.now())-t.timeStamp;\"pointerdown\"==t.type?function(t,o){function i(){p(t,o),r()}function c(){r()}function r(){e(a,i,f),e(u,c,f)}n(a,i,f),n(u,c,f)}(o,t):p(o,t)}}function w(n){[\"click\",\"mousedown\",\"keydown\",\"touchstart\",\"pointerdown\"].forEach(function(e){n(e,l,f)})}w(n),self.perfMetrics=self.perfMetrics||{},self.perfMetrics.onFirstInputDelay=function(n){c.push(n),s()}}(addEventListener,removeEventListener);</script><script async src=\"https://www.googletagmanager.com/gtag/js?id=AW-594691041\"></script><script nonce=\"5991165315307019647\">window.dataLayer = window.dataLayer || [];\\n\\t\\tfunction gtag(){dataLayer.push(arguments)};\\n\\t\\tgtag(\\'js\\', new Date());</script></head><body><div id=\"container\"><div><div class=\"_1kfTjk\"><div class=\"_1rH5Jn\"><div class=\"_1TmfNK\"></div><div class=\"_2Xfa2_\"><div class=\"_3_C9Hx\"><div class=\"_3qX0zy\"><a href=\"/\"><img width=\"75\" src=\"//static-assets-web.flixcart.com/fk-p-linchpin-web/fk-cp-zion/img/flipkart-plus_8d85f4.png\" alt=\"Flipkart\" title=\"Flipkart\" class=\"_2xm1JU\"/></a><a class=\"_21ljIi\" href=\"/plus\">Explore<!-- --> <span class=\"_2FVHGh\">Plus</span><img width=\"10\" src=\"//static-assets-web.flixcart.com/fk-p-linchpin-web/fk-cp-zion/img/plus_aef861.png\"/></a></div></div><div class=\"_1cmsER\"><form class=\"_2M8cLY header-form-search\" action=\"/search\" method=\"GET\"><div class=\"col-12-12 _2oO9oE\"><div class=\"_3OO5Xc\"><input type=\"text\" value=\"\" class=\"_3704LK\" title=\"Search for products, brands and more\" name=\"q\" autoComplete=\"off\" placeholder=\"Search for products, brands and more\"/></div><button class=\"L0Z3Pu\" type=\"submit\"><svg width=\"20\" height=\"20\" viewBox=\"0 0 17 18\" class=\"\" xmlns=\"http://www.w3.org/2000/svg\"><g fill=\"#2874F1\" fill-rule=\"evenodd\"><path class=\"_34RNph\" d=\"m11.618 9.897l4.225 4.212c.092.092.101.232.02.313l-1.465 1.46c-.081.081-.221.072-.314-.02l-4.216-4.203\"></path><path class=\"_34RNph\" d=\"m6.486 10.901c-2.42 0-4.381-1.956-4.381-4.368 0-2.413 1.961-4.369 4.381-4.369 2.42 0 4.381 1.956 4.381 4.369 0 2.413-1.961 4.368-4.381 4.368m0-10.835c-3.582 0-6.486 2.895-6.486 6.467 0 3.572 2.904 6.467 6.486 6.467 3.582 0 6.486-2.895 6.486-6.467 0-3.572-2.904-6.467-6.486-6.467\"></path></g></svg></button><input type=\"hidden\" name=\"otracker\" value=\"search\"/><input type=\"hidden\" name=\"otracker1\" value=\"search\"/><input type=\"hidden\" name=\"marketplace\" value=\"FLIPKART\"/><input type=\"hidden\" name=\"as-show\" value=\"off\"/><input type=\"hidden\" name=\"as\" value=\"off\"/></div><ul class=\"col-12-12 _1MRYA1\"></ul></form></div><div class=\"go_DOp _2errNR\"><div class=\"_28p97w\"><div class=\"_1psGvi _3BvnxG\"><div><a class=\"_1_3w1N\" href=\"/account/login?ret=/hp-15s-ryzen-3-dual-core-3250u-4-gb-1-tb-hdd-windows-10-home-15s-gr0006au-thin-light-laptop/product-reviews/itmdbb2d234797b6%3Fpid%3DCOMFZHZFZFFBJBHH%26lid%3DLSTCOMFZHZFZFFBJBHH7WNMPE%26marketplace%3DFLIPKART\">Login</a></div></div></div></div><div class=\"go_DOp\"><a href=\"https://seller.flipkart.com/sell-online/?utm_source=fkwebsite&amp;utm_medium=websitedirect\" class=\"_3-PJz-\"><span>Become a Seller</span></a></div><div class=\"go_DOp\"><div class=\"_28p97w\"><div class=\"_1psGvi _3BvnxG\"><div><div class=\"exehdJ\"> <!-- -->More<!-- --> </div></div></div><svg width=\"4.7\" height=\"8\" viewBox=\"0 0 16 27\" xmlns=\"http://www.w3.org/2000/svg\" class=\"zZ3yfL\"><path d=\"M16 23.207L6.11 13.161 16 3.093 12.955 0 0 13.161l12.955 13.161z\" fill=\"#fff\" class=\"_2gTTdy\"></path></svg></div></div><div class=\"go_DOp\"><div class=\"_1psGvi\"><div class=\"YUhWwv\"><a class=\"_3SkBxJ\" href=\"/viewcart?exploreMode=true&amp;preference=FLIPKART\"><svg class=\"V3C5bO\" width=\"14\" height=\"14\" viewBox=\"0 0 16 16\" xmlns=\"http://www.w3.org/2000/svg\"><path class=\"_1bS9ic\" d=\"M15.32 2.405H4.887C3 2.405 2.46.805 2.46.805L2.257.21C2.208.085 2.083 0 1.946 0H.336C.1 0-.064.24.024.46l.644 1.945L3.11 9.767c.047.137.175.23.32.23h8.418l-.493 1.958H3.768l.002.003c-.017 0-.033-.003-.05-.003-1.06 0-1.92.86-1.92 1.92s.86 1.92 1.92 1.92c.99 0 1.805-.75 1.91-1.712l5.55.076c.12.922.91 1.636 1.867 1.636 1.04 0 1.885-.844 1.885-1.885 0-.866-.584-1.593-1.38-1.814l2.423-8.832c.12-.433-.206-.86-.655-.86\" fill=\"#fff\"></path></svg><span>Cart</span></a></div></div></div></div><div class=\"_1TmfNK\"></div></div><div class=\"_1mUdNz\"></div></div><div class=\"_331-kn\"></div><div class=\"_2tsNFb\"><div class=\"_6t1WkM _3HqJxg\"><div class=\"_1YokD2 _2GoDe3 col-12-12\"><div class=\"_1YokD2 _3Mn1Gg col-3-12\" style=\"border-right:1px solid #f0f0f0\"><div class=\"_1AtVbE col-12-12\"><div class=\"_4ddWXP _3BCh3_ _G-HdA\"><a class=\"_2rpwqI\" title=\"HP 15s AMD Ryzen 3 Dual Core 3250U - (4 GB/1 TB HDD/Windows 10 Home) 15s-GR0006AU Thin and Light Laptop\" target=\"_blank\" rel=\"noopener noreferrer\" href=\"/hp-15s-ryzen-3-dual-core-3250u-4-gb-1-tb-hdd-windows-10-home-15s-gr0006au-thin-light-laptop/p/itmdbb2d234797b6?pid=COMFZHZFZFFBJBHH&amp;fm=organic&amp;ppt=None&amp;ppn=None&amp;ssid=nm0ww8036o0000001707826062837\"><div class=\"_28_T72\"><div><div class=\"CXW8mj\" style=\"height:246px;width:246px\"><img loading=\"eager\" class=\"_396cs4\" alt=\"HP 15s AMD Ryzen 3 Dual Core 3250U - (4 GB/1 TB HDD/Windows 10 Home) 15s-GR0006AU Thin and Light Laptop\" src=\"https://rukminim2.flixcart.com/image/312/312/kk76wsw0/computer/8/2/2/hp-original-imafzhsyh6qaydrz.jpeg?q=70\"/></div></div></div></a><div><div><a title=\"HP 15s AMD Ryzen 3 Dual Core 3250U - (4 GB/1 TB HDD/Windows 10 Home) 15s-GR0006AU Thin and Light Laptop\" class=\"s1Q9rs _2qfgz2\" target=\"_blank\" rel=\"noopener noreferrer\" href=\"/hp-15s-ryzen-3-dual-core-3250u-4-gb-1-tb-hdd-windows-10-home-15s-gr0006au-thin-light-laptop/p/itmdbb2d234797b6?pid=COMFZHZFZFFBJBHH&amp;fm=organic&amp;ppt=None&amp;ppn=None&amp;ssid=nm0ww8036o0000001707826062837\">HP 15s AMD Ryzen 3 Dual Core 3250U - (4 GB/1 TB HDD/Windows 10...</a></div><div class=\"gUuXy-\"><span id=\"productRating_LSTCOMFZHZFZFFBJBHH7WNMPE_COMFZHZFZFFBJBHH_\" class=\"_1lRcqv\"><div class=\"_3LWZlK\">3.8<img src=\"data:image/svg+xml;base64,PHN2ZyB4bWxucz0iaHR0cDovL3d3dy53My5vcmcvMjAwMC9zdmciIHdpZHRoPSIxMyIgaGVpZ2h0PSIxMiI+PHBhdGggZmlsbD0iI0ZGRiIgZD0iTTYuNSA5LjQzOWwtMy42NzQgMi4yMy45NC00LjI2LTMuMjEtMi44ODMgNC4yNTQtLjQwNEw2LjUuMTEybDEuNjkgNC4wMSA0LjI1NC40MDQtMy4yMSAyLjg4Mi45NCA0LjI2eiIvPjwvc3ZnPg==\" class=\"_1wB99o\"/></div></span><span class=\"_2_R_DZ\"><span><span>1,625 Ratings\\xc2\\xa0</span><span class=\"_13vcmD\">&amp;</span><span>\\xc2\\xa0220 Reviews</span></span></span></div><div class=\"_8VNy32 lnJjg0\"><div class=\"_25b18c\"><div class=\"_30jeq3\">\\xe2\\x82\\xb924,187</div><div class=\"_3I9_wc\">\\xe2\\x82\\xb9<!-- -->34,480</div><div class=\"_3Ay6Sb\"><span>29% off</span></div></div></div></div></div></div><div class=\"_1AtVbE col-12-12\" style=\"border-top:1px solid #f0f0f0\"><div class=\"_1LsTqa\"><div class=\"jEaykx\"><span>User Images</span></div><div class=\"_2nMSwX _2ajiBF\"><div class=\"_21YjFX _3NGqA1\" style=\"background-image:url(https://rukminim1.flixcart.com/blobio/140/140/imr-202103/blobio-imr-202103_1160a428fabe42269d5d47166c4b1516.jpg?q=90), url(data:image/svg+xml;base64,PHN2ZyB3aWR0aD0iMjIiIGhlaWdodD0iMTgiIHhtbG5zPSJodHRwOi8vd3d3LnczLm9yZy8yMDAwL3N2ZyI+PGcgZmlsbD0iIzlEOUQ5RCIgZmlsbC1ydWxlPSJub256ZXJvIj48cGF0aCBkPSJNMjAgMEgyQzEgMCAwIDEgMCAydjE0YzAgMS4xLjkgMiAyIDJoMThjMSAwIDItMSAyLTJWMmMwLTEtMS0yLTItMnptMCAxNS45MmMtLjAyLjAzLS4wNi4wNi0uMDguMDhIMlYyLjA4TDIuMDggMmgxNy44M2MuMDMuMDIuMDYuMDYuMDguMDh2MTMuODRIMjB6Ii8+PHBhdGggZD0iTTEwIDEyLjUxTDcuNSA5LjUgNCAxNGgxNGwtNC41LTZ6Ii8+PC9nPjwvc3ZnPg==);width:70px;height:70px\"></div><div class=\"_21YjFX _3NGqA1\" style=\"background-image:url(https://rukminim1.flixcart.com/blobio/140/140/imr-202104/blobio-imr-202104_93955492db044b48920e88c9119f6e67.jpg?q=90), url(data:image/svg+xml;base64,PHN2ZyB3aWR0aD0iMjIiIGhlaWdodD0iMTgiIHhtbG5zPSJodHRwOi8vd3d3LnczLm9yZy8yMDAwL3N2ZyI+PGcgZmlsbD0iIzlEOUQ5RCIgZmlsbC1ydWxlPSJub256ZXJvIj48cGF0aCBkPSJNMjAgMEgyQzEgMCAwIDEgMCAydjE0YzAgMS4xLjkgMiAyIDJoMThjMSAwIDItMSAyLTJWMmMwLTEtMS0yLTItMnptMCAxNS45MmMtLjAyLjAzLS4wNi4wNi0uMDguMDhIMlYyLjA4TDIuMDggMmgxNy44M2MuMDMuMDIuMDYuMDYuMDguMDh2MTMuODRIMjB6Ii8+PHBhdGggZD0iTTEwIDEyLjUxTDcuNSA5LjUgNCAxNGgxNGwtNC41LTZ6Ii8+PC9nPjwvc3ZnPg==);width:70px;height:70px\"></div><div class=\"_21YjFX _3NGqA1\" style=\"background-image:url(https://rukminim1.flixcart.com/blobio/140/140/imr-202104/blobio-imr-202104_a84d39f759b74debaa99e8e931e7daa0.jpg?q=90), url(data:image/svg+xml;base64,PHN2ZyB3aWR0aD0iMjIiIGhlaWdodD0iMTgiIHhtbG5zPSJodHRwOi8vd3d3LnczLm9yZy8yMDAwL3N2ZyI+PGcgZmlsbD0iIzlEOUQ5RCIgZmlsbC1ydWxlPSJub256ZXJvIj48cGF0aCBkPSJNMjAgMEgyQzEgMCAwIDEgMCAydjE0YzAgMS4xLjkgMiAyIDJoMThjMSAwIDItMSAyLTJWMmMwLTEtMS0yLTItMnptMCAxNS45MmMtLjAyLjAzLS4wNi4wNi0uMDguMDhIMlYyLjA4TDIuMDggMmgxNy44M2MuMDMuMDIuMDYuMDYuMDguMDh2MTMuODRIMjB6Ii8+PHBhdGggZD0iTTEwIDEyLjUxTDcuNSA5LjUgNCAxNGgxNGwtNC41LTZ6Ii8+PC9nPjwvc3ZnPg==);width:70px;height:70px\"></div><div class=\"_21YjFX _3NGqA1\" style=\"background-image:url(https://rukminim1.flixcart.com/blobio/140/140/imr-202104/blobio-imr-202104_4e0ae24648994569803ec32b2ff24d21.jpg?q=90), url(data:image/svg+xml;base64,PHN2ZyB3aWR0aD0iMjIiIGhlaWdodD0iMTgiIHhtbG5zPSJodHRwOi8vd3d3LnczLm9yZy8yMDAwL3N2ZyI+PGcgZmlsbD0iIzlEOUQ5RCIgZmlsbC1ydWxlPSJub256ZXJvIj48cGF0aCBkPSJNMjAgMEgyQzEgMCAwIDEgMCAydjE0YzAgMS4xLjkgMiAyIDJoMThjMSAwIDItMSAyLTJWMmMwLTEtMS0yLTItMnptMCAxNS45MmMtLjAyLjAzLS4wNi4wNi0uMDguMDhIMlYyLjA4TDIuMDggMmgxNy44M2MuMDMuMDIuMDYuMDYuMDguMDh2MTMuODRIMjB6Ii8+PHBhdGggZD0iTTEwIDEyLjUxTDcuNSA5LjUgNCAxNGgxNGwtNC41LTZ6Ii8+PC9nPjwvc3ZnPg==);width:70px;height:70px\"></div><div class=\"_21YjFX _3NGqA1\" style=\"background-image:url(https://rukminim1.flixcart.com/blobio/140/140/imr-202103/blobio-imr-202103_27608966d1084865a889246c1c61951e.jpg?q=90), url(data:image/svg+xml;base64,PHN2ZyB3aWR0aD0iMjIiIGhlaWdodD0iMTgiIHhtbG5zPSJodHRwOi8vd3d3LnczLm9yZy8yMDAwL3N2ZyI+PGcgZmlsbD0iIzlEOUQ5RCIgZmlsbC1ydWxlPSJub256ZXJvIj48cGF0aCBkPSJNMjAgMEgyQzEgMCAwIDEgMCAydjE0YzAgMS4xLjkgMiAyIDJoMThjMSAwIDItMSAyLTJWMmMwLTEtMS0yLTItMnptMCAxNS45MmMtLjAyLjAzLS4wNi4wNi0uMDguMDhIMlYyLjA4TDIuMDggMmgxNy44M2MuMDMuMDIuMDYuMDYuMDguMDh2MTMuODRIMjB6Ii8+PHBhdGggZD0iTTEwIDEyLjUxTDcuNSA5LjUgNCAxNGgxNGwtNC41LTZ6Ii8+PC9nPjwvc3ZnPg==);width:70px;height:70px\"></div><div class=\"_21YjFX _3NGqA1\" style=\"background-image:url(https://rukminim1.flixcart.com/blobio/140/140/imr-202103/blobio-imr-202103_fdd6cfde43ed4d52ae2f5d75c9318647.jpg?q=90), url(data:image/svg+xml;base64,PHN2ZyB3aWR0aD0iMjIiIGhlaWdodD0iMTgiIHhtbG5zPSJodHRwOi8vd3d3LnczLm9yZy8yMDAwL3N2ZyI+PGcgZmlsbD0iIzlEOUQ5RCIgZmlsbC1ydWxlPSJub256ZXJvIj48cGF0aCBkPSJNMjAgMEgyQzEgMCAwIDEgMCAydjE0YzAgMS4xLjkgMiAyIDJoMThjMSAwIDItMSAyLTJWMmMwLTEtMS0yLTItMnptMCAxNS45MmMtLjAyLjAzLS4wNi4wNi0uMDguMDhIMlYyLjA4TDIuMDggMmgxNy44M2MuMDMuMDIuMDYuMDYuMDguMDh2MTMuODRIMjB6Ii8+PHBhdGggZD0iTTEwIDEyLjUxTDcuNSA5LjUgNCAxNGgxNGwtNC41LTZ6Ii8+PC9nPjwvc3ZnPg==);width:70px;height:70px\"></div><div class=\"_21YjFX _3NGqA1\" style=\"background-image:url(https://rukminim1.flixcart.com/blobio/140/140/imr-202103/blobio-imr-202103_b25f606dc5d94c0faf77572889d58095.jpg?q=90), url(data:image/svg+xml;base64,PHN2ZyB3aWR0aD0iMjIiIGhlaWdodD0iMTgiIHhtbG5zPSJodHRwOi8vd3d3LnczLm9yZy8yMDAwL3N2ZyI+PGcgZmlsbD0iIzlEOUQ5RCIgZmlsbC1ydWxlPSJub256ZXJvIj48cGF0aCBkPSJNMjAgMEgyQzEgMCAwIDEgMCAydjE0YzAgMS4xLjkgMiAyIDJoMThjMSAwIDItMSAyLTJWMmMwLTEtMS0yLTItMnptMCAxNS45MmMtLjAyLjAzLS4wNi4wNi0uMDguMDhIMlYyLjA4TDIuMDggMmgxNy44M2MuMDMuMDIuMDYuMDYuMDguMDh2MTMuODRIMjB6Ii8+PHBhdGggZD0iTTEwIDEyLjUxTDcuNSA5LjUgNCAxNGgxNGwtNC41LTZ6Ii8+PC9nPjwvc3ZnPg==);width:70px;height:70px\"></div><div class=\"_21YjFX _3NGqA1 RU6t0j\" style=\"background-image:url(https://rukminim1.flixcart.com/blobio/140/140/imr-202103/blobio-imr-202103_d0078c9048db40a4bd891e5df07767d2.jpg?q=90), url(data:image/svg+xml;base64,PHN2ZyB3aWR0aD0iMjIiIGhlaWdodD0iMTgiIHhtbG5zPSJodHRwOi8vd3d3LnczLm9yZy8yMDAwL3N2ZyI+PGcgZmlsbD0iIzlEOUQ5RCIgZmlsbC1ydWxlPSJub256ZXJvIj48cGF0aCBkPSJNMjAgMEgyQzEgMCAwIDEgMCAydjE0YzAgMS4xLjkgMiAyIDJoMThjMSAwIDItMSAyLTJWMmMwLTEtMS0yLTItMnptMCAxNS45MmMtLjAyLjAzLS4wNi4wNi0uMDguMDhIMlYyLjA4TDIuMDggMmgxNy44M2MuMDMuMDIuMDYuMDYuMDguMDh2MTMuODRIMjB6Ii8+PHBhdGggZD0iTTEwIDEyLjUxTDcuNSA5LjUgNCAxNGgxNGwtNC41LTZ6Ii8+PC9nPjwvc3ZnPg==);width:70px;height:70px\"><span class=\"_380ehC\">+ <!-- -->28</span></div></div></div></div></div><div class=\"_1YokD2 _3Mn1Gg col-9-12\"><div class=\"_1YokD2 _3Mn1Gg col-12-12\" style=\"border-bottom:1px solid #f0f0f0\"><div class=\"_1YokD2 _2GoDe3 col-12-12\"><div class=\"_1AtVbE col-10-12\"><div class=\"_2s4DIt _1CDdy2\">HP 15s AMD Ryzen 3 Dual Core 3250U - (4 GB/1 TB HDD/Windows 10 Home) 15s-GR0006AU Thin and Light Laptop Reviews</div></div><div class=\"_1AtVbE\" style=\"flex-grow:1;overflow:initital\"><div class=\"gEkCyh\"><div class=\"_3uXCGr\"><div class=\"_2ECNXS\"><div class=\"_1cpOwe tVKh2S\"><select class=\"_1EDlbo tVKh2S\" name=\"sortFilter\"><option selected=\"\" value=\"MOST_HELPFUL\">Most Helpful</option><option value=\"MOST_RECENT\">Most Recent</option><option value=\"POSITIVE_FIRST\">Positive First</option><option value=\"NEGATIVE_FIRST\">Negative First</option></select><span class=\"_2NY3xT _2VZJIQ\"></span></div></div></div></div></div></div><div class=\"_1AtVbE col-12-12\"><div class=\"_33iqLu\"><div><a class=\"_203_Tp\" href=\"/hp-15s-ryzen-3-dual-core-3250u-4-gb-1-tb-hdd-windows-10-home-15s-gr0006au-thin-light-laptop/product-reviews/itmdbb2d234797b6?pid=COMFZHZFZFFBJBHH&amp;lid=LSTCOMFZHZFZFFBJBHH7WNMPE&amp;sortOrder=MOST_HELPFUL&amp;certifiedBuyer=false&amp;aid=overall\"><span class=\"_1YKVER _203_Tp\">Overall</span></a><a class=\"\" href=\"/hp-15s-ryzen-3-dual-core-3250u-4-gb-1-tb-hdd-windows-10-home-15s-gr0006au-thin-light-laptop/product-reviews/itmdbb2d234797b6?pid=COMFZHZFZFFBJBHH&amp;lid=LSTCOMFZHZFZFFBJBHH7WNMPE&amp;sortOrder=MOST_HELPFUL&amp;certifiedBuyer=false&amp;aid=bb0d522c-0d71-4218-bf8d-59f4f6d9619b\"><span class=\"_1YKVER\">Performance</span></a><a class=\"\" href=\"/hp-15s-ryzen-3-dual-core-3250u-4-gb-1-tb-hdd-windows-10-home-15s-gr0006au-thin-light-laptop/product-reviews/itmdbb2d234797b6?pid=COMFZHZFZFFBJBHH&amp;lid=LSTCOMFZHZFZFFBJBHH7WNMPE&amp;sortOrder=MOST_HELPFUL&amp;certifiedBuyer=false&amp;aid=f2b10aa8-b719-4f2e-b49e-38056d41a9a5\"><span class=\"_1YKVER\">Battery</span></a><a class=\"\" href=\"/hp-15s-ryzen-3-dual-core-3250u-4-gb-1-tb-hdd-windows-10-home-15s-gr0006au-thin-light-laptop/product-reviews/itmdbb2d234797b6?pid=COMFZHZFZFFBJBHH&amp;lid=LSTCOMFZHZFZFFBJBHH7WNMPE&amp;sortOrder=MOST_HELPFUL&amp;certifiedBuyer=false&amp;aid=a785ae91-3171-460c-a347-e08ec6e4e5c9\"><span class=\"_1YKVER\">Design</span></a><a class=\"\" href=\"/hp-15s-ryzen-3-dual-core-3250u-4-gb-1-tb-hdd-windows-10-home-15s-gr0006au-thin-light-laptop/product-reviews/itmdbb2d234797b6?pid=COMFZHZFZFFBJBHH&amp;lid=LSTCOMFZHZFZFFBJBHH7WNMPE&amp;sortOrder=MOST_HELPFUL&amp;certifiedBuyer=false&amp;aid=09d5f4d3-52b2-4a2a-a97d-c285003eb3a5\"><span class=\"_1YKVER\">Display</span></a><a class=\"\" href=\"/hp-15s-ryzen-3-dual-core-3250u-4-gb-1-tb-hdd-windows-10-home-15s-gr0006au-thin-light-laptop/product-reviews/itmdbb2d234797b6?pid=COMFZHZFZFFBJBHH&amp;lid=LSTCOMFZHZFZFFBJBHH7WNMPE&amp;sortOrder=MOST_HELPFUL&amp;certifiedBuyer=false&amp;aid=41d28ac9-025c-45d9-a8c1-8fe347ceab25\"><span class=\"_1YKVER\">Value for Money</span></a></div></div></div></div><div class=\"_1AtVbE col-12-12\"><div class=\"row Bfvo5l\"><div class=\"col-4-12 _17ETNY\"><div class=\"col\"><div class=\"row\"><div class=\"col-12-12 _1azcI6\"><div class=\"_2d4LTz\">3.8</div><div class=\"_2yxeXv\">\\xe2\\x98\\x85</div></div></div><div class=\"row _2afbiS\"><div class=\"col-12-12\"><span>1,625 Ratings &amp;</span></div></div><div class=\"row _2afbiS\"><div class=\"col-12-12\"><span>220 Reviews</span></div></div></div></div><div class=\"col-8-12\"><div class=\"_13sFCC miQW6D _2m9Pwo\"><ul class=\"_2jr1F_\"><li class=\"_28Xb_u\"><div class=\"omG9iE\"><span class=\"_26f_zl\">5</span><span class=\"_2xBWPJ\">\\xe2\\x98\\x85</span></div></li><li class=\"_28Xb_u\"><div class=\"omG9iE\"><span class=\"_26f_zl\">4</span><span class=\"_2xBWPJ\">\\xe2\\x98\\x85</span></div></li><li class=\"_28Xb_u\"><div class=\"omG9iE\"><span class=\"_26f_zl\">3</span><span class=\"_2xBWPJ\">\\xe2\\x98\\x85</span></div></li><li class=\"_28Xb_u\"><div class=\"omG9iE\"><span class=\"_26f_zl\">2</span><span class=\"_2xBWPJ\">\\xe2\\x98\\x85</span></div></li><li class=\"_28Xb_u\"><div class=\"omG9iE\"><span class=\"_26f_zl\">1</span><span class=\"_2xBWPJ\">\\xe2\\x98\\x85</span></div></li></ul><ul class=\"_2Plkj9\"><li class=\"_28Xb_u\"><div><div class=\"_3UaKsS\"><span style=\"width:100%\" class=\"EkB-Xt _1z2lGe\"></span></div></div></li><li class=\"_28Xb_u\"><div><div class=\"_3UaKsS\"><span style=\"width:62.91970802919708%\" class=\"EkB-Xt _2fGXyl\"></span></div></div></li><li class=\"_28Xb_u\"><div><div class=\"_3UaKsS\"><span style=\"width:28.613138686131386%\" class=\"EkB-Xt _1ia31G\"></span></div></div></li><li class=\"_28Xb_u\"><div><div class=\"_3UaKsS\"><span style=\"width:15.912408759124089%\" class=\"EkB-Xt HnnP7O\"></span></div></div></li><li class=\"_28Xb_u\"><div><div class=\"_3UaKsS\"><span style=\"width:29.781021897810216%\" class=\"EkB-Xt _2W5rgh\"></span></div></div></li></ul><ul class=\"_36LmXx\"><li class=\"_28Xb_u\"><div class=\"_1uJVNT\">685</div></li><li class=\"_28Xb_u\"><div class=\"_1uJVNT\">431</div></li><li class=\"_28Xb_u\"><div class=\"_1uJVNT\">196</div></li><li class=\"_28Xb_u\"><div class=\"_1uJVNT\">109</div></li><li class=\"_28Xb_u\"><div class=\"_1uJVNT\">204</div></li></ul></div></div></div></div><div class=\"_1AtVbE col-12-12\"><div class=\"_27M-vq\"><div class=\"col\"><div class=\"col _2wzgFH K0kLPL\"><div class=\"row\"><div class=\"_3LWZlK _1BLPMq\">5<img src=\"data:image/svg+xml;base64,PHN2ZyB4bWxucz0iaHR0cDovL3d3dy53My5vcmcvMjAwMC9zdmciIHdpZHRoPSIxMyIgaGVpZ2h0PSIxMiI+PHBhdGggZmlsbD0iI0ZGRiIgZD0iTTYuNSA5LjQzOWwtMy42NzQgMi4yMy45NC00LjI2LTMuMjEtMi44ODMgNC4yNTQtLjQwNEw2LjUuMTEybDEuNjkgNC4wMSA0LjI1NC40MDQtMy4yMSAyLjg4Mi45NCA0LjI2eiIvPjwvc3ZnPg==\" class=\"_1wB99o\"/></div><p class=\"_2-N8zT\">Just wow!</p></div><div class=\"row\"><div class=\"t-ZTKy\"><div><div class=\"\">Awesome and nice for students and all. The favorite things is its comes with Windows and office home and student precious.</div><span class=\"_1H-bmy\"><span>READ MORE</span></span></div></div></div><div class=\"_2nMSwX _3oLIki\"><div class=\"_21YjFX _2A07HP\" style=\"background-image:url(https://rukminim1.flixcart.com/blobio/124/124/imr-202103/blobio-imr-202103_1160a428fabe42269d5d47166c4b1516.jpg?q=90), url(data:image/svg+xml;base64,PHN2ZyB3aWR0aD0iMjIiIGhlaWdodD0iMTgiIHhtbG5zPSJodHRwOi8vd3d3LnczLm9yZy8yMDAwL3N2ZyI+PGcgZmlsbD0iIzlEOUQ5RCIgZmlsbC1ydWxlPSJub256ZXJvIj48cGF0aCBkPSJNMjAgMEgyQzEgMCAwIDEgMCAydjE0YzAgMS4xLjkgMiAyIDJoMThjMSAwIDItMSAyLTJWMmMwLTEtMS0yLTItMnptMCAxNS45MmMtLjAyLjAzLS4wNi4wNi0uMDguMDhIMlYyLjA4TDIuMDggMmgxNy44M2MuMDMuMDIuMDYuMDYuMDguMDh2MTMuODRIMjB6Ii8+PHBhdGggZD0iTTEwIDEyLjUxTDcuNSA5LjUgNCAxNGgxNGwtNC41LTZ6Ii8+PC9nPjwvc3ZnPg==);width:62px;height:62px\"></div></div><div class=\"row _3n8db9\"><div class=\"row\"><p class=\"_2sc7ZR _2V5EHH\">Anoop Mathew</p><svg width=\"14\" height=\"14\" viewBox=\"0 0 12 12\" xmlns=\"http://www.w3.org/2000/svg\" class=\"_2a1p_T\"><g><circle cx=\"6\" cy=\"6\" r=\"6\" fill=\"#878787\"></circle><path stroke=\"#FFF\" stroke-width=\"1.5\" d=\"M3 6l2 2 4-4\" fill=\"#878787\"></path></g></svg><p id=\"review-277157f9-da90-4a81-aaee-28703614d7fe\" class=\"_2mcZGG\"><span>Certified Buyer</span><span>, Kattappana</span></p><div></div><p class=\"_2sc7ZR\">Mar, 2021</p></div><div class=\"_1e9_Zu\"><div class=\"row\"><div class=\"_27aTsS\"><div class=\"_1LmwT9\"><svg width=\"20\" height=\"15\" xmlns=\"http://www.w3.org/2000/svg\" class=\"skCrcq\"><path fill=\"#fff\" class=\"_1LIt4y\" d=\"M9.58.006c-.41.043-.794.32-1.01.728-.277.557-2.334 4.693-2.74 5.1-.41.407-.944.6-1.544.6v8.572h7.5c.45 0 .835-.28 1.007-.665 0 0 2.207-6.234 2.207-6.834 0-.6-.47-1.072-1.07-1.072h-3.216c-.6 0-1.07-.535-1.07-1.07 0-.537.835-3.387 1.006-3.944.17-.557-.107-1.157-.664-1.35-.15-.043-.257-.086-.407-.064zM0 6.434v8.572h2.143V6.434H0z\" fill-rule=\"evenodd\"></path></svg><span class=\"_3c3Px5\">87</span></div><div class=\"_1LmwT9 pkR4jH\"><svg width=\"20\" height=\"15\" xmlns=\"http://www.w3.org/2000/svg\" class=\"skCrcq pkR4jH\"><path fill=\"#fff\" class=\"_1LIt4y\" d=\"M9.58.006c-.41.043-.794.32-1.01.728-.277.557-2.334 4.693-2.74 5.1-.41.407-.944.6-1.544.6v8.572h7.5c.45 0 .835-.28 1.007-.665 0 0 2.207-6.234 2.207-6.834 0-.6-.47-1.072-1.07-1.072h-3.216c-.6 0-1.07-.535-1.07-1.07 0-.537.835-3.387 1.006-3.944.17-.557-.107-1.157-.664-1.35-.15-.043-.257-.086-.407-.064zM0 6.434v8.572h2.143V6.434H0z\" fill-rule=\"evenodd\"></path></svg><span class=\"_3c3Px5\">4</span></div></div><div class=\"_2bmov8\"><svg width=\"6\" height=\"11\" viewBox=\"0 0 16 27\" xmlns=\"http://www.w3.org/2000/svg\" class=\"_2UvOBb\"><path d=\"M16 23.207L6.11 13.161 16 3.093 12.955 0 0 13.161l12.955 13.161z\" fill=\"#fff\" class=\"_2aPE6f\"></path></svg><div class=\"_3E8aIl _38dCuf\"><div class=\"_3XCI6U\"><a href=\"/reviews/COMFZHZFZFFBJBHH:11?reviewId=277157f9-da90-4a81-aaee-28703614d7fe\"><span>Permalink</span></a></div><div class=\"_3XCI6U _2b2z-j\"><span>Report Abuse</span></div></div></div></div></div></div></div></div></div></div><div class=\"_1AtVbE col-12-12\"><div class=\"_27M-vq\"><div class=\"col\"><div class=\"col _2wzgFH K0kLPL\"><div class=\"row\"><div class=\"_3LWZlK _1BLPMq\">3<img src=\"data:image/svg+xml;base64,PHN2ZyB4bWxucz0iaHR0cDovL3d3dy53My5vcmcvMjAwMC9zdmciIHdpZHRoPSIxMyIgaGVpZ2h0PSIxMiI+PHBhdGggZmlsbD0iI0ZGRiIgZD0iTTYuNSA5LjQzOWwtMy42NzQgMi4yMy45NC00LjI2LTMuMjEtMi44ODMgNC4yNTQtLjQwNEw2LjUuMTEybDEuNjkgNC4wMSA0LjI1NC40MDQtMy4yMSAyLjg4Mi45NCA0LjI2eiIvPjwvc3ZnPg==\" class=\"_1wB99o\"/></div><p class=\"_2-N8zT\">Good</p></div><div class=\"row\"><div class=\"t-ZTKy\"><div><div class=\"\">Do not expect much :<br/>1)Very slow takes a lot of time just open a browser.<br/>2)Design is good  <br/>3)Battery backup ok.<br/>if you want to do basic editing and some gaming then go for atleast 8 GB ram and 4 core processor .</div><span class=\"_1H-bmy\"><span>READ MORE</span></span></div></div></div><div class=\"_2nMSwX _3oLIki\"><div class=\"_21YjFX _2A07HP\" style=\"background-image:url(https://rukminim1.flixcart.com/blobio/124/124/imr-202104/blobio-imr-202104_93955492db044b48920e88c9119f6e67.jpg?q=90), url(data:image/svg+xml;base64,PHN2ZyB3aWR0aD0iMjIiIGhlaWdodD0iMTgiIHhtbG5zPSJodHRwOi8vd3d3LnczLm9yZy8yMDAwL3N2ZyI+PGcgZmlsbD0iIzlEOUQ5RCIgZmlsbC1ydWxlPSJub256ZXJvIj48cGF0aCBkPSJNMjAgMEgyQzEgMCAwIDEgMCAydjE0YzAgMS4xLjkgMiAyIDJoMThjMSAwIDItMSAyLTJWMmMwLTEtMS0yLTItMnptMCAxNS45MmMtLjAyLjAzLS4wNi4wNi0uMDguMDhIMlYyLjA4TDIuMDggMmgxNy44M2MuMDMuMDIuMDYuMDYuMDguMDh2MTMuODRIMjB6Ii8+PHBhdGggZD0iTTEwIDEyLjUxTDcuNSA5LjUgNCAxNGgxNGwtNC41LTZ6Ii8+PC9nPjwvc3ZnPg==);width:62px;height:62px\"></div><div class=\"_21YjFX _2A07HP\" style=\"background-image:url(https://rukminim1.flixcart.com/blobio/124/124/imr-202104/blobio-imr-202104_a84d39f759b74debaa99e8e931e7daa0.jpg?q=90), url(data:image/svg+xml;base64,PHN2ZyB3aWR0aD0iMjIiIGhlaWdodD0iMTgiIHhtbG5zPSJodHRwOi8vd3d3LnczLm9yZy8yMDAwL3N2ZyI+PGcgZmlsbD0iIzlEOUQ5RCIgZmlsbC1ydWxlPSJub256ZXJvIj48cGF0aCBkPSJNMjAgMEgyQzEgMCAwIDEgMCAydjE0YzAgMS4xLjkgMiAyIDJoMThjMSAwIDItMSAyLTJWMmMwLTEtMS0yLTItMnptMCAxNS45MmMtLjAyLjAzLS4wNi4wNi0uMDguMDhIMlYyLjA4TDIuMDggMmgxNy44M2MuMDMuMDIuMDYuMDYuMDguMDh2MTMuODRIMjB6Ii8+PHBhdGggZD0iTTEwIDEyLjUxTDcuNSA5LjUgNCAxNGgxNGwtNC41LTZ6Ii8+PC9nPjwvc3ZnPg==);width:62px;height:62px\"></div><div class=\"_21YjFX _2A07HP\" style=\"background-image:url(https://rukminim1.flixcart.com/blobio/124/124/imr-202104/blobio-imr-202104_4e0ae24648994569803ec32b2ff24d21.jpg?q=90), url(data:image/svg+xml;base64,PHN2ZyB3aWR0aD0iMjIiIGhlaWdodD0iMTgiIHhtbG5zPSJodHRwOi8vd3d3LnczLm9yZy8yMDAwL3N2ZyI+PGcgZmlsbD0iIzlEOUQ5RCIgZmlsbC1ydWxlPSJub256ZXJvIj48cGF0aCBkPSJNMjAgMEgyQzEgMCAwIDEgMCAydjE0YzAgMS4xLjkgMiAyIDJoMThjMSAwIDItMSAyLTJWMmMwLTEtMS0yLTItMnptMCAxNS45MmMtLjAyLjAzLS4wNi4wNi0uMDguMDhIMlYyLjA4TDIuMDggMmgxNy44M2MuMDMuMDIuMDYuMDYuMDguMDh2MTMuODRIMjB6Ii8+PHBhdGggZD0iTTEwIDEyLjUxTDcuNSA5LjUgNCAxNGgxNGwtNC41LTZ6Ii8+PC9nPjwvc3ZnPg==);width:62px;height:62px\"></div></div><div class=\"row _3n8db9\"><div class=\"row\"><p class=\"_2sc7ZR _2V5EHH\">Vivek Raturi</p><svg width=\"14\" height=\"14\" viewBox=\"0 0 12 12\" xmlns=\"http://www.w3.org/2000/svg\" class=\"_2a1p_T\"><g><circle cx=\"6\" cy=\"6\" r=\"6\" fill=\"#878787\"></circle><path stroke=\"#FFF\" stroke-width=\"1.5\" d=\"M3 6l2 2 4-4\" fill=\"#878787\"></path></g></svg><p id=\"review-89764dce-87e3-48b9-9196-d9b061f72e8f\" class=\"_2mcZGG\"><span>Certified Buyer</span><span>, Rishikesh</span></p><div></div><p class=\"_2sc7ZR\">Apr, 2021</p></div><div class=\"_1e9_Zu\"><div class=\"row\"><div class=\"_27aTsS\"><div class=\"_1LmwT9\"><svg width=\"20\" height=\"15\" xmlns=\"http://www.w3.org/2000/svg\" class=\"skCrcq\"><path fill=\"#fff\" class=\"_1LIt4y\" d=\"M9.58.006c-.41.043-.794.32-1.01.728-.277.557-2.334 4.693-2.74 5.1-.41.407-.944.6-1.544.6v8.572h7.5c.45 0 .835-.28 1.007-.665 0 0 2.207-6.234 2.207-6.834 0-.6-.47-1.072-1.07-1.072h-3.216c-.6 0-1.07-.535-1.07-1.07 0-.537.835-3.387 1.006-3.944.17-.557-.107-1.157-.664-1.35-.15-.043-.257-.086-.407-.064zM0 6.434v8.572h2.143V6.434H0z\" fill-rule=\"evenodd\"></path></svg><span class=\"_3c3Px5\">31</span></div><div class=\"_1LmwT9 pkR4jH\"><svg width=\"20\" height=\"15\" xmlns=\"http://www.w3.org/2000/svg\" class=\"skCrcq pkR4jH\"><path fill=\"#fff\" class=\"_1LIt4y\" d=\"M9.58.006c-.41.043-.794.32-1.01.728-.277.557-2.334 4.693-2.74 5.1-.41.407-.944.6-1.544.6v8.572h7.5c.45 0 .835-.28 1.007-.665 0 0 2.207-6.234 2.207-6.834 0-.6-.47-1.072-1.07-1.072h-3.216c-.6 0-1.07-.535-1.07-1.07 0-.537.835-3.387 1.006-3.944.17-.557-.107-1.157-.664-1.35-.15-.043-.257-.086-.407-.064zM0 6.434v8.572h2.143V6.434H0z\" fill-rule=\"evenodd\"></path></svg><span class=\"_3c3Px5\">0</span></div></div><div class=\"_2bmov8\"><svg width=\"6\" height=\"11\" viewBox=\"0 0 16 27\" xmlns=\"http://www.w3.org/2000/svg\" class=\"_2UvOBb\"><path d=\"M16 23.207L6.11 13.161 16 3.093 12.955 0 0 13.161l12.955 13.161z\" fill=\"#fff\" class=\"_2aPE6f\"></path></svg><div class=\"_3E8aIl _38dCuf\"><div class=\"_3XCI6U\"><a href=\"/reviews/COMFZHZFZFFBJBHH:68?reviewId=89764dce-87e3-48b9-9196-d9b061f72e8f\"><span>Permalink</span></a></div><div class=\"_3XCI6U _2b2z-j\"><span>Report Abuse</span></div></div></div></div></div></div></div></div></div></div><div class=\"_1AtVbE col-12-12\"><div class=\"_27M-vq\"><div class=\"col\"><div class=\"col _2wzgFH K0kLPL\"><div class=\"row\"><div class=\"_3LWZlK _1BLPMq\">4<img src=\"data:image/svg+xml;base64,PHN2ZyB4bWxucz0iaHR0cDovL3d3dy53My5vcmcvMjAwMC9zdmciIHdpZHRoPSIxMyIgaGVpZ2h0PSIxMiI+PHBhdGggZmlsbD0iI0ZGRiIgZD0iTTYuNSA5LjQzOWwtMy42NzQgMi4yMy45NC00LjI2LTMuMjEtMi44ODMgNC4yNTQtLjQwNEw2LjUuMTEybDEuNjkgNC4wMSA0LjI1NC40MDQtMy4yMSAyLjg4Mi45NCA0LjI2eiIvPjwvc3ZnPg==\" class=\"_1wB99o\"/></div><p class=\"_2-N8zT\">Very Good</p></div><div class=\"row\"><div class=\"t-ZTKy\"><div><div class=\"\">Read carefully.. My Experience was complicated just because of boot time i.e. on/off time was too long until I didn\\'t go for updates but once I have done all updates... I am telling you guys...Maska..hai.. Maska..<br/><br/>Superb performance.. and look wise i liked it very much. I use to play GT racing without any lag..<br/><br/>My daughter is also happy for her online studies.<br/><br/>My suggestion is that don\\'t think twice just go for it with Flipkart.<br/><br/>Thanks flipkart for very safe and on time delivery.</div><span class=\"_1H-bmy\"><span>READ MORE</span></span></div></div></div><div class=\"_2nMSwX _3oLIki\"><div class=\"_21YjFX _2A07HP\" style=\"background-image:url(https://rukminim1.flixcart.com/blobio/124/124/imr-202103/blobio-imr-202103_27608966d1084865a889246c1c61951e.jpg?q=90), url(data:image/svg+xml;base64,PHN2ZyB3aWR0aD0iMjIiIGhlaWdodD0iMTgiIHhtbG5zPSJodHRwOi8vd3d3LnczLm9yZy8yMDAwL3N2ZyI+PGcgZmlsbD0iIzlEOUQ5RCIgZmlsbC1ydWxlPSJub256ZXJvIj48cGF0aCBkPSJNMjAgMEgyQzEgMCAwIDEgMCAydjE0YzAgMS4xLjkgMiAyIDJoMThjMSAwIDItMSAyLTJWMmMwLTEtMS0yLTItMnptMCAxNS45MmMtLjAyLjAzLS4wNi4wNi0uMDguMDhIMlYyLjA4TDIuMDggMmgxNy44M2MuMDMuMDIuMDYuMDYuMDguMDh2MTMuODRIMjB6Ii8+PHBhdGggZD0iTTEwIDEyLjUxTDcuNSA5LjUgNCAxNGgxNGwtNC41LTZ6Ii8+PC9nPjwvc3ZnPg==);width:62px;height:62px\"></div><div class=\"_21YjFX _2A07HP\" style=\"background-image:url(https://rukminim1.flixcart.com/blobio/124/124/imr-202103/blobio-imr-202103_fdd6cfde43ed4d52ae2f5d75c9318647.jpg?q=90), url(data:image/svg+xml;base64,PHN2ZyB3aWR0aD0iMjIiIGhlaWdodD0iMTgiIHhtbG5zPSJodHRwOi8vd3d3LnczLm9yZy8yMDAwL3N2ZyI+PGcgZmlsbD0iIzlEOUQ5RCIgZmlsbC1ydWxlPSJub256ZXJvIj48cGF0aCBkPSJNMjAgMEgyQzEgMCAwIDEgMCAydjE0YzAgMS4xLjkgMiAyIDJoMThjMSAwIDItMSAyLTJWMmMwLTEtMS0yLTItMnptMCAxNS45MmMtLjAyLjAzLS4wNi4wNi0uMDguMDhIMlYyLjA4TDIuMDggMmgxNy44M2MuMDMuMDIuMDYuMDYuMDguMDh2MTMuODRIMjB6Ii8+PHBhdGggZD0iTTEwIDEyLjUxTDcuNSA5LjUgNCAxNGgxNGwtNC41LTZ6Ii8+PC9nPjwvc3ZnPg==);width:62px;height:62px\"></div></div><div class=\"row _3n8db9\"><div class=\"row\"><p class=\"_2sc7ZR _2V5EHH\">Vaibhav Bharati</p><svg width=\"14\" height=\"14\" viewBox=\"0 0 12 12\" xmlns=\"http://www.w3.org/2000/svg\" class=\"_2a1p_T\"><g><circle cx=\"6\" cy=\"6\" r=\"6\" fill=\"#878787\"></circle><path stroke=\"#FFF\" stroke-width=\"1.5\" d=\"M3 6l2 2 4-4\" fill=\"#878787\"></path></g></svg><p id=\"review-f88a17d0-9709-4071-a85c-a648a6b84275\" class=\"_2mcZGG\"><span>Certified Buyer</span><span>, Vasai Virar</span></p><div></div><p class=\"_2sc7ZR\">Mar, 2021</p></div><div class=\"_1e9_Zu\"><div class=\"row\"><div class=\"_27aTsS\"><div class=\"_1LmwT9\"><svg width=\"20\" height=\"15\" xmlns=\"http://www.w3.org/2000/svg\" class=\"skCrcq\"><path fill=\"#fff\" class=\"_1LIt4y\" d=\"M9.58.006c-.41.043-.794.32-1.01.728-.277.557-2.334 4.693-2.74 5.1-.41.407-.944.6-1.544.6v8.572h7.5c.45 0 .835-.28 1.007-.665 0 0 2.207-6.234 2.207-6.834 0-.6-.47-1.072-1.07-1.072h-3.216c-.6 0-1.07-.535-1.07-1.07 0-.537.835-3.387 1.006-3.944.17-.557-.107-1.157-.664-1.35-.15-.043-.257-.086-.407-.064zM0 6.434v8.572h2.143V6.434H0z\" fill-rule=\"evenodd\"></path></svg><span class=\"_3c3Px5\">314</span></div><div class=\"_1LmwT9 pkR4jH\"><svg width=\"20\" height=\"15\" xmlns=\"http://www.w3.org/2000/svg\" class=\"skCrcq pkR4jH\"><path fill=\"#fff\" class=\"_1LIt4y\" d=\"M9.58.006c-.41.043-.794.32-1.01.728-.277.557-2.334 4.693-2.74 5.1-.41.407-.944.6-1.544.6v8.572h7.5c.45 0 .835-.28 1.007-.665 0 0 2.207-6.234 2.207-6.834 0-.6-.47-1.072-1.07-1.072h-3.216c-.6 0-1.07-.535-1.07-1.07 0-.537.835-3.387 1.006-3.944.17-.557-.107-1.157-.664-1.35-.15-.043-.257-.086-.407-.064zM0 6.434v8.572h2.143V6.434H0z\" fill-rule=\"evenodd\"></path></svg><span class=\"_3c3Px5\">67</span></div></div><div class=\"_2bmov8\"><svg width=\"6\" height=\"11\" viewBox=\"0 0 16 27\" xmlns=\"http://www.w3.org/2000/svg\" class=\"_2UvOBb\"><path d=\"M16 23.207L6.11 13.161 16 3.093 12.955 0 0 13.161l12.955 13.161z\" fill=\"#fff\" class=\"_2aPE6f\"></path></svg><div class=\"_3E8aIl _38dCuf\"><div class=\"_3XCI6U\"><a href=\"/reviews/COMFZHZFZFFBJBHH:14?reviewId=f88a17d0-9709-4071-a85c-a648a6b84275\"><span>Permalink</span></a></div><div class=\"_3XCI6U _2b2z-j\"><span>Report Abuse</span></div></div></div></div></div></div></div></div></div></div><div class=\"_1AtVbE col-12-12\"><div class=\"_27M-vq\"><div class=\"col\"><div class=\"col _2wzgFH K0kLPL\"><div class=\"row\"><div class=\"_3LWZlK _1BLPMq\">4<img src=\"data:image/svg+xml;base64,PHN2ZyB4bWxucz0iaHR0cDovL3d3dy53My5vcmcvMjAwMC9zdmciIHdpZHRoPSIxMyIgaGVpZ2h0PSIxMiI+PHBhdGggZmlsbD0iI0ZGRiIgZD0iTTYuNSA5LjQzOWwtMy42NzQgMi4yMy45NC00LjI2LTMuMjEtMi44ODMgNC4yNTQtLjQwNEw2LjUuMTEybDEuNjkgNC4wMSA0LjI1NC40MDQtMy4yMSAyLjg4Mi45NCA0LjI2eiIvPjwvc3ZnPg==\" class=\"_1wB99o\"/></div><p class=\"_2-N8zT\">Very Good</p></div><div class=\"row\"><div class=\"t-ZTKy\"><div><div class=\"\">Very nice product finishing is very good.</div><span class=\"_1H-bmy\"><span>READ MORE</span></span></div></div></div><div class=\"_2nMSwX _3oLIki\"><div class=\"_21YjFX _2A07HP\" style=\"background-image:url(https://rukminim1.flixcart.com/blobio/124/124/imr-202103/blobio-imr-202103_b25f606dc5d94c0faf77572889d58095.jpg?q=90), url(data:image/svg+xml;base64,PHN2ZyB3aWR0aD0iMjIiIGhlaWdodD0iMTgiIHhtbG5zPSJodHRwOi8vd3d3LnczLm9yZy8yMDAwL3N2ZyI+PGcgZmlsbD0iIzlEOUQ5RCIgZmlsbC1ydWxlPSJub256ZXJvIj48cGF0aCBkPSJNMjAgMEgyQzEgMCAwIDEgMCAydjE0YzAgMS4xLjkgMiAyIDJoMThjMSAwIDItMSAyLTJWMmMwLTEtMS0yLTItMnptMCAxNS45MmMtLjAyLjAzLS4wNi4wNi0uMDguMDhIMlYyLjA4TDIuMDggMmgxNy44M2MuMDMuMDIuMDYuMDYuMDguMDh2MTMuODRIMjB6Ii8+PHBhdGggZD0iTTEwIDEyLjUxTDcuNSA5LjUgNCAxNGgxNGwtNC41LTZ6Ii8+PC9nPjwvc3ZnPg==);width:62px;height:62px\"></div></div><div class=\"row _3n8db9\"><div class=\"row\"><p class=\"_2sc7ZR _2V5EHH\">Flipkart Customer</p><svg width=\"14\" height=\"14\" viewBox=\"0 0 12 12\" xmlns=\"http://www.w3.org/2000/svg\" class=\"_2a1p_T\"><g><circle cx=\"6\" cy=\"6\" r=\"6\" fill=\"#878787\"></circle><path stroke=\"#FFF\" stroke-width=\"1.5\" d=\"M3 6l2 2 4-4\" fill=\"#878787\"></path></g></svg><p id=\"review-0b0a3dde-4740-469e-ae8a-e5b617036966\" class=\"_2mcZGG\"><span>Certified Buyer</span><span>, Navi Mumbai</span></p><div></div><p class=\"_2sc7ZR\">Mar, 2021</p></div><div class=\"_1e9_Zu\"><div class=\"row\"><div class=\"_27aTsS\"><div class=\"_1LmwT9\"><svg width=\"20\" height=\"15\" xmlns=\"http://www.w3.org/2000/svg\" class=\"skCrcq\"><path fill=\"#fff\" class=\"_1LIt4y\" d=\"M9.58.006c-.41.043-.794.32-1.01.728-.277.557-2.334 4.693-2.74 5.1-.41.407-.944.6-1.544.6v8.572h7.5c.45 0 .835-.28 1.007-.665 0 0 2.207-6.234 2.207-6.834 0-.6-.47-1.072-1.07-1.072h-3.216c-.6 0-1.07-.535-1.07-1.07 0-.537.835-3.387 1.006-3.944.17-.557-.107-1.157-.664-1.35-.15-.043-.257-.086-.407-.064zM0 6.434v8.572h2.143V6.434H0z\" fill-rule=\"evenodd\"></path></svg><span class=\"_3c3Px5\">26</span></div><div class=\"_1LmwT9 pkR4jH\"><svg width=\"20\" height=\"15\" xmlns=\"http://www.w3.org/2000/svg\" class=\"skCrcq pkR4jH\"><path fill=\"#fff\" class=\"_1LIt4y\" d=\"M9.58.006c-.41.043-.794.32-1.01.728-.277.557-2.334 4.693-2.74 5.1-.41.407-.944.6-1.544.6v8.572h7.5c.45 0 .835-.28 1.007-.665 0 0 2.207-6.234 2.207-6.834 0-.6-.47-1.072-1.07-1.072h-3.216c-.6 0-1.07-.535-1.07-1.07 0-.537.835-3.387 1.006-3.944.17-.557-.107-1.157-.664-1.35-.15-.043-.257-.086-.407-.064zM0 6.434v8.572h2.143V6.434H0z\" fill-rule=\"evenodd\"></path></svg><span class=\"_3c3Px5\">3</span></div></div><div class=\"_2bmov8\"><svg width=\"6\" height=\"11\" viewBox=\"0 0 16 27\" xmlns=\"http://www.w3.org/2000/svg\" class=\"_2UvOBb\"><path d=\"M16 23.207L6.11 13.161 16 3.093 12.955 0 0 13.161l12.955 13.161z\" fill=\"#fff\" class=\"_2aPE6f\"></path></svg><div class=\"_3E8aIl _38dCuf\"><div class=\"_3XCI6U\"><a href=\"/reviews/COMFZHZFZFFBJBHH:20?reviewId=0b0a3dde-4740-469e-ae8a-e5b617036966\"><span>Permalink</span></a></div><div class=\"_3XCI6U _2b2z-j\"><span>Report Abuse</span></div></div></div></div></div></div></div></div></div></div><div class=\"_1AtVbE col-12-12\"><div class=\"_27M-vq\"><div class=\"col\"><div class=\"col _2wzgFH K0kLPL\"><div class=\"row\"><div class=\"_3LWZlK _1BLPMq\">4<img src=\"data:image/svg+xml;base64,PHN2ZyB4bWxucz0iaHR0cDovL3d3dy53My5vcmcvMjAwMC9zdmciIHdpZHRoPSIxMyIgaGVpZ2h0PSIxMiI+PHBhdGggZmlsbD0iI0ZGRiIgZD0iTTYuNSA5LjQzOWwtMy42NzQgMi4yMy45NC00LjI2LTMuMjEtMi44ODMgNC4yNTQtLjQwNEw2LjUuMTEybDEuNjkgNC4wMSA0LjI1NC40MDQtMy4yMSAyLjg4Mi45NCA0LjI2eiIvPjwvc3ZnPg==\" class=\"_1wB99o\"/></div><p class=\"_2-N8zT\">Wonderful</p></div><div class=\"row\"><div class=\"t-ZTKy\"><div><div class=\"\">Compare to i3, ryzen 3 is far better in performance with 4gb ram, full Battery charged still works more than 6 hrs... No heating problem.. Display only not bad quality, rest of them are worth for this amount</div><span class=\"_1H-bmy\"><span>READ MORE</span></span></div></div></div><div class=\"row _3n8db9\"><div class=\"row\"><p class=\"_2sc7ZR _2V5EHH\">Anand Amirtharaj</p><svg width=\"14\" height=\"14\" viewBox=\"0 0 12 12\" xmlns=\"http://www.w3.org/2000/svg\" class=\"_2a1p_T\"><g><circle cx=\"6\" cy=\"6\" r=\"6\" fill=\"#878787\"></circle><path stroke=\"#FFF\" stroke-width=\"1.5\" d=\"M3 6l2 2 4-4\" fill=\"#878787\"></path></g></svg><p id=\"review-d30b21bd-fd6a-4dee-8c47-2d752cc163d1\" class=\"_2mcZGG\"><span>Certified Buyer</span><span>, Salem</span></p><div></div><p class=\"_2sc7ZR\">Feb, 2021</p></div><div class=\"_1e9_Zu\"><div class=\"row\"><div class=\"_27aTsS\"><div class=\"_1LmwT9\"><svg width=\"20\" height=\"15\" xmlns=\"http://www.w3.org/2000/svg\" class=\"skCrcq\"><path fill=\"#fff\" class=\"_1LIt4y\" d=\"M9.58.006c-.41.043-.794.32-1.01.728-.277.557-2.334 4.693-2.74 5.1-.41.407-.944.6-1.544.6v8.572h7.5c.45 0 .835-.28 1.007-.665 0 0 2.207-6.234 2.207-6.834 0-.6-.47-1.072-1.07-1.072h-3.216c-.6 0-1.07-.535-1.07-1.07 0-.537.835-3.387 1.006-3.944.17-.557-.107-1.157-.664-1.35-.15-.043-.257-.086-.407-.064zM0 6.434v8.572h2.143V6.434H0z\" fill-rule=\"evenodd\"></path></svg><span class=\"_3c3Px5\">92</span></div><div class=\"_1LmwT9 pkR4jH\"><svg width=\"20\" height=\"15\" xmlns=\"http://www.w3.org/2000/svg\" class=\"skCrcq pkR4jH\"><path fill=\"#fff\" class=\"_1LIt4y\" d=\"M9.58.006c-.41.043-.794.32-1.01.728-.277.557-2.334 4.693-2.74 5.1-.41.407-.944.6-1.544.6v8.572h7.5c.45 0 .835-.28 1.007-.665 0 0 2.207-6.234 2.207-6.834 0-.6-.47-1.072-1.07-1.072h-3.216c-.6 0-1.07-.535-1.07-1.07 0-.537.835-3.387 1.006-3.944.17-.557-.107-1.157-.664-1.35-.15-.043-.257-.086-.407-.064zM0 6.434v8.572h2.143V6.434H0z\" fill-rule=\"evenodd\"></path></svg><span class=\"_3c3Px5\">16</span></div></div><div class=\"_2bmov8\"><svg width=\"6\" height=\"11\" viewBox=\"0 0 16 27\" xmlns=\"http://www.w3.org/2000/svg\" class=\"_2UvOBb\"><path d=\"M16 23.207L6.11 13.161 16 3.093 12.955 0 0 13.161l12.955 13.161z\" fill=\"#fff\" class=\"_2aPE6f\"></path></svg><div class=\"_3E8aIl _38dCuf\"><div class=\"_3XCI6U\"><a href=\"/reviews/COMFZHZFZFFBJBHH:1?reviewId=d30b21bd-fd6a-4dee-8c47-2d752cc163d1\"><span>Permalink</span></a></div><div class=\"_3XCI6U _2b2z-j\"><span>Report Abuse</span></div></div></div></div></div></div></div></div></div></div><div class=\"_1AtVbE col-12-12\"><div class=\"_27M-vq\"><div class=\"col\"><div class=\"col _2wzgFH K0kLPL\"><div class=\"row\"><div class=\"_3LWZlK _1BLPMq\">5<img src=\"data:image/svg+xml;base64,PHN2ZyB4bWxucz0iaHR0cDovL3d3dy53My5vcmcvMjAwMC9zdmciIHdpZHRoPSIxMyIgaGVpZ2h0PSIxMiI+PHBhdGggZmlsbD0iI0ZGRiIgZD0iTTYuNSA5LjQzOWwtMy42NzQgMi4yMy45NC00LjI2LTMuMjEtMi44ODMgNC4yNTQtLjQwNEw2LjUuMTEybDEuNjkgNC4wMSA0LjI1NC40MDQtMy4yMSAyLjg4Mi45NCA0LjI2eiIvPjwvc3ZnPg==\" class=\"_1wB99o\"/></div><p class=\"_2-N8zT\">Mind-blowing purchase</p></div><div class=\"row\"><div class=\"t-ZTKy\"><div><div class=\"\">Such a awesome product by HP. according to budget.</div><span class=\"_1H-bmy\"><span>READ MORE</span></span></div></div></div><div class=\"_2nMSwX _3oLIki\"><div class=\"_21YjFX _2A07HP\" style=\"background-image:url(https://rukminim1.flixcart.com/blobio/124/124/imr-202103/blobio-imr-202103_d0078c9048db40a4bd891e5df07767d2.jpg?q=90), url(data:image/svg+xml;base64,PHN2ZyB3aWR0aD0iMjIiIGhlaWdodD0iMTgiIHhtbG5zPSJodHRwOi8vd3d3LnczLm9yZy8yMDAwL3N2ZyI+PGcgZmlsbD0iIzlEOUQ5RCIgZmlsbC1ydWxlPSJub256ZXJvIj48cGF0aCBkPSJNMjAgMEgyQzEgMCAwIDEgMCAydjE0YzAgMS4xLjkgMiAyIDJoMThjMSAwIDItMSAyLTJWMmMwLTEtMS0yLTItMnptMCAxNS45MmMtLjAyLjAzLS4wNi4wNi0uMDguMDhIMlYyLjA4TDIuMDggMmgxNy44M2MuMDMuMDIuMDYuMDYuMDguMDh2MTMuODRIMjB6Ii8+PHBhdGggZD0iTTEwIDEyLjUxTDcuNSA5LjUgNCAxNGgxNGwtNC41LTZ6Ii8+PC9nPjwvc3ZnPg==);width:62px;height:62px\"></div><div class=\"_21YjFX _2A07HP\" style=\"background-image:url(https://rukminim1.flixcart.com/blobio/124/124/imr-202103/blobio-imr-202103_a2568f71aba842afaa343fb9c9276b64.jpg?q=90), url(data:image/svg+xml;base64,PHN2ZyB3aWR0aD0iMjIiIGhlaWdodD0iMTgiIHhtbG5zPSJodHRwOi8vd3d3LnczLm9yZy8yMDAwL3N2ZyI+PGcgZmlsbD0iIzlEOUQ5RCIgZmlsbC1ydWxlPSJub256ZXJvIj48cGF0aCBkPSJNMjAgMEgyQzEgMCAwIDEgMCAydjE0YzAgMS4xLjkgMiAyIDJoMThjMSAwIDItMSAyLTJWMmMwLTEtMS0yLTItMnptMCAxNS45MmMtLjAyLjAzLS4wNi4wNi0uMDguMDhIMlYyLjA4TDIuMDggMmgxNy44M2MuMDMuMDIuMDYuMDYuMDguMDh2MTMuODRIMjB6Ii8+PHBhdGggZD0iTTEwIDEyLjUxTDcuNSA5LjUgNCAxNGgxNGwtNC41LTZ6Ii8+PC9nPjwvc3ZnPg==);width:62px;height:62px\"></div></div><div class=\"row _3n8db9\"><div class=\"row\"><p class=\"_2sc7ZR _2V5EHH\">Gurudev  Nayak </p><svg width=\"14\" height=\"14\" viewBox=\"0 0 12 12\" xmlns=\"http://www.w3.org/2000/svg\" class=\"_2a1p_T\"><g><circle cx=\"6\" cy=\"6\" r=\"6\" fill=\"#878787\"></circle><path stroke=\"#FFF\" stroke-width=\"1.5\" d=\"M3 6l2 2 4-4\" fill=\"#878787\"></path></g></svg><p id=\"review-7b3ec907-5442-417e-bf59-5f6aac7c70b2\" class=\"_2mcZGG\"><span>Certified Buyer</span><span>, Ghoghardiha</span></p><div></div><p class=\"_2sc7ZR\">Mar, 2021</p></div><div class=\"_1e9_Zu\"><div class=\"row\"><div class=\"_27aTsS\"><div class=\"_1LmwT9\"><svg width=\"20\" height=\"15\" xmlns=\"http://www.w3.org/2000/svg\" class=\"skCrcq\"><path fill=\"#fff\" class=\"_1LIt4y\" d=\"M9.58.006c-.41.043-.794.32-1.01.728-.277.557-2.334 4.693-2.74 5.1-.41.407-.944.6-1.544.6v8.572h7.5c.45 0 .835-.28 1.007-.665 0 0 2.207-6.234 2.207-6.834 0-.6-.47-1.072-1.07-1.072h-3.216c-.6 0-1.07-.535-1.07-1.07 0-.537.835-3.387 1.006-3.944.17-.557-.107-1.157-.664-1.35-.15-.043-.257-.086-.407-.064zM0 6.434v8.572h2.143V6.434H0z\" fill-rule=\"evenodd\"></path></svg><span class=\"_3c3Px5\">32</span></div><div class=\"_1LmwT9 pkR4jH\"><svg width=\"20\" height=\"15\" xmlns=\"http://www.w3.org/2000/svg\" class=\"skCrcq pkR4jH\"><path fill=\"#fff\" class=\"_1LIt4y\" d=\"M9.58.006c-.41.043-.794.32-1.01.728-.277.557-2.334 4.693-2.74 5.1-.41.407-.944.6-1.544.6v8.572h7.5c.45 0 .835-.28 1.007-.665 0 0 2.207-6.234 2.207-6.834 0-.6-.47-1.072-1.07-1.072h-3.216c-.6 0-1.07-.535-1.07-1.07 0-.537.835-3.387 1.006-3.944.17-.557-.107-1.157-.664-1.35-.15-.043-.257-.086-.407-.064zM0 6.434v8.572h2.143V6.434H0z\" fill-rule=\"evenodd\"></path></svg><span class=\"_3c3Px5\">5</span></div></div><div class=\"_2bmov8\"><svg width=\"6\" height=\"11\" viewBox=\"0 0 16 27\" xmlns=\"http://www.w3.org/2000/svg\" class=\"_2UvOBb\"><path d=\"M16 23.207L6.11 13.161 16 3.093 12.955 0 0 13.161l12.955 13.161z\" fill=\"#fff\" class=\"_2aPE6f\"></path></svg><div class=\"_3E8aIl _38dCuf\"><div class=\"_3XCI6U\"><a href=\"/reviews/COMFZHZFZFFBJBHH:25?reviewId=7b3ec907-5442-417e-bf59-5f6aac7c70b2\"><span>Permalink</span></a></div><div class=\"_3XCI6U _2b2z-j\"><span>Report Abuse</span></div></div></div></div></div></div></div></div></div></div><div class=\"_1AtVbE col-12-12\"><div class=\"_27M-vq\"><div class=\"col\"><div class=\"col _2wzgFH K0kLPL\"><div class=\"row\"><div class=\"_3LWZlK _1BLPMq\">5<img src=\"data:image/svg+xml;base64,PHN2ZyB4bWxucz0iaHR0cDovL3d3dy53My5vcmcvMjAwMC9zdmciIHdpZHRoPSIxMyIgaGVpZ2h0PSIxMiI+PHBhdGggZmlsbD0iI0ZGRiIgZD0iTTYuNSA5LjQzOWwtMy42NzQgMi4yMy45NC00LjI2LTMuMjEtMi44ODMgNC4yNTQtLjQwNEw2LjUuMTEybDEuNjkgNC4wMSA0LjI1NC40MDQtMy4yMSAyLjg4Mi45NCA0LjI2eiIvPjwvc3ZnPg==\" class=\"_1wB99o\"/></div><p class=\"_2-N8zT\">Worth every penny</p></div><div class=\"row\"><div class=\"t-ZTKy\"><div><div class=\"\">Nice laptop and Ryzen 3 is a good processor for multi tasking... Design and color both are good. It\\'s better to go with this HP laptop in this price segment...</div><span class=\"_1H-bmy\"><span>READ MORE</span></span></div></div></div><div class=\"_2nMSwX _3oLIki\"><div class=\"_21YjFX _2A07HP\" style=\"background-image:url(https://rukminim1.flixcart.com/blobio/124/124/imr-202103/blobio-imr-202103_aa8be26824314b2bab4d33c4626faac3.jpg?q=90), url(data:image/svg+xml;base64,PHN2ZyB3aWR0aD0iMjIiIGhlaWdodD0iMTgiIHhtbG5zPSJodHRwOi8vd3d3LnczLm9yZy8yMDAwL3N2ZyI+PGcgZmlsbD0iIzlEOUQ5RCIgZmlsbC1ydWxlPSJub256ZXJvIj48cGF0aCBkPSJNMjAgMEgyQzEgMCAwIDEgMCAydjE0YzAgMS4xLjkgMiAyIDJoMThjMSAwIDItMSAyLTJWMmMwLTEtMS0yLTItMnptMCAxNS45MmMtLjAyLjAzLS4wNi4wNi0uMDguMDhIMlYyLjA4TDIuMDggMmgxNy44M2MuMDMuMDIuMDYuMDYuMDguMDh2MTMuODRIMjB6Ii8+PHBhdGggZD0iTTEwIDEyLjUxTDcuNSA5LjUgNCAxNGgxNGwtNC41LTZ6Ii8+PC9nPjwvc3ZnPg==);width:62px;height:62px\"></div></div><div class=\"row _3n8db9\"><div class=\"row\"><p class=\"_2sc7ZR _2V5EHH\">Sayani  Banerjee </p><svg width=\"14\" height=\"14\" viewBox=\"0 0 12 12\" xmlns=\"http://www.w3.org/2000/svg\" class=\"_2a1p_T\"><g><circle cx=\"6\" cy=\"6\" r=\"6\" fill=\"#878787\"></circle><path stroke=\"#FFF\" stroke-width=\"1.5\" d=\"M3 6l2 2 4-4\" fill=\"#878787\"></path></g></svg><p id=\"review-92aef6a6-9cfb-4412-b702-a9760dfb711e\" class=\"_2mcZGG\"><span>Certified Buyer</span><span>, Kolkata</span></p><div></div><p class=\"_2sc7ZR\">Mar, 2021</p></div><div class=\"_1e9_Zu\"><div class=\"row\"><div class=\"_27aTsS\"><div class=\"_1LmwT9\"><svg width=\"20\" height=\"15\" xmlns=\"http://www.w3.org/2000/svg\" class=\"skCrcq\"><path fill=\"#fff\" class=\"_1LIt4y\" d=\"M9.58.006c-.41.043-.794.32-1.01.728-.277.557-2.334 4.693-2.74 5.1-.41.407-.944.6-1.544.6v8.572h7.5c.45 0 .835-.28 1.007-.665 0 0 2.207-6.234 2.207-6.834 0-.6-.47-1.072-1.07-1.072h-3.216c-.6 0-1.07-.535-1.07-1.07 0-.537.835-3.387 1.006-3.944.17-.557-.107-1.157-.664-1.35-.15-.043-.257-.086-.407-.064zM0 6.434v8.572h2.143V6.434H0z\" fill-rule=\"evenodd\"></path></svg><span class=\"_3c3Px5\">98</span></div><div class=\"_1LmwT9 pkR4jH\"><svg width=\"20\" height=\"15\" xmlns=\"http://www.w3.org/2000/svg\" class=\"skCrcq pkR4jH\"><path fill=\"#fff\" class=\"_1LIt4y\" d=\"M9.58.006c-.41.043-.794.32-1.01.728-.277.557-2.334 4.693-2.74 5.1-.41.407-.944.6-1.544.6v8.572h7.5c.45 0 .835-.28 1.007-.665 0 0 2.207-6.234 2.207-6.834 0-.6-.47-1.072-1.07-1.072h-3.216c-.6 0-1.07-.535-1.07-1.07 0-.537.835-3.387 1.006-3.944.17-.557-.107-1.157-.664-1.35-.15-.043-.257-.086-.407-.064zM0 6.434v8.572h2.143V6.434H0z\" fill-rule=\"evenodd\"></path></svg><span class=\"_3c3Px5\">24</span></div></div><div class=\"_2bmov8\"><svg width=\"6\" height=\"11\" viewBox=\"0 0 16 27\" xmlns=\"http://www.w3.org/2000/svg\" class=\"_2UvOBb\"><path d=\"M16 23.207L6.11 13.161 16 3.093 12.955 0 0 13.161l12.955 13.161z\" fill=\"#fff\" class=\"_2aPE6f\"></path></svg><div class=\"_3E8aIl _38dCuf\"><div class=\"_3XCI6U\"><a href=\"/reviews/COMFZHZFZFFBJBHH:9?reviewId=92aef6a6-9cfb-4412-b702-a9760dfb711e\"><span>Permalink</span></a></div><div class=\"_3XCI6U _2b2z-j\"><span>Report Abuse</span></div></div></div></div></div></div></div></div></div></div><div class=\"_1AtVbE col-12-12\"><div class=\"_27M-vq\"><div class=\"col\"><div class=\"col _2wzgFH K0kLPL\"><div class=\"row\"><div class=\"_3LWZlK _1BLPMq\">4<img src=\"data:image/svg+xml;base64,PHN2ZyB4bWxucz0iaHR0cDovL3d3dy53My5vcmcvMjAwMC9zdmciIHdpZHRoPSIxMyIgaGVpZ2h0PSIxMiI+PHBhdGggZmlsbD0iI0ZGRiIgZD0iTTYuNSA5LjQzOWwtMy42NzQgMi4yMy45NC00LjI2LTMuMjEtMi44ODMgNC4yNTQtLjQwNEw2LjUuMTEybDEuNjkgNC4wMSA0LjI1NC40MDQtMy4yMSAyLjg4Mi45NCA0LjI2eiIvPjwvc3ZnPg==\" class=\"_1wB99o\"/></div><p class=\"_2-N8zT\">Nice product</p></div><div class=\"row\"><div class=\"t-ZTKy\"><div><div class=\"\">This laptop is very light weight and I am happy!! \\xf0\\x9f\\x99\\x82\\xf0\\x9f\\x99\\x82</div><span class=\"_1H-bmy\"><span>READ MORE</span></span></div></div></div><div class=\"_2nMSwX _3oLIki\"><div class=\"_21YjFX _2A07HP\" style=\"background-image:url(https://rukminim1.flixcart.com/blobio/124/124/imr-202106/blobio-imr-202106_0367b7696f3b403b8cc8d2af74297ed6.jpg?q=90), url(data:image/svg+xml;base64,PHN2ZyB3aWR0aD0iMjIiIGhlaWdodD0iMTgiIHhtbG5zPSJodHRwOi8vd3d3LnczLm9yZy8yMDAwL3N2ZyI+PGcgZmlsbD0iIzlEOUQ5RCIgZmlsbC1ydWxlPSJub256ZXJvIj48cGF0aCBkPSJNMjAgMEgyQzEgMCAwIDEgMCAydjE0YzAgMS4xLjkgMiAyIDJoMThjMSAwIDItMSAyLTJWMmMwLTEtMS0yLTItMnptMCAxNS45MmMtLjAyLjAzLS4wNi4wNi0uMDguMDhIMlYyLjA4TDIuMDggMmgxNy44M2MuMDMuMDIuMDYuMDYuMDguMDh2MTMuODRIMjB6Ii8+PHBhdGggZD0iTTEwIDEyLjUxTDcuNSA5LjUgNCAxNGgxNGwtNC41LTZ6Ii8+PC9nPjwvc3ZnPg==);width:62px;height:62px\"></div><div class=\"_21YjFX _2A07HP\" style=\"background-image:url(https://rukminim1.flixcart.com/blobio/124/124/imr-202106/blobio-imr-202106_70e7c1385fcd407192a9231fba5e8d9a.jpg?q=90), url(data:image/svg+xml;base64,PHN2ZyB3aWR0aD0iMjIiIGhlaWdodD0iMTgiIHhtbG5zPSJodHRwOi8vd3d3LnczLm9yZy8yMDAwL3N2ZyI+PGcgZmlsbD0iIzlEOUQ5RCIgZmlsbC1ydWxlPSJub256ZXJvIj48cGF0aCBkPSJNMjAgMEgyQzEgMCAwIDEgMCAydjE0YzAgMS4xLjkgMiAyIDJoMThjMSAwIDItMSAyLTJWMmMwLTEtMS0yLTItMnptMCAxNS45MmMtLjAyLjAzLS4wNi4wNi0uMDguMDhIMlYyLjA4TDIuMDggMmgxNy44M2MuMDMuMDIuMDYuMDYuMDguMDh2MTMuODRIMjB6Ii8+PHBhdGggZD0iTTEwIDEyLjUxTDcuNSA5LjUgNCAxNGgxNGwtNC41LTZ6Ii8+PC9nPjwvc3ZnPg==);width:62px;height:62px\"></div></div><div class=\"row _3n8db9\"><div class=\"row\"><p class=\"_2sc7ZR _2V5EHH\">Shivani  Pankaj</p><svg width=\"14\" height=\"14\" viewBox=\"0 0 12 12\" xmlns=\"http://www.w3.org/2000/svg\" class=\"_2a1p_T\"><g><circle cx=\"6\" cy=\"6\" r=\"6\" fill=\"#878787\"></circle><path stroke=\"#FFF\" stroke-width=\"1.5\" d=\"M3 6l2 2 4-4\" fill=\"#878787\"></path></g></svg><p id=\"review-f1ed4758-77e6-4dd8-88c2-83cf1d33f8ed\" class=\"_2mcZGG\"><span>Certified Buyer</span><span>, Chandauli</span></p><div></div><p class=\"_2sc7ZR\">Jun, 2021</p></div><div class=\"_1e9_Zu\"><div class=\"row\"><div class=\"_27aTsS\"><div class=\"_1LmwT9\"><svg width=\"20\" height=\"15\" xmlns=\"http://www.w3.org/2000/svg\" class=\"skCrcq\"><path fill=\"#fff\" class=\"_1LIt4y\" d=\"M9.58.006c-.41.043-.794.32-1.01.728-.277.557-2.334 4.693-2.74 5.1-.41.407-.944.6-1.544.6v8.572h7.5c.45 0 .835-.28 1.007-.665 0 0 2.207-6.234 2.207-6.834 0-.6-.47-1.072-1.07-1.072h-3.216c-.6 0-1.07-.535-1.07-1.07 0-.537.835-3.387 1.006-3.944.17-.557-.107-1.157-.664-1.35-.15-.043-.257-.086-.407-.064zM0 6.434v8.572h2.143V6.434H0z\" fill-rule=\"evenodd\"></path></svg><span class=\"_3c3Px5\">10</span></div><div class=\"_1LmwT9 pkR4jH\"><svg width=\"20\" height=\"15\" xmlns=\"http://www.w3.org/2000/svg\" class=\"skCrcq pkR4jH\"><path fill=\"#fff\" class=\"_1LIt4y\" d=\"M9.58.006c-.41.043-.794.32-1.01.728-.277.557-2.334 4.693-2.74 5.1-.41.407-.944.6-1.544.6v8.572h7.5c.45 0 .835-.28 1.007-.665 0 0 2.207-6.234 2.207-6.834 0-.6-.47-1.072-1.07-1.072h-3.216c-.6 0-1.07-.535-1.07-1.07 0-.537.835-3.387 1.006-3.944.17-.557-.107-1.157-.664-1.35-.15-.043-.257-.086-.407-.064zM0 6.434v8.572h2.143V6.434H0z\" fill-rule=\"evenodd\"></path></svg><span class=\"_3c3Px5\">0</span></div></div><div class=\"_2bmov8\"><svg width=\"6\" height=\"11\" viewBox=\"0 0 16 27\" xmlns=\"http://www.w3.org/2000/svg\" class=\"_2UvOBb\"><path d=\"M16 23.207L6.11 13.161 16 3.093 12.955 0 0 13.161l12.955 13.161z\" fill=\"#fff\" class=\"_2aPE6f\"></path></svg><div class=\"_3E8aIl _38dCuf\"><div class=\"_3XCI6U\"><a href=\"/reviews/COMFZHZFZFFBJBHH:115?reviewId=f1ed4758-77e6-4dd8-88c2-83cf1d33f8ed\"><span>Permalink</span></a></div><div class=\"_3XCI6U _2b2z-j\"><span>Report Abuse</span></div></div></div></div></div></div></div></div></div></div><div class=\"_1AtVbE col-12-12\"><div class=\"_27M-vq\"><div class=\"col\"><div class=\"col _2wzgFH K0kLPL\"><div class=\"row\"><div class=\"_3LWZlK _1BLPMq\">5<img src=\"data:image/svg+xml;base64,PHN2ZyB4bWxucz0iaHR0cDovL3d3dy53My5vcmcvMjAwMC9zdmciIHdpZHRoPSIxMyIgaGVpZ2h0PSIxMiI+PHBhdGggZmlsbD0iI0ZGRiIgZD0iTTYuNSA5LjQzOWwtMy42NzQgMi4yMy45NC00LjI2LTMuMjEtMi44ODMgNC4yNTQtLjQwNEw2LjUuMTEybDEuNjkgNC4wMSA0LjI1NC40MDQtMy4yMSAyLjg4Mi45NCA0LjI2eiIvPjwvc3ZnPg==\" class=\"_1wB99o\"/></div><p class=\"_2-N8zT\">Terrific</p></div><div class=\"row\"><div class=\"t-ZTKy\"><div><div class=\"\">#Price up to mark<br/>Its wonderful product for those ,who looking for  student and domestic work<br/><br/>1)Its just my dream lappi,(laptop)<br/>2)just go for laptop,its really awesome<br/>3)I just bought it for my project and bussiness work it\\'s awesome<br/>4)one of the best product from HP<br/>5)just price is little high ,it have to be reduced<br/>6) I loved it<br/>7) I recommend it for u,\\xf0\\x9f\\x92\\xaf\\xf0\\x9f\\x92\\xaf\\xe2\\x9d\\xa4\\xef\\xb8\\x8f</div><span class=\"_1H-bmy\"><span>READ MORE</span></span></div></div></div><div class=\"_2nMSwX _3oLIki\"><div class=\"_21YjFX _2A07HP\" style=\"background-image:url(https://rukminim1.flixcart.com/blobio/124/124/imr-202104/blobio-imr-202104_1921e3b49e424ab6abfb24462c02d1c8.jpg?q=90), url(data:image/svg+xml;base64,PHN2ZyB3aWR0aD0iMjIiIGhlaWdodD0iMTgiIHhtbG5zPSJodHRwOi8vd3d3LnczLm9yZy8yMDAwL3N2ZyI+PGcgZmlsbD0iIzlEOUQ5RCIgZmlsbC1ydWxlPSJub256ZXJvIj48cGF0aCBkPSJNMjAgMEgyQzEgMCAwIDEgMCAydjE0YzAgMS4xLjkgMiAyIDJoMThjMSAwIDItMSAyLTJWMmMwLTEtMS0yLTItMnptMCAxNS45MmMtLjAyLjAzLS4wNi4wNi0uMDguMDhIMlYyLjA4TDIuMDggMmgxNy44M2MuMDMuMDIuMDYuMDYuMDguMDh2MTMuODRIMjB6Ii8+PHBhdGggZD0iTTEwIDEyLjUxTDcuNSA5LjUgNCAxNGgxNGwtNC41LTZ6Ii8+PC9nPjwvc3ZnPg==);width:62px;height:62px\"></div><div class=\"_21YjFX _2A07HP\" style=\"background-image:url(https://rukminim1.flixcart.com/blobio/124/124/imr-202104/blobio-imr-202104_a012684e75274c81923f60560eb6354b.jpg?q=90), url(data:image/svg+xml;base64,PHN2ZyB3aWR0aD0iMjIiIGhlaWdodD0iMTgiIHhtbG5zPSJodHRwOi8vd3d3LnczLm9yZy8yMDAwL3N2ZyI+PGcgZmlsbD0iIzlEOUQ5RCIgZmlsbC1ydWxlPSJub256ZXJvIj48cGF0aCBkPSJNMjAgMEgyQzEgMCAwIDEgMCAydjE0YzAgMS4xLjkgMiAyIDJoMThjMSAwIDItMSAyLTJWMmMwLTEtMS0yLTItMnptMCAxNS45MmMtLjAyLjAzLS4wNi4wNi0uMDguMDhIMlYyLjA4TDIuMDggMmgxNy44M2MuMDMuMDIuMDYuMDYuMDguMDh2MTMuODRIMjB6Ii8+PHBhdGggZD0iTTEwIDEyLjUxTDcuNSA5LjUgNCAxNGgxNGwtNC41LTZ6Ii8+PC9nPjwvc3ZnPg==);width:62px;height:62px\"></div><div class=\"_21YjFX _2A07HP\" style=\"background-image:url(https://rukminim1.flixcart.com/blobio/124/124/imr-202104/blobio-imr-202104_5ed4e0906678432fa30e5ad61a5e2e6c.jpg?q=90), url(data:image/svg+xml;base64,PHN2ZyB3aWR0aD0iMjIiIGhlaWdodD0iMTgiIHhtbG5zPSJodHRwOi8vd3d3LnczLm9yZy8yMDAwL3N2ZyI+PGcgZmlsbD0iIzlEOUQ5RCIgZmlsbC1ydWxlPSJub256ZXJvIj48cGF0aCBkPSJNMjAgMEgyQzEgMCAwIDEgMCAydjE0YzAgMS4xLjkgMiAyIDJoMThjMSAwIDItMSAyLTJWMmMwLTEtMS0yLTItMnptMCAxNS45MmMtLjAyLjAzLS4wNi4wNi0uMDguMDhIMlYyLjA4TDIuMDggMmgxNy44M2MuMDMuMDIuMDYuMDYuMDguMDh2MTMuODRIMjB6Ii8+PHBhdGggZD0iTTEwIDEyLjUxTDcuNSA5LjUgNCAxNGgxNGwtNC41LTZ6Ii8+PC9nPjwvc3ZnPg==);width:62px;height:62px\"></div></div><div class=\"row _3n8db9\"><div class=\"row\"><p class=\"_2sc7ZR _2V5EHH\">MD MATHIN ALI</p><svg width=\"14\" height=\"14\" viewBox=\"0 0 12 12\" xmlns=\"http://www.w3.org/2000/svg\" class=\"_2a1p_T\"><g><circle cx=\"6\" cy=\"6\" r=\"6\" fill=\"#878787\"></circle><path stroke=\"#FFF\" stroke-width=\"1.5\" d=\"M3 6l2 2 4-4\" fill=\"#878787\"></path></g></svg><p id=\"review-79e454da-c1be-4dd7-9d1d-3a49e39dafe5\" class=\"_2mcZGG\"><span>Certified Buyer</span><span>, Jogulamba District</span></p><div></div><p class=\"_2sc7ZR\">Apr, 2021</p></div><div class=\"_1e9_Zu\"><div class=\"row\"><div class=\"_27aTsS\"><div class=\"_1LmwT9\"><svg width=\"20\" height=\"15\" xmlns=\"http://www.w3.org/2000/svg\" class=\"skCrcq\"><path fill=\"#fff\" class=\"_1LIt4y\" d=\"M9.58.006c-.41.043-.794.32-1.01.728-.277.557-2.334 4.693-2.74 5.1-.41.407-.944.6-1.544.6v8.572h7.5c.45 0 .835-.28 1.007-.665 0 0 2.207-6.234 2.207-6.834 0-.6-.47-1.072-1.07-1.072h-3.216c-.6 0-1.07-.535-1.07-1.07 0-.537.835-3.387 1.006-3.944.17-.557-.107-1.157-.664-1.35-.15-.043-.257-.086-.407-.064zM0 6.434v8.572h2.143V6.434H0z\" fill-rule=\"evenodd\"></path></svg><span class=\"_3c3Px5\">73</span></div><div class=\"_1LmwT9 pkR4jH\"><svg width=\"20\" height=\"15\" xmlns=\"http://www.w3.org/2000/svg\" class=\"skCrcq pkR4jH\"><path fill=\"#fff\" class=\"_1LIt4y\" d=\"M9.58.006c-.41.043-.794.32-1.01.728-.277.557-2.334 4.693-2.74 5.1-.41.407-.944.6-1.544.6v8.572h7.5c.45 0 .835-.28 1.007-.665 0 0 2.207-6.234 2.207-6.834 0-.6-.47-1.072-1.07-1.072h-3.216c-.6 0-1.07-.535-1.07-1.07 0-.537.835-3.387 1.006-3.944.17-.557-.107-1.157-.664-1.35-.15-.043-.257-.086-.407-.064zM0 6.434v8.572h2.143V6.434H0z\" fill-rule=\"evenodd\"></path></svg><span class=\"_3c3Px5\">25</span></div></div><div class=\"_2bmov8\"><svg width=\"6\" height=\"11\" viewBox=\"0 0 16 27\" xmlns=\"http://www.w3.org/2000/svg\" class=\"_2UvOBb\"><path d=\"M16 23.207L6.11 13.161 16 3.093 12.955 0 0 13.161l12.955 13.161z\" fill=\"#fff\" class=\"_2aPE6f\"></path></svg><div class=\"_3E8aIl _38dCuf\"><div class=\"_3XCI6U\"><a href=\"/reviews/COMFZHZFZFFBJBHH:57?reviewId=79e454da-c1be-4dd7-9d1d-3a49e39dafe5\"><span>Permalink</span></a></div><div class=\"_3XCI6U _2b2z-j\"><span>Report Abuse</span></div></div></div></div></div></div></div></div></div></div><div class=\"_1AtVbE col-12-12\"><div class=\"_27M-vq\"><div class=\"col\"><div class=\"col _2wzgFH K0kLPL\"><div class=\"row\"><div class=\"_3LWZlK _1BLPMq\">5<img src=\"data:image/svg+xml;base64,PHN2ZyB4bWxucz0iaHR0cDovL3d3dy53My5vcmcvMjAwMC9zdmciIHdpZHRoPSIxMyIgaGVpZ2h0PSIxMiI+PHBhdGggZmlsbD0iI0ZGRiIgZD0iTTYuNSA5LjQzOWwtMy42NzQgMi4yMy45NC00LjI2LTMuMjEtMi44ODMgNC4yNTQtLjQwNEw2LjUuMTEybDEuNjkgNC4wMSA0LjI1NC40MDQtMy4yMSAyLjg4Mi45NCA0LjI2eiIvPjwvc3ZnPg==\" class=\"_1wB99o\"/></div><p class=\"_2-N8zT\">Just wow!</p></div><div class=\"row\"><div class=\"t-ZTKy\"><div><div class=\"\">Good product</div><span class=\"_1H-bmy\"><span>READ MORE</span></span></div></div></div><div class=\"_2nMSwX _3oLIki\"><div class=\"_21YjFX _2A07HP\" style=\"background-image:url(https://rukminim1.flixcart.com/blobio/124/124/imr-202103/blobio-imr-202103_36f7702de9a2454693c56ed07c3e6cc6.jpg?q=90), url(data:image/svg+xml;base64,PHN2ZyB3aWR0aD0iMjIiIGhlaWdodD0iMTgiIHhtbG5zPSJodHRwOi8vd3d3LnczLm9yZy8yMDAwL3N2ZyI+PGcgZmlsbD0iIzlEOUQ5RCIgZmlsbC1ydWxlPSJub256ZXJvIj48cGF0aCBkPSJNMjAgMEgyQzEgMCAwIDEgMCAydjE0YzAgMS4xLjkgMiAyIDJoMThjMSAwIDItMSAyLTJWMmMwLTEtMS0yLTItMnptMCAxNS45MmMtLjAyLjAzLS4wNi4wNi0uMDguMDhIMlYyLjA4TDIuMDggMmgxNy44M2MuMDMuMDIuMDYuMDYuMDguMDh2MTMuODRIMjB6Ii8+PHBhdGggZD0iTTEwIDEyLjUxTDcuNSA5LjUgNCAxNGgxNGwtNC41LTZ6Ii8+PC9nPjwvc3ZnPg==);width:62px;height:62px\"></div></div><div class=\"row _3n8db9\"><div class=\"row\"><p class=\"_2sc7ZR _2V5EHH\">Aneel Sahoo</p><svg width=\"14\" height=\"14\" viewBox=\"0 0 12 12\" xmlns=\"http://www.w3.org/2000/svg\" class=\"_2a1p_T\"><g><circle cx=\"6\" cy=\"6\" r=\"6\" fill=\"#878787\"></circle><path stroke=\"#FFF\" stroke-width=\"1.5\" d=\"M3 6l2 2 4-4\" fill=\"#878787\"></path></g></svg><p id=\"review-4469458e-bff7-4d59-a7f5-71fb57a7c3f1\" class=\"_2mcZGG\"><span>Certified Buyer</span><span>, Palasa Kasibugga</span></p><div></div><p class=\"_2sc7ZR\">Mar, 2021</p></div><div class=\"_1e9_Zu\"><div class=\"row\"><div class=\"_27aTsS\"><div class=\"_1LmwT9\"><svg width=\"20\" height=\"15\" xmlns=\"http://www.w3.org/2000/svg\" class=\"skCrcq\"><path fill=\"#fff\" class=\"_1LIt4y\" d=\"M9.58.006c-.41.043-.794.32-1.01.728-.277.557-2.334 4.693-2.74 5.1-.41.407-.944.6-1.544.6v8.572h7.5c.45 0 .835-.28 1.007-.665 0 0 2.207-6.234 2.207-6.834 0-.6-.47-1.072-1.07-1.072h-3.216c-.6 0-1.07-.535-1.07-1.07 0-.537.835-3.387 1.006-3.944.17-.557-.107-1.157-.664-1.35-.15-.043-.257-.086-.407-.064zM0 6.434v8.572h2.143V6.434H0z\" fill-rule=\"evenodd\"></path></svg><span class=\"_3c3Px5\">19</span></div><div class=\"_1LmwT9 pkR4jH\"><svg width=\"20\" height=\"15\" xmlns=\"http://www.w3.org/2000/svg\" class=\"skCrcq pkR4jH\"><path fill=\"#fff\" class=\"_1LIt4y\" d=\"M9.58.006c-.41.043-.794.32-1.01.728-.277.557-2.334 4.693-2.74 5.1-.41.407-.944.6-1.544.6v8.572h7.5c.45 0 .835-.28 1.007-.665 0 0 2.207-6.234 2.207-6.834 0-.6-.47-1.072-1.07-1.072h-3.216c-.6 0-1.07-.535-1.07-1.07 0-.537.835-3.387 1.006-3.944.17-.557-.107-1.157-.664-1.35-.15-.043-.257-.086-.407-.064zM0 6.434v8.572h2.143V6.434H0z\" fill-rule=\"evenodd\"></path></svg><span class=\"_3c3Px5\">4</span></div></div><div class=\"_2bmov8\"><svg width=\"6\" height=\"11\" viewBox=\"0 0 16 27\" xmlns=\"http://www.w3.org/2000/svg\" class=\"_2UvOBb\"><path d=\"M16 23.207L6.11 13.161 16 3.093 12.955 0 0 13.161l12.955 13.161z\" fill=\"#fff\" class=\"_2aPE6f\"></path></svg><div class=\"_3E8aIl _38dCuf\"><div class=\"_3XCI6U\"><a href=\"/reviews/COMFZHZFZFFBJBHH:36?reviewId=4469458e-bff7-4d59-a7f5-71fb57a7c3f1\"><span>Permalink</span></a></div><div class=\"_3XCI6U _2b2z-j\"><span>Report Abuse</span></div></div></div></div></div></div></div></div></div></div><div class=\"_1AtVbE col-12-12\"><div><div class=\"_2MImiq _1Qnn1K\"><span>Page 1 of 22</span><nav class=\"yFHi8N\"><a class=\"ge-49M _2Kfbh8\" href=\"/hp-15s-ryzen-3-dual-core-3250u-4-gb-1-tb-hdd-windows-10-home-15s-gr0006au-thin-light-laptop/product-reviews/itmdbb2d234797b6?pid=COMFZHZFZFFBJBHH&amp;lid=LSTCOMFZHZFZFFBJBHH7WNMPE&amp;marketplace=FLIPKART&amp;page=1\">1</a><a class=\"ge-49M\" href=\"/hp-15s-ryzen-3-dual-core-3250u-4-gb-1-tb-hdd-windows-10-home-15s-gr0006au-thin-light-laptop/product-reviews/itmdbb2d234797b6?pid=COMFZHZFZFFBJBHH&amp;lid=LSTCOMFZHZFZFFBJBHH7WNMPE&amp;marketplace=FLIPKART&amp;page=2\">2</a><a class=\"ge-49M\" href=\"/hp-15s-ryzen-3-dual-core-3250u-4-gb-1-tb-hdd-windows-10-home-15s-gr0006au-thin-light-laptop/product-reviews/itmdbb2d234797b6?pid=COMFZHZFZFFBJBHH&amp;lid=LSTCOMFZHZFZFFBJBHH7WNMPE&amp;marketplace=FLIPKART&amp;page=3\">3</a><a class=\"ge-49M\" href=\"/hp-15s-ryzen-3-dual-core-3250u-4-gb-1-tb-hdd-windows-10-home-15s-gr0006au-thin-light-laptop/product-reviews/itmdbb2d234797b6?pid=COMFZHZFZFFBJBHH&amp;lid=LSTCOMFZHZFZFFBJBHH7WNMPE&amp;marketplace=FLIPKART&amp;page=4\">4</a><a class=\"ge-49M\" href=\"/hp-15s-ryzen-3-dual-core-3250u-4-gb-1-tb-hdd-windows-10-home-15s-gr0006au-thin-light-laptop/product-reviews/itmdbb2d234797b6?pid=COMFZHZFZFFBJBHH&amp;lid=LSTCOMFZHZFZFFBJBHH7WNMPE&amp;marketplace=FLIPKART&amp;page=5\">5</a><a class=\"ge-49M\" href=\"/hp-15s-ryzen-3-dual-core-3250u-4-gb-1-tb-hdd-windows-10-home-15s-gr0006au-thin-light-laptop/product-reviews/itmdbb2d234797b6?pid=COMFZHZFZFFBJBHH&amp;lid=LSTCOMFZHZFZFFBJBHH7WNMPE&amp;marketplace=FLIPKART&amp;page=6\">6</a><a class=\"ge-49M\" href=\"/hp-15s-ryzen-3-dual-core-3250u-4-gb-1-tb-hdd-windows-10-home-15s-gr0006au-thin-light-laptop/product-reviews/itmdbb2d234797b6?pid=COMFZHZFZFFBJBHH&amp;lid=LSTCOMFZHZFZFFBJBHH7WNMPE&amp;marketplace=FLIPKART&amp;page=7\">7</a><a class=\"ge-49M\" href=\"/hp-15s-ryzen-3-dual-core-3250u-4-gb-1-tb-hdd-windows-10-home-15s-gr0006au-thin-light-laptop/product-reviews/itmdbb2d234797b6?pid=COMFZHZFZFFBJBHH&amp;lid=LSTCOMFZHZFZFFBJBHH7WNMPE&amp;marketplace=FLIPKART&amp;page=8\">8</a><a class=\"ge-49M\" href=\"/hp-15s-ryzen-3-dual-core-3250u-4-gb-1-tb-hdd-windows-10-home-15s-gr0006au-thin-light-laptop/product-reviews/itmdbb2d234797b6?pid=COMFZHZFZFFBJBHH&amp;lid=LSTCOMFZHZFZFFBJBHH7WNMPE&amp;marketplace=FLIPKART&amp;page=9\">9</a><a class=\"ge-49M\" href=\"/hp-15s-ryzen-3-dual-core-3250u-4-gb-1-tb-hdd-windows-10-home-15s-gr0006au-thin-light-laptop/product-reviews/itmdbb2d234797b6?pid=COMFZHZFZFFBJBHH&amp;lid=LSTCOMFZHZFZFFBJBHH7WNMPE&amp;marketplace=FLIPKART&amp;page=10\">10</a><a class=\"_1LKTO3\" href=\"/hp-15s-ryzen-3-dual-core-3250u-4-gb-1-tb-hdd-windows-10-home-15s-gr0006au-thin-light-laptop/product-reviews/itmdbb2d234797b6?pid=COMFZHZFZFFBJBHH&amp;lid=LSTCOMFZHZFZFFBJBHH7WNMPE&amp;marketplace=FLIPKART&amp;page=2\"><span>Next</span></a></nav><span class=\"_22Tduf\"></span></div></div></div></div></div><div class=\"_39SDPR\"></div></div></div><footer class=\"_3voSl0\"><div class=\"_3rc_xQ\"><div class=\"row\"><div class=\"col gu12 _8Qljeg\"></div></div><div><div class=\"_2WErco row\"><div class=\"_2Brcj4\"><div class=\"_3-dnWo\">ABOUT</div><a href=\"/helpcentre?otracker=undefined_footer_navlinks\" class=\"_1arVWX\">Contact Us</a><a href=\"https://corporate.flipkart.net/corporate-home\" class=\"_1arVWX\">About Us</a><a href=\"https://www.flipkartcareers.com/?otracker=undefined_footer_navlinks\" class=\"_1arVWX\">Careers</a><a href=\"http://stories.flipkart.com/?otracker=undefined_footer_navlinks\" class=\"_1arVWX\">Flipkart Stories</a><a href=\"http://stories.flipkart.com/category/top-stories/news/\" class=\"_1arVWX\">Press</a><a href=\"/corporate-information\" class=\"_1arVWX\">Corporate Information</a></div><div class=\"_2Brcj4\"><div class=\"_3-dnWo\">GROUP COMPANIES</div><a href=\"https://www.myntra.com/\" target=\"_blank\" title=\"Myntra\" class=\"_1arVWX\" rel=\"noopener noreferrer\">Myntra</a><a href=\"https://www.flipkartwholesale.com/?otracker=undefined_footer_navlinks\" target=\"_blank\" class=\"_1arVWX\" rel=\"noopener noreferrer\">Flipkart Wholesale</a><a href=\"https://www.cleartrip.com/\" target=\"_blank\" title=\"Cleartrip: #1 Site for Booking Flights Tickets, Buses &amp; Hotels Online\" class=\"_1arVWX\" rel=\"noopener noreferrer\">Cleartrip</a><a href=\"https://www.shopsy.in/\" target=\"_blank\" title=\"Shopsy\" class=\"_1arVWX\" rel=\"noopener noreferrer\">Shopsy</a></div><div class=\"_2Brcj4\"><div class=\"_3-dnWo\">HELP</div><a href=\"/pages/payments\" class=\"_1arVWX\">Payments</a><a href=\"/pages/shipping\" class=\"_1arVWX\">Shipping</a><a href=\"/helpcentre?catalog=55c9c6edb000002e002c1701&amp;view=CATALOG\" class=\"_1arVWX\">Cancellation &amp; Returns</a><a href=\"/helpcentre?catalog=55c9c8e2b0000023002c1702&amp;view=CATALOG\" class=\"_1arVWX\">FAQ</a><a href=\"https://seller.flipkart.com/fiv?otracker=undefined_footer_navlinks\" class=\"_1arVWX\">Report Infringement</a></div><div class=\"_2Brcj4\"><div class=\"_3-dnWo\">CONSUMER POLICY</div><a href=\"/pages/returnpolicy?otracker=undefined_footer_navlinks\" class=\"_1arVWX\">Cancellation &amp; Returns</a><a href=\"/pages/terms?otracker=undefined_footer_navlinks\" class=\"_1arVWX\">Terms Of Use</a><a href=\"/pages/paymentsecurity?otracker=undefined_footer_navlinks\" class=\"_1arVWX\">Security</a><a href=\"/pages/privacypolicy?otracker=undefined_footer_navlinks\" class=\"_1arVWX\">Privacy</a><a href=\"/sitemap?otracker=undefined_footer_navlinks\" class=\"_1arVWX\">Sitemap</a><a href=\"/pages/grievance-redressal-mechanism?otracker=undefined_footer_navlinks\" class=\"_1arVWX\">Grievance Redressal</a><a href=\"/pages/ewaste-compliance-tnc?otracker=undefined_footer_navlinks\" class=\"_1arVWX\">EPR Compliance</a></div><div class=\"_2Brcj4 address\"><div class=\"_3JHi0r\"><div class=\"_3-dnWo\"><span>Mail Us:</span></div><div class=\"_1U1qnR\"><div class=\"_1LJS6T\"><div class=\"_2NKhZn _1U1qnR\"><p>Flipkart Internet Private Limited, </p>\\n<p> Buildings Alyssa, Begonia &amp; </p>\\n<p> Clove Embassy Tech Village, </p>\\n<p> Outer Ring Road, Devarabeesanahalli Village, </p>\\n<p> Bengaluru, 560103, </p>\\n<p> Karnataka, India</p>\\n</div></div></div><div class=\"_3-dnWo\">Social</div><div class=\"_2SkNJs\"><span class=\"_2iAEVP\"><a href=\"https://www.facebook.com/flipkart\"><img src=\"data:image/svg+xml;base64,PHN2ZyB3aWR0aD0iMjUiIGhlaWdodD0iMjQiIHZpZXdCb3g9IjAgMCAyNSAyNCIgZmlsbD0ibm9uZSIgeG1sbnM9Imh0dHA6Ly93d3cudzMub3JnLzIwMDAvc3ZnIj4KPHBhdGggZD0iTTEyLjkzMzEgMjFDMTcuOTAzNyAyMSAyMS45MzMxIDE2Ljk3MDYgMjEuOTMzMSAxMkMyMS45MzMxIDcuMDI5NDQgMTcuOTAzNyAzIDEyLjkzMzEgM0M3Ljk2MjU0IDMgMy45MzMxMSA3LjAyOTQ0IDMuOTMzMTEgMTJDMy45MzMxMSAxNi45NzA2IDcuOTYyNTQgMjEgMTIuOTMzMSAyMVoiIHN0cm9rZT0id2hpdGUiIHN0cm9rZS13aWR0aD0iMS41IiBzdHJva2UtbGluZWNhcD0icm91bmQiIHN0cm9rZS1saW5lam9pbj0icm91bmQiLz4KPHBhdGggZD0iTTE2LjY4MzEgOC4yNUgxNS4xODMxQzE0LjU4NjQgOC4yNSAxNC4wMTQxIDguNDg3MDUgMTMuNTkyMSA4LjkwOTAxQzEzLjE3MDIgOS4zMzA5NyAxMi45MzMxIDkuOTAzMjYgMTIuOTMzMSAxMC41VjIxIiBzdHJva2U9IndoaXRlIiBzdHJva2Utd2lkdGg9IjEuNSIgc3Ryb2tlLWxpbmVjYXA9InJvdW5kIiBzdHJva2UtbGluZWpvaW49InJvdW5kIi8+CjxwYXRoIGQ9Ik05LjkzMzExIDEzLjVIMTUuOTMzMSIgc3Ryb2tlPSJ3aGl0ZSIgc3Ryb2tlLXdpZHRoPSIxLjUiIHN0cm9rZS1saW5lY2FwPSJyb3VuZCIgc3Ryb2tlLWxpbmVqb2luPSJyb3VuZCIvPgo8L3N2Zz4K\" height=\"24\" width=\"24\"/></a></span><span class=\"_2iAEVP\"><a href=\"https://www.twitter.com/flipkart\"><img src=\"data:image/svg+xml;base64,PHN2ZyB3aWR0aD0iMjQiIGhlaWdodD0iMjQiIHZpZXdCb3g9IjAgMCAyNCAyNCIgZmlsbD0ibm9uZSIgeG1sbnM9Imh0dHA6Ly93d3cudzMub3JnLzIwMDAvc3ZnIj4KPGcgY2xpcC1wYXRoPSJ1cmwoI2NsaXAwXzE4M18yMCkiPgo8cGF0aCBkPSJNMTMuNTQzNiAxMC42MTc5TDIwLjA5NzEgM0gxOC41NDQxTDEyLjg1MzcgOS42MTQ0OEw4LjMwODg3IDNIMy4wNjY4OUw5LjkzOTY0IDEzLjAwMjNMMy4wNjY4OSAyMC45OTA4SDQuNjE5OTRMMTAuNjI5MSAxNC4wMDU2TDE1LjQyODggMjAuOTkwOEgyMC42NzA4TDEzLjU0MzIgMTAuNjE3OUgxMy41NDM2Wk0xMS40MTY1IDEzLjA5MDRMMTAuNzIwMiAxMi4wOTQ0TDUuMTc5NTMgNC4xNjkxMUg3LjU2NDkxTDEyLjAzNjMgMTAuNTY1MUwxMi43MzI2IDExLjU2MTFMMTguNTQ0OCAxOS44NzQ4SDE2LjE1OTVMMTEuNDE2NSAxMy4wOTA4VjEzLjA5MDRaIiBmaWxsPSJ3aGl0ZSIvPgo8L2c+CjxkZWZzPgo8Y2xpcFBhdGggaWQ9ImNsaXAwXzE4M18yMCI+CjxyZWN0IHg9IjMuMDY2ODkiIHk9IjMiIHdpZHRoPSIxNy42MDM5IiBoZWlnaHQ9IjE4IiByeD0iMC4yIiBmaWxsPSJ3aGl0ZSIvPgo8L2NsaXBQYXRoPgo8L2RlZnM+Cjwvc3ZnPgo=\" height=\"24\" width=\"24\"/></a></span><span class=\"_2iAEVP\"><a href=\"https://www.youtube.com/flipkart\"><img src=\"//static-assets-web.flixcart.com/fk-p-linchpin-web/fk-cp-zion/img/YoutubeLogo_958b78.svg\" height=\"24\" width=\"24\"/></a></span></div></div></div><div class=\"_2Brcj4 address\"><div class=\"_3IT4e6\"><div class=\"_3-dnWo\"><span>Registered Office Address:</span></div><div class=\"_1U1qnR\"><div class=\"_1LJS6T\"><div class=\"_2NKhZn _1U1qnR\"><p>Flipkart Internet Private Limited, </p>\\n<p> Buildings Alyssa, Begonia &amp; </p>\\n<p> Clove Embassy Tech Village, </p>\\n<p> Outer Ring Road, Devarabeesanahalli Village, </p>\\n<p> Bengaluru, 560103, </p>\\n<p> Karnataka, India </p>\\n<p> CIN : U51109KA2012PTC066107 </p>\\n<p> Telephone: <a href=\"tel:044-45614700\">044-45614700</a></p>\\n</div></div></div></div></div></div><div><div class=\"_2uz0vJ\"><div><img src=\"data:image/svg+xml;base64,PHN2ZyB4bWxucz0iaHR0cDovL3d3dy53My5vcmcvMjAwMC9zdmciIHdpZHRoPSIxNiIgaGVpZ2h0PSIxNSIgdmlld0JveD0iMCAwIDE2IDE1Ij4KICAgIDxkZWZzPgogICAgICAgIDxsaW5lYXJHcmFkaWVudCBpZD0iYSIgeDE9IjAlIiB4Mj0iODYuODc2JSIgeTE9IjAlIiB5Mj0iODAuMjAyJSI+CiAgICAgICAgICAgIDxzdG9wIG9mZnNldD0iMCUiIHN0b3AtY29sb3I9IiNGRkQ4MDAiLz4KICAgICAgICAgICAgPHN0b3Agb2Zmc2V0PSIxMDAlIiBzdG9wLWNvbG9yPSIjRkZBRjAwIi8+CiAgICAgICAgPC9saW5lYXJHcmFkaWVudD4KICAgIDwvZGVmcz4KICAgIDxnIGZpbGw9Im5vbmUiIGZpbGwtcnVsZT0iZXZlbm9kZCI+CiAgICAgICAgPHBhdGggZD0iTS0yLTJoMjB2MjBILTJ6Ii8+CiAgICAgICAgPHBhdGggZmlsbD0idXJsKCNhKSIgZmlsbC1ydWxlPSJub256ZXJvIiBkPSJNMTUuOTMgNS42MTRoLTIuOTQ4VjQuMTRjMC0uODE4LS42NTUtMS40NzMtMS40NzMtMS40NzNIOC41NmMtLjgxNyAwLTEuNDczLjY1NS0xLjQ3MyAxLjQ3M3YxLjQ3NEg0LjE0Yy0uODE4IDAtMS40NjYuNjU2LTEuNDY2IDEuNDc0bC0uMDA3IDguMTA1YzAgLjgxOC42NTUgMS40NzQgMS40NzMgMS40NzRoMTEuNzljLjgxOCAwIDEuNDc0LS42NTYgMS40NzQtMS40NzRWNy4wODhjMC0uODE4LS42NTYtMS40NzQtMS40NzQtMS40NzR6bS00LjQyMSAwSDguNTZWNC4xNGgyLjk0OHYxLjQ3NHoiIHRyYW5zZm9ybT0idHJhbnNsYXRlKC0yIC0yKSIvPgogICAgPC9nPgo8L3N2Zz4K\"/><a href=\"https://seller.flipkart.com/?utm_source=fkwebsite&amp;utm_medium=websitedirect\"><span class=\"hDTmm5\">Become a Seller</span></a></div><div><img src=\"data:image/svg+xml;base64,PHN2ZyB4bWxucz0iaHR0cDovL3d3dy53My5vcmcvMjAwMC9zdmciIHdpZHRoPSIxNSIgaGVpZ2h0PSIxNSIgdmlld0JveD0iMCAwIDE1IDE1Ij4KICAgIDxkZWZzPgogICAgICAgIDxsaW5lYXJHcmFkaWVudCBpZD0iYSIgeDE9IjAlIiB4Mj0iODYuODc2JSIgeTE9IjAlIiB5Mj0iODAuMjAyJSI+CiAgICAgICAgICAgIDxzdG9wIG9mZnNldD0iMCUiIHN0b3AtY29sb3I9IiNGRkQ4MDAiLz4KICAgICAgICAgICAgPHN0b3Agb2Zmc2V0PSIxMDAlIiBzdG9wLWNvbG9yPSIjRkZBRjAwIi8+CiAgICAgICAgPC9saW5lYXJHcmFkaWVudD4KICAgIDwvZGVmcz4KICAgIDxnIGZpbGw9Im5vbmUiIGZpbGwtcnVsZT0iZXZlbm9kZCI+CiAgICAgICAgPHBhdGggZD0iTS0zLTNoMjB2MjBILTN6Ii8+CiAgICAgICAgPHBhdGggZmlsbD0idXJsKCNhKSIgZmlsbC1ydWxlPSJub256ZXJvIiBkPSJNMTAuNDkyIDNDNi4zNTMgMyAzIDYuMzYgMyAxMC41YzAgNC4xNCAzLjM1MyA3LjUgNy40OTIgNy41QzE0LjY0IDE4IDE4IDE0LjY0IDE4IDEwLjUgMTggNi4zNiAxNC42NCAzIDEwLjQ5MiAzem0zLjE4IDEyTDEwLjUgMTMuMDg4IDcuMzI3IDE1bC44NC0zLjYwN0w1LjM3IDguOTdsMy42OS0uMzE1TDEwLjUgNS4yNWwxLjQ0IDMuMzk4IDMuNjkuMzE1LTIuNzk4IDIuNDIyLjg0IDMuNjE1eiIgdHJhbnNmb3JtPSJ0cmFuc2xhdGUoLTMgLTMpIi8+CiAgICA8L2c+Cjwvc3ZnPgo=\"/><a href=\"https://brands.flipkart.com\"><span class=\"hDTmm5\">Advertise</span></a></div><div><img src=\"data:image/svg+xml;base64,PHN2ZyB4bWxucz0iaHR0cDovL3d3dy53My5vcmcvMjAwMC9zdmciIHdpZHRoPSIxOCIgaGVpZ2h0PSIxNyIgdmlld0JveD0iMCAwIDE4IDE3Ij4KICAgIDxkZWZzPgogICAgICAgIDxsaW5lYXJHcmFkaWVudCBpZD0iYSIgeDE9IjAlIiB4Mj0iODYuODc2JSIgeTE9IjAlIiB5Mj0iODAuMjAyJSI+CiAgICAgICAgICAgIDxzdG9wIG9mZnNldD0iMCUiIHN0b3AtY29sb3I9IiNGRkQ4MDAiLz4KICAgICAgICAgICAgPHN0b3Agb2Zmc2V0PSIxMDAlIiBzdG9wLWNvbG9yPSIjRkZBRjAwIi8+CiAgICAgICAgPC9saW5lYXJHcmFkaWVudD4KICAgIDwvZGVmcz4KICAgIDxnIGZpbGw9Im5vbmUiIGZpbGwtcnVsZT0iZXZlbm9kZCI+CiAgICAgICAgPHBhdGggZD0iTS0xLTFoMjB2MjBILTF6Ii8+CiAgICAgICAgPHBhdGggZmlsbD0idXJsKCNhKSIgZmlsbC1ydWxlPSJub256ZXJvIiBkPSJNMTYuNjY3IDVIMTQuODVjLjA5Mi0uMjU4LjE1LS41NDIuMTUtLjgzM2EyLjQ5NyAyLjQ5NyAwIDAgMC00LjU4My0xLjM3NUwxMCAzLjM1bC0uNDE3LS41NjdBMi41MSAyLjUxIDAgMCAwIDcuNSAxLjY2N2EyLjQ5NyAyLjQ5NyAwIDAgMC0yLjUgMi41YzAgLjI5MS4wNTguNTc1LjE1LjgzM0gzLjMzM2MtLjkyNSAwLTEuNjU4Ljc0Mi0xLjY1OCAxLjY2N2wtLjAwOCA5LjE2NkExLjY2IDEuNjYgMCAwIDAgMy4zMzMgMTcuNWgxMy4zMzRhMS42NiAxLjY2IDAgMCAwIDEuNjY2LTEuNjY3VjYuNjY3QTEuNjYgMS42NiAwIDAgMCAxNi42NjcgNXptMCA2LjY2N0gzLjMzM3YtNWg0LjIzNEw1LjgzMyA5LjAyNWwxLjM1Ljk3NSAxLjk4NC0yLjdMMTAgNi4xNjdsLjgzMyAxLjEzMyAxLjk4NCAyLjcgMS4zNS0uOTc1LTEuNzM0LTIuMzU4aDQuMjM0djV6IiB0cmFuc2Zvcm09InRyYW5zbGF0ZSgtMSAtMSkiLz4KICAgIDwvZz4KPC9zdmc+Cg==\"/><a href=\"/the-gift-card-store?otracker=undefined_footer_footer_navlinks\"><span class=\"hDTmm5\">Gift Cards</span></a></div><div><img src=\"data:image/svg+xml;base64,PHN2ZyB4bWxucz0iaHR0cDovL3d3dy53My5vcmcvMjAwMC9zdmciIHdpZHRoPSIxNSIgaGVpZ2h0PSIxNSIgdmlld0JveD0iMCAwIDE1IDE1Ij4KICAgIDxkZWZzPgogICAgICAgIDxsaW5lYXJHcmFkaWVudCBpZD0iYSIgeDE9IjAlIiB4Mj0iODYuODc2JSIgeTE9IjAlIiB5Mj0iODAuMjAyJSI+CiAgICAgICAgICAgIDxzdG9wIG9mZnNldD0iMCUiIHN0b3AtY29sb3I9IiNGRkQ4MDAiLz4KICAgICAgICAgICAgPHN0b3Agb2Zmc2V0PSIxMDAlIiBzdG9wLWNvbG9yPSIjRkZBRjAwIi8+CiAgICAgICAgPC9saW5lYXJHcmFkaWVudD4KICAgIDwvZGVmcz4KICAgIDxnIGZpbGw9Im5vbmUiIGZpbGwtcnVsZT0iZXZlbm9kZCI+CiAgICAgICAgPHBhdGggZD0iTS0yLTNoMjB2MjBILTJ6Ii8+CiAgICAgICAgPHBhdGggZmlsbD0idXJsKCNhKSIgZmlsbC1ydWxlPSJub256ZXJvIiBkPSJNOS41IDNDNS4zNiAzIDIgNi4zNiAyIDEwLjUgMiAxNC42NCA1LjM2IDE4IDkuNSAxOGM0LjE0IDAgNy41LTMuMzYgNy41LTcuNUMxNyA2LjM2IDEzLjY0IDMgOS41IDN6bS43NSAxMi43NWgtMS41di0xLjVoMS41djEuNXptMS41NTMtNS44MTNsLS42NzYuNjljLS41NC41NDgtLjg3Ny45OTgtLjg3NyAyLjEyM2gtMS41di0uMzc1YzAtLjgyNS4zMzgtMS41NzUuODc3LTIuMTIzbC45My0uOTQ1Yy4yNzgtLjI3LjQ0My0uNjQ1LjQ0My0xLjA1NyAwLS44MjUtLjY3NS0xLjUtMS41LTEuNVM4IDcuNDI1IDggOC4yNUg2LjVhMyAzIDAgMSAxIDYgMGMwIC42Ni0uMjcgMS4yNi0uNjk3IDEuNjg4eiIgdHJhbnNmb3JtPSJ0cmFuc2xhdGUoLTIgLTMpIi8+CiAgICA8L2c+Cjwvc3ZnPgo=\"/><a href=\"/helpcentre?otracker=undefined_footer_footer_navlinks\"><span class=\"hDTmm5\">Help Center</span></a></div><span class=\"z3ht-w\">\\xc2\\xa9 2007-<!-- -->2024<!-- --> <span>Flipkart.com</span></span><img src=\"//static-assets-web.flixcart.com/fk-p-linchpin-web/fk-cp-zion/img/payment-method_69e7ec.svg\"/></div></div></div></div></footer><div class=\"_1EcK2J _38JCdA\"><div class=\"bra6U8\"><svg width=\"16\" height=\"27\" viewBox=\"0 0 16 27\" xmlns=\"http://www.w3.org/2000/svg\" class=\"_2TdLiZ\"><path d=\"M16 23.207L6.11 13.161 16 3.093 12.955 0 0 13.161l12.955 13.161z\" fill=\"#fff\" class=\"_3ZKfA2\"></path></svg><span>Back to top</span></div></div></div></div> <script type=\"application/ld+json\" nonce=\"5991165315307019647\" id=\"jsonLD\">{}</script> <script type=\"application/ld+json\" nonce=\"5991165315307019647\" id=\"jsonLD\">{}</script><script type=\"application/ld+json\" nonce=\"5991165315307019647\">{\\n    \"@context\": \"http://schema.org\",\\n    \"@type\": \"WebSite\",\\n    \"url\": \"http://www.flipkart.com/\",\\n    \"potentialAction\": [{\\n        \"@type\": \"SearchAction\",\\n        \"target\": \"http://www.flipkart.com/search?q={search_term_string}\",\\n        \"query-input\": \"required name=search_term_string\"\\n        },{\\n        \"@type\": \"SearchAction\",\\n        \"target\": \"android-app://com.flipkart.android/flipkart/de_sq_seg_-search.flipkart.com-_{search_term_string}\",\\n        \"query-input\": \"required name=search_term_string\"\\n    }]\\n}</script><script nonce=\"5991165315307019647\" id=\"is_script\">window.__INITIAL_STATE__ = {};</script> <link data-chunk=\"NavMenu\" rel=\"stylesheet\" href=\"//static-assets-web.flixcart.com/fk-p-linchpin-web/fk-cp-zion/css/NavMenu.chunk.0a28b6.css\"> <script id=\"__LOADABLE_REQUIRED_CHUNKS__\" type=\"application/json\">[130]</script><script id=\"__LOADABLE_REQUIRED_CHUNKS___ext\" type=\"application/json\">{\"namedChunks\":[\"NavMenu\"]}</script>\\n<script async data-chunk=\"NavMenu\" src=\"//static-assets-web.flixcart.com/fk-p-linchpin-web/fk-cp-zion/js/NavMenu.chunk.2901c888.js\"></script><script nonce=\"5991165315307019647\">window.omniture={tpv:[],tl:[]};window.omniture.trackPageView=function(){window.omniture.tpv.push(arguments)};window.omniture.trackLink=function(){window.omniture.tl.push(arguments)}\\n\\n    if(window.location.host === \\'www.flipkart.com\\' || /\\\\.store\\\\.flipkart\\\\.com/i.test(window.location.host)){\\n        window.s_account = \"flipkart-prd\"; //omniture account id\\n    }else{\\n        window.s_account = \"flipkart-prd-test\";\\n    }\\n    window.s_isDesktop = true;</script><script nonce=\"5991165315307019647\">function isMobile(){\\n\\t\\tif (!!(navigator.userAgentData && navigator.userAgentData.mobile) || navigator.userAgent.indexOf(\"Mobile\") !== -1){\\n\\t\\t\\treturn true;\\n\\t\\t}\\n\\t\\telse {\\n\\t\\t\\treturn false;\\n\\t\\t}\\n\\t}\\n\\n\\tif (\\'serviceWorker\\' in navigator && !isMobile()) {\\n\\t\\tnavigator.serviceWorker.register(\\'/sw.js\\').then(function(registration) {\\n\\t\\t\\tconsole.log(\\'ServiceWorker registration successful with scope: \\', registration.scope);\\n\\t\\t\\tnavigator.onLine && navigator.serviceWorker.controller && navigator.serviceWorker.controller.postMessage(\\'BANDWIDTH_COMPUTE\\');\\n\\t\\t\\tnavigator.serviceWorker.addEventListener(\\'message\\', function (event) {\\n\\t\\t\\t\\ttry {\\n\\t\\t\\t\\t\\tconst bandwidthData = JSON.parse(event.data);\\n\\t\\t\\t\\t\\tif (bandwidthData && bandwidthData.data) {\\n\\t\\t\\t\\t\\t\\twindow.bandwidth = bandwidthData.data.downlink + \\'_\\' + bandwidthData.data.computeMethod + \\'_\\' + bandwidthData.data.effectiveType + \\'_\\' + bandwidthData.data.type;\\n\\t\\t\\t\\t\\t}\\n\\t\\t\\t\\t}catch(err) {\\n\\t\\t\\t\\t\\tconsole.error(\\'JSON.parse failed:\\', err);\\n\\t\\t\\t\\t}\\n\\t\\t\\t});\\n\\t\\t})\\n\\t\\t.catch(function(err) {\\n\\t\\t\\tconsole.error(\\'ServiceWorker registration failed: \\', err);\\n\\t\\t});\\n\\t} else if(\\'serviceWorker\\' in navigator && isMobile()){\\n        navigator.serviceWorker.getRegistration().then(function(registration) {\\n            var serviceWorkerUnregistered=false;\\n            if(registration) {\\n                registration.unregister();\\n                serviceWorkerUnregistered=true;\\n            }\\n            serviceWorkerUnregistered && window.location.reload();\\n        });\\n    }</script> <script src=\"///www/linchpin/batman-returns/omni/omni16.js\" defer=\"defer\" async nonce=\"5991165315307019647\" id=\"omni_script\"></script>   <script nonce=\"5991165315307019647\">window._pxAppId = \\'PXgNtTli3A\\';</script><script nonce=\"5991165315307019647\" src=\"///px/gNtTli3A/init.js\" async></script></body></html>'\n"
     ]
    }
   ],
   "source": [
    "r = requests.get(URL) # gets the data into python program\n",
    "data = r.content\n",
    "print(data)"
   ]
  },
  {
   "cell_type": "markdown",
   "id": "1048377e",
   "metadata": {
    "id": "1048377e"
   },
   "source": [
    "STEP 2:- Parse the HTML"
   ]
  },
  {
   "cell_type": "code",
   "execution_count": 3,
   "id": "d67f7c2c",
   "metadata": {
    "id": "d67f7c2c"
   },
   "outputs": [
    {
     "data": {
      "text/plain": [
       "<bound method Tag.prettify of <!DOCTYPE html>\n",
       "<html lang=\"en\"><head><link href=\"https://rukminim2.flixcart.com\" rel=\"preconnect\"/><link href=\"//static-assets-web.flixcart.com/fk-p-linchpin-web/fk-cp-zion/css/app_modules.chunk.905c37.css\" rel=\"stylesheet\"/><link href=\"//static-assets-web.flixcart.com/fk-p-linchpin-web/fk-cp-zion/css/app.chunk.e82689.css\" rel=\"stylesheet\"/><meta content=\"text/html; charset=utf-8\" http-equiv=\"Content-type\"/><meta content=\"IE=Edge\" http-equiv=\"X-UA-Compatible\"/><meta content=\"102988293558\" property=\"fb:page_id\"/><meta content=\"658873552,624500995,100000233612389\" property=\"fb:admins\"/><link href=\"https:///www/promos/new/20150528-140547-favicon-retina.ico\" rel=\"shortcut icon\"/><link href=\"/osdd.xml?v=2\" rel=\"search\" type=\"application/opensearchdescription+xml\"/><meta content=\"website\" property=\"og:type\"/><meta content=\"Flipkart.com\" name=\"og_site_name\" property=\"og:site_name\"/><link href=\"/apple-touch-icon-57x57.png\" rel=\"apple-touch-icon\" sizes=\"57x57\"/><link href=\"/apple-touch-icon-72x72.png\" rel=\"apple-touch-icon\" sizes=\"72x72\"/><link href=\"/apple-touch-icon-114x114.png\" rel=\"apple-touch-icon\" sizes=\"114x114\"/><link href=\"/apple-touch-icon-144x144.png\" rel=\"apple-touch-icon\" sizes=\"144x144\"/><link href=\"/apple-touch-icon-57x57.png\" rel=\"apple-touch-icon\"/><meta content=\"app\" name=\"twitter:card\"/><meta content=\"@flipkart\" name=\"twitter:site\"/><meta content=\"@flipkart\" name=\"twitter:creator\"/><meta content=\"Hp 15s Ryzen 3 Dual Core 3250u 4 Gb 1 Tb Hdd Windows 10 Home 15s Gr0006au Thin Light Laptop Reviews: Latest Review of Hp 15s Ryzen 3 Dual Core 3250u 4 Gb 1 Tb Hdd Windows 10 Home 15s Gr0006au Thin Light Laptop | Price in India | Flipkart.com\" name=\"twitter:title\"/><meta content=\"Shop for electronics, apparels &amp; more using our Flipkart app Free shipping &amp; COD.\" name=\"twitter:description\"/><meta content=\"in\" name=\"twitter:app:country\"/><meta content=\"Flipkart\" name=\"al:ios:app_name\"/><meta content=\"742044692\" name=\"al:ios:app_store_id\"/><meta content=\"Flipkart\" name=\"twitter:app:name:iphone\"/><meta content=\"742044692\" name=\"twitter:app:id:iphone\"/><meta content=\"http://dl.flipkart.com/dl/home?\" name=\"twitter:app:url:iphone\"/><meta content=\"Flipkart\" name=\"twitter:app:name:ipad\"/><meta content=\"742044692\" name=\"twitter:app:id:ipad\"/><meta content=\"http://dl.flipkart.com/dl/home?\" name=\"twitter:app:url:ipad\"/><meta content=\"Flipkart\" name=\"twitter:app:name:googleplay\"/><meta content=\"com.flipkart.android\" name=\"twitter:app:id:googleplay\"/><meta content=\"http://dl.flipkart.com/dl/home?\" name=\"twitter:app:url:googleplay\"/><style>#container {\n",
       "\t\t\theight: 100%;\n",
       "\t\t}</style> <link href=\"///fk-cp-zion/css/AllReviewsPage.chunk.03bdc3.css\" rel=\"stylesheet\"/><title>Hp 15s Ryzen 3 Dual Core 3250u 4 Gb 1 Tb Hdd Windows 10 Home 15s Gr0006au Thin Light Laptop Reviews: Latest Review of Hp 15s Ryzen 3 Dual Core 3250u 4 Gb 1 Tb Hdd Windows 10 Home 15s Gr0006au Thin Light Laptop | Price in India | Flipkart.com</title><meta content=\"Hp 15s Ryzen 3 Dual Core 3250u 4 Gb 1 Tb Hdd Windows 10 Home 15s Gr0006au Thin Light Laptop Reviews: Latest Review of Hp 15s Ryzen 3 Dual Core 3250u 4 Gb 1 Tb Hdd Windows 10 Home 15s Gr0006au Thin Light Laptop | Price in India | Flipkart.com\" name=\"og_title\" property=\"og:title\"><meta content=\"Hp 15s Ryzen 3 Dual Core 3250u 4 Gb 1 Tb Hdd Windows 10 Home 15s Gr0006au Thin Light Laptop Reviews\" name=\"Keywords\"> <meta content=\"Read Latest Reviews of Hp 15s Ryzen 3 Dual Core 3250u 4 Gb 1 Tb Hdd Windows 10 Home 15s Gr0006au Thin Light Laptop on Flipkart.com. Find genuine customer reviews and ratings. Buy Hp 15s Ryzen 3 Dual Core 3250u 4 Gb 1 Tb Hdd Windows 10 Home 15s Gr0006au Thin Light Laptop at best prices on Flipkart.com.\" name=\"Description\"><meta content=\"Read Latest Reviews of Hp 15s Ryzen 3 Dual Core 3250u 4 Gb 1 Tb Hdd Windows 10 Home 15s Gr0006au Thin Light Laptop on Flipkart.com. Find genuine customer reviews and ratings. Buy Hp 15s Ryzen 3 Dual Core 3250u 4 Gb 1 Tb Hdd Windows 10 Home 15s Gr0006au Thin Light Laptop at best prices on Flipkart.com.\" property=\"og:description\"> <meta content=\"F4EEB3A0AFFDD385992A06E6920C0AC3\" name=\"msvalidate.01\"> <!--[if IE 9 ]>\n",
       "\t<script nonce=\"5991165315307019647\">\n",
       "\t\twindow.browserVersion = 'IE9';\n",
       "\t\tdocument.documentElement.className += ' ie9';\n",
       "\t</script>\n",
       "\t<![endif]--><!--[if !IE]><!--><script nonce=\"5991165315307019647\">if (/*@cc_on!@*/false) {\n",
       "\t\t\twindow.browserVersion = 'IE10';\n",
       "\t\t\tdocument.documentElement.className += ' ie10';\n",
       "\t\t}</script><!--<![endif]--> <script nonce=\"5991165315307019647\">!function(){if(\"PerformancePaintTiming\" in window){var e=window.__perf={e:[]};e.o=new PerformanceObserver(function(n){e.e=e.e.concat(n.getEntries())});try{e.o.observe({entryTypes:[\"paint\"]})}catch(e){}}}();\n",
       "\n",
       "\t\tif (requestAnimationFrame && performance && performance.mark) {\n",
       "\t\t\trequestAnimationFrame(function () {\n",
       "\t\t\t\twindow.first_paint = performance.now();\n",
       "\t\t\t\tperformance.mark(\"first_paint\");\n",
       "\t\t\t});\n",
       "\t\t}\n",
       "\n",
       "        // web-vitals polyfill for FID\n",
       "        !function(n,e){var t,o,i,c=[],f={passive:!0,capture:!0},r=new Date,a=\"pointerup\",u=\"pointercancel\";function p(n,c){t||(t=c,o=n,i=new Date,w(e),s())}function s(){o>=0&&o<i-r&&(c.forEach(function(n){n(o,t)}),c=[])}function l(t){if(t.cancelable){var o=(t.timeStamp>1e12?new Date:performance.now())-t.timeStamp;\"pointerdown\"==t.type?function(t,o){function i(){p(t,o),r()}function c(){r()}function r(){e(a,i,f),e(u,c,f)}n(a,i,f),n(u,c,f)}(o,t):p(o,t)}}function w(n){[\"click\",\"mousedown\",\"keydown\",\"touchstart\",\"pointerdown\"].forEach(function(e){n(e,l,f)})}w(n),self.perfMetrics=self.perfMetrics||{},self.perfMetrics.onFirstInputDelay=function(n){c.push(n),s()}}(addEventListener,removeEventListener);</script><script async=\"\" src=\"https://www.googletagmanager.com/gtag/js?id=AW-594691041\"></script><script nonce=\"5991165315307019647\">window.dataLayer = window.dataLayer || [];\n",
       "\t\tfunction gtag(){dataLayer.push(arguments)};\n",
       "\t\tgtag('js', new Date());</script></meta></meta></meta></meta></meta></head><body><div id=\"container\"><div><div class=\"_1kfTjk\"><div class=\"_1rH5Jn\"><div class=\"_1TmfNK\"></div><div class=\"_2Xfa2_\"><div class=\"_3_C9Hx\"><div class=\"_3qX0zy\"><a href=\"/\"><img alt=\"Flipkart\" class=\"_2xm1JU\" src=\"//static-assets-web.flixcart.com/fk-p-linchpin-web/fk-cp-zion/img/flipkart-plus_8d85f4.png\" title=\"Flipkart\" width=\"75\"/></a><a class=\"_21ljIi\" href=\"/plus\">Explore<!-- --> <span class=\"_2FVHGh\">Plus</span><img src=\"//static-assets-web.flixcart.com/fk-p-linchpin-web/fk-cp-zion/img/plus_aef861.png\" width=\"10\"/></a></div></div><div class=\"_1cmsER\"><form action=\"/search\" class=\"_2M8cLY header-form-search\" method=\"GET\"><div class=\"col-12-12 _2oO9oE\"><div class=\"_3OO5Xc\"><input autocomplete=\"off\" class=\"_3704LK\" name=\"q\" placeholder=\"Search for products, brands and more\" title=\"Search for products, brands and more\" type=\"text\" value=\"\"/></div><button class=\"L0Z3Pu\" type=\"submit\"><svg class=\"\" height=\"20\" viewbox=\"0 0 17 18\" width=\"20\" xmlns=\"http://www.w3.org/2000/svg\"><g fill=\"#2874F1\" fill-rule=\"evenodd\"><path class=\"_34RNph\" d=\"m11.618 9.897l4.225 4.212c.092.092.101.232.02.313l-1.465 1.46c-.081.081-.221.072-.314-.02l-4.216-4.203\"></path><path class=\"_34RNph\" d=\"m6.486 10.901c-2.42 0-4.381-1.956-4.381-4.368 0-2.413 1.961-4.369 4.381-4.369 2.42 0 4.381 1.956 4.381 4.369 0 2.413-1.961 4.368-4.381 4.368m0-10.835c-3.582 0-6.486 2.895-6.486 6.467 0 3.572 2.904 6.467 6.486 6.467 3.582 0 6.486-2.895 6.486-6.467 0-3.572-2.904-6.467-6.486-6.467\"></path></g></svg></button><input name=\"otracker\" type=\"hidden\" value=\"search\"/><input name=\"otracker1\" type=\"hidden\" value=\"search\"/><input name=\"marketplace\" type=\"hidden\" value=\"FLIPKART\"/><input name=\"as-show\" type=\"hidden\" value=\"off\"/><input name=\"as\" type=\"hidden\" value=\"off\"/></div><ul class=\"col-12-12 _1MRYA1\"></ul></form></div><div class=\"go_DOp _2errNR\"><div class=\"_28p97w\"><div class=\"_1psGvi _3BvnxG\"><div><a class=\"_1_3w1N\" href=\"/account/login?ret=/hp-15s-ryzen-3-dual-core-3250u-4-gb-1-tb-hdd-windows-10-home-15s-gr0006au-thin-light-laptop/product-reviews/itmdbb2d234797b6%3Fpid%3DCOMFZHZFZFFBJBHH%26lid%3DLSTCOMFZHZFZFFBJBHH7WNMPE%26marketplace%3DFLIPKART\">Login</a></div></div></div></div><div class=\"go_DOp\"><a class=\"_3-PJz-\" href=\"https://seller.flipkart.com/sell-online/?utm_source=fkwebsite&amp;utm_medium=websitedirect\"><span>Become a Seller</span></a></div><div class=\"go_DOp\"><div class=\"_28p97w\"><div class=\"_1psGvi _3BvnxG\"><div><div class=\"exehdJ\"> <!-- -->More<!-- --> </div></div></div><svg class=\"zZ3yfL\" height=\"8\" viewbox=\"0 0 16 27\" width=\"4.7\" xmlns=\"http://www.w3.org/2000/svg\"><path class=\"_2gTTdy\" d=\"M16 23.207L6.11 13.161 16 3.093 12.955 0 0 13.161l12.955 13.161z\" fill=\"#fff\"></path></svg></div></div><div class=\"go_DOp\"><div class=\"_1psGvi\"><div class=\"YUhWwv\"><a class=\"_3SkBxJ\" href=\"/viewcart?exploreMode=true&amp;preference=FLIPKART\"><svg class=\"V3C5bO\" height=\"14\" viewbox=\"0 0 16 16\" width=\"14\" xmlns=\"http://www.w3.org/2000/svg\"><path class=\"_1bS9ic\" d=\"M15.32 2.405H4.887C3 2.405 2.46.805 2.46.805L2.257.21C2.208.085 2.083 0 1.946 0H.336C.1 0-.064.24.024.46l.644 1.945L3.11 9.767c.047.137.175.23.32.23h8.418l-.493 1.958H3.768l.002.003c-.017 0-.033-.003-.05-.003-1.06 0-1.92.86-1.92 1.92s.86 1.92 1.92 1.92c.99 0 1.805-.75 1.91-1.712l5.55.076c.12.922.91 1.636 1.867 1.636 1.04 0 1.885-.844 1.885-1.885 0-.866-.584-1.593-1.38-1.814l2.423-8.832c.12-.433-.206-.86-.655-.86\" fill=\"#fff\"></path></svg><span>Cart</span></a></div></div></div></div><div class=\"_1TmfNK\"></div></div><div class=\"_1mUdNz\"></div></div><div class=\"_331-kn\"></div><div class=\"_2tsNFb\"><div class=\"_6t1WkM _3HqJxg\"><div class=\"_1YokD2 _2GoDe3 col-12-12\"><div class=\"_1YokD2 _3Mn1Gg col-3-12\" style=\"border-right:1px solid #f0f0f0\"><div class=\"_1AtVbE col-12-12\"><div class=\"_4ddWXP _3BCh3_ _G-HdA\"><a class=\"_2rpwqI\" href=\"/hp-15s-ryzen-3-dual-core-3250u-4-gb-1-tb-hdd-windows-10-home-15s-gr0006au-thin-light-laptop/p/itmdbb2d234797b6?pid=COMFZHZFZFFBJBHH&amp;fm=organic&amp;ppt=None&amp;ppn=None&amp;ssid=nm0ww8036o0000001707826062837\" rel=\"noopener noreferrer\" target=\"_blank\" title=\"HP 15s AMD Ryzen 3 Dual Core 3250U - (4 GB/1 TB HDD/Windows 10 Home) 15s-GR0006AU Thin and Light Laptop\"><div class=\"_28_T72\"><div><div class=\"CXW8mj\" style=\"height:246px;width:246px\"><img alt=\"HP 15s AMD Ryzen 3 Dual Core 3250U - (4 GB/1 TB HDD/Windows 10 Home) 15s-GR0006AU Thin and Light Laptop\" class=\"_396cs4\" loading=\"eager\" src=\"https://rukminim2.flixcart.com/image/312/312/kk76wsw0/computer/8/2/2/hp-original-imafzhsyh6qaydrz.jpeg?q=70\"/></div></div></div></a><div><div><a class=\"s1Q9rs _2qfgz2\" href=\"/hp-15s-ryzen-3-dual-core-3250u-4-gb-1-tb-hdd-windows-10-home-15s-gr0006au-thin-light-laptop/p/itmdbb2d234797b6?pid=COMFZHZFZFFBJBHH&amp;fm=organic&amp;ppt=None&amp;ppn=None&amp;ssid=nm0ww8036o0000001707826062837\" rel=\"noopener noreferrer\" target=\"_blank\" title=\"HP 15s AMD Ryzen 3 Dual Core 3250U - (4 GB/1 TB HDD/Windows 10 Home) 15s-GR0006AU Thin and Light Laptop\">HP 15s AMD Ryzen 3 Dual Core 3250U - (4 GB/1 TB HDD/Windows 10...</a></div><div class=\"gUuXy-\"><span class=\"_1lRcqv\" id=\"productRating_LSTCOMFZHZFZFFBJBHH7WNMPE_COMFZHZFZFFBJBHH_\"><div class=\"_3LWZlK\">3.8<img class=\"_1wB99o\" src=\"data:image/svg+xml;base64,PHN2ZyB4bWxucz0iaHR0cDovL3d3dy53My5vcmcvMjAwMC9zdmciIHdpZHRoPSIxMyIgaGVpZ2h0PSIxMiI+PHBhdGggZmlsbD0iI0ZGRiIgZD0iTTYuNSA5LjQzOWwtMy42NzQgMi4yMy45NC00LjI2LTMuMjEtMi44ODMgNC4yNTQtLjQwNEw2LjUuMTEybDEuNjkgNC4wMSA0LjI1NC40MDQtMy4yMSAyLjg4Mi45NCA0LjI2eiIvPjwvc3ZnPg==\"/></div></span><span class=\"_2_R_DZ\"><span><span>1,625 Ratings </span><span class=\"_13vcmD\">&amp;</span><span> 220 Reviews</span></span></span></div><div class=\"_8VNy32 lnJjg0\"><div class=\"_25b18c\"><div class=\"_30jeq3\">₹24,187</div><div class=\"_3I9_wc\">₹<!-- -->34,480</div><div class=\"_3Ay6Sb\"><span>29% off</span></div></div></div></div></div></div><div class=\"_1AtVbE col-12-12\" style=\"border-top:1px solid #f0f0f0\"><div class=\"_1LsTqa\"><div class=\"jEaykx\"><span>User Images</span></div><div class=\"_2nMSwX _2ajiBF\"><div class=\"_21YjFX _3NGqA1\" style=\"background-image:url(https://rukminim1.flixcart.com/blobio/140/140/imr-202103/blobio-imr-202103_1160a428fabe42269d5d47166c4b1516.jpg?q=90), url(data:image/svg+xml;base64,PHN2ZyB3aWR0aD0iMjIiIGhlaWdodD0iMTgiIHhtbG5zPSJodHRwOi8vd3d3LnczLm9yZy8yMDAwL3N2ZyI+PGcgZmlsbD0iIzlEOUQ5RCIgZmlsbC1ydWxlPSJub256ZXJvIj48cGF0aCBkPSJNMjAgMEgyQzEgMCAwIDEgMCAydjE0YzAgMS4xLjkgMiAyIDJoMThjMSAwIDItMSAyLTJWMmMwLTEtMS0yLTItMnptMCAxNS45MmMtLjAyLjAzLS4wNi4wNi0uMDguMDhIMlYyLjA4TDIuMDggMmgxNy44M2MuMDMuMDIuMDYuMDYuMDguMDh2MTMuODRIMjB6Ii8+PHBhdGggZD0iTTEwIDEyLjUxTDcuNSA5LjUgNCAxNGgxNGwtNC41LTZ6Ii8+PC9nPjwvc3ZnPg==);width:70px;height:70px\"></div><div class=\"_21YjFX _3NGqA1\" style=\"background-image:url(https://rukminim1.flixcart.com/blobio/140/140/imr-202104/blobio-imr-202104_93955492db044b48920e88c9119f6e67.jpg?q=90), url(data:image/svg+xml;base64,PHN2ZyB3aWR0aD0iMjIiIGhlaWdodD0iMTgiIHhtbG5zPSJodHRwOi8vd3d3LnczLm9yZy8yMDAwL3N2ZyI+PGcgZmlsbD0iIzlEOUQ5RCIgZmlsbC1ydWxlPSJub256ZXJvIj48cGF0aCBkPSJNMjAgMEgyQzEgMCAwIDEgMCAydjE0YzAgMS4xLjkgMiAyIDJoMThjMSAwIDItMSAyLTJWMmMwLTEtMS0yLTItMnptMCAxNS45MmMtLjAyLjAzLS4wNi4wNi0uMDguMDhIMlYyLjA4TDIuMDggMmgxNy44M2MuMDMuMDIuMDYuMDYuMDguMDh2MTMuODRIMjB6Ii8+PHBhdGggZD0iTTEwIDEyLjUxTDcuNSA5LjUgNCAxNGgxNGwtNC41LTZ6Ii8+PC9nPjwvc3ZnPg==);width:70px;height:70px\"></div><div class=\"_21YjFX _3NGqA1\" style=\"background-image:url(https://rukminim1.flixcart.com/blobio/140/140/imr-202104/blobio-imr-202104_a84d39f759b74debaa99e8e931e7daa0.jpg?q=90), url(data:image/svg+xml;base64,PHN2ZyB3aWR0aD0iMjIiIGhlaWdodD0iMTgiIHhtbG5zPSJodHRwOi8vd3d3LnczLm9yZy8yMDAwL3N2ZyI+PGcgZmlsbD0iIzlEOUQ5RCIgZmlsbC1ydWxlPSJub256ZXJvIj48cGF0aCBkPSJNMjAgMEgyQzEgMCAwIDEgMCAydjE0YzAgMS4xLjkgMiAyIDJoMThjMSAwIDItMSAyLTJWMmMwLTEtMS0yLTItMnptMCAxNS45MmMtLjAyLjAzLS4wNi4wNi0uMDguMDhIMlYyLjA4TDIuMDggMmgxNy44M2MuMDMuMDIuMDYuMDYuMDguMDh2MTMuODRIMjB6Ii8+PHBhdGggZD0iTTEwIDEyLjUxTDcuNSA5LjUgNCAxNGgxNGwtNC41LTZ6Ii8+PC9nPjwvc3ZnPg==);width:70px;height:70px\"></div><div class=\"_21YjFX _3NGqA1\" style=\"background-image:url(https://rukminim1.flixcart.com/blobio/140/140/imr-202104/blobio-imr-202104_4e0ae24648994569803ec32b2ff24d21.jpg?q=90), url(data:image/svg+xml;base64,PHN2ZyB3aWR0aD0iMjIiIGhlaWdodD0iMTgiIHhtbG5zPSJodHRwOi8vd3d3LnczLm9yZy8yMDAwL3N2ZyI+PGcgZmlsbD0iIzlEOUQ5RCIgZmlsbC1ydWxlPSJub256ZXJvIj48cGF0aCBkPSJNMjAgMEgyQzEgMCAwIDEgMCAydjE0YzAgMS4xLjkgMiAyIDJoMThjMSAwIDItMSAyLTJWMmMwLTEtMS0yLTItMnptMCAxNS45MmMtLjAyLjAzLS4wNi4wNi0uMDguMDhIMlYyLjA4TDIuMDggMmgxNy44M2MuMDMuMDIuMDYuMDYuMDguMDh2MTMuODRIMjB6Ii8+PHBhdGggZD0iTTEwIDEyLjUxTDcuNSA5LjUgNCAxNGgxNGwtNC41LTZ6Ii8+PC9nPjwvc3ZnPg==);width:70px;height:70px\"></div><div class=\"_21YjFX _3NGqA1\" style=\"background-image:url(https://rukminim1.flixcart.com/blobio/140/140/imr-202103/blobio-imr-202103_27608966d1084865a889246c1c61951e.jpg?q=90), url(data:image/svg+xml;base64,PHN2ZyB3aWR0aD0iMjIiIGhlaWdodD0iMTgiIHhtbG5zPSJodHRwOi8vd3d3LnczLm9yZy8yMDAwL3N2ZyI+PGcgZmlsbD0iIzlEOUQ5RCIgZmlsbC1ydWxlPSJub256ZXJvIj48cGF0aCBkPSJNMjAgMEgyQzEgMCAwIDEgMCAydjE0YzAgMS4xLjkgMiAyIDJoMThjMSAwIDItMSAyLTJWMmMwLTEtMS0yLTItMnptMCAxNS45MmMtLjAyLjAzLS4wNi4wNi0uMDguMDhIMlYyLjA4TDIuMDggMmgxNy44M2MuMDMuMDIuMDYuMDYuMDguMDh2MTMuODRIMjB6Ii8+PHBhdGggZD0iTTEwIDEyLjUxTDcuNSA5LjUgNCAxNGgxNGwtNC41LTZ6Ii8+PC9nPjwvc3ZnPg==);width:70px;height:70px\"></div><div class=\"_21YjFX _3NGqA1\" style=\"background-image:url(https://rukminim1.flixcart.com/blobio/140/140/imr-202103/blobio-imr-202103_fdd6cfde43ed4d52ae2f5d75c9318647.jpg?q=90), url(data:image/svg+xml;base64,PHN2ZyB3aWR0aD0iMjIiIGhlaWdodD0iMTgiIHhtbG5zPSJodHRwOi8vd3d3LnczLm9yZy8yMDAwL3N2ZyI+PGcgZmlsbD0iIzlEOUQ5RCIgZmlsbC1ydWxlPSJub256ZXJvIj48cGF0aCBkPSJNMjAgMEgyQzEgMCAwIDEgMCAydjE0YzAgMS4xLjkgMiAyIDJoMThjMSAwIDItMSAyLTJWMmMwLTEtMS0yLTItMnptMCAxNS45MmMtLjAyLjAzLS4wNi4wNi0uMDguMDhIMlYyLjA4TDIuMDggMmgxNy44M2MuMDMuMDIuMDYuMDYuMDguMDh2MTMuODRIMjB6Ii8+PHBhdGggZD0iTTEwIDEyLjUxTDcuNSA5LjUgNCAxNGgxNGwtNC41LTZ6Ii8+PC9nPjwvc3ZnPg==);width:70px;height:70px\"></div><div class=\"_21YjFX _3NGqA1\" style=\"background-image:url(https://rukminim1.flixcart.com/blobio/140/140/imr-202103/blobio-imr-202103_b25f606dc5d94c0faf77572889d58095.jpg?q=90), url(data:image/svg+xml;base64,PHN2ZyB3aWR0aD0iMjIiIGhlaWdodD0iMTgiIHhtbG5zPSJodHRwOi8vd3d3LnczLm9yZy8yMDAwL3N2ZyI+PGcgZmlsbD0iIzlEOUQ5RCIgZmlsbC1ydWxlPSJub256ZXJvIj48cGF0aCBkPSJNMjAgMEgyQzEgMCAwIDEgMCAydjE0YzAgMS4xLjkgMiAyIDJoMThjMSAwIDItMSAyLTJWMmMwLTEtMS0yLTItMnptMCAxNS45MmMtLjAyLjAzLS4wNi4wNi0uMDguMDhIMlYyLjA4TDIuMDggMmgxNy44M2MuMDMuMDIuMDYuMDYuMDguMDh2MTMuODRIMjB6Ii8+PHBhdGggZD0iTTEwIDEyLjUxTDcuNSA5LjUgNCAxNGgxNGwtNC41LTZ6Ii8+PC9nPjwvc3ZnPg==);width:70px;height:70px\"></div><div class=\"_21YjFX _3NGqA1 RU6t0j\" style=\"background-image:url(https://rukminim1.flixcart.com/blobio/140/140/imr-202103/blobio-imr-202103_d0078c9048db40a4bd891e5df07767d2.jpg?q=90), url(data:image/svg+xml;base64,PHN2ZyB3aWR0aD0iMjIiIGhlaWdodD0iMTgiIHhtbG5zPSJodHRwOi8vd3d3LnczLm9yZy8yMDAwL3N2ZyI+PGcgZmlsbD0iIzlEOUQ5RCIgZmlsbC1ydWxlPSJub256ZXJvIj48cGF0aCBkPSJNMjAgMEgyQzEgMCAwIDEgMCAydjE0YzAgMS4xLjkgMiAyIDJoMThjMSAwIDItMSAyLTJWMmMwLTEtMS0yLTItMnptMCAxNS45MmMtLjAyLjAzLS4wNi4wNi0uMDguMDhIMlYyLjA4TDIuMDggMmgxNy44M2MuMDMuMDIuMDYuMDYuMDguMDh2MTMuODRIMjB6Ii8+PHBhdGggZD0iTTEwIDEyLjUxTDcuNSA5LjUgNCAxNGgxNGwtNC41LTZ6Ii8+PC9nPjwvc3ZnPg==);width:70px;height:70px\"><span class=\"_380ehC\">+ <!-- -->28</span></div></div></div></div></div><div class=\"_1YokD2 _3Mn1Gg col-9-12\"><div class=\"_1YokD2 _3Mn1Gg col-12-12\" style=\"border-bottom:1px solid #f0f0f0\"><div class=\"_1YokD2 _2GoDe3 col-12-12\"><div class=\"_1AtVbE col-10-12\"><div class=\"_2s4DIt _1CDdy2\">HP 15s AMD Ryzen 3 Dual Core 3250U - (4 GB/1 TB HDD/Windows 10 Home) 15s-GR0006AU Thin and Light Laptop Reviews</div></div><div class=\"_1AtVbE\" style=\"flex-grow:1;overflow:initital\"><div class=\"gEkCyh\"><div class=\"_3uXCGr\"><div class=\"_2ECNXS\"><div class=\"_1cpOwe tVKh2S\"><select class=\"_1EDlbo tVKh2S\" name=\"sortFilter\"><option selected=\"\" value=\"MOST_HELPFUL\">Most Helpful</option><option value=\"MOST_RECENT\">Most Recent</option><option value=\"POSITIVE_FIRST\">Positive First</option><option value=\"NEGATIVE_FIRST\">Negative First</option></select><span class=\"_2NY3xT _2VZJIQ\"></span></div></div></div></div></div></div><div class=\"_1AtVbE col-12-12\"><div class=\"_33iqLu\"><div><a class=\"_203_Tp\" href=\"/hp-15s-ryzen-3-dual-core-3250u-4-gb-1-tb-hdd-windows-10-home-15s-gr0006au-thin-light-laptop/product-reviews/itmdbb2d234797b6?pid=COMFZHZFZFFBJBHH&amp;lid=LSTCOMFZHZFZFFBJBHH7WNMPE&amp;sortOrder=MOST_HELPFUL&amp;certifiedBuyer=false&amp;aid=overall\"><span class=\"_1YKVER _203_Tp\">Overall</span></a><a class=\"\" href=\"/hp-15s-ryzen-3-dual-core-3250u-4-gb-1-tb-hdd-windows-10-home-15s-gr0006au-thin-light-laptop/product-reviews/itmdbb2d234797b6?pid=COMFZHZFZFFBJBHH&amp;lid=LSTCOMFZHZFZFFBJBHH7WNMPE&amp;sortOrder=MOST_HELPFUL&amp;certifiedBuyer=false&amp;aid=bb0d522c-0d71-4218-bf8d-59f4f6d9619b\"><span class=\"_1YKVER\">Performance</span></a><a class=\"\" href=\"/hp-15s-ryzen-3-dual-core-3250u-4-gb-1-tb-hdd-windows-10-home-15s-gr0006au-thin-light-laptop/product-reviews/itmdbb2d234797b6?pid=COMFZHZFZFFBJBHH&amp;lid=LSTCOMFZHZFZFFBJBHH7WNMPE&amp;sortOrder=MOST_HELPFUL&amp;certifiedBuyer=false&amp;aid=f2b10aa8-b719-4f2e-b49e-38056d41a9a5\"><span class=\"_1YKVER\">Battery</span></a><a class=\"\" href=\"/hp-15s-ryzen-3-dual-core-3250u-4-gb-1-tb-hdd-windows-10-home-15s-gr0006au-thin-light-laptop/product-reviews/itmdbb2d234797b6?pid=COMFZHZFZFFBJBHH&amp;lid=LSTCOMFZHZFZFFBJBHH7WNMPE&amp;sortOrder=MOST_HELPFUL&amp;certifiedBuyer=false&amp;aid=a785ae91-3171-460c-a347-e08ec6e4e5c9\"><span class=\"_1YKVER\">Design</span></a><a class=\"\" href=\"/hp-15s-ryzen-3-dual-core-3250u-4-gb-1-tb-hdd-windows-10-home-15s-gr0006au-thin-light-laptop/product-reviews/itmdbb2d234797b6?pid=COMFZHZFZFFBJBHH&amp;lid=LSTCOMFZHZFZFFBJBHH7WNMPE&amp;sortOrder=MOST_HELPFUL&amp;certifiedBuyer=false&amp;aid=09d5f4d3-52b2-4a2a-a97d-c285003eb3a5\"><span class=\"_1YKVER\">Display</span></a><a class=\"\" href=\"/hp-15s-ryzen-3-dual-core-3250u-4-gb-1-tb-hdd-windows-10-home-15s-gr0006au-thin-light-laptop/product-reviews/itmdbb2d234797b6?pid=COMFZHZFZFFBJBHH&amp;lid=LSTCOMFZHZFZFFBJBHH7WNMPE&amp;sortOrder=MOST_HELPFUL&amp;certifiedBuyer=false&amp;aid=41d28ac9-025c-45d9-a8c1-8fe347ceab25\"><span class=\"_1YKVER\">Value for Money</span></a></div></div></div></div><div class=\"_1AtVbE col-12-12\"><div class=\"row Bfvo5l\"><div class=\"col-4-12 _17ETNY\"><div class=\"col\"><div class=\"row\"><div class=\"col-12-12 _1azcI6\"><div class=\"_2d4LTz\">3.8</div><div class=\"_2yxeXv\">★</div></div></div><div class=\"row _2afbiS\"><div class=\"col-12-12\"><span>1,625 Ratings &amp;</span></div></div><div class=\"row _2afbiS\"><div class=\"col-12-12\"><span>220 Reviews</span></div></div></div></div><div class=\"col-8-12\"><div class=\"_13sFCC miQW6D _2m9Pwo\"><ul class=\"_2jr1F_\"><li class=\"_28Xb_u\"><div class=\"omG9iE\"><span class=\"_26f_zl\">5</span><span class=\"_2xBWPJ\">★</span></div></li><li class=\"_28Xb_u\"><div class=\"omG9iE\"><span class=\"_26f_zl\">4</span><span class=\"_2xBWPJ\">★</span></div></li><li class=\"_28Xb_u\"><div class=\"omG9iE\"><span class=\"_26f_zl\">3</span><span class=\"_2xBWPJ\">★</span></div></li><li class=\"_28Xb_u\"><div class=\"omG9iE\"><span class=\"_26f_zl\">2</span><span class=\"_2xBWPJ\">★</span></div></li><li class=\"_28Xb_u\"><div class=\"omG9iE\"><span class=\"_26f_zl\">1</span><span class=\"_2xBWPJ\">★</span></div></li></ul><ul class=\"_2Plkj9\"><li class=\"_28Xb_u\"><div><div class=\"_3UaKsS\"><span class=\"EkB-Xt _1z2lGe\" style=\"width:100%\"></span></div></div></li><li class=\"_28Xb_u\"><div><div class=\"_3UaKsS\"><span class=\"EkB-Xt _2fGXyl\" style=\"width:62.91970802919708%\"></span></div></div></li><li class=\"_28Xb_u\"><div><div class=\"_3UaKsS\"><span class=\"EkB-Xt _1ia31G\" style=\"width:28.613138686131386%\"></span></div></div></li><li class=\"_28Xb_u\"><div><div class=\"_3UaKsS\"><span class=\"EkB-Xt HnnP7O\" style=\"width:15.912408759124089%\"></span></div></div></li><li class=\"_28Xb_u\"><div><div class=\"_3UaKsS\"><span class=\"EkB-Xt _2W5rgh\" style=\"width:29.781021897810216%\"></span></div></div></li></ul><ul class=\"_36LmXx\"><li class=\"_28Xb_u\"><div class=\"_1uJVNT\">685</div></li><li class=\"_28Xb_u\"><div class=\"_1uJVNT\">431</div></li><li class=\"_28Xb_u\"><div class=\"_1uJVNT\">196</div></li><li class=\"_28Xb_u\"><div class=\"_1uJVNT\">109</div></li><li class=\"_28Xb_u\"><div class=\"_1uJVNT\">204</div></li></ul></div></div></div></div><div class=\"_1AtVbE col-12-12\"><div class=\"_27M-vq\"><div class=\"col\"><div class=\"col _2wzgFH K0kLPL\"><div class=\"row\"><div class=\"_3LWZlK _1BLPMq\">5<img class=\"_1wB99o\" src=\"data:image/svg+xml;base64,PHN2ZyB4bWxucz0iaHR0cDovL3d3dy53My5vcmcvMjAwMC9zdmciIHdpZHRoPSIxMyIgaGVpZ2h0PSIxMiI+PHBhdGggZmlsbD0iI0ZGRiIgZD0iTTYuNSA5LjQzOWwtMy42NzQgMi4yMy45NC00LjI2LTMuMjEtMi44ODMgNC4yNTQtLjQwNEw2LjUuMTEybDEuNjkgNC4wMSA0LjI1NC40MDQtMy4yMSAyLjg4Mi45NCA0LjI2eiIvPjwvc3ZnPg==\"/></div><p class=\"_2-N8zT\">Just wow!</p></div><div class=\"row\"><div class=\"t-ZTKy\"><div><div class=\"\">Awesome and nice for students and all. The favorite things is its comes with Windows and office home and student precious.</div><span class=\"_1H-bmy\"><span>READ MORE</span></span></div></div></div><div class=\"_2nMSwX _3oLIki\"><div class=\"_21YjFX _2A07HP\" style=\"background-image:url(https://rukminim1.flixcart.com/blobio/124/124/imr-202103/blobio-imr-202103_1160a428fabe42269d5d47166c4b1516.jpg?q=90), url(data:image/svg+xml;base64,PHN2ZyB3aWR0aD0iMjIiIGhlaWdodD0iMTgiIHhtbG5zPSJodHRwOi8vd3d3LnczLm9yZy8yMDAwL3N2ZyI+PGcgZmlsbD0iIzlEOUQ5RCIgZmlsbC1ydWxlPSJub256ZXJvIj48cGF0aCBkPSJNMjAgMEgyQzEgMCAwIDEgMCAydjE0YzAgMS4xLjkgMiAyIDJoMThjMSAwIDItMSAyLTJWMmMwLTEtMS0yLTItMnptMCAxNS45MmMtLjAyLjAzLS4wNi4wNi0uMDguMDhIMlYyLjA4TDIuMDggMmgxNy44M2MuMDMuMDIuMDYuMDYuMDguMDh2MTMuODRIMjB6Ii8+PHBhdGggZD0iTTEwIDEyLjUxTDcuNSA5LjUgNCAxNGgxNGwtNC41LTZ6Ii8+PC9nPjwvc3ZnPg==);width:62px;height:62px\"></div></div><div class=\"row _3n8db9\"><div class=\"row\"><p class=\"_2sc7ZR _2V5EHH\">Anoop Mathew</p><svg class=\"_2a1p_T\" height=\"14\" viewbox=\"0 0 12 12\" width=\"14\" xmlns=\"http://www.w3.org/2000/svg\"><g><circle cx=\"6\" cy=\"6\" fill=\"#878787\" r=\"6\"></circle><path d=\"M3 6l2 2 4-4\" fill=\"#878787\" stroke=\"#FFF\" stroke-width=\"1.5\"></path></g></svg><p class=\"_2mcZGG\" id=\"review-277157f9-da90-4a81-aaee-28703614d7fe\"><span>Certified Buyer</span><span>, Kattappana</span></p><div></div><p class=\"_2sc7ZR\">Mar, 2021</p></div><div class=\"_1e9_Zu\"><div class=\"row\"><div class=\"_27aTsS\"><div class=\"_1LmwT9\"><svg class=\"skCrcq\" height=\"15\" width=\"20\" xmlns=\"http://www.w3.org/2000/svg\"><path class=\"_1LIt4y\" d=\"M9.58.006c-.41.043-.794.32-1.01.728-.277.557-2.334 4.693-2.74 5.1-.41.407-.944.6-1.544.6v8.572h7.5c.45 0 .835-.28 1.007-.665 0 0 2.207-6.234 2.207-6.834 0-.6-.47-1.072-1.07-1.072h-3.216c-.6 0-1.07-.535-1.07-1.07 0-.537.835-3.387 1.006-3.944.17-.557-.107-1.157-.664-1.35-.15-.043-.257-.086-.407-.064zM0 6.434v8.572h2.143V6.434H0z\" fill=\"#fff\" fill-rule=\"evenodd\"></path></svg><span class=\"_3c3Px5\">87</span></div><div class=\"_1LmwT9 pkR4jH\"><svg class=\"skCrcq pkR4jH\" height=\"15\" width=\"20\" xmlns=\"http://www.w3.org/2000/svg\"><path class=\"_1LIt4y\" d=\"M9.58.006c-.41.043-.794.32-1.01.728-.277.557-2.334 4.693-2.74 5.1-.41.407-.944.6-1.544.6v8.572h7.5c.45 0 .835-.28 1.007-.665 0 0 2.207-6.234 2.207-6.834 0-.6-.47-1.072-1.07-1.072h-3.216c-.6 0-1.07-.535-1.07-1.07 0-.537.835-3.387 1.006-3.944.17-.557-.107-1.157-.664-1.35-.15-.043-.257-.086-.407-.064zM0 6.434v8.572h2.143V6.434H0z\" fill=\"#fff\" fill-rule=\"evenodd\"></path></svg><span class=\"_3c3Px5\">4</span></div></div><div class=\"_2bmov8\"><svg class=\"_2UvOBb\" height=\"11\" viewbox=\"0 0 16 27\" width=\"6\" xmlns=\"http://www.w3.org/2000/svg\"><path class=\"_2aPE6f\" d=\"M16 23.207L6.11 13.161 16 3.093 12.955 0 0 13.161l12.955 13.161z\" fill=\"#fff\"></path></svg><div class=\"_3E8aIl _38dCuf\"><div class=\"_3XCI6U\"><a href=\"/reviews/COMFZHZFZFFBJBHH:11?reviewId=277157f9-da90-4a81-aaee-28703614d7fe\"><span>Permalink</span></a></div><div class=\"_3XCI6U _2b2z-j\"><span>Report Abuse</span></div></div></div></div></div></div></div></div></div></div><div class=\"_1AtVbE col-12-12\"><div class=\"_27M-vq\"><div class=\"col\"><div class=\"col _2wzgFH K0kLPL\"><div class=\"row\"><div class=\"_3LWZlK _1BLPMq\">3<img class=\"_1wB99o\" src=\"data:image/svg+xml;base64,PHN2ZyB4bWxucz0iaHR0cDovL3d3dy53My5vcmcvMjAwMC9zdmciIHdpZHRoPSIxMyIgaGVpZ2h0PSIxMiI+PHBhdGggZmlsbD0iI0ZGRiIgZD0iTTYuNSA5LjQzOWwtMy42NzQgMi4yMy45NC00LjI2LTMuMjEtMi44ODMgNC4yNTQtLjQwNEw2LjUuMTEybDEuNjkgNC4wMSA0LjI1NC40MDQtMy4yMSAyLjg4Mi45NCA0LjI2eiIvPjwvc3ZnPg==\"/></div><p class=\"_2-N8zT\">Good</p></div><div class=\"row\"><div class=\"t-ZTKy\"><div><div class=\"\">Do not expect much :<br/>1)Very slow takes a lot of time just open a browser.<br/>2)Design is good  <br/>3)Battery backup ok.<br/>if you want to do basic editing and some gaming then go for atleast 8 GB ram and 4 core processor .</div><span class=\"_1H-bmy\"><span>READ MORE</span></span></div></div></div><div class=\"_2nMSwX _3oLIki\"><div class=\"_21YjFX _2A07HP\" style=\"background-image:url(https://rukminim1.flixcart.com/blobio/124/124/imr-202104/blobio-imr-202104_93955492db044b48920e88c9119f6e67.jpg?q=90), url(data:image/svg+xml;base64,PHN2ZyB3aWR0aD0iMjIiIGhlaWdodD0iMTgiIHhtbG5zPSJodHRwOi8vd3d3LnczLm9yZy8yMDAwL3N2ZyI+PGcgZmlsbD0iIzlEOUQ5RCIgZmlsbC1ydWxlPSJub256ZXJvIj48cGF0aCBkPSJNMjAgMEgyQzEgMCAwIDEgMCAydjE0YzAgMS4xLjkgMiAyIDJoMThjMSAwIDItMSAyLTJWMmMwLTEtMS0yLTItMnptMCAxNS45MmMtLjAyLjAzLS4wNi4wNi0uMDguMDhIMlYyLjA4TDIuMDggMmgxNy44M2MuMDMuMDIuMDYuMDYuMDguMDh2MTMuODRIMjB6Ii8+PHBhdGggZD0iTTEwIDEyLjUxTDcuNSA5LjUgNCAxNGgxNGwtNC41LTZ6Ii8+PC9nPjwvc3ZnPg==);width:62px;height:62px\"></div><div class=\"_21YjFX _2A07HP\" style=\"background-image:url(https://rukminim1.flixcart.com/blobio/124/124/imr-202104/blobio-imr-202104_a84d39f759b74debaa99e8e931e7daa0.jpg?q=90), url(data:image/svg+xml;base64,PHN2ZyB3aWR0aD0iMjIiIGhlaWdodD0iMTgiIHhtbG5zPSJodHRwOi8vd3d3LnczLm9yZy8yMDAwL3N2ZyI+PGcgZmlsbD0iIzlEOUQ5RCIgZmlsbC1ydWxlPSJub256ZXJvIj48cGF0aCBkPSJNMjAgMEgyQzEgMCAwIDEgMCAydjE0YzAgMS4xLjkgMiAyIDJoMThjMSAwIDItMSAyLTJWMmMwLTEtMS0yLTItMnptMCAxNS45MmMtLjAyLjAzLS4wNi4wNi0uMDguMDhIMlYyLjA4TDIuMDggMmgxNy44M2MuMDMuMDIuMDYuMDYuMDguMDh2MTMuODRIMjB6Ii8+PHBhdGggZD0iTTEwIDEyLjUxTDcuNSA5LjUgNCAxNGgxNGwtNC41LTZ6Ii8+PC9nPjwvc3ZnPg==);width:62px;height:62px\"></div><div class=\"_21YjFX _2A07HP\" style=\"background-image:url(https://rukminim1.flixcart.com/blobio/124/124/imr-202104/blobio-imr-202104_4e0ae24648994569803ec32b2ff24d21.jpg?q=90), url(data:image/svg+xml;base64,PHN2ZyB3aWR0aD0iMjIiIGhlaWdodD0iMTgiIHhtbG5zPSJodHRwOi8vd3d3LnczLm9yZy8yMDAwL3N2ZyI+PGcgZmlsbD0iIzlEOUQ5RCIgZmlsbC1ydWxlPSJub256ZXJvIj48cGF0aCBkPSJNMjAgMEgyQzEgMCAwIDEgMCAydjE0YzAgMS4xLjkgMiAyIDJoMThjMSAwIDItMSAyLTJWMmMwLTEtMS0yLTItMnptMCAxNS45MmMtLjAyLjAzLS4wNi4wNi0uMDguMDhIMlYyLjA4TDIuMDggMmgxNy44M2MuMDMuMDIuMDYuMDYuMDguMDh2MTMuODRIMjB6Ii8+PHBhdGggZD0iTTEwIDEyLjUxTDcuNSA5LjUgNCAxNGgxNGwtNC41LTZ6Ii8+PC9nPjwvc3ZnPg==);width:62px;height:62px\"></div></div><div class=\"row _3n8db9\"><div class=\"row\"><p class=\"_2sc7ZR _2V5EHH\">Vivek Raturi</p><svg class=\"_2a1p_T\" height=\"14\" viewbox=\"0 0 12 12\" width=\"14\" xmlns=\"http://www.w3.org/2000/svg\"><g><circle cx=\"6\" cy=\"6\" fill=\"#878787\" r=\"6\"></circle><path d=\"M3 6l2 2 4-4\" fill=\"#878787\" stroke=\"#FFF\" stroke-width=\"1.5\"></path></g></svg><p class=\"_2mcZGG\" id=\"review-89764dce-87e3-48b9-9196-d9b061f72e8f\"><span>Certified Buyer</span><span>, Rishikesh</span></p><div></div><p class=\"_2sc7ZR\">Apr, 2021</p></div><div class=\"_1e9_Zu\"><div class=\"row\"><div class=\"_27aTsS\"><div class=\"_1LmwT9\"><svg class=\"skCrcq\" height=\"15\" width=\"20\" xmlns=\"http://www.w3.org/2000/svg\"><path class=\"_1LIt4y\" d=\"M9.58.006c-.41.043-.794.32-1.01.728-.277.557-2.334 4.693-2.74 5.1-.41.407-.944.6-1.544.6v8.572h7.5c.45 0 .835-.28 1.007-.665 0 0 2.207-6.234 2.207-6.834 0-.6-.47-1.072-1.07-1.072h-3.216c-.6 0-1.07-.535-1.07-1.07 0-.537.835-3.387 1.006-3.944.17-.557-.107-1.157-.664-1.35-.15-.043-.257-.086-.407-.064zM0 6.434v8.572h2.143V6.434H0z\" fill=\"#fff\" fill-rule=\"evenodd\"></path></svg><span class=\"_3c3Px5\">31</span></div><div class=\"_1LmwT9 pkR4jH\"><svg class=\"skCrcq pkR4jH\" height=\"15\" width=\"20\" xmlns=\"http://www.w3.org/2000/svg\"><path class=\"_1LIt4y\" d=\"M9.58.006c-.41.043-.794.32-1.01.728-.277.557-2.334 4.693-2.74 5.1-.41.407-.944.6-1.544.6v8.572h7.5c.45 0 .835-.28 1.007-.665 0 0 2.207-6.234 2.207-6.834 0-.6-.47-1.072-1.07-1.072h-3.216c-.6 0-1.07-.535-1.07-1.07 0-.537.835-3.387 1.006-3.944.17-.557-.107-1.157-.664-1.35-.15-.043-.257-.086-.407-.064zM0 6.434v8.572h2.143V6.434H0z\" fill=\"#fff\" fill-rule=\"evenodd\"></path></svg><span class=\"_3c3Px5\">0</span></div></div><div class=\"_2bmov8\"><svg class=\"_2UvOBb\" height=\"11\" viewbox=\"0 0 16 27\" width=\"6\" xmlns=\"http://www.w3.org/2000/svg\"><path class=\"_2aPE6f\" d=\"M16 23.207L6.11 13.161 16 3.093 12.955 0 0 13.161l12.955 13.161z\" fill=\"#fff\"></path></svg><div class=\"_3E8aIl _38dCuf\"><div class=\"_3XCI6U\"><a href=\"/reviews/COMFZHZFZFFBJBHH:68?reviewId=89764dce-87e3-48b9-9196-d9b061f72e8f\"><span>Permalink</span></a></div><div class=\"_3XCI6U _2b2z-j\"><span>Report Abuse</span></div></div></div></div></div></div></div></div></div></div><div class=\"_1AtVbE col-12-12\"><div class=\"_27M-vq\"><div class=\"col\"><div class=\"col _2wzgFH K0kLPL\"><div class=\"row\"><div class=\"_3LWZlK _1BLPMq\">4<img class=\"_1wB99o\" src=\"data:image/svg+xml;base64,PHN2ZyB4bWxucz0iaHR0cDovL3d3dy53My5vcmcvMjAwMC9zdmciIHdpZHRoPSIxMyIgaGVpZ2h0PSIxMiI+PHBhdGggZmlsbD0iI0ZGRiIgZD0iTTYuNSA5LjQzOWwtMy42NzQgMi4yMy45NC00LjI2LTMuMjEtMi44ODMgNC4yNTQtLjQwNEw2LjUuMTEybDEuNjkgNC4wMSA0LjI1NC40MDQtMy4yMSAyLjg4Mi45NCA0LjI2eiIvPjwvc3ZnPg==\"/></div><p class=\"_2-N8zT\">Very Good</p></div><div class=\"row\"><div class=\"t-ZTKy\"><div><div class=\"\">Read carefully.. My Experience was complicated just because of boot time i.e. on/off time was too long until I didn't go for updates but once I have done all updates... I am telling you guys...Maska..hai.. Maska..<br/><br/>Superb performance.. and look wise i liked it very much. I use to play GT racing without any lag..<br/><br/>My daughter is also happy for her online studies.<br/><br/>My suggestion is that don't think twice just go for it with Flipkart.<br/><br/>Thanks flipkart for very safe and on time delivery.</div><span class=\"_1H-bmy\"><span>READ MORE</span></span></div></div></div><div class=\"_2nMSwX _3oLIki\"><div class=\"_21YjFX _2A07HP\" style=\"background-image:url(https://rukminim1.flixcart.com/blobio/124/124/imr-202103/blobio-imr-202103_27608966d1084865a889246c1c61951e.jpg?q=90), url(data:image/svg+xml;base64,PHN2ZyB3aWR0aD0iMjIiIGhlaWdodD0iMTgiIHhtbG5zPSJodHRwOi8vd3d3LnczLm9yZy8yMDAwL3N2ZyI+PGcgZmlsbD0iIzlEOUQ5RCIgZmlsbC1ydWxlPSJub256ZXJvIj48cGF0aCBkPSJNMjAgMEgyQzEgMCAwIDEgMCAydjE0YzAgMS4xLjkgMiAyIDJoMThjMSAwIDItMSAyLTJWMmMwLTEtMS0yLTItMnptMCAxNS45MmMtLjAyLjAzLS4wNi4wNi0uMDguMDhIMlYyLjA4TDIuMDggMmgxNy44M2MuMDMuMDIuMDYuMDYuMDguMDh2MTMuODRIMjB6Ii8+PHBhdGggZD0iTTEwIDEyLjUxTDcuNSA5LjUgNCAxNGgxNGwtNC41LTZ6Ii8+PC9nPjwvc3ZnPg==);width:62px;height:62px\"></div><div class=\"_21YjFX _2A07HP\" style=\"background-image:url(https://rukminim1.flixcart.com/blobio/124/124/imr-202103/blobio-imr-202103_fdd6cfde43ed4d52ae2f5d75c9318647.jpg?q=90), url(data:image/svg+xml;base64,PHN2ZyB3aWR0aD0iMjIiIGhlaWdodD0iMTgiIHhtbG5zPSJodHRwOi8vd3d3LnczLm9yZy8yMDAwL3N2ZyI+PGcgZmlsbD0iIzlEOUQ5RCIgZmlsbC1ydWxlPSJub256ZXJvIj48cGF0aCBkPSJNMjAgMEgyQzEgMCAwIDEgMCAydjE0YzAgMS4xLjkgMiAyIDJoMThjMSAwIDItMSAyLTJWMmMwLTEtMS0yLTItMnptMCAxNS45MmMtLjAyLjAzLS4wNi4wNi0uMDguMDhIMlYyLjA4TDIuMDggMmgxNy44M2MuMDMuMDIuMDYuMDYuMDguMDh2MTMuODRIMjB6Ii8+PHBhdGggZD0iTTEwIDEyLjUxTDcuNSA5LjUgNCAxNGgxNGwtNC41LTZ6Ii8+PC9nPjwvc3ZnPg==);width:62px;height:62px\"></div></div><div class=\"row _3n8db9\"><div class=\"row\"><p class=\"_2sc7ZR _2V5EHH\">Vaibhav Bharati</p><svg class=\"_2a1p_T\" height=\"14\" viewbox=\"0 0 12 12\" width=\"14\" xmlns=\"http://www.w3.org/2000/svg\"><g><circle cx=\"6\" cy=\"6\" fill=\"#878787\" r=\"6\"></circle><path d=\"M3 6l2 2 4-4\" fill=\"#878787\" stroke=\"#FFF\" stroke-width=\"1.5\"></path></g></svg><p class=\"_2mcZGG\" id=\"review-f88a17d0-9709-4071-a85c-a648a6b84275\"><span>Certified Buyer</span><span>, Vasai Virar</span></p><div></div><p class=\"_2sc7ZR\">Mar, 2021</p></div><div class=\"_1e9_Zu\"><div class=\"row\"><div class=\"_27aTsS\"><div class=\"_1LmwT9\"><svg class=\"skCrcq\" height=\"15\" width=\"20\" xmlns=\"http://www.w3.org/2000/svg\"><path class=\"_1LIt4y\" d=\"M9.58.006c-.41.043-.794.32-1.01.728-.277.557-2.334 4.693-2.74 5.1-.41.407-.944.6-1.544.6v8.572h7.5c.45 0 .835-.28 1.007-.665 0 0 2.207-6.234 2.207-6.834 0-.6-.47-1.072-1.07-1.072h-3.216c-.6 0-1.07-.535-1.07-1.07 0-.537.835-3.387 1.006-3.944.17-.557-.107-1.157-.664-1.35-.15-.043-.257-.086-.407-.064zM0 6.434v8.572h2.143V6.434H0z\" fill=\"#fff\" fill-rule=\"evenodd\"></path></svg><span class=\"_3c3Px5\">314</span></div><div class=\"_1LmwT9 pkR4jH\"><svg class=\"skCrcq pkR4jH\" height=\"15\" width=\"20\" xmlns=\"http://www.w3.org/2000/svg\"><path class=\"_1LIt4y\" d=\"M9.58.006c-.41.043-.794.32-1.01.728-.277.557-2.334 4.693-2.74 5.1-.41.407-.944.6-1.544.6v8.572h7.5c.45 0 .835-.28 1.007-.665 0 0 2.207-6.234 2.207-6.834 0-.6-.47-1.072-1.07-1.072h-3.216c-.6 0-1.07-.535-1.07-1.07 0-.537.835-3.387 1.006-3.944.17-.557-.107-1.157-.664-1.35-.15-.043-.257-.086-.407-.064zM0 6.434v8.572h2.143V6.434H0z\" fill=\"#fff\" fill-rule=\"evenodd\"></path></svg><span class=\"_3c3Px5\">67</span></div></div><div class=\"_2bmov8\"><svg class=\"_2UvOBb\" height=\"11\" viewbox=\"0 0 16 27\" width=\"6\" xmlns=\"http://www.w3.org/2000/svg\"><path class=\"_2aPE6f\" d=\"M16 23.207L6.11 13.161 16 3.093 12.955 0 0 13.161l12.955 13.161z\" fill=\"#fff\"></path></svg><div class=\"_3E8aIl _38dCuf\"><div class=\"_3XCI6U\"><a href=\"/reviews/COMFZHZFZFFBJBHH:14?reviewId=f88a17d0-9709-4071-a85c-a648a6b84275\"><span>Permalink</span></a></div><div class=\"_3XCI6U _2b2z-j\"><span>Report Abuse</span></div></div></div></div></div></div></div></div></div></div><div class=\"_1AtVbE col-12-12\"><div class=\"_27M-vq\"><div class=\"col\"><div class=\"col _2wzgFH K0kLPL\"><div class=\"row\"><div class=\"_3LWZlK _1BLPMq\">4<img class=\"_1wB99o\" src=\"data:image/svg+xml;base64,PHN2ZyB4bWxucz0iaHR0cDovL3d3dy53My5vcmcvMjAwMC9zdmciIHdpZHRoPSIxMyIgaGVpZ2h0PSIxMiI+PHBhdGggZmlsbD0iI0ZGRiIgZD0iTTYuNSA5LjQzOWwtMy42NzQgMi4yMy45NC00LjI2LTMuMjEtMi44ODMgNC4yNTQtLjQwNEw2LjUuMTEybDEuNjkgNC4wMSA0LjI1NC40MDQtMy4yMSAyLjg4Mi45NCA0LjI2eiIvPjwvc3ZnPg==\"/></div><p class=\"_2-N8zT\">Very Good</p></div><div class=\"row\"><div class=\"t-ZTKy\"><div><div class=\"\">Very nice product finishing is very good.</div><span class=\"_1H-bmy\"><span>READ MORE</span></span></div></div></div><div class=\"_2nMSwX _3oLIki\"><div class=\"_21YjFX _2A07HP\" style=\"background-image:url(https://rukminim1.flixcart.com/blobio/124/124/imr-202103/blobio-imr-202103_b25f606dc5d94c0faf77572889d58095.jpg?q=90), url(data:image/svg+xml;base64,PHN2ZyB3aWR0aD0iMjIiIGhlaWdodD0iMTgiIHhtbG5zPSJodHRwOi8vd3d3LnczLm9yZy8yMDAwL3N2ZyI+PGcgZmlsbD0iIzlEOUQ5RCIgZmlsbC1ydWxlPSJub256ZXJvIj48cGF0aCBkPSJNMjAgMEgyQzEgMCAwIDEgMCAydjE0YzAgMS4xLjkgMiAyIDJoMThjMSAwIDItMSAyLTJWMmMwLTEtMS0yLTItMnptMCAxNS45MmMtLjAyLjAzLS4wNi4wNi0uMDguMDhIMlYyLjA4TDIuMDggMmgxNy44M2MuMDMuMDIuMDYuMDYuMDguMDh2MTMuODRIMjB6Ii8+PHBhdGggZD0iTTEwIDEyLjUxTDcuNSA5LjUgNCAxNGgxNGwtNC41LTZ6Ii8+PC9nPjwvc3ZnPg==);width:62px;height:62px\"></div></div><div class=\"row _3n8db9\"><div class=\"row\"><p class=\"_2sc7ZR _2V5EHH\">Flipkart Customer</p><svg class=\"_2a1p_T\" height=\"14\" viewbox=\"0 0 12 12\" width=\"14\" xmlns=\"http://www.w3.org/2000/svg\"><g><circle cx=\"6\" cy=\"6\" fill=\"#878787\" r=\"6\"></circle><path d=\"M3 6l2 2 4-4\" fill=\"#878787\" stroke=\"#FFF\" stroke-width=\"1.5\"></path></g></svg><p class=\"_2mcZGG\" id=\"review-0b0a3dde-4740-469e-ae8a-e5b617036966\"><span>Certified Buyer</span><span>, Navi Mumbai</span></p><div></div><p class=\"_2sc7ZR\">Mar, 2021</p></div><div class=\"_1e9_Zu\"><div class=\"row\"><div class=\"_27aTsS\"><div class=\"_1LmwT9\"><svg class=\"skCrcq\" height=\"15\" width=\"20\" xmlns=\"http://www.w3.org/2000/svg\"><path class=\"_1LIt4y\" d=\"M9.58.006c-.41.043-.794.32-1.01.728-.277.557-2.334 4.693-2.74 5.1-.41.407-.944.6-1.544.6v8.572h7.5c.45 0 .835-.28 1.007-.665 0 0 2.207-6.234 2.207-6.834 0-.6-.47-1.072-1.07-1.072h-3.216c-.6 0-1.07-.535-1.07-1.07 0-.537.835-3.387 1.006-3.944.17-.557-.107-1.157-.664-1.35-.15-.043-.257-.086-.407-.064zM0 6.434v8.572h2.143V6.434H0z\" fill=\"#fff\" fill-rule=\"evenodd\"></path></svg><span class=\"_3c3Px5\">26</span></div><div class=\"_1LmwT9 pkR4jH\"><svg class=\"skCrcq pkR4jH\" height=\"15\" width=\"20\" xmlns=\"http://www.w3.org/2000/svg\"><path class=\"_1LIt4y\" d=\"M9.58.006c-.41.043-.794.32-1.01.728-.277.557-2.334 4.693-2.74 5.1-.41.407-.944.6-1.544.6v8.572h7.5c.45 0 .835-.28 1.007-.665 0 0 2.207-6.234 2.207-6.834 0-.6-.47-1.072-1.07-1.072h-3.216c-.6 0-1.07-.535-1.07-1.07 0-.537.835-3.387 1.006-3.944.17-.557-.107-1.157-.664-1.35-.15-.043-.257-.086-.407-.064zM0 6.434v8.572h2.143V6.434H0z\" fill=\"#fff\" fill-rule=\"evenodd\"></path></svg><span class=\"_3c3Px5\">3</span></div></div><div class=\"_2bmov8\"><svg class=\"_2UvOBb\" height=\"11\" viewbox=\"0 0 16 27\" width=\"6\" xmlns=\"http://www.w3.org/2000/svg\"><path class=\"_2aPE6f\" d=\"M16 23.207L6.11 13.161 16 3.093 12.955 0 0 13.161l12.955 13.161z\" fill=\"#fff\"></path></svg><div class=\"_3E8aIl _38dCuf\"><div class=\"_3XCI6U\"><a href=\"/reviews/COMFZHZFZFFBJBHH:20?reviewId=0b0a3dde-4740-469e-ae8a-e5b617036966\"><span>Permalink</span></a></div><div class=\"_3XCI6U _2b2z-j\"><span>Report Abuse</span></div></div></div></div></div></div></div></div></div></div><div class=\"_1AtVbE col-12-12\"><div class=\"_27M-vq\"><div class=\"col\"><div class=\"col _2wzgFH K0kLPL\"><div class=\"row\"><div class=\"_3LWZlK _1BLPMq\">4<img class=\"_1wB99o\" src=\"data:image/svg+xml;base64,PHN2ZyB4bWxucz0iaHR0cDovL3d3dy53My5vcmcvMjAwMC9zdmciIHdpZHRoPSIxMyIgaGVpZ2h0PSIxMiI+PHBhdGggZmlsbD0iI0ZGRiIgZD0iTTYuNSA5LjQzOWwtMy42NzQgMi4yMy45NC00LjI2LTMuMjEtMi44ODMgNC4yNTQtLjQwNEw2LjUuMTEybDEuNjkgNC4wMSA0LjI1NC40MDQtMy4yMSAyLjg4Mi45NCA0LjI2eiIvPjwvc3ZnPg==\"/></div><p class=\"_2-N8zT\">Wonderful</p></div><div class=\"row\"><div class=\"t-ZTKy\"><div><div class=\"\">Compare to i3, ryzen 3 is far better in performance with 4gb ram, full Battery charged still works more than 6 hrs... No heating problem.. Display only not bad quality, rest of them are worth for this amount</div><span class=\"_1H-bmy\"><span>READ MORE</span></span></div></div></div><div class=\"row _3n8db9\"><div class=\"row\"><p class=\"_2sc7ZR _2V5EHH\">Anand Amirtharaj</p><svg class=\"_2a1p_T\" height=\"14\" viewbox=\"0 0 12 12\" width=\"14\" xmlns=\"http://www.w3.org/2000/svg\"><g><circle cx=\"6\" cy=\"6\" fill=\"#878787\" r=\"6\"></circle><path d=\"M3 6l2 2 4-4\" fill=\"#878787\" stroke=\"#FFF\" stroke-width=\"1.5\"></path></g></svg><p class=\"_2mcZGG\" id=\"review-d30b21bd-fd6a-4dee-8c47-2d752cc163d1\"><span>Certified Buyer</span><span>, Salem</span></p><div></div><p class=\"_2sc7ZR\">Feb, 2021</p></div><div class=\"_1e9_Zu\"><div class=\"row\"><div class=\"_27aTsS\"><div class=\"_1LmwT9\"><svg class=\"skCrcq\" height=\"15\" width=\"20\" xmlns=\"http://www.w3.org/2000/svg\"><path class=\"_1LIt4y\" d=\"M9.58.006c-.41.043-.794.32-1.01.728-.277.557-2.334 4.693-2.74 5.1-.41.407-.944.6-1.544.6v8.572h7.5c.45 0 .835-.28 1.007-.665 0 0 2.207-6.234 2.207-6.834 0-.6-.47-1.072-1.07-1.072h-3.216c-.6 0-1.07-.535-1.07-1.07 0-.537.835-3.387 1.006-3.944.17-.557-.107-1.157-.664-1.35-.15-.043-.257-.086-.407-.064zM0 6.434v8.572h2.143V6.434H0z\" fill=\"#fff\" fill-rule=\"evenodd\"></path></svg><span class=\"_3c3Px5\">92</span></div><div class=\"_1LmwT9 pkR4jH\"><svg class=\"skCrcq pkR4jH\" height=\"15\" width=\"20\" xmlns=\"http://www.w3.org/2000/svg\"><path class=\"_1LIt4y\" d=\"M9.58.006c-.41.043-.794.32-1.01.728-.277.557-2.334 4.693-2.74 5.1-.41.407-.944.6-1.544.6v8.572h7.5c.45 0 .835-.28 1.007-.665 0 0 2.207-6.234 2.207-6.834 0-.6-.47-1.072-1.07-1.072h-3.216c-.6 0-1.07-.535-1.07-1.07 0-.537.835-3.387 1.006-3.944.17-.557-.107-1.157-.664-1.35-.15-.043-.257-.086-.407-.064zM0 6.434v8.572h2.143V6.434H0z\" fill=\"#fff\" fill-rule=\"evenodd\"></path></svg><span class=\"_3c3Px5\">16</span></div></div><div class=\"_2bmov8\"><svg class=\"_2UvOBb\" height=\"11\" viewbox=\"0 0 16 27\" width=\"6\" xmlns=\"http://www.w3.org/2000/svg\"><path class=\"_2aPE6f\" d=\"M16 23.207L6.11 13.161 16 3.093 12.955 0 0 13.161l12.955 13.161z\" fill=\"#fff\"></path></svg><div class=\"_3E8aIl _38dCuf\"><div class=\"_3XCI6U\"><a href=\"/reviews/COMFZHZFZFFBJBHH:1?reviewId=d30b21bd-fd6a-4dee-8c47-2d752cc163d1\"><span>Permalink</span></a></div><div class=\"_3XCI6U _2b2z-j\"><span>Report Abuse</span></div></div></div></div></div></div></div></div></div></div><div class=\"_1AtVbE col-12-12\"><div class=\"_27M-vq\"><div class=\"col\"><div class=\"col _2wzgFH K0kLPL\"><div class=\"row\"><div class=\"_3LWZlK _1BLPMq\">5<img class=\"_1wB99o\" src=\"data:image/svg+xml;base64,PHN2ZyB4bWxucz0iaHR0cDovL3d3dy53My5vcmcvMjAwMC9zdmciIHdpZHRoPSIxMyIgaGVpZ2h0PSIxMiI+PHBhdGggZmlsbD0iI0ZGRiIgZD0iTTYuNSA5LjQzOWwtMy42NzQgMi4yMy45NC00LjI2LTMuMjEtMi44ODMgNC4yNTQtLjQwNEw2LjUuMTEybDEuNjkgNC4wMSA0LjI1NC40MDQtMy4yMSAyLjg4Mi45NCA0LjI2eiIvPjwvc3ZnPg==\"/></div><p class=\"_2-N8zT\">Mind-blowing purchase</p></div><div class=\"row\"><div class=\"t-ZTKy\"><div><div class=\"\">Such a awesome product by HP. according to budget.</div><span class=\"_1H-bmy\"><span>READ MORE</span></span></div></div></div><div class=\"_2nMSwX _3oLIki\"><div class=\"_21YjFX _2A07HP\" style=\"background-image:url(https://rukminim1.flixcart.com/blobio/124/124/imr-202103/blobio-imr-202103_d0078c9048db40a4bd891e5df07767d2.jpg?q=90), url(data:image/svg+xml;base64,PHN2ZyB3aWR0aD0iMjIiIGhlaWdodD0iMTgiIHhtbG5zPSJodHRwOi8vd3d3LnczLm9yZy8yMDAwL3N2ZyI+PGcgZmlsbD0iIzlEOUQ5RCIgZmlsbC1ydWxlPSJub256ZXJvIj48cGF0aCBkPSJNMjAgMEgyQzEgMCAwIDEgMCAydjE0YzAgMS4xLjkgMiAyIDJoMThjMSAwIDItMSAyLTJWMmMwLTEtMS0yLTItMnptMCAxNS45MmMtLjAyLjAzLS4wNi4wNi0uMDguMDhIMlYyLjA4TDIuMDggMmgxNy44M2MuMDMuMDIuMDYuMDYuMDguMDh2MTMuODRIMjB6Ii8+PHBhdGggZD0iTTEwIDEyLjUxTDcuNSA5LjUgNCAxNGgxNGwtNC41LTZ6Ii8+PC9nPjwvc3ZnPg==);width:62px;height:62px\"></div><div class=\"_21YjFX _2A07HP\" style=\"background-image:url(https://rukminim1.flixcart.com/blobio/124/124/imr-202103/blobio-imr-202103_a2568f71aba842afaa343fb9c9276b64.jpg?q=90), url(data:image/svg+xml;base64,PHN2ZyB3aWR0aD0iMjIiIGhlaWdodD0iMTgiIHhtbG5zPSJodHRwOi8vd3d3LnczLm9yZy8yMDAwL3N2ZyI+PGcgZmlsbD0iIzlEOUQ5RCIgZmlsbC1ydWxlPSJub256ZXJvIj48cGF0aCBkPSJNMjAgMEgyQzEgMCAwIDEgMCAydjE0YzAgMS4xLjkgMiAyIDJoMThjMSAwIDItMSAyLTJWMmMwLTEtMS0yLTItMnptMCAxNS45MmMtLjAyLjAzLS4wNi4wNi0uMDguMDhIMlYyLjA4TDIuMDggMmgxNy44M2MuMDMuMDIuMDYuMDYuMDguMDh2MTMuODRIMjB6Ii8+PHBhdGggZD0iTTEwIDEyLjUxTDcuNSA5LjUgNCAxNGgxNGwtNC41LTZ6Ii8+PC9nPjwvc3ZnPg==);width:62px;height:62px\"></div></div><div class=\"row _3n8db9\"><div class=\"row\"><p class=\"_2sc7ZR _2V5EHH\">Gurudev  Nayak </p><svg class=\"_2a1p_T\" height=\"14\" viewbox=\"0 0 12 12\" width=\"14\" xmlns=\"http://www.w3.org/2000/svg\"><g><circle cx=\"6\" cy=\"6\" fill=\"#878787\" r=\"6\"></circle><path d=\"M3 6l2 2 4-4\" fill=\"#878787\" stroke=\"#FFF\" stroke-width=\"1.5\"></path></g></svg><p class=\"_2mcZGG\" id=\"review-7b3ec907-5442-417e-bf59-5f6aac7c70b2\"><span>Certified Buyer</span><span>, Ghoghardiha</span></p><div></div><p class=\"_2sc7ZR\">Mar, 2021</p></div><div class=\"_1e9_Zu\"><div class=\"row\"><div class=\"_27aTsS\"><div class=\"_1LmwT9\"><svg class=\"skCrcq\" height=\"15\" width=\"20\" xmlns=\"http://www.w3.org/2000/svg\"><path class=\"_1LIt4y\" d=\"M9.58.006c-.41.043-.794.32-1.01.728-.277.557-2.334 4.693-2.74 5.1-.41.407-.944.6-1.544.6v8.572h7.5c.45 0 .835-.28 1.007-.665 0 0 2.207-6.234 2.207-6.834 0-.6-.47-1.072-1.07-1.072h-3.216c-.6 0-1.07-.535-1.07-1.07 0-.537.835-3.387 1.006-3.944.17-.557-.107-1.157-.664-1.35-.15-.043-.257-.086-.407-.064zM0 6.434v8.572h2.143V6.434H0z\" fill=\"#fff\" fill-rule=\"evenodd\"></path></svg><span class=\"_3c3Px5\">32</span></div><div class=\"_1LmwT9 pkR4jH\"><svg class=\"skCrcq pkR4jH\" height=\"15\" width=\"20\" xmlns=\"http://www.w3.org/2000/svg\"><path class=\"_1LIt4y\" d=\"M9.58.006c-.41.043-.794.32-1.01.728-.277.557-2.334 4.693-2.74 5.1-.41.407-.944.6-1.544.6v8.572h7.5c.45 0 .835-.28 1.007-.665 0 0 2.207-6.234 2.207-6.834 0-.6-.47-1.072-1.07-1.072h-3.216c-.6 0-1.07-.535-1.07-1.07 0-.537.835-3.387 1.006-3.944.17-.557-.107-1.157-.664-1.35-.15-.043-.257-.086-.407-.064zM0 6.434v8.572h2.143V6.434H0z\" fill=\"#fff\" fill-rule=\"evenodd\"></path></svg><span class=\"_3c3Px5\">5</span></div></div><div class=\"_2bmov8\"><svg class=\"_2UvOBb\" height=\"11\" viewbox=\"0 0 16 27\" width=\"6\" xmlns=\"http://www.w3.org/2000/svg\"><path class=\"_2aPE6f\" d=\"M16 23.207L6.11 13.161 16 3.093 12.955 0 0 13.161l12.955 13.161z\" fill=\"#fff\"></path></svg><div class=\"_3E8aIl _38dCuf\"><div class=\"_3XCI6U\"><a href=\"/reviews/COMFZHZFZFFBJBHH:25?reviewId=7b3ec907-5442-417e-bf59-5f6aac7c70b2\"><span>Permalink</span></a></div><div class=\"_3XCI6U _2b2z-j\"><span>Report Abuse</span></div></div></div></div></div></div></div></div></div></div><div class=\"_1AtVbE col-12-12\"><div class=\"_27M-vq\"><div class=\"col\"><div class=\"col _2wzgFH K0kLPL\"><div class=\"row\"><div class=\"_3LWZlK _1BLPMq\">5<img class=\"_1wB99o\" src=\"data:image/svg+xml;base64,PHN2ZyB4bWxucz0iaHR0cDovL3d3dy53My5vcmcvMjAwMC9zdmciIHdpZHRoPSIxMyIgaGVpZ2h0PSIxMiI+PHBhdGggZmlsbD0iI0ZGRiIgZD0iTTYuNSA5LjQzOWwtMy42NzQgMi4yMy45NC00LjI2LTMuMjEtMi44ODMgNC4yNTQtLjQwNEw2LjUuMTEybDEuNjkgNC4wMSA0LjI1NC40MDQtMy4yMSAyLjg4Mi45NCA0LjI2eiIvPjwvc3ZnPg==\"/></div><p class=\"_2-N8zT\">Worth every penny</p></div><div class=\"row\"><div class=\"t-ZTKy\"><div><div class=\"\">Nice laptop and Ryzen 3 is a good processor for multi tasking... Design and color both are good. It's better to go with this HP laptop in this price segment...</div><span class=\"_1H-bmy\"><span>READ MORE</span></span></div></div></div><div class=\"_2nMSwX _3oLIki\"><div class=\"_21YjFX _2A07HP\" style=\"background-image:url(https://rukminim1.flixcart.com/blobio/124/124/imr-202103/blobio-imr-202103_aa8be26824314b2bab4d33c4626faac3.jpg?q=90), url(data:image/svg+xml;base64,PHN2ZyB3aWR0aD0iMjIiIGhlaWdodD0iMTgiIHhtbG5zPSJodHRwOi8vd3d3LnczLm9yZy8yMDAwL3N2ZyI+PGcgZmlsbD0iIzlEOUQ5RCIgZmlsbC1ydWxlPSJub256ZXJvIj48cGF0aCBkPSJNMjAgMEgyQzEgMCAwIDEgMCAydjE0YzAgMS4xLjkgMiAyIDJoMThjMSAwIDItMSAyLTJWMmMwLTEtMS0yLTItMnptMCAxNS45MmMtLjAyLjAzLS4wNi4wNi0uMDguMDhIMlYyLjA4TDIuMDggMmgxNy44M2MuMDMuMDIuMDYuMDYuMDguMDh2MTMuODRIMjB6Ii8+PHBhdGggZD0iTTEwIDEyLjUxTDcuNSA5LjUgNCAxNGgxNGwtNC41LTZ6Ii8+PC9nPjwvc3ZnPg==);width:62px;height:62px\"></div></div><div class=\"row _3n8db9\"><div class=\"row\"><p class=\"_2sc7ZR _2V5EHH\">Sayani  Banerjee </p><svg class=\"_2a1p_T\" height=\"14\" viewbox=\"0 0 12 12\" width=\"14\" xmlns=\"http://www.w3.org/2000/svg\"><g><circle cx=\"6\" cy=\"6\" fill=\"#878787\" r=\"6\"></circle><path d=\"M3 6l2 2 4-4\" fill=\"#878787\" stroke=\"#FFF\" stroke-width=\"1.5\"></path></g></svg><p class=\"_2mcZGG\" id=\"review-92aef6a6-9cfb-4412-b702-a9760dfb711e\"><span>Certified Buyer</span><span>, Kolkata</span></p><div></div><p class=\"_2sc7ZR\">Mar, 2021</p></div><div class=\"_1e9_Zu\"><div class=\"row\"><div class=\"_27aTsS\"><div class=\"_1LmwT9\"><svg class=\"skCrcq\" height=\"15\" width=\"20\" xmlns=\"http://www.w3.org/2000/svg\"><path class=\"_1LIt4y\" d=\"M9.58.006c-.41.043-.794.32-1.01.728-.277.557-2.334 4.693-2.74 5.1-.41.407-.944.6-1.544.6v8.572h7.5c.45 0 .835-.28 1.007-.665 0 0 2.207-6.234 2.207-6.834 0-.6-.47-1.072-1.07-1.072h-3.216c-.6 0-1.07-.535-1.07-1.07 0-.537.835-3.387 1.006-3.944.17-.557-.107-1.157-.664-1.35-.15-.043-.257-.086-.407-.064zM0 6.434v8.572h2.143V6.434H0z\" fill=\"#fff\" fill-rule=\"evenodd\"></path></svg><span class=\"_3c3Px5\">98</span></div><div class=\"_1LmwT9 pkR4jH\"><svg class=\"skCrcq pkR4jH\" height=\"15\" width=\"20\" xmlns=\"http://www.w3.org/2000/svg\"><path class=\"_1LIt4y\" d=\"M9.58.006c-.41.043-.794.32-1.01.728-.277.557-2.334 4.693-2.74 5.1-.41.407-.944.6-1.544.6v8.572h7.5c.45 0 .835-.28 1.007-.665 0 0 2.207-6.234 2.207-6.834 0-.6-.47-1.072-1.07-1.072h-3.216c-.6 0-1.07-.535-1.07-1.07 0-.537.835-3.387 1.006-3.944.17-.557-.107-1.157-.664-1.35-.15-.043-.257-.086-.407-.064zM0 6.434v8.572h2.143V6.434H0z\" fill=\"#fff\" fill-rule=\"evenodd\"></path></svg><span class=\"_3c3Px5\">24</span></div></div><div class=\"_2bmov8\"><svg class=\"_2UvOBb\" height=\"11\" viewbox=\"0 0 16 27\" width=\"6\" xmlns=\"http://www.w3.org/2000/svg\"><path class=\"_2aPE6f\" d=\"M16 23.207L6.11 13.161 16 3.093 12.955 0 0 13.161l12.955 13.161z\" fill=\"#fff\"></path></svg><div class=\"_3E8aIl _38dCuf\"><div class=\"_3XCI6U\"><a href=\"/reviews/COMFZHZFZFFBJBHH:9?reviewId=92aef6a6-9cfb-4412-b702-a9760dfb711e\"><span>Permalink</span></a></div><div class=\"_3XCI6U _2b2z-j\"><span>Report Abuse</span></div></div></div></div></div></div></div></div></div></div><div class=\"_1AtVbE col-12-12\"><div class=\"_27M-vq\"><div class=\"col\"><div class=\"col _2wzgFH K0kLPL\"><div class=\"row\"><div class=\"_3LWZlK _1BLPMq\">4<img class=\"_1wB99o\" src=\"data:image/svg+xml;base64,PHN2ZyB4bWxucz0iaHR0cDovL3d3dy53My5vcmcvMjAwMC9zdmciIHdpZHRoPSIxMyIgaGVpZ2h0PSIxMiI+PHBhdGggZmlsbD0iI0ZGRiIgZD0iTTYuNSA5LjQzOWwtMy42NzQgMi4yMy45NC00LjI2LTMuMjEtMi44ODMgNC4yNTQtLjQwNEw2LjUuMTEybDEuNjkgNC4wMSA0LjI1NC40MDQtMy4yMSAyLjg4Mi45NCA0LjI2eiIvPjwvc3ZnPg==\"/></div><p class=\"_2-N8zT\">Nice product</p></div><div class=\"row\"><div class=\"t-ZTKy\"><div><div class=\"\">This laptop is very light weight and I am happy!! 🙂🙂</div><span class=\"_1H-bmy\"><span>READ MORE</span></span></div></div></div><div class=\"_2nMSwX _3oLIki\"><div class=\"_21YjFX _2A07HP\" style=\"background-image:url(https://rukminim1.flixcart.com/blobio/124/124/imr-202106/blobio-imr-202106_0367b7696f3b403b8cc8d2af74297ed6.jpg?q=90), url(data:image/svg+xml;base64,PHN2ZyB3aWR0aD0iMjIiIGhlaWdodD0iMTgiIHhtbG5zPSJodHRwOi8vd3d3LnczLm9yZy8yMDAwL3N2ZyI+PGcgZmlsbD0iIzlEOUQ5RCIgZmlsbC1ydWxlPSJub256ZXJvIj48cGF0aCBkPSJNMjAgMEgyQzEgMCAwIDEgMCAydjE0YzAgMS4xLjkgMiAyIDJoMThjMSAwIDItMSAyLTJWMmMwLTEtMS0yLTItMnptMCAxNS45MmMtLjAyLjAzLS4wNi4wNi0uMDguMDhIMlYyLjA4TDIuMDggMmgxNy44M2MuMDMuMDIuMDYuMDYuMDguMDh2MTMuODRIMjB6Ii8+PHBhdGggZD0iTTEwIDEyLjUxTDcuNSA5LjUgNCAxNGgxNGwtNC41LTZ6Ii8+PC9nPjwvc3ZnPg==);width:62px;height:62px\"></div><div class=\"_21YjFX _2A07HP\" style=\"background-image:url(https://rukminim1.flixcart.com/blobio/124/124/imr-202106/blobio-imr-202106_70e7c1385fcd407192a9231fba5e8d9a.jpg?q=90), url(data:image/svg+xml;base64,PHN2ZyB3aWR0aD0iMjIiIGhlaWdodD0iMTgiIHhtbG5zPSJodHRwOi8vd3d3LnczLm9yZy8yMDAwL3N2ZyI+PGcgZmlsbD0iIzlEOUQ5RCIgZmlsbC1ydWxlPSJub256ZXJvIj48cGF0aCBkPSJNMjAgMEgyQzEgMCAwIDEgMCAydjE0YzAgMS4xLjkgMiAyIDJoMThjMSAwIDItMSAyLTJWMmMwLTEtMS0yLTItMnptMCAxNS45MmMtLjAyLjAzLS4wNi4wNi0uMDguMDhIMlYyLjA4TDIuMDggMmgxNy44M2MuMDMuMDIuMDYuMDYuMDguMDh2MTMuODRIMjB6Ii8+PHBhdGggZD0iTTEwIDEyLjUxTDcuNSA5LjUgNCAxNGgxNGwtNC41LTZ6Ii8+PC9nPjwvc3ZnPg==);width:62px;height:62px\"></div></div><div class=\"row _3n8db9\"><div class=\"row\"><p class=\"_2sc7ZR _2V5EHH\">Shivani  Pankaj</p><svg class=\"_2a1p_T\" height=\"14\" viewbox=\"0 0 12 12\" width=\"14\" xmlns=\"http://www.w3.org/2000/svg\"><g><circle cx=\"6\" cy=\"6\" fill=\"#878787\" r=\"6\"></circle><path d=\"M3 6l2 2 4-4\" fill=\"#878787\" stroke=\"#FFF\" stroke-width=\"1.5\"></path></g></svg><p class=\"_2mcZGG\" id=\"review-f1ed4758-77e6-4dd8-88c2-83cf1d33f8ed\"><span>Certified Buyer</span><span>, Chandauli</span></p><div></div><p class=\"_2sc7ZR\">Jun, 2021</p></div><div class=\"_1e9_Zu\"><div class=\"row\"><div class=\"_27aTsS\"><div class=\"_1LmwT9\"><svg class=\"skCrcq\" height=\"15\" width=\"20\" xmlns=\"http://www.w3.org/2000/svg\"><path class=\"_1LIt4y\" d=\"M9.58.006c-.41.043-.794.32-1.01.728-.277.557-2.334 4.693-2.74 5.1-.41.407-.944.6-1.544.6v8.572h7.5c.45 0 .835-.28 1.007-.665 0 0 2.207-6.234 2.207-6.834 0-.6-.47-1.072-1.07-1.072h-3.216c-.6 0-1.07-.535-1.07-1.07 0-.537.835-3.387 1.006-3.944.17-.557-.107-1.157-.664-1.35-.15-.043-.257-.086-.407-.064zM0 6.434v8.572h2.143V6.434H0z\" fill=\"#fff\" fill-rule=\"evenodd\"></path></svg><span class=\"_3c3Px5\">10</span></div><div class=\"_1LmwT9 pkR4jH\"><svg class=\"skCrcq pkR4jH\" height=\"15\" width=\"20\" xmlns=\"http://www.w3.org/2000/svg\"><path class=\"_1LIt4y\" d=\"M9.58.006c-.41.043-.794.32-1.01.728-.277.557-2.334 4.693-2.74 5.1-.41.407-.944.6-1.544.6v8.572h7.5c.45 0 .835-.28 1.007-.665 0 0 2.207-6.234 2.207-6.834 0-.6-.47-1.072-1.07-1.072h-3.216c-.6 0-1.07-.535-1.07-1.07 0-.537.835-3.387 1.006-3.944.17-.557-.107-1.157-.664-1.35-.15-.043-.257-.086-.407-.064zM0 6.434v8.572h2.143V6.434H0z\" fill=\"#fff\" fill-rule=\"evenodd\"></path></svg><span class=\"_3c3Px5\">0</span></div></div><div class=\"_2bmov8\"><svg class=\"_2UvOBb\" height=\"11\" viewbox=\"0 0 16 27\" width=\"6\" xmlns=\"http://www.w3.org/2000/svg\"><path class=\"_2aPE6f\" d=\"M16 23.207L6.11 13.161 16 3.093 12.955 0 0 13.161l12.955 13.161z\" fill=\"#fff\"></path></svg><div class=\"_3E8aIl _38dCuf\"><div class=\"_3XCI6U\"><a href=\"/reviews/COMFZHZFZFFBJBHH:115?reviewId=f1ed4758-77e6-4dd8-88c2-83cf1d33f8ed\"><span>Permalink</span></a></div><div class=\"_3XCI6U _2b2z-j\"><span>Report Abuse</span></div></div></div></div></div></div></div></div></div></div><div class=\"_1AtVbE col-12-12\"><div class=\"_27M-vq\"><div class=\"col\"><div class=\"col _2wzgFH K0kLPL\"><div class=\"row\"><div class=\"_3LWZlK _1BLPMq\">5<img class=\"_1wB99o\" src=\"data:image/svg+xml;base64,PHN2ZyB4bWxucz0iaHR0cDovL3d3dy53My5vcmcvMjAwMC9zdmciIHdpZHRoPSIxMyIgaGVpZ2h0PSIxMiI+PHBhdGggZmlsbD0iI0ZGRiIgZD0iTTYuNSA5LjQzOWwtMy42NzQgMi4yMy45NC00LjI2LTMuMjEtMi44ODMgNC4yNTQtLjQwNEw2LjUuMTEybDEuNjkgNC4wMSA0LjI1NC40MDQtMy4yMSAyLjg4Mi45NCA0LjI2eiIvPjwvc3ZnPg==\"/></div><p class=\"_2-N8zT\">Terrific</p></div><div class=\"row\"><div class=\"t-ZTKy\"><div><div class=\"\">#Price up to mark<br/>Its wonderful product for those ,who looking for  student and domestic work<br/><br/>1)Its just my dream lappi,(laptop)<br/>2)just go for laptop,its really awesome<br/>3)I just bought it for my project and bussiness work it's awesome<br/>4)one of the best product from HP<br/>5)just price is little high ,it have to be reduced<br/>6) I loved it<br/>7) I recommend it for u,💯💯❤️</div><span class=\"_1H-bmy\"><span>READ MORE</span></span></div></div></div><div class=\"_2nMSwX _3oLIki\"><div class=\"_21YjFX _2A07HP\" style=\"background-image:url(https://rukminim1.flixcart.com/blobio/124/124/imr-202104/blobio-imr-202104_1921e3b49e424ab6abfb24462c02d1c8.jpg?q=90), url(data:image/svg+xml;base64,PHN2ZyB3aWR0aD0iMjIiIGhlaWdodD0iMTgiIHhtbG5zPSJodHRwOi8vd3d3LnczLm9yZy8yMDAwL3N2ZyI+PGcgZmlsbD0iIzlEOUQ5RCIgZmlsbC1ydWxlPSJub256ZXJvIj48cGF0aCBkPSJNMjAgMEgyQzEgMCAwIDEgMCAydjE0YzAgMS4xLjkgMiAyIDJoMThjMSAwIDItMSAyLTJWMmMwLTEtMS0yLTItMnptMCAxNS45MmMtLjAyLjAzLS4wNi4wNi0uMDguMDhIMlYyLjA4TDIuMDggMmgxNy44M2MuMDMuMDIuMDYuMDYuMDguMDh2MTMuODRIMjB6Ii8+PHBhdGggZD0iTTEwIDEyLjUxTDcuNSA5LjUgNCAxNGgxNGwtNC41LTZ6Ii8+PC9nPjwvc3ZnPg==);width:62px;height:62px\"></div><div class=\"_21YjFX _2A07HP\" style=\"background-image:url(https://rukminim1.flixcart.com/blobio/124/124/imr-202104/blobio-imr-202104_a012684e75274c81923f60560eb6354b.jpg?q=90), url(data:image/svg+xml;base64,PHN2ZyB3aWR0aD0iMjIiIGhlaWdodD0iMTgiIHhtbG5zPSJodHRwOi8vd3d3LnczLm9yZy8yMDAwL3N2ZyI+PGcgZmlsbD0iIzlEOUQ5RCIgZmlsbC1ydWxlPSJub256ZXJvIj48cGF0aCBkPSJNMjAgMEgyQzEgMCAwIDEgMCAydjE0YzAgMS4xLjkgMiAyIDJoMThjMSAwIDItMSAyLTJWMmMwLTEtMS0yLTItMnptMCAxNS45MmMtLjAyLjAzLS4wNi4wNi0uMDguMDhIMlYyLjA4TDIuMDggMmgxNy44M2MuMDMuMDIuMDYuMDYuMDguMDh2MTMuODRIMjB6Ii8+PHBhdGggZD0iTTEwIDEyLjUxTDcuNSA5LjUgNCAxNGgxNGwtNC41LTZ6Ii8+PC9nPjwvc3ZnPg==);width:62px;height:62px\"></div><div class=\"_21YjFX _2A07HP\" style=\"background-image:url(https://rukminim1.flixcart.com/blobio/124/124/imr-202104/blobio-imr-202104_5ed4e0906678432fa30e5ad61a5e2e6c.jpg?q=90), url(data:image/svg+xml;base64,PHN2ZyB3aWR0aD0iMjIiIGhlaWdodD0iMTgiIHhtbG5zPSJodHRwOi8vd3d3LnczLm9yZy8yMDAwL3N2ZyI+PGcgZmlsbD0iIzlEOUQ5RCIgZmlsbC1ydWxlPSJub256ZXJvIj48cGF0aCBkPSJNMjAgMEgyQzEgMCAwIDEgMCAydjE0YzAgMS4xLjkgMiAyIDJoMThjMSAwIDItMSAyLTJWMmMwLTEtMS0yLTItMnptMCAxNS45MmMtLjAyLjAzLS4wNi4wNi0uMDguMDhIMlYyLjA4TDIuMDggMmgxNy44M2MuMDMuMDIuMDYuMDYuMDguMDh2MTMuODRIMjB6Ii8+PHBhdGggZD0iTTEwIDEyLjUxTDcuNSA5LjUgNCAxNGgxNGwtNC41LTZ6Ii8+PC9nPjwvc3ZnPg==);width:62px;height:62px\"></div></div><div class=\"row _3n8db9\"><div class=\"row\"><p class=\"_2sc7ZR _2V5EHH\">MD MATHIN ALI</p><svg class=\"_2a1p_T\" height=\"14\" viewbox=\"0 0 12 12\" width=\"14\" xmlns=\"http://www.w3.org/2000/svg\"><g><circle cx=\"6\" cy=\"6\" fill=\"#878787\" r=\"6\"></circle><path d=\"M3 6l2 2 4-4\" fill=\"#878787\" stroke=\"#FFF\" stroke-width=\"1.5\"></path></g></svg><p class=\"_2mcZGG\" id=\"review-79e454da-c1be-4dd7-9d1d-3a49e39dafe5\"><span>Certified Buyer</span><span>, Jogulamba District</span></p><div></div><p class=\"_2sc7ZR\">Apr, 2021</p></div><div class=\"_1e9_Zu\"><div class=\"row\"><div class=\"_27aTsS\"><div class=\"_1LmwT9\"><svg class=\"skCrcq\" height=\"15\" width=\"20\" xmlns=\"http://www.w3.org/2000/svg\"><path class=\"_1LIt4y\" d=\"M9.58.006c-.41.043-.794.32-1.01.728-.277.557-2.334 4.693-2.74 5.1-.41.407-.944.6-1.544.6v8.572h7.5c.45 0 .835-.28 1.007-.665 0 0 2.207-6.234 2.207-6.834 0-.6-.47-1.072-1.07-1.072h-3.216c-.6 0-1.07-.535-1.07-1.07 0-.537.835-3.387 1.006-3.944.17-.557-.107-1.157-.664-1.35-.15-.043-.257-.086-.407-.064zM0 6.434v8.572h2.143V6.434H0z\" fill=\"#fff\" fill-rule=\"evenodd\"></path></svg><span class=\"_3c3Px5\">73</span></div><div class=\"_1LmwT9 pkR4jH\"><svg class=\"skCrcq pkR4jH\" height=\"15\" width=\"20\" xmlns=\"http://www.w3.org/2000/svg\"><path class=\"_1LIt4y\" d=\"M9.58.006c-.41.043-.794.32-1.01.728-.277.557-2.334 4.693-2.74 5.1-.41.407-.944.6-1.544.6v8.572h7.5c.45 0 .835-.28 1.007-.665 0 0 2.207-6.234 2.207-6.834 0-.6-.47-1.072-1.07-1.072h-3.216c-.6 0-1.07-.535-1.07-1.07 0-.537.835-3.387 1.006-3.944.17-.557-.107-1.157-.664-1.35-.15-.043-.257-.086-.407-.064zM0 6.434v8.572h2.143V6.434H0z\" fill=\"#fff\" fill-rule=\"evenodd\"></path></svg><span class=\"_3c3Px5\">25</span></div></div><div class=\"_2bmov8\"><svg class=\"_2UvOBb\" height=\"11\" viewbox=\"0 0 16 27\" width=\"6\" xmlns=\"http://www.w3.org/2000/svg\"><path class=\"_2aPE6f\" d=\"M16 23.207L6.11 13.161 16 3.093 12.955 0 0 13.161l12.955 13.161z\" fill=\"#fff\"></path></svg><div class=\"_3E8aIl _38dCuf\"><div class=\"_3XCI6U\"><a href=\"/reviews/COMFZHZFZFFBJBHH:57?reviewId=79e454da-c1be-4dd7-9d1d-3a49e39dafe5\"><span>Permalink</span></a></div><div class=\"_3XCI6U _2b2z-j\"><span>Report Abuse</span></div></div></div></div></div></div></div></div></div></div><div class=\"_1AtVbE col-12-12\"><div class=\"_27M-vq\"><div class=\"col\"><div class=\"col _2wzgFH K0kLPL\"><div class=\"row\"><div class=\"_3LWZlK _1BLPMq\">5<img class=\"_1wB99o\" src=\"data:image/svg+xml;base64,PHN2ZyB4bWxucz0iaHR0cDovL3d3dy53My5vcmcvMjAwMC9zdmciIHdpZHRoPSIxMyIgaGVpZ2h0PSIxMiI+PHBhdGggZmlsbD0iI0ZGRiIgZD0iTTYuNSA5LjQzOWwtMy42NzQgMi4yMy45NC00LjI2LTMuMjEtMi44ODMgNC4yNTQtLjQwNEw2LjUuMTEybDEuNjkgNC4wMSA0LjI1NC40MDQtMy4yMSAyLjg4Mi45NCA0LjI2eiIvPjwvc3ZnPg==\"/></div><p class=\"_2-N8zT\">Just wow!</p></div><div class=\"row\"><div class=\"t-ZTKy\"><div><div class=\"\">Good product</div><span class=\"_1H-bmy\"><span>READ MORE</span></span></div></div></div><div class=\"_2nMSwX _3oLIki\"><div class=\"_21YjFX _2A07HP\" style=\"background-image:url(https://rukminim1.flixcart.com/blobio/124/124/imr-202103/blobio-imr-202103_36f7702de9a2454693c56ed07c3e6cc6.jpg?q=90), url(data:image/svg+xml;base64,PHN2ZyB3aWR0aD0iMjIiIGhlaWdodD0iMTgiIHhtbG5zPSJodHRwOi8vd3d3LnczLm9yZy8yMDAwL3N2ZyI+PGcgZmlsbD0iIzlEOUQ5RCIgZmlsbC1ydWxlPSJub256ZXJvIj48cGF0aCBkPSJNMjAgMEgyQzEgMCAwIDEgMCAydjE0YzAgMS4xLjkgMiAyIDJoMThjMSAwIDItMSAyLTJWMmMwLTEtMS0yLTItMnptMCAxNS45MmMtLjAyLjAzLS4wNi4wNi0uMDguMDhIMlYyLjA4TDIuMDggMmgxNy44M2MuMDMuMDIuMDYuMDYuMDguMDh2MTMuODRIMjB6Ii8+PHBhdGggZD0iTTEwIDEyLjUxTDcuNSA5LjUgNCAxNGgxNGwtNC41LTZ6Ii8+PC9nPjwvc3ZnPg==);width:62px;height:62px\"></div></div><div class=\"row _3n8db9\"><div class=\"row\"><p class=\"_2sc7ZR _2V5EHH\">Aneel Sahoo</p><svg class=\"_2a1p_T\" height=\"14\" viewbox=\"0 0 12 12\" width=\"14\" xmlns=\"http://www.w3.org/2000/svg\"><g><circle cx=\"6\" cy=\"6\" fill=\"#878787\" r=\"6\"></circle><path d=\"M3 6l2 2 4-4\" fill=\"#878787\" stroke=\"#FFF\" stroke-width=\"1.5\"></path></g></svg><p class=\"_2mcZGG\" id=\"review-4469458e-bff7-4d59-a7f5-71fb57a7c3f1\"><span>Certified Buyer</span><span>, Palasa Kasibugga</span></p><div></div><p class=\"_2sc7ZR\">Mar, 2021</p></div><div class=\"_1e9_Zu\"><div class=\"row\"><div class=\"_27aTsS\"><div class=\"_1LmwT9\"><svg class=\"skCrcq\" height=\"15\" width=\"20\" xmlns=\"http://www.w3.org/2000/svg\"><path class=\"_1LIt4y\" d=\"M9.58.006c-.41.043-.794.32-1.01.728-.277.557-2.334 4.693-2.74 5.1-.41.407-.944.6-1.544.6v8.572h7.5c.45 0 .835-.28 1.007-.665 0 0 2.207-6.234 2.207-6.834 0-.6-.47-1.072-1.07-1.072h-3.216c-.6 0-1.07-.535-1.07-1.07 0-.537.835-3.387 1.006-3.944.17-.557-.107-1.157-.664-1.35-.15-.043-.257-.086-.407-.064zM0 6.434v8.572h2.143V6.434H0z\" fill=\"#fff\" fill-rule=\"evenodd\"></path></svg><span class=\"_3c3Px5\">19</span></div><div class=\"_1LmwT9 pkR4jH\"><svg class=\"skCrcq pkR4jH\" height=\"15\" width=\"20\" xmlns=\"http://www.w3.org/2000/svg\"><path class=\"_1LIt4y\" d=\"M9.58.006c-.41.043-.794.32-1.01.728-.277.557-2.334 4.693-2.74 5.1-.41.407-.944.6-1.544.6v8.572h7.5c.45 0 .835-.28 1.007-.665 0 0 2.207-6.234 2.207-6.834 0-.6-.47-1.072-1.07-1.072h-3.216c-.6 0-1.07-.535-1.07-1.07 0-.537.835-3.387 1.006-3.944.17-.557-.107-1.157-.664-1.35-.15-.043-.257-.086-.407-.064zM0 6.434v8.572h2.143V6.434H0z\" fill=\"#fff\" fill-rule=\"evenodd\"></path></svg><span class=\"_3c3Px5\">4</span></div></div><div class=\"_2bmov8\"><svg class=\"_2UvOBb\" height=\"11\" viewbox=\"0 0 16 27\" width=\"6\" xmlns=\"http://www.w3.org/2000/svg\"><path class=\"_2aPE6f\" d=\"M16 23.207L6.11 13.161 16 3.093 12.955 0 0 13.161l12.955 13.161z\" fill=\"#fff\"></path></svg><div class=\"_3E8aIl _38dCuf\"><div class=\"_3XCI6U\"><a href=\"/reviews/COMFZHZFZFFBJBHH:36?reviewId=4469458e-bff7-4d59-a7f5-71fb57a7c3f1\"><span>Permalink</span></a></div><div class=\"_3XCI6U _2b2z-j\"><span>Report Abuse</span></div></div></div></div></div></div></div></div></div></div><div class=\"_1AtVbE col-12-12\"><div><div class=\"_2MImiq _1Qnn1K\"><span>Page 1 of 22</span><nav class=\"yFHi8N\"><a class=\"ge-49M _2Kfbh8\" href=\"/hp-15s-ryzen-3-dual-core-3250u-4-gb-1-tb-hdd-windows-10-home-15s-gr0006au-thin-light-laptop/product-reviews/itmdbb2d234797b6?pid=COMFZHZFZFFBJBHH&amp;lid=LSTCOMFZHZFZFFBJBHH7WNMPE&amp;marketplace=FLIPKART&amp;page=1\">1</a><a class=\"ge-49M\" href=\"/hp-15s-ryzen-3-dual-core-3250u-4-gb-1-tb-hdd-windows-10-home-15s-gr0006au-thin-light-laptop/product-reviews/itmdbb2d234797b6?pid=COMFZHZFZFFBJBHH&amp;lid=LSTCOMFZHZFZFFBJBHH7WNMPE&amp;marketplace=FLIPKART&amp;page=2\">2</a><a class=\"ge-49M\" href=\"/hp-15s-ryzen-3-dual-core-3250u-4-gb-1-tb-hdd-windows-10-home-15s-gr0006au-thin-light-laptop/product-reviews/itmdbb2d234797b6?pid=COMFZHZFZFFBJBHH&amp;lid=LSTCOMFZHZFZFFBJBHH7WNMPE&amp;marketplace=FLIPKART&amp;page=3\">3</a><a class=\"ge-49M\" href=\"/hp-15s-ryzen-3-dual-core-3250u-4-gb-1-tb-hdd-windows-10-home-15s-gr0006au-thin-light-laptop/product-reviews/itmdbb2d234797b6?pid=COMFZHZFZFFBJBHH&amp;lid=LSTCOMFZHZFZFFBJBHH7WNMPE&amp;marketplace=FLIPKART&amp;page=4\">4</a><a class=\"ge-49M\" href=\"/hp-15s-ryzen-3-dual-core-3250u-4-gb-1-tb-hdd-windows-10-home-15s-gr0006au-thin-light-laptop/product-reviews/itmdbb2d234797b6?pid=COMFZHZFZFFBJBHH&amp;lid=LSTCOMFZHZFZFFBJBHH7WNMPE&amp;marketplace=FLIPKART&amp;page=5\">5</a><a class=\"ge-49M\" href=\"/hp-15s-ryzen-3-dual-core-3250u-4-gb-1-tb-hdd-windows-10-home-15s-gr0006au-thin-light-laptop/product-reviews/itmdbb2d234797b6?pid=COMFZHZFZFFBJBHH&amp;lid=LSTCOMFZHZFZFFBJBHH7WNMPE&amp;marketplace=FLIPKART&amp;page=6\">6</a><a class=\"ge-49M\" href=\"/hp-15s-ryzen-3-dual-core-3250u-4-gb-1-tb-hdd-windows-10-home-15s-gr0006au-thin-light-laptop/product-reviews/itmdbb2d234797b6?pid=COMFZHZFZFFBJBHH&amp;lid=LSTCOMFZHZFZFFBJBHH7WNMPE&amp;marketplace=FLIPKART&amp;page=7\">7</a><a class=\"ge-49M\" href=\"/hp-15s-ryzen-3-dual-core-3250u-4-gb-1-tb-hdd-windows-10-home-15s-gr0006au-thin-light-laptop/product-reviews/itmdbb2d234797b6?pid=COMFZHZFZFFBJBHH&amp;lid=LSTCOMFZHZFZFFBJBHH7WNMPE&amp;marketplace=FLIPKART&amp;page=8\">8</a><a class=\"ge-49M\" href=\"/hp-15s-ryzen-3-dual-core-3250u-4-gb-1-tb-hdd-windows-10-home-15s-gr0006au-thin-light-laptop/product-reviews/itmdbb2d234797b6?pid=COMFZHZFZFFBJBHH&amp;lid=LSTCOMFZHZFZFFBJBHH7WNMPE&amp;marketplace=FLIPKART&amp;page=9\">9</a><a class=\"ge-49M\" href=\"/hp-15s-ryzen-3-dual-core-3250u-4-gb-1-tb-hdd-windows-10-home-15s-gr0006au-thin-light-laptop/product-reviews/itmdbb2d234797b6?pid=COMFZHZFZFFBJBHH&amp;lid=LSTCOMFZHZFZFFBJBHH7WNMPE&amp;marketplace=FLIPKART&amp;page=10\">10</a><a class=\"_1LKTO3\" href=\"/hp-15s-ryzen-3-dual-core-3250u-4-gb-1-tb-hdd-windows-10-home-15s-gr0006au-thin-light-laptop/product-reviews/itmdbb2d234797b6?pid=COMFZHZFZFFBJBHH&amp;lid=LSTCOMFZHZFZFFBJBHH7WNMPE&amp;marketplace=FLIPKART&amp;page=2\"><span>Next</span></a></nav><span class=\"_22Tduf\"></span></div></div></div></div></div><div class=\"_39SDPR\"></div></div></div><footer class=\"_3voSl0\"><div class=\"_3rc_xQ\"><div class=\"row\"><div class=\"col gu12 _8Qljeg\"></div></div><div><div class=\"_2WErco row\"><div class=\"_2Brcj4\"><div class=\"_3-dnWo\">ABOUT</div><a class=\"_1arVWX\" href=\"/helpcentre?otracker=undefined_footer_navlinks\">Contact Us</a><a class=\"_1arVWX\" href=\"https://corporate.flipkart.net/corporate-home\">About Us</a><a class=\"_1arVWX\" href=\"https://www.flipkartcareers.com/?otracker=undefined_footer_navlinks\">Careers</a><a class=\"_1arVWX\" href=\"http://stories.flipkart.com/?otracker=undefined_footer_navlinks\">Flipkart Stories</a><a class=\"_1arVWX\" href=\"http://stories.flipkart.com/category/top-stories/news/\">Press</a><a class=\"_1arVWX\" href=\"/corporate-information\">Corporate Information</a></div><div class=\"_2Brcj4\"><div class=\"_3-dnWo\">GROUP COMPANIES</div><a class=\"_1arVWX\" href=\"https://www.myntra.com/\" rel=\"noopener noreferrer\" target=\"_blank\" title=\"Myntra\">Myntra</a><a class=\"_1arVWX\" href=\"https://www.flipkartwholesale.com/?otracker=undefined_footer_navlinks\" rel=\"noopener noreferrer\" target=\"_blank\">Flipkart Wholesale</a><a class=\"_1arVWX\" href=\"https://www.cleartrip.com/\" rel=\"noopener noreferrer\" target=\"_blank\" title=\"Cleartrip: #1 Site for Booking Flights Tickets, Buses &amp; Hotels Online\">Cleartrip</a><a class=\"_1arVWX\" href=\"https://www.shopsy.in/\" rel=\"noopener noreferrer\" target=\"_blank\" title=\"Shopsy\">Shopsy</a></div><div class=\"_2Brcj4\"><div class=\"_3-dnWo\">HELP</div><a class=\"_1arVWX\" href=\"/pages/payments\">Payments</a><a class=\"_1arVWX\" href=\"/pages/shipping\">Shipping</a><a class=\"_1arVWX\" href=\"/helpcentre?catalog=55c9c6edb000002e002c1701&amp;view=CATALOG\">Cancellation &amp; Returns</a><a class=\"_1arVWX\" href=\"/helpcentre?catalog=55c9c8e2b0000023002c1702&amp;view=CATALOG\">FAQ</a><a class=\"_1arVWX\" href=\"https://seller.flipkart.com/fiv?otracker=undefined_footer_navlinks\">Report Infringement</a></div><div class=\"_2Brcj4\"><div class=\"_3-dnWo\">CONSUMER POLICY</div><a class=\"_1arVWX\" href=\"/pages/returnpolicy?otracker=undefined_footer_navlinks\">Cancellation &amp; Returns</a><a class=\"_1arVWX\" href=\"/pages/terms?otracker=undefined_footer_navlinks\">Terms Of Use</a><a class=\"_1arVWX\" href=\"/pages/paymentsecurity?otracker=undefined_footer_navlinks\">Security</a><a class=\"_1arVWX\" href=\"/pages/privacypolicy?otracker=undefined_footer_navlinks\">Privacy</a><a class=\"_1arVWX\" href=\"/sitemap?otracker=undefined_footer_navlinks\">Sitemap</a><a class=\"_1arVWX\" href=\"/pages/grievance-redressal-mechanism?otracker=undefined_footer_navlinks\">Grievance Redressal</a><a class=\"_1arVWX\" href=\"/pages/ewaste-compliance-tnc?otracker=undefined_footer_navlinks\">EPR Compliance</a></div><div class=\"_2Brcj4 address\"><div class=\"_3JHi0r\"><div class=\"_3-dnWo\"><span>Mail Us:</span></div><div class=\"_1U1qnR\"><div class=\"_1LJS6T\"><div class=\"_2NKhZn _1U1qnR\"><p>Flipkart Internet Private Limited, </p>\n",
       "<p> Buildings Alyssa, Begonia &amp; </p>\n",
       "<p> Clove Embassy Tech Village, </p>\n",
       "<p> Outer Ring Road, Devarabeesanahalli Village, </p>\n",
       "<p> Bengaluru, 560103, </p>\n",
       "<p> Karnataka, India</p>\n",
       "</div></div></div><div class=\"_3-dnWo\">Social</div><div class=\"_2SkNJs\"><span class=\"_2iAEVP\"><a href=\"https://www.facebook.com/flipkart\"><img height=\"24\" src=\"data:image/svg+xml;base64,PHN2ZyB3aWR0aD0iMjUiIGhlaWdodD0iMjQiIHZpZXdCb3g9IjAgMCAyNSAyNCIgZmlsbD0ibm9uZSIgeG1sbnM9Imh0dHA6Ly93d3cudzMub3JnLzIwMDAvc3ZnIj4KPHBhdGggZD0iTTEyLjkzMzEgMjFDMTcuOTAzNyAyMSAyMS45MzMxIDE2Ljk3MDYgMjEuOTMzMSAxMkMyMS45MzMxIDcuMDI5NDQgMTcuOTAzNyAzIDEyLjkzMzEgM0M3Ljk2MjU0IDMgMy45MzMxMSA3LjAyOTQ0IDMuOTMzMTEgMTJDMy45MzMxMSAxNi45NzA2IDcuOTYyNTQgMjEgMTIuOTMzMSAyMVoiIHN0cm9rZT0id2hpdGUiIHN0cm9rZS13aWR0aD0iMS41IiBzdHJva2UtbGluZWNhcD0icm91bmQiIHN0cm9rZS1saW5lam9pbj0icm91bmQiLz4KPHBhdGggZD0iTTE2LjY4MzEgOC4yNUgxNS4xODMxQzE0LjU4NjQgOC4yNSAxNC4wMTQxIDguNDg3MDUgMTMuNTkyMSA4LjkwOTAxQzEzLjE3MDIgOS4zMzA5NyAxMi45MzMxIDkuOTAzMjYgMTIuOTMzMSAxMC41VjIxIiBzdHJva2U9IndoaXRlIiBzdHJva2Utd2lkdGg9IjEuNSIgc3Ryb2tlLWxpbmVjYXA9InJvdW5kIiBzdHJva2UtbGluZWpvaW49InJvdW5kIi8+CjxwYXRoIGQ9Ik05LjkzMzExIDEzLjVIMTUuOTMzMSIgc3Ryb2tlPSJ3aGl0ZSIgc3Ryb2tlLXdpZHRoPSIxLjUiIHN0cm9rZS1saW5lY2FwPSJyb3VuZCIgc3Ryb2tlLWxpbmVqb2luPSJyb3VuZCIvPgo8L3N2Zz4K\" width=\"24\"/></a></span><span class=\"_2iAEVP\"><a href=\"https://www.twitter.com/flipkart\"><img height=\"24\" src=\"data:image/svg+xml;base64,PHN2ZyB3aWR0aD0iMjQiIGhlaWdodD0iMjQiIHZpZXdCb3g9IjAgMCAyNCAyNCIgZmlsbD0ibm9uZSIgeG1sbnM9Imh0dHA6Ly93d3cudzMub3JnLzIwMDAvc3ZnIj4KPGcgY2xpcC1wYXRoPSJ1cmwoI2NsaXAwXzE4M18yMCkiPgo8cGF0aCBkPSJNMTMuNTQzNiAxMC42MTc5TDIwLjA5NzEgM0gxOC41NDQxTDEyLjg1MzcgOS42MTQ0OEw4LjMwODg3IDNIMy4wNjY4OUw5LjkzOTY0IDEzLjAwMjNMMy4wNjY4OSAyMC45OTA4SDQuNjE5OTRMMTAuNjI5MSAxNC4wMDU2TDE1LjQyODggMjAuOTkwOEgyMC42NzA4TDEzLjU0MzIgMTAuNjE3OUgxMy41NDM2Wk0xMS40MTY1IDEzLjA5MDRMMTAuNzIwMiAxMi4wOTQ0TDUuMTc5NTMgNC4xNjkxMUg3LjU2NDkxTDEyLjAzNjMgMTAuNTY1MUwxMi43MzI2IDExLjU2MTFMMTguNTQ0OCAxOS44NzQ4SDE2LjE1OTVMMTEuNDE2NSAxMy4wOTA4VjEzLjA5MDRaIiBmaWxsPSJ3aGl0ZSIvPgo8L2c+CjxkZWZzPgo8Y2xpcFBhdGggaWQ9ImNsaXAwXzE4M18yMCI+CjxyZWN0IHg9IjMuMDY2ODkiIHk9IjMiIHdpZHRoPSIxNy42MDM5IiBoZWlnaHQ9IjE4IiByeD0iMC4yIiBmaWxsPSJ3aGl0ZSIvPgo8L2NsaXBQYXRoPgo8L2RlZnM+Cjwvc3ZnPgo=\" width=\"24\"/></a></span><span class=\"_2iAEVP\"><a href=\"https://www.youtube.com/flipkart\"><img height=\"24\" src=\"//static-assets-web.flixcart.com/fk-p-linchpin-web/fk-cp-zion/img/YoutubeLogo_958b78.svg\" width=\"24\"/></a></span></div></div></div><div class=\"_2Brcj4 address\"><div class=\"_3IT4e6\"><div class=\"_3-dnWo\"><span>Registered Office Address:</span></div><div class=\"_1U1qnR\"><div class=\"_1LJS6T\"><div class=\"_2NKhZn _1U1qnR\"><p>Flipkart Internet Private Limited, </p>\n",
       "<p> Buildings Alyssa, Begonia &amp; </p>\n",
       "<p> Clove Embassy Tech Village, </p>\n",
       "<p> Outer Ring Road, Devarabeesanahalli Village, </p>\n",
       "<p> Bengaluru, 560103, </p>\n",
       "<p> Karnataka, India </p>\n",
       "<p> CIN : U51109KA2012PTC066107 </p>\n",
       "<p> Telephone: <a href=\"tel:044-45614700\">044-45614700</a></p>\n",
       "</div></div></div></div></div></div><div><div class=\"_2uz0vJ\"><div><img src=\"data:image/svg+xml;base64,PHN2ZyB4bWxucz0iaHR0cDovL3d3dy53My5vcmcvMjAwMC9zdmciIHdpZHRoPSIxNiIgaGVpZ2h0PSIxNSIgdmlld0JveD0iMCAwIDE2IDE1Ij4KICAgIDxkZWZzPgogICAgICAgIDxsaW5lYXJHcmFkaWVudCBpZD0iYSIgeDE9IjAlIiB4Mj0iODYuODc2JSIgeTE9IjAlIiB5Mj0iODAuMjAyJSI+CiAgICAgICAgICAgIDxzdG9wIG9mZnNldD0iMCUiIHN0b3AtY29sb3I9IiNGRkQ4MDAiLz4KICAgICAgICAgICAgPHN0b3Agb2Zmc2V0PSIxMDAlIiBzdG9wLWNvbG9yPSIjRkZBRjAwIi8+CiAgICAgICAgPC9saW5lYXJHcmFkaWVudD4KICAgIDwvZGVmcz4KICAgIDxnIGZpbGw9Im5vbmUiIGZpbGwtcnVsZT0iZXZlbm9kZCI+CiAgICAgICAgPHBhdGggZD0iTS0yLTJoMjB2MjBILTJ6Ii8+CiAgICAgICAgPHBhdGggZmlsbD0idXJsKCNhKSIgZmlsbC1ydWxlPSJub256ZXJvIiBkPSJNMTUuOTMgNS42MTRoLTIuOTQ4VjQuMTRjMC0uODE4LS42NTUtMS40NzMtMS40NzMtMS40NzNIOC41NmMtLjgxNyAwLTEuNDczLjY1NS0xLjQ3MyAxLjQ3M3YxLjQ3NEg0LjE0Yy0uODE4IDAtMS40NjYuNjU2LTEuNDY2IDEuNDc0bC0uMDA3IDguMTA1YzAgLjgxOC42NTUgMS40NzQgMS40NzMgMS40NzRoMTEuNzljLjgxOCAwIDEuNDc0LS42NTYgMS40NzQtMS40NzRWNy4wODhjMC0uODE4LS42NTYtMS40NzQtMS40NzQtMS40NzR6bS00LjQyMSAwSDguNTZWNC4xNGgyLjk0OHYxLjQ3NHoiIHRyYW5zZm9ybT0idHJhbnNsYXRlKC0yIC0yKSIvPgogICAgPC9nPgo8L3N2Zz4K\"/><a href=\"https://seller.flipkart.com/?utm_source=fkwebsite&amp;utm_medium=websitedirect\"><span class=\"hDTmm5\">Become a Seller</span></a></div><div><img src=\"data:image/svg+xml;base64,PHN2ZyB4bWxucz0iaHR0cDovL3d3dy53My5vcmcvMjAwMC9zdmciIHdpZHRoPSIxNSIgaGVpZ2h0PSIxNSIgdmlld0JveD0iMCAwIDE1IDE1Ij4KICAgIDxkZWZzPgogICAgICAgIDxsaW5lYXJHcmFkaWVudCBpZD0iYSIgeDE9IjAlIiB4Mj0iODYuODc2JSIgeTE9IjAlIiB5Mj0iODAuMjAyJSI+CiAgICAgICAgICAgIDxzdG9wIG9mZnNldD0iMCUiIHN0b3AtY29sb3I9IiNGRkQ4MDAiLz4KICAgICAgICAgICAgPHN0b3Agb2Zmc2V0PSIxMDAlIiBzdG9wLWNvbG9yPSIjRkZBRjAwIi8+CiAgICAgICAgPC9saW5lYXJHcmFkaWVudD4KICAgIDwvZGVmcz4KICAgIDxnIGZpbGw9Im5vbmUiIGZpbGwtcnVsZT0iZXZlbm9kZCI+CiAgICAgICAgPHBhdGggZD0iTS0zLTNoMjB2MjBILTN6Ii8+CiAgICAgICAgPHBhdGggZmlsbD0idXJsKCNhKSIgZmlsbC1ydWxlPSJub256ZXJvIiBkPSJNMTAuNDkyIDNDNi4zNTMgMyAzIDYuMzYgMyAxMC41YzAgNC4xNCAzLjM1MyA3LjUgNy40OTIgNy41QzE0LjY0IDE4IDE4IDE0LjY0IDE4IDEwLjUgMTggNi4zNiAxNC42NCAzIDEwLjQ5MiAzem0zLjE4IDEyTDEwLjUgMTMuMDg4IDcuMzI3IDE1bC44NC0zLjYwN0w1LjM3IDguOTdsMy42OS0uMzE1TDEwLjUgNS4yNWwxLjQ0IDMuMzk4IDMuNjkuMzE1LTIuNzk4IDIuNDIyLjg0IDMuNjE1eiIgdHJhbnNmb3JtPSJ0cmFuc2xhdGUoLTMgLTMpIi8+CiAgICA8L2c+Cjwvc3ZnPgo=\"/><a href=\"https://brands.flipkart.com\"><span class=\"hDTmm5\">Advertise</span></a></div><div><img src=\"data:image/svg+xml;base64,PHN2ZyB4bWxucz0iaHR0cDovL3d3dy53My5vcmcvMjAwMC9zdmciIHdpZHRoPSIxOCIgaGVpZ2h0PSIxNyIgdmlld0JveD0iMCAwIDE4IDE3Ij4KICAgIDxkZWZzPgogICAgICAgIDxsaW5lYXJHcmFkaWVudCBpZD0iYSIgeDE9IjAlIiB4Mj0iODYuODc2JSIgeTE9IjAlIiB5Mj0iODAuMjAyJSI+CiAgICAgICAgICAgIDxzdG9wIG9mZnNldD0iMCUiIHN0b3AtY29sb3I9IiNGRkQ4MDAiLz4KICAgICAgICAgICAgPHN0b3Agb2Zmc2V0PSIxMDAlIiBzdG9wLWNvbG9yPSIjRkZBRjAwIi8+CiAgICAgICAgPC9saW5lYXJHcmFkaWVudD4KICAgIDwvZGVmcz4KICAgIDxnIGZpbGw9Im5vbmUiIGZpbGwtcnVsZT0iZXZlbm9kZCI+CiAgICAgICAgPHBhdGggZD0iTS0xLTFoMjB2MjBILTF6Ii8+CiAgICAgICAgPHBhdGggZmlsbD0idXJsKCNhKSIgZmlsbC1ydWxlPSJub256ZXJvIiBkPSJNMTYuNjY3IDVIMTQuODVjLjA5Mi0uMjU4LjE1LS41NDIuMTUtLjgzM2EyLjQ5NyAyLjQ5NyAwIDAgMC00LjU4My0xLjM3NUwxMCAzLjM1bC0uNDE3LS41NjdBMi41MSAyLjUxIDAgMCAwIDcuNSAxLjY2N2EyLjQ5NyAyLjQ5NyAwIDAgMC0yLjUgMi41YzAgLjI5MS4wNTguNTc1LjE1LjgzM0gzLjMzM2MtLjkyNSAwLTEuNjU4Ljc0Mi0xLjY1OCAxLjY2N2wtLjAwOCA5LjE2NkExLjY2IDEuNjYgMCAwIDAgMy4zMzMgMTcuNWgxMy4zMzRhMS42NiAxLjY2IDAgMCAwIDEuNjY2LTEuNjY3VjYuNjY3QTEuNjYgMS42NiAwIDAgMCAxNi42NjcgNXptMCA2LjY2N0gzLjMzM3YtNWg0LjIzNEw1LjgzMyA5LjAyNWwxLjM1Ljk3NSAxLjk4NC0yLjdMMTAgNi4xNjdsLjgzMyAxLjEzMyAxLjk4NCAyLjcgMS4zNS0uOTc1LTEuNzM0LTIuMzU4aDQuMjM0djV6IiB0cmFuc2Zvcm09InRyYW5zbGF0ZSgtMSAtMSkiLz4KICAgIDwvZz4KPC9zdmc+Cg==\"/><a href=\"/the-gift-card-store?otracker=undefined_footer_footer_navlinks\"><span class=\"hDTmm5\">Gift Cards</span></a></div><div><img src=\"data:image/svg+xml;base64,PHN2ZyB4bWxucz0iaHR0cDovL3d3dy53My5vcmcvMjAwMC9zdmciIHdpZHRoPSIxNSIgaGVpZ2h0PSIxNSIgdmlld0JveD0iMCAwIDE1IDE1Ij4KICAgIDxkZWZzPgogICAgICAgIDxsaW5lYXJHcmFkaWVudCBpZD0iYSIgeDE9IjAlIiB4Mj0iODYuODc2JSIgeTE9IjAlIiB5Mj0iODAuMjAyJSI+CiAgICAgICAgICAgIDxzdG9wIG9mZnNldD0iMCUiIHN0b3AtY29sb3I9IiNGRkQ4MDAiLz4KICAgICAgICAgICAgPHN0b3Agb2Zmc2V0PSIxMDAlIiBzdG9wLWNvbG9yPSIjRkZBRjAwIi8+CiAgICAgICAgPC9saW5lYXJHcmFkaWVudD4KICAgIDwvZGVmcz4KICAgIDxnIGZpbGw9Im5vbmUiIGZpbGwtcnVsZT0iZXZlbm9kZCI+CiAgICAgICAgPHBhdGggZD0iTS0yLTNoMjB2MjBILTJ6Ii8+CiAgICAgICAgPHBhdGggZmlsbD0idXJsKCNhKSIgZmlsbC1ydWxlPSJub256ZXJvIiBkPSJNOS41IDNDNS4zNiAzIDIgNi4zNiAyIDEwLjUgMiAxNC42NCA1LjM2IDE4IDkuNSAxOGM0LjE0IDAgNy41LTMuMzYgNy41LTcuNUMxNyA2LjM2IDEzLjY0IDMgOS41IDN6bS43NSAxMi43NWgtMS41di0xLjVoMS41djEuNXptMS41NTMtNS44MTNsLS42NzYuNjljLS41NC41NDgtLjg3Ny45OTgtLjg3NyAyLjEyM2gtMS41di0uMzc1YzAtLjgyNS4zMzgtMS41NzUuODc3LTIuMTIzbC45My0uOTQ1Yy4yNzgtLjI3LjQ0My0uNjQ1LjQ0My0xLjA1NyAwLS44MjUtLjY3NS0xLjUtMS41LTEuNVM4IDcuNDI1IDggOC4yNUg2LjVhMyAzIDAgMSAxIDYgMGMwIC42Ni0uMjcgMS4yNi0uNjk3IDEuNjg4eiIgdHJhbnNmb3JtPSJ0cmFuc2xhdGUoLTIgLTMpIi8+CiAgICA8L2c+Cjwvc3ZnPgo=\"/><a href=\"/helpcentre?otracker=undefined_footer_footer_navlinks\"><span class=\"hDTmm5\">Help Center</span></a></div><span class=\"z3ht-w\">© 2007-<!-- -->2024<!-- --> <span>Flipkart.com</span></span><img src=\"//static-assets-web.flixcart.com/fk-p-linchpin-web/fk-cp-zion/img/payment-method_69e7ec.svg\"/></div></div></div></div></footer><div class=\"_1EcK2J _38JCdA\"><div class=\"bra6U8\"><svg class=\"_2TdLiZ\" height=\"27\" viewbox=\"0 0 16 27\" width=\"16\" xmlns=\"http://www.w3.org/2000/svg\"><path class=\"_3ZKfA2\" d=\"M16 23.207L6.11 13.161 16 3.093 12.955 0 0 13.161l12.955 13.161z\" fill=\"#fff\"></path></svg><span>Back to top</span></div></div></div></div> <script id=\"jsonLD\" nonce=\"5991165315307019647\" type=\"application/ld+json\">{}</script> <script id=\"jsonLD\" nonce=\"5991165315307019647\" type=\"application/ld+json\">{}</script><script nonce=\"5991165315307019647\" type=\"application/ld+json\">{\n",
       "    \"@context\": \"http://schema.org\",\n",
       "    \"@type\": \"WebSite\",\n",
       "    \"url\": \"http://www.flipkart.com/\",\n",
       "    \"potentialAction\": [{\n",
       "        \"@type\": \"SearchAction\",\n",
       "        \"target\": \"http://www.flipkart.com/search?q={search_term_string}\",\n",
       "        \"query-input\": \"required name=search_term_string\"\n",
       "        },{\n",
       "        \"@type\": \"SearchAction\",\n",
       "        \"target\": \"android-app://com.flipkart.android/flipkart/de_sq_seg_-search.flipkart.com-_{search_term_string}\",\n",
       "        \"query-input\": \"required name=search_term_string\"\n",
       "    }]\n",
       "}</script><script id=\"is_script\" nonce=\"5991165315307019647\">window.__INITIAL_STATE__ = {};</script> <link data-chunk=\"NavMenu\" href=\"//static-assets-web.flixcart.com/fk-p-linchpin-web/fk-cp-zion/css/NavMenu.chunk.0a28b6.css\" rel=\"stylesheet\"/> <script id=\"__LOADABLE_REQUIRED_CHUNKS__\" type=\"application/json\">[130]</script><script id=\"__LOADABLE_REQUIRED_CHUNKS___ext\" type=\"application/json\">{\"namedChunks\":[\"NavMenu\"]}</script>\n",
       "<script async=\"\" data-chunk=\"NavMenu\" src=\"//static-assets-web.flixcart.com/fk-p-linchpin-web/fk-cp-zion/js/NavMenu.chunk.2901c888.js\"></script><script nonce=\"5991165315307019647\">window.omniture={tpv:[],tl:[]};window.omniture.trackPageView=function(){window.omniture.tpv.push(arguments)};window.omniture.trackLink=function(){window.omniture.tl.push(arguments)}\n",
       "\n",
       "    if(window.location.host === 'www.flipkart.com' || /\\.store\\.flipkart\\.com/i.test(window.location.host)){\n",
       "        window.s_account = \"flipkart-prd\"; //omniture account id\n",
       "    }else{\n",
       "        window.s_account = \"flipkart-prd-test\";\n",
       "    }\n",
       "    window.s_isDesktop = true;</script><script nonce=\"5991165315307019647\">function isMobile(){\n",
       "\t\tif (!!(navigator.userAgentData && navigator.userAgentData.mobile) || navigator.userAgent.indexOf(\"Mobile\") !== -1){\n",
       "\t\t\treturn true;\n",
       "\t\t}\n",
       "\t\telse {\n",
       "\t\t\treturn false;\n",
       "\t\t}\n",
       "\t}\n",
       "\n",
       "\tif ('serviceWorker' in navigator && !isMobile()) {\n",
       "\t\tnavigator.serviceWorker.register('/sw.js').then(function(registration) {\n",
       "\t\t\tconsole.log('ServiceWorker registration successful with scope: ', registration.scope);\n",
       "\t\t\tnavigator.onLine && navigator.serviceWorker.controller && navigator.serviceWorker.controller.postMessage('BANDWIDTH_COMPUTE');\n",
       "\t\t\tnavigator.serviceWorker.addEventListener('message', function (event) {\n",
       "\t\t\t\ttry {\n",
       "\t\t\t\t\tconst bandwidthData = JSON.parse(event.data);\n",
       "\t\t\t\t\tif (bandwidthData && bandwidthData.data) {\n",
       "\t\t\t\t\t\twindow.bandwidth = bandwidthData.data.downlink + '_' + bandwidthData.data.computeMethod + '_' + bandwidthData.data.effectiveType + '_' + bandwidthData.data.type;\n",
       "\t\t\t\t\t}\n",
       "\t\t\t\t}catch(err) {\n",
       "\t\t\t\t\tconsole.error('JSON.parse failed:', err);\n",
       "\t\t\t\t}\n",
       "\t\t\t});\n",
       "\t\t})\n",
       "\t\t.catch(function(err) {\n",
       "\t\t\tconsole.error('ServiceWorker registration failed: ', err);\n",
       "\t\t});\n",
       "\t} else if('serviceWorker' in navigator && isMobile()){\n",
       "        navigator.serviceWorker.getRegistration().then(function(registration) {\n",
       "            var serviceWorkerUnregistered=false;\n",
       "            if(registration) {\n",
       "                registration.unregister();\n",
       "                serviceWorkerUnregistered=true;\n",
       "            }\n",
       "            serviceWorkerUnregistered && window.location.reload();\n",
       "        });\n",
       "    }</script> <script async=\"\" defer=\"defer\" id=\"omni_script\" nonce=\"5991165315307019647\" src=\"///www/linchpin/batman-returns/omni/omni16.js\"></script> <script nonce=\"5991165315307019647\">window._pxAppId = 'PXgNtTli3A';</script><script async=\"\" nonce=\"5991165315307019647\" src=\"///px/gNtTli3A/init.js\"></script></body></html>>"
      ]
     },
     "execution_count": 3,
     "metadata": {},
     "output_type": "execute_result"
    }
   ],
   "source": [
    "Soup = BeautifulSoup(data,\"html.parser\")\n",
    "#print(soup)\n",
    "Soup.prettify    #Prettify the codes of the HTMl page"
   ]
  },
  {
   "cell_type": "markdown",
   "id": "0ce6f5bd",
   "metadata": {
    "id": "0ce6f5bd"
   },
   "source": [
    "STEP 3:- HTML tree traversal\n",
    "\n",
    "    Commonly Used Types Of Objects:\n",
    "    \n",
    "    (1) Tag\n",
    "    (2) Navigablestring\n",
    "    (3) Beautifulsoup\n",
    "    (4) Comment"
   ]
  },
  {
   "cell_type": "code",
   "execution_count": 4,
   "id": "87f9e064",
   "metadata": {
    "colab": {
     "base_uri": "https://localhost:8080/"
    },
    "executionInfo": {
     "elapsed": 341,
     "status": "ok",
     "timestamp": 1660286607269,
     "user": {
      "displayName": "Priyanka Awaje",
      "userId": "04948741848315503765"
     },
     "user_tz": -330
    },
    "id": "87f9e064",
    "outputId": "5fc8d7e8-e842-4392-9254-ef9f0731575b"
   },
   "outputs": [
    {
     "name": "stdout",
     "output_type": "stream",
     "text": [
      "<class 'bs4.BeautifulSoup'>\n",
      "<class 'bs4.element.Tag'>\n",
      "<class 'bs4.element.NavigableString'>\n"
     ]
    }
   ],
   "source": [
    "title = Soup.title\n",
    "print(type(Soup))           # BeautifulSoup\n",
    "print(type(title))          # Tag\n",
    "print(type(title.string))   # Navigablestring"
   ]
  },
  {
   "cell_type": "markdown",
   "id": "0797feb0",
   "metadata": {
    "id": "0797feb0"
   },
   "source": [
    "# TITLE OF THE PRODUCT"
   ]
  },
  {
   "cell_type": "code",
   "execution_count": 5,
   "id": "4e0cd8b5",
   "metadata": {
    "colab": {
     "base_uri": "https://localhost:8080/"
    },
    "executionInfo": {
     "elapsed": 170,
     "status": "ok",
     "timestamp": 1660286607270,
     "user": {
      "displayName": "Priyanka Awaje",
      "userId": "04948741848315503765"
     },
     "user_tz": -330
    },
    "id": "4e0cd8b5",
    "outputId": "0bdecbe7-3950-46f4-e230-78a97e152fa4"
   },
   "outputs": [
    {
     "data": {
      "text/plain": [
       "<title>Hp 15s Ryzen 3 Dual Core 3250u 4 Gb 1 Tb Hdd Windows 10 Home 15s Gr0006au Thin Light Laptop Reviews: Latest Review of Hp 15s Ryzen 3 Dual Core 3250u 4 Gb 1 Tb Hdd Windows 10 Home 15s Gr0006au Thin Light Laptop | Price in India | Flipkart.com</title>"
      ]
     },
     "execution_count": 5,
     "metadata": {},
     "output_type": "execute_result"
    }
   ],
   "source": [
    "title=Soup.title\n",
    "title"
   ]
  },
  {
   "cell_type": "markdown",
   "id": "0a52cd20",
   "metadata": {
    "id": "0a52cd20"
   },
   "source": [
    "(1) Check The Product Price:-"
   ]
  },
  {
   "cell_type": "code",
   "execution_count": 6,
   "id": "8757465f",
   "metadata": {
    "colab": {
     "base_uri": "https://localhost:8080/"
    },
    "executionInfo": {
     "elapsed": 169,
     "status": "ok",
     "timestamp": 1660286607271,
     "user": {
      "displayName": "Priyanka Awaje",
      "userId": "04948741848315503765"
     },
     "user_tz": -330
    },
    "id": "8757465f",
    "outputId": "a6d928ec-a28d-4be5-faca-1c5c44fd4e43"
   },
   "outputs": [
    {
     "data": {
      "text/plain": [
       "[<div class=\"_30jeq3\">₹24,187</div>]"
      ]
     },
     "execution_count": 6,
     "metadata": {},
     "output_type": "execute_result"
    }
   ],
   "source": [
    "Price = Soup.find_all(class_=\"_30jeq3\")\n",
    "Price\n"
   ]
  },
  {
   "cell_type": "code",
   "execution_count": 7,
   "id": "a887280a",
   "metadata": {},
   "outputs": [
    {
     "data": {
      "text/plain": [
       "'₹24,187'"
      ]
     },
     "execution_count": 7,
     "metadata": {},
     "output_type": "execute_result"
    }
   ],
   "source": [
    "Price[0].get_text()"
   ]
  },
  {
   "cell_type": "markdown",
   "id": "d504dd10",
   "metadata": {
    "id": "d504dd10"
   },
   "source": [
    "(2) Check The Product Price In List Form:-"
   ]
  },
  {
   "cell_type": "code",
   "execution_count": null,
   "id": "833ed6d6",
   "metadata": {
    "colab": {
     "base_uri": "https://localhost:8080/"
    },
    "executionInfo": {
     "elapsed": 167,
     "status": "ok",
     "timestamp": 1660286607272,
     "user": {
      "displayName": "Priyanka Awaje",
      "userId": "04948741848315503765"
     },
     "user_tz": -330
    },
    "id": "833ed6d6",
    "outputId": "f19c4b95-2a57-4e6b-9688-bb625e3e836d"
   },
   "outputs": [],
   "source": [
    "\n"
   ]
  },
  {
   "cell_type": "markdown",
   "id": "5193027e",
   "metadata": {
    "id": "5193027e"
   },
   "source": [
    "(3) Get All The Customers Names In This HTML Page:-"
   ]
  },
  {
   "cell_type": "code",
   "execution_count": 8,
   "id": "7eaafd1b",
   "metadata": {
    "colab": {
     "base_uri": "https://localhost:8080/"
    },
    "executionInfo": {
     "elapsed": 165,
     "status": "ok",
     "timestamp": 1660286607273,
     "user": {
      "displayName": "Priyanka Awaje",
      "userId": "04948741848315503765"
     },
     "user_tz": -330
    },
    "id": "7eaafd1b",
    "outputId": "3e27012d-2dd0-41c2-900c-6846fa5a2de1"
   },
   "outputs": [
    {
     "name": "stdout",
     "output_type": "stream",
     "text": [
      "<class 'list'>\n",
      "[<p class=\"_2sc7ZR _2V5EHH\">Anoop Mathew</p>, <p class=\"_2sc7ZR _2V5EHH\">Vivek Raturi</p>, <p class=\"_2sc7ZR _2V5EHH\">Vaibhav Bharati</p>, <p class=\"_2sc7ZR _2V5EHH\">Flipkart Customer</p>, <p class=\"_2sc7ZR _2V5EHH\">Anand Amirtharaj</p>, <p class=\"_2sc7ZR _2V5EHH\">Gurudev  Nayak </p>, <p class=\"_2sc7ZR _2V5EHH\">Sayani  Banerjee </p>, <p class=\"_2sc7ZR _2V5EHH\">Shivani  Pankaj</p>, <p class=\"_2sc7ZR _2V5EHH\">MD MATHIN ALI</p>, <p class=\"_2sc7ZR _2V5EHH\">Aneel Sahoo</p>]\n"
     ]
    },
    {
     "data": {
      "text/plain": [
       "10"
      ]
     },
     "execution_count": 8,
     "metadata": {},
     "output_type": "execute_result"
    }
   ],
   "source": [
    "names = Soup.find_all(class_=\"_2sc7ZR _2V5EHH\")\n",
    "names=list(names)\n",
    "print(type(names))\n",
    "print(names)\n",
    "\n",
    "len(names)"
   ]
  },
  {
   "cell_type": "code",
   "execution_count": 9,
   "id": "d3b1fb9d",
   "metadata": {},
   "outputs": [
    {
     "data": {
      "text/plain": [
       "'Anoop Mathew'"
      ]
     },
     "execution_count": 9,
     "metadata": {},
     "output_type": "execute_result"
    }
   ],
   "source": [
    "names[0].get_text()"
   ]
  },
  {
   "cell_type": "markdown",
   "id": "9394cedc",
   "metadata": {
    "id": "9394cedc"
   },
   "source": [
    "(4) Get All The Customers Names In List Form:-"
   ]
  },
  {
   "cell_type": "code",
   "execution_count": 10,
   "id": "a72b2012",
   "metadata": {
    "colab": {
     "base_uri": "https://localhost:8080/"
    },
    "executionInfo": {
     "elapsed": 164,
     "status": "ok",
     "timestamp": 1660286607274,
     "user": {
      "displayName": "Priyanka Awaje",
      "userId": "04948741848315503765"
     },
     "user_tz": -330
    },
    "id": "a72b2012",
    "outputId": "fb9af1f0-dca2-48d5-f3cd-263c72dfa788"
   },
   "outputs": [
    {
     "data": {
      "text/plain": [
       "['Anoop Mathew',\n",
       " 'Vivek Raturi',\n",
       " 'Vaibhav Bharati',\n",
       " 'Flipkart Customer',\n",
       " 'Anand Amirtharaj',\n",
       " 'Gurudev  Nayak ',\n",
       " 'Sayani  Banerjee ',\n",
       " 'Shivani  Pankaj',\n",
       " 'MD MATHIN ALI',\n",
       " 'Aneel Sahoo']"
      ]
     },
     "execution_count": 10,
     "metadata": {},
     "output_type": "execute_result"
    }
   ],
   "source": [
    "cust_name = []\n",
    "for i in names:\n",
    "    cust_name.append(i.get_text())\n",
    "cust_name"
   ]
  },
  {
   "cell_type": "markdown",
   "id": "b8d24de0",
   "metadata": {
    "id": "b8d24de0"
   },
   "source": [
    "(5) Get All The Customers Comments On This Product:-"
   ]
  },
  {
   "cell_type": "code",
   "execution_count": 11,
   "id": "f20143b9",
   "metadata": {
    "colab": {
     "base_uri": "https://localhost:8080/"
    },
    "executionInfo": {
     "elapsed": 163,
     "status": "ok",
     "timestamp": 1660286607275,
     "user": {
      "displayName": "Priyanka Awaje",
      "userId": "04948741848315503765"
     },
     "user_tz": -330
    },
    "id": "f20143b9",
    "outputId": "6bbc725a-986b-4c41-9ebb-fe0ab185c5bc"
   },
   "outputs": [
    {
     "data": {
      "text/plain": [
       "[<p class=\"_2-N8zT\">Just wow!</p>,\n",
       " <p class=\"_2-N8zT\">Good</p>,\n",
       " <p class=\"_2-N8zT\">Very Good</p>,\n",
       " <p class=\"_2-N8zT\">Very Good</p>,\n",
       " <p class=\"_2-N8zT\">Wonderful</p>,\n",
       " <p class=\"_2-N8zT\">Mind-blowing purchase</p>,\n",
       " <p class=\"_2-N8zT\">Worth every penny</p>,\n",
       " <p class=\"_2-N8zT\">Nice product</p>,\n",
       " <p class=\"_2-N8zT\">Terrific</p>,\n",
       " <p class=\"_2-N8zT\">Just wow!</p>]"
      ]
     },
     "execution_count": 11,
     "metadata": {},
     "output_type": "execute_result"
    }
   ],
   "source": [
    "Comment = Soup.find_all(class_=\"_2-N8zT\")\n",
    "Comment"
   ]
  },
  {
   "cell_type": "markdown",
   "id": "a14b913a",
   "metadata": {
    "id": "a14b913a"
   },
   "source": [
    "(6) Get All The Customers Comments In List Form:-"
   ]
  },
  {
   "cell_type": "code",
   "execution_count": 12,
   "id": "51993c51",
   "metadata": {
    "colab": {
     "base_uri": "https://localhost:8080/"
    },
    "executionInfo": {
     "elapsed": 161,
     "status": "ok",
     "timestamp": 1660286607276,
     "user": {
      "displayName": "Priyanka Awaje",
      "userId": "04948741848315503765"
     },
     "user_tz": -330
    },
    "id": "51993c51",
    "outputId": "f3ca79ea-4332-4b7f-9dc8-85594c56396a"
   },
   "outputs": [
    {
     "data": {
      "text/plain": [
       "['Just wow!',\n",
       " 'Good',\n",
       " 'Very Good',\n",
       " 'Very Good',\n",
       " 'Wonderful',\n",
       " 'Mind-blowing purchase',\n",
       " 'Worth every penny',\n",
       " 'Nice product',\n",
       " 'Terrific',\n",
       " 'Just wow!']"
      ]
     },
     "execution_count": 12,
     "metadata": {},
     "output_type": "execute_result"
    }
   ],
   "source": [
    "Review_Comment = []\n",
    "for i in Comment:\n",
    "    Review_Comment.append(i.get_text())\n",
    "Review_Comment"
   ]
  },
  {
   "cell_type": "markdown",
   "id": "5352798d",
   "metadata": {
    "id": "5352798d"
   },
   "source": [
    "(7) Check How Much STARS Gives Customers To This Product:-\n",
    "            \n",
    "            (STARS RATING OUT OF 5 STARS)"
   ]
  },
  {
   "cell_type": "code",
   "execution_count": 13,
   "id": "3fece7ea",
   "metadata": {
    "colab": {
     "base_uri": "https://localhost:8080/"
    },
    "executionInfo": {
     "elapsed": 160,
     "status": "ok",
     "timestamp": 1660286607277,
     "user": {
      "displayName": "Priyanka Awaje",
      "userId": "04948741848315503765"
     },
     "user_tz": -330
    },
    "id": "3fece7ea",
    "outputId": "4a68c46c-d1a0-49d4-c2ed-4f83d66a7740"
   },
   "outputs": [
    {
     "data": {
      "text/plain": [
       "[<div class=\"_3LWZlK _1BLPMq\">5<img class=\"_1wB99o\" src=\"data:image/svg+xml;base64,PHN2ZyB4bWxucz0iaHR0cDovL3d3dy53My5vcmcvMjAwMC9zdmciIHdpZHRoPSIxMyIgaGVpZ2h0PSIxMiI+PHBhdGggZmlsbD0iI0ZGRiIgZD0iTTYuNSA5LjQzOWwtMy42NzQgMi4yMy45NC00LjI2LTMuMjEtMi44ODMgNC4yNTQtLjQwNEw2LjUuMTEybDEuNjkgNC4wMSA0LjI1NC40MDQtMy4yMSAyLjg4Mi45NCA0LjI2eiIvPjwvc3ZnPg==\"/></div>,\n",
       " <div class=\"_3LWZlK _1BLPMq\">3<img class=\"_1wB99o\" src=\"data:image/svg+xml;base64,PHN2ZyB4bWxucz0iaHR0cDovL3d3dy53My5vcmcvMjAwMC9zdmciIHdpZHRoPSIxMyIgaGVpZ2h0PSIxMiI+PHBhdGggZmlsbD0iI0ZGRiIgZD0iTTYuNSA5LjQzOWwtMy42NzQgMi4yMy45NC00LjI2LTMuMjEtMi44ODMgNC4yNTQtLjQwNEw2LjUuMTEybDEuNjkgNC4wMSA0LjI1NC40MDQtMy4yMSAyLjg4Mi45NCA0LjI2eiIvPjwvc3ZnPg==\"/></div>,\n",
       " <div class=\"_3LWZlK _1BLPMq\">4<img class=\"_1wB99o\" src=\"data:image/svg+xml;base64,PHN2ZyB4bWxucz0iaHR0cDovL3d3dy53My5vcmcvMjAwMC9zdmciIHdpZHRoPSIxMyIgaGVpZ2h0PSIxMiI+PHBhdGggZmlsbD0iI0ZGRiIgZD0iTTYuNSA5LjQzOWwtMy42NzQgMi4yMy45NC00LjI2LTMuMjEtMi44ODMgNC4yNTQtLjQwNEw2LjUuMTEybDEuNjkgNC4wMSA0LjI1NC40MDQtMy4yMSAyLjg4Mi45NCA0LjI2eiIvPjwvc3ZnPg==\"/></div>,\n",
       " <div class=\"_3LWZlK _1BLPMq\">4<img class=\"_1wB99o\" src=\"data:image/svg+xml;base64,PHN2ZyB4bWxucz0iaHR0cDovL3d3dy53My5vcmcvMjAwMC9zdmciIHdpZHRoPSIxMyIgaGVpZ2h0PSIxMiI+PHBhdGggZmlsbD0iI0ZGRiIgZD0iTTYuNSA5LjQzOWwtMy42NzQgMi4yMy45NC00LjI2LTMuMjEtMi44ODMgNC4yNTQtLjQwNEw2LjUuMTEybDEuNjkgNC4wMSA0LjI1NC40MDQtMy4yMSAyLjg4Mi45NCA0LjI2eiIvPjwvc3ZnPg==\"/></div>,\n",
       " <div class=\"_3LWZlK _1BLPMq\">4<img class=\"_1wB99o\" src=\"data:image/svg+xml;base64,PHN2ZyB4bWxucz0iaHR0cDovL3d3dy53My5vcmcvMjAwMC9zdmciIHdpZHRoPSIxMyIgaGVpZ2h0PSIxMiI+PHBhdGggZmlsbD0iI0ZGRiIgZD0iTTYuNSA5LjQzOWwtMy42NzQgMi4yMy45NC00LjI2LTMuMjEtMi44ODMgNC4yNTQtLjQwNEw2LjUuMTEybDEuNjkgNC4wMSA0LjI1NC40MDQtMy4yMSAyLjg4Mi45NCA0LjI2eiIvPjwvc3ZnPg==\"/></div>,\n",
       " <div class=\"_3LWZlK _1BLPMq\">5<img class=\"_1wB99o\" src=\"data:image/svg+xml;base64,PHN2ZyB4bWxucz0iaHR0cDovL3d3dy53My5vcmcvMjAwMC9zdmciIHdpZHRoPSIxMyIgaGVpZ2h0PSIxMiI+PHBhdGggZmlsbD0iI0ZGRiIgZD0iTTYuNSA5LjQzOWwtMy42NzQgMi4yMy45NC00LjI2LTMuMjEtMi44ODMgNC4yNTQtLjQwNEw2LjUuMTEybDEuNjkgNC4wMSA0LjI1NC40MDQtMy4yMSAyLjg4Mi45NCA0LjI2eiIvPjwvc3ZnPg==\"/></div>,\n",
       " <div class=\"_3LWZlK _1BLPMq\">5<img class=\"_1wB99o\" src=\"data:image/svg+xml;base64,PHN2ZyB4bWxucz0iaHR0cDovL3d3dy53My5vcmcvMjAwMC9zdmciIHdpZHRoPSIxMyIgaGVpZ2h0PSIxMiI+PHBhdGggZmlsbD0iI0ZGRiIgZD0iTTYuNSA5LjQzOWwtMy42NzQgMi4yMy45NC00LjI2LTMuMjEtMi44ODMgNC4yNTQtLjQwNEw2LjUuMTEybDEuNjkgNC4wMSA0LjI1NC40MDQtMy4yMSAyLjg4Mi45NCA0LjI2eiIvPjwvc3ZnPg==\"/></div>,\n",
       " <div class=\"_3LWZlK _1BLPMq\">4<img class=\"_1wB99o\" src=\"data:image/svg+xml;base64,PHN2ZyB4bWxucz0iaHR0cDovL3d3dy53My5vcmcvMjAwMC9zdmciIHdpZHRoPSIxMyIgaGVpZ2h0PSIxMiI+PHBhdGggZmlsbD0iI0ZGRiIgZD0iTTYuNSA5LjQzOWwtMy42NzQgMi4yMy45NC00LjI2LTMuMjEtMi44ODMgNC4yNTQtLjQwNEw2LjUuMTEybDEuNjkgNC4wMSA0LjI1NC40MDQtMy4yMSAyLjg4Mi45NCA0LjI2eiIvPjwvc3ZnPg==\"/></div>,\n",
       " <div class=\"_3LWZlK _1BLPMq\">5<img class=\"_1wB99o\" src=\"data:image/svg+xml;base64,PHN2ZyB4bWxucz0iaHR0cDovL3d3dy53My5vcmcvMjAwMC9zdmciIHdpZHRoPSIxMyIgaGVpZ2h0PSIxMiI+PHBhdGggZmlsbD0iI0ZGRiIgZD0iTTYuNSA5LjQzOWwtMy42NzQgMi4yMy45NC00LjI2LTMuMjEtMi44ODMgNC4yNTQtLjQwNEw2LjUuMTEybDEuNjkgNC4wMSA0LjI1NC40MDQtMy4yMSAyLjg4Mi45NCA0LjI2eiIvPjwvc3ZnPg==\"/></div>,\n",
       " <div class=\"_3LWZlK _1BLPMq\">5<img class=\"_1wB99o\" src=\"data:image/svg+xml;base64,PHN2ZyB4bWxucz0iaHR0cDovL3d3dy53My5vcmcvMjAwMC9zdmciIHdpZHRoPSIxMyIgaGVpZ2h0PSIxMiI+PHBhdGggZmlsbD0iI0ZGRiIgZD0iTTYuNSA5LjQzOWwtMy42NzQgMi4yMy45NC00LjI2LTMuMjEtMi44ODMgNC4yNTQtLjQwNEw2LjUuMTEybDEuNjkgNC4wMSA0LjI1NC40MDQtMy4yMSAyLjg4Mi45NCA0LjI2eiIvPjwvc3ZnPg==\"/></div>]"
      ]
     },
     "execution_count": 13,
     "metadata": {},
     "output_type": "execute_result"
    }
   ],
   "source": [
    "Stars = Soup.find_all(\"div\",class_=\"_3LWZlK _1BLPMq\")\n",
    "Stars"
   ]
  },
  {
   "cell_type": "markdown",
   "id": "ad973f2a",
   "metadata": {
    "id": "ad973f2a"
   },
   "source": [
    "(8) Check How Much STARS Gives Customers To This Product In List Form:-\n",
    "                \n",
    "                  (STARS RATING OUT OF 5 STARS)"
   ]
  },
  {
   "cell_type": "code",
   "execution_count": 14,
   "id": "8055d2f7",
   "metadata": {
    "colab": {
     "base_uri": "https://localhost:8080/"
    },
    "executionInfo": {
     "elapsed": 158,
     "status": "ok",
     "timestamp": 1660286607278,
     "user": {
      "displayName": "Priyanka Awaje",
      "userId": "04948741848315503765"
     },
     "user_tz": -330
    },
    "id": "8055d2f7",
    "outputId": "052ce4ca-ef8c-4fa7-800c-dbd70d884516"
   },
   "outputs": [
    {
     "data": {
      "text/plain": [
       "['5', '3', '4', '4', '4', '5', '5', '4', '5', '5']"
      ]
     },
     "execution_count": 14,
     "metadata": {},
     "output_type": "execute_result"
    }
   ],
   "source": [
    "Review_Stars = []\n",
    "for i in range(0,len(Stars)):\n",
    "    Review_Stars.append(Stars[i].get_text())\n",
    "Review_Stars"
   ]
  },
  {
   "cell_type": "markdown",
   "id": "34b986b6",
   "metadata": {
    "id": "34b986b6"
   },
   "source": [
    "(9) Get All The Customers Review To This Product:-"
   ]
  },
  {
   "cell_type": "code",
   "execution_count": 15,
   "id": "7c0fa47c",
   "metadata": {
    "id": "7c0fa47c"
   },
   "outputs": [
    {
     "data": {
      "text/plain": [
       "[<div class=\"t-ZTKy\"><div><div class=\"\">Awesome and nice for students and all. The favorite things is its comes with Windows and office home and student precious.</div><span class=\"_1H-bmy\"><span>READ MORE</span></span></div></div>,\n",
       " <div class=\"t-ZTKy\"><div><div class=\"\">Do not expect much :<br/>1)Very slow takes a lot of time just open a browser.<br/>2)Design is good  <br/>3)Battery backup ok.<br/>if you want to do basic editing and some gaming then go for atleast 8 GB ram and 4 core processor .</div><span class=\"_1H-bmy\"><span>READ MORE</span></span></div></div>,\n",
       " <div class=\"t-ZTKy\"><div><div class=\"\">Read carefully.. My Experience was complicated just because of boot time i.e. on/off time was too long until I didn't go for updates but once I have done all updates... I am telling you guys...Maska..hai.. Maska..<br/><br/>Superb performance.. and look wise i liked it very much. I use to play GT racing without any lag..<br/><br/>My daughter is also happy for her online studies.<br/><br/>My suggestion is that don't think twice just go for it with Flipkart.<br/><br/>Thanks flipkart for very safe and on time delivery.</div><span class=\"_1H-bmy\"><span>READ MORE</span></span></div></div>,\n",
       " <div class=\"t-ZTKy\"><div><div class=\"\">Very nice product finishing is very good.</div><span class=\"_1H-bmy\"><span>READ MORE</span></span></div></div>,\n",
       " <div class=\"t-ZTKy\"><div><div class=\"\">Compare to i3, ryzen 3 is far better in performance with 4gb ram, full Battery charged still works more than 6 hrs... No heating problem.. Display only not bad quality, rest of them are worth for this amount</div><span class=\"_1H-bmy\"><span>READ MORE</span></span></div></div>,\n",
       " <div class=\"t-ZTKy\"><div><div class=\"\">Such a awesome product by HP. according to budget.</div><span class=\"_1H-bmy\"><span>READ MORE</span></span></div></div>,\n",
       " <div class=\"t-ZTKy\"><div><div class=\"\">Nice laptop and Ryzen 3 is a good processor for multi tasking... Design and color both are good. It's better to go with this HP laptop in this price segment...</div><span class=\"_1H-bmy\"><span>READ MORE</span></span></div></div>,\n",
       " <div class=\"t-ZTKy\"><div><div class=\"\">This laptop is very light weight and I am happy!! 🙂🙂</div><span class=\"_1H-bmy\"><span>READ MORE</span></span></div></div>,\n",
       " <div class=\"t-ZTKy\"><div><div class=\"\">#Price up to mark<br/>Its wonderful product for those ,who looking for  student and domestic work<br/><br/>1)Its just my dream lappi,(laptop)<br/>2)just go for laptop,its really awesome<br/>3)I just bought it for my project and bussiness work it's awesome<br/>4)one of the best product from HP<br/>5)just price is little high ,it have to be reduced<br/>6) I loved it<br/>7) I recommend it for u,💯💯❤️</div><span class=\"_1H-bmy\"><span>READ MORE</span></span></div></div>,\n",
       " <div class=\"t-ZTKy\"><div><div class=\"\">Good product</div><span class=\"_1H-bmy\"><span>READ MORE</span></span></div></div>]"
      ]
     },
     "execution_count": 15,
     "metadata": {},
     "output_type": "execute_result"
    }
   ],
   "source": [
    "Review = Soup.find_all(\"div\",class_=\"t-ZTKy\")\n",
    "Review"
   ]
  },
  {
   "cell_type": "markdown",
   "id": "81cac599",
   "metadata": {
    "id": "81cac599"
   },
   "source": [
    "(10) Get All The Customers Review To This Product In List Form:-"
   ]
  },
  {
   "cell_type": "code",
   "execution_count": 16,
   "id": "3e020873",
   "metadata": {
    "id": "3e020873"
   },
   "outputs": [
    {
     "data": {
      "text/plain": [
       "['Awesome and nice for students and all. The favorite things is its comes with Windows and office home and student precious.READ MORE',\n",
       " 'Do not expect much :1)Very slow takes a lot of time just open a browser.2)Design is good  3)Battery backup ok.if you want to do basic editing and some gaming then go for atleast 8 GB ram and 4 core processor .READ MORE',\n",
       " \"Read carefully.. My Experience was complicated just because of boot time i.e. on/off time was too long until I didn't go for updates but once I have done all updates... I am telling you guys...Maska..hai.. Maska..Superb performance.. and look wise i liked it very much. I use to play GT racing without any lag..My daughter is also happy for her online studies.My suggestion is that don't think twice just go for it with Flipkart.Thanks flipkart for very safe and on time delivery.READ MORE\",\n",
       " 'Very nice product finishing is very good.READ MORE',\n",
       " 'Compare to i3, ryzen 3 is far better in performance with 4gb ram, full Battery charged still works more than 6 hrs... No heating problem.. Display only not bad quality, rest of them are worth for this amountREAD MORE',\n",
       " 'Such a awesome product by HP. according to budget.READ MORE',\n",
       " \"Nice laptop and Ryzen 3 is a good processor for multi tasking... Design and color both are good. It's better to go with this HP laptop in this price segment...READ MORE\",\n",
       " 'This laptop is very light weight and I am happy!! 🙂🙂READ MORE',\n",
       " \"#Price up to markIts wonderful product for those ,who looking for  student and domestic work1)Its just my dream lappi,(laptop)2)just go for laptop,its really awesome3)I just bought it for my project and bussiness work it's awesome4)one of the best product from HP5)just price is little high ,it have to be reduced6) I loved it7) I recommend it for u,💯💯❤️READ MORE\",\n",
       " 'Good productREAD MORE']"
      ]
     },
     "execution_count": 16,
     "metadata": {},
     "output_type": "execute_result"
    }
   ],
   "source": [
    "Content_Review = []\n",
    "for i in range(0,len(Review)):\n",
    "    Content_Review.append(Review[i].get_text())\n",
    "Content_Review"
   ]
  },
  {
   "cell_type": "markdown",
   "id": "4a770410",
   "metadata": {
    "id": "4a770410"
   },
   "source": [
    "(11) Get All The Anchors Tag From This HTML Page:-"
   ]
  },
  {
   "cell_type": "code",
   "execution_count": 17,
   "id": "47bf4f37",
   "metadata": {
    "id": "47bf4f37"
   },
   "outputs": [
    {
     "data": {
      "text/plain": [
       "[<a href=\"/\"><img alt=\"Flipkart\" class=\"_2xm1JU\" src=\"//static-assets-web.flixcart.com/fk-p-linchpin-web/fk-cp-zion/img/flipkart-plus_8d85f4.png\" title=\"Flipkart\" width=\"75\"/></a>,\n",
       " <a class=\"_21ljIi\" href=\"/plus\">Explore<!-- --> <span class=\"_2FVHGh\">Plus</span><img src=\"//static-assets-web.flixcart.com/fk-p-linchpin-web/fk-cp-zion/img/plus_aef861.png\" width=\"10\"/></a>,\n",
       " <a class=\"_1_3w1N\" href=\"/account/login?ret=/hp-15s-ryzen-3-dual-core-3250u-4-gb-1-tb-hdd-windows-10-home-15s-gr0006au-thin-light-laptop/product-reviews/itmdbb2d234797b6%3Fpid%3DCOMFZHZFZFFBJBHH%26lid%3DLSTCOMFZHZFZFFBJBHH7WNMPE%26marketplace%3DFLIPKART\">Login</a>,\n",
       " <a class=\"_3-PJz-\" href=\"https://seller.flipkart.com/sell-online/?utm_source=fkwebsite&amp;utm_medium=websitedirect\"><span>Become a Seller</span></a>,\n",
       " <a class=\"_3SkBxJ\" href=\"/viewcart?exploreMode=true&amp;preference=FLIPKART\"><svg class=\"V3C5bO\" height=\"14\" viewbox=\"0 0 16 16\" width=\"14\" xmlns=\"http://www.w3.org/2000/svg\"><path class=\"_1bS9ic\" d=\"M15.32 2.405H4.887C3 2.405 2.46.805 2.46.805L2.257.21C2.208.085 2.083 0 1.946 0H.336C.1 0-.064.24.024.46l.644 1.945L3.11 9.767c.047.137.175.23.32.23h8.418l-.493 1.958H3.768l.002.003c-.017 0-.033-.003-.05-.003-1.06 0-1.92.86-1.92 1.92s.86 1.92 1.92 1.92c.99 0 1.805-.75 1.91-1.712l5.55.076c.12.922.91 1.636 1.867 1.636 1.04 0 1.885-.844 1.885-1.885 0-.866-.584-1.593-1.38-1.814l2.423-8.832c.12-.433-.206-.86-.655-.86\" fill=\"#fff\"></path></svg><span>Cart</span></a>,\n",
       " <a class=\"_2rpwqI\" href=\"/hp-15s-ryzen-3-dual-core-3250u-4-gb-1-tb-hdd-windows-10-home-15s-gr0006au-thin-light-laptop/p/itmdbb2d234797b6?pid=COMFZHZFZFFBJBHH&amp;fm=organic&amp;ppt=None&amp;ppn=None&amp;ssid=nm0ww8036o0000001707826062837\" rel=\"noopener noreferrer\" target=\"_blank\" title=\"HP 15s AMD Ryzen 3 Dual Core 3250U - (4 GB/1 TB HDD/Windows 10 Home) 15s-GR0006AU Thin and Light Laptop\"><div class=\"_28_T72\"><div><div class=\"CXW8mj\" style=\"height:246px;width:246px\"><img alt=\"HP 15s AMD Ryzen 3 Dual Core 3250U - (4 GB/1 TB HDD/Windows 10 Home) 15s-GR0006AU Thin and Light Laptop\" class=\"_396cs4\" loading=\"eager\" src=\"https://rukminim2.flixcart.com/image/312/312/kk76wsw0/computer/8/2/2/hp-original-imafzhsyh6qaydrz.jpeg?q=70\"/></div></div></div></a>,\n",
       " <a class=\"s1Q9rs _2qfgz2\" href=\"/hp-15s-ryzen-3-dual-core-3250u-4-gb-1-tb-hdd-windows-10-home-15s-gr0006au-thin-light-laptop/p/itmdbb2d234797b6?pid=COMFZHZFZFFBJBHH&amp;fm=organic&amp;ppt=None&amp;ppn=None&amp;ssid=nm0ww8036o0000001707826062837\" rel=\"noopener noreferrer\" target=\"_blank\" title=\"HP 15s AMD Ryzen 3 Dual Core 3250U - (4 GB/1 TB HDD/Windows 10 Home) 15s-GR0006AU Thin and Light Laptop\">HP 15s AMD Ryzen 3 Dual Core 3250U - (4 GB/1 TB HDD/Windows 10...</a>,\n",
       " <a class=\"_203_Tp\" href=\"/hp-15s-ryzen-3-dual-core-3250u-4-gb-1-tb-hdd-windows-10-home-15s-gr0006au-thin-light-laptop/product-reviews/itmdbb2d234797b6?pid=COMFZHZFZFFBJBHH&amp;lid=LSTCOMFZHZFZFFBJBHH7WNMPE&amp;sortOrder=MOST_HELPFUL&amp;certifiedBuyer=false&amp;aid=overall\"><span class=\"_1YKVER _203_Tp\">Overall</span></a>,\n",
       " <a class=\"\" href=\"/hp-15s-ryzen-3-dual-core-3250u-4-gb-1-tb-hdd-windows-10-home-15s-gr0006au-thin-light-laptop/product-reviews/itmdbb2d234797b6?pid=COMFZHZFZFFBJBHH&amp;lid=LSTCOMFZHZFZFFBJBHH7WNMPE&amp;sortOrder=MOST_HELPFUL&amp;certifiedBuyer=false&amp;aid=bb0d522c-0d71-4218-bf8d-59f4f6d9619b\"><span class=\"_1YKVER\">Performance</span></a>,\n",
       " <a class=\"\" href=\"/hp-15s-ryzen-3-dual-core-3250u-4-gb-1-tb-hdd-windows-10-home-15s-gr0006au-thin-light-laptop/product-reviews/itmdbb2d234797b6?pid=COMFZHZFZFFBJBHH&amp;lid=LSTCOMFZHZFZFFBJBHH7WNMPE&amp;sortOrder=MOST_HELPFUL&amp;certifiedBuyer=false&amp;aid=f2b10aa8-b719-4f2e-b49e-38056d41a9a5\"><span class=\"_1YKVER\">Battery</span></a>,\n",
       " <a class=\"\" href=\"/hp-15s-ryzen-3-dual-core-3250u-4-gb-1-tb-hdd-windows-10-home-15s-gr0006au-thin-light-laptop/product-reviews/itmdbb2d234797b6?pid=COMFZHZFZFFBJBHH&amp;lid=LSTCOMFZHZFZFFBJBHH7WNMPE&amp;sortOrder=MOST_HELPFUL&amp;certifiedBuyer=false&amp;aid=a785ae91-3171-460c-a347-e08ec6e4e5c9\"><span class=\"_1YKVER\">Design</span></a>,\n",
       " <a class=\"\" href=\"/hp-15s-ryzen-3-dual-core-3250u-4-gb-1-tb-hdd-windows-10-home-15s-gr0006au-thin-light-laptop/product-reviews/itmdbb2d234797b6?pid=COMFZHZFZFFBJBHH&amp;lid=LSTCOMFZHZFZFFBJBHH7WNMPE&amp;sortOrder=MOST_HELPFUL&amp;certifiedBuyer=false&amp;aid=09d5f4d3-52b2-4a2a-a97d-c285003eb3a5\"><span class=\"_1YKVER\">Display</span></a>,\n",
       " <a class=\"\" href=\"/hp-15s-ryzen-3-dual-core-3250u-4-gb-1-tb-hdd-windows-10-home-15s-gr0006au-thin-light-laptop/product-reviews/itmdbb2d234797b6?pid=COMFZHZFZFFBJBHH&amp;lid=LSTCOMFZHZFZFFBJBHH7WNMPE&amp;sortOrder=MOST_HELPFUL&amp;certifiedBuyer=false&amp;aid=41d28ac9-025c-45d9-a8c1-8fe347ceab25\"><span class=\"_1YKVER\">Value for Money</span></a>,\n",
       " <a href=\"/reviews/COMFZHZFZFFBJBHH:11?reviewId=277157f9-da90-4a81-aaee-28703614d7fe\"><span>Permalink</span></a>,\n",
       " <a href=\"/reviews/COMFZHZFZFFBJBHH:68?reviewId=89764dce-87e3-48b9-9196-d9b061f72e8f\"><span>Permalink</span></a>,\n",
       " <a href=\"/reviews/COMFZHZFZFFBJBHH:14?reviewId=f88a17d0-9709-4071-a85c-a648a6b84275\"><span>Permalink</span></a>,\n",
       " <a href=\"/reviews/COMFZHZFZFFBJBHH:20?reviewId=0b0a3dde-4740-469e-ae8a-e5b617036966\"><span>Permalink</span></a>,\n",
       " <a href=\"/reviews/COMFZHZFZFFBJBHH:1?reviewId=d30b21bd-fd6a-4dee-8c47-2d752cc163d1\"><span>Permalink</span></a>,\n",
       " <a href=\"/reviews/COMFZHZFZFFBJBHH:25?reviewId=7b3ec907-5442-417e-bf59-5f6aac7c70b2\"><span>Permalink</span></a>,\n",
       " <a href=\"/reviews/COMFZHZFZFFBJBHH:9?reviewId=92aef6a6-9cfb-4412-b702-a9760dfb711e\"><span>Permalink</span></a>,\n",
       " <a href=\"/reviews/COMFZHZFZFFBJBHH:115?reviewId=f1ed4758-77e6-4dd8-88c2-83cf1d33f8ed\"><span>Permalink</span></a>,\n",
       " <a href=\"/reviews/COMFZHZFZFFBJBHH:57?reviewId=79e454da-c1be-4dd7-9d1d-3a49e39dafe5\"><span>Permalink</span></a>,\n",
       " <a href=\"/reviews/COMFZHZFZFFBJBHH:36?reviewId=4469458e-bff7-4d59-a7f5-71fb57a7c3f1\"><span>Permalink</span></a>,\n",
       " <a class=\"ge-49M _2Kfbh8\" href=\"/hp-15s-ryzen-3-dual-core-3250u-4-gb-1-tb-hdd-windows-10-home-15s-gr0006au-thin-light-laptop/product-reviews/itmdbb2d234797b6?pid=COMFZHZFZFFBJBHH&amp;lid=LSTCOMFZHZFZFFBJBHH7WNMPE&amp;marketplace=FLIPKART&amp;page=1\">1</a>,\n",
       " <a class=\"ge-49M\" href=\"/hp-15s-ryzen-3-dual-core-3250u-4-gb-1-tb-hdd-windows-10-home-15s-gr0006au-thin-light-laptop/product-reviews/itmdbb2d234797b6?pid=COMFZHZFZFFBJBHH&amp;lid=LSTCOMFZHZFZFFBJBHH7WNMPE&amp;marketplace=FLIPKART&amp;page=2\">2</a>,\n",
       " <a class=\"ge-49M\" href=\"/hp-15s-ryzen-3-dual-core-3250u-4-gb-1-tb-hdd-windows-10-home-15s-gr0006au-thin-light-laptop/product-reviews/itmdbb2d234797b6?pid=COMFZHZFZFFBJBHH&amp;lid=LSTCOMFZHZFZFFBJBHH7WNMPE&amp;marketplace=FLIPKART&amp;page=3\">3</a>,\n",
       " <a class=\"ge-49M\" href=\"/hp-15s-ryzen-3-dual-core-3250u-4-gb-1-tb-hdd-windows-10-home-15s-gr0006au-thin-light-laptop/product-reviews/itmdbb2d234797b6?pid=COMFZHZFZFFBJBHH&amp;lid=LSTCOMFZHZFZFFBJBHH7WNMPE&amp;marketplace=FLIPKART&amp;page=4\">4</a>,\n",
       " <a class=\"ge-49M\" href=\"/hp-15s-ryzen-3-dual-core-3250u-4-gb-1-tb-hdd-windows-10-home-15s-gr0006au-thin-light-laptop/product-reviews/itmdbb2d234797b6?pid=COMFZHZFZFFBJBHH&amp;lid=LSTCOMFZHZFZFFBJBHH7WNMPE&amp;marketplace=FLIPKART&amp;page=5\">5</a>,\n",
       " <a class=\"ge-49M\" href=\"/hp-15s-ryzen-3-dual-core-3250u-4-gb-1-tb-hdd-windows-10-home-15s-gr0006au-thin-light-laptop/product-reviews/itmdbb2d234797b6?pid=COMFZHZFZFFBJBHH&amp;lid=LSTCOMFZHZFZFFBJBHH7WNMPE&amp;marketplace=FLIPKART&amp;page=6\">6</a>,\n",
       " <a class=\"ge-49M\" href=\"/hp-15s-ryzen-3-dual-core-3250u-4-gb-1-tb-hdd-windows-10-home-15s-gr0006au-thin-light-laptop/product-reviews/itmdbb2d234797b6?pid=COMFZHZFZFFBJBHH&amp;lid=LSTCOMFZHZFZFFBJBHH7WNMPE&amp;marketplace=FLIPKART&amp;page=7\">7</a>,\n",
       " <a class=\"ge-49M\" href=\"/hp-15s-ryzen-3-dual-core-3250u-4-gb-1-tb-hdd-windows-10-home-15s-gr0006au-thin-light-laptop/product-reviews/itmdbb2d234797b6?pid=COMFZHZFZFFBJBHH&amp;lid=LSTCOMFZHZFZFFBJBHH7WNMPE&amp;marketplace=FLIPKART&amp;page=8\">8</a>,\n",
       " <a class=\"ge-49M\" href=\"/hp-15s-ryzen-3-dual-core-3250u-4-gb-1-tb-hdd-windows-10-home-15s-gr0006au-thin-light-laptop/product-reviews/itmdbb2d234797b6?pid=COMFZHZFZFFBJBHH&amp;lid=LSTCOMFZHZFZFFBJBHH7WNMPE&amp;marketplace=FLIPKART&amp;page=9\">9</a>,\n",
       " <a class=\"ge-49M\" href=\"/hp-15s-ryzen-3-dual-core-3250u-4-gb-1-tb-hdd-windows-10-home-15s-gr0006au-thin-light-laptop/product-reviews/itmdbb2d234797b6?pid=COMFZHZFZFFBJBHH&amp;lid=LSTCOMFZHZFZFFBJBHH7WNMPE&amp;marketplace=FLIPKART&amp;page=10\">10</a>,\n",
       " <a class=\"_1LKTO3\" href=\"/hp-15s-ryzen-3-dual-core-3250u-4-gb-1-tb-hdd-windows-10-home-15s-gr0006au-thin-light-laptop/product-reviews/itmdbb2d234797b6?pid=COMFZHZFZFFBJBHH&amp;lid=LSTCOMFZHZFZFFBJBHH7WNMPE&amp;marketplace=FLIPKART&amp;page=2\"><span>Next</span></a>,\n",
       " <a class=\"_1arVWX\" href=\"/helpcentre?otracker=undefined_footer_navlinks\">Contact Us</a>,\n",
       " <a class=\"_1arVWX\" href=\"https://corporate.flipkart.net/corporate-home\">About Us</a>,\n",
       " <a class=\"_1arVWX\" href=\"https://www.flipkartcareers.com/?otracker=undefined_footer_navlinks\">Careers</a>,\n",
       " <a class=\"_1arVWX\" href=\"http://stories.flipkart.com/?otracker=undefined_footer_navlinks\">Flipkart Stories</a>,\n",
       " <a class=\"_1arVWX\" href=\"http://stories.flipkart.com/category/top-stories/news/\">Press</a>,\n",
       " <a class=\"_1arVWX\" href=\"/corporate-information\">Corporate Information</a>,\n",
       " <a class=\"_1arVWX\" href=\"https://www.myntra.com/\" rel=\"noopener noreferrer\" target=\"_blank\" title=\"Myntra\">Myntra</a>,\n",
       " <a class=\"_1arVWX\" href=\"https://www.flipkartwholesale.com/?otracker=undefined_footer_navlinks\" rel=\"noopener noreferrer\" target=\"_blank\">Flipkart Wholesale</a>,\n",
       " <a class=\"_1arVWX\" href=\"https://www.cleartrip.com/\" rel=\"noopener noreferrer\" target=\"_blank\" title=\"Cleartrip: #1 Site for Booking Flights Tickets, Buses &amp; Hotels Online\">Cleartrip</a>,\n",
       " <a class=\"_1arVWX\" href=\"https://www.shopsy.in/\" rel=\"noopener noreferrer\" target=\"_blank\" title=\"Shopsy\">Shopsy</a>,\n",
       " <a class=\"_1arVWX\" href=\"/pages/payments\">Payments</a>,\n",
       " <a class=\"_1arVWX\" href=\"/pages/shipping\">Shipping</a>,\n",
       " <a class=\"_1arVWX\" href=\"/helpcentre?catalog=55c9c6edb000002e002c1701&amp;view=CATALOG\">Cancellation &amp; Returns</a>,\n",
       " <a class=\"_1arVWX\" href=\"/helpcentre?catalog=55c9c8e2b0000023002c1702&amp;view=CATALOG\">FAQ</a>,\n",
       " <a class=\"_1arVWX\" href=\"https://seller.flipkart.com/fiv?otracker=undefined_footer_navlinks\">Report Infringement</a>,\n",
       " <a class=\"_1arVWX\" href=\"/pages/returnpolicy?otracker=undefined_footer_navlinks\">Cancellation &amp; Returns</a>,\n",
       " <a class=\"_1arVWX\" href=\"/pages/terms?otracker=undefined_footer_navlinks\">Terms Of Use</a>,\n",
       " <a class=\"_1arVWX\" href=\"/pages/paymentsecurity?otracker=undefined_footer_navlinks\">Security</a>,\n",
       " <a class=\"_1arVWX\" href=\"/pages/privacypolicy?otracker=undefined_footer_navlinks\">Privacy</a>,\n",
       " <a class=\"_1arVWX\" href=\"/sitemap?otracker=undefined_footer_navlinks\">Sitemap</a>,\n",
       " <a class=\"_1arVWX\" href=\"/pages/grievance-redressal-mechanism?otracker=undefined_footer_navlinks\">Grievance Redressal</a>,\n",
       " <a class=\"_1arVWX\" href=\"/pages/ewaste-compliance-tnc?otracker=undefined_footer_navlinks\">EPR Compliance</a>,\n",
       " <a href=\"https://www.facebook.com/flipkart\"><img height=\"24\" src=\"data:image/svg+xml;base64,PHN2ZyB3aWR0aD0iMjUiIGhlaWdodD0iMjQiIHZpZXdCb3g9IjAgMCAyNSAyNCIgZmlsbD0ibm9uZSIgeG1sbnM9Imh0dHA6Ly93d3cudzMub3JnLzIwMDAvc3ZnIj4KPHBhdGggZD0iTTEyLjkzMzEgMjFDMTcuOTAzNyAyMSAyMS45MzMxIDE2Ljk3MDYgMjEuOTMzMSAxMkMyMS45MzMxIDcuMDI5NDQgMTcuOTAzNyAzIDEyLjkzMzEgM0M3Ljk2MjU0IDMgMy45MzMxMSA3LjAyOTQ0IDMuOTMzMTEgMTJDMy45MzMxMSAxNi45NzA2IDcuOTYyNTQgMjEgMTIuOTMzMSAyMVoiIHN0cm9rZT0id2hpdGUiIHN0cm9rZS13aWR0aD0iMS41IiBzdHJva2UtbGluZWNhcD0icm91bmQiIHN0cm9rZS1saW5lam9pbj0icm91bmQiLz4KPHBhdGggZD0iTTE2LjY4MzEgOC4yNUgxNS4xODMxQzE0LjU4NjQgOC4yNSAxNC4wMTQxIDguNDg3MDUgMTMuNTkyMSA4LjkwOTAxQzEzLjE3MDIgOS4zMzA5NyAxMi45MzMxIDkuOTAzMjYgMTIuOTMzMSAxMC41VjIxIiBzdHJva2U9IndoaXRlIiBzdHJva2Utd2lkdGg9IjEuNSIgc3Ryb2tlLWxpbmVjYXA9InJvdW5kIiBzdHJva2UtbGluZWpvaW49InJvdW5kIi8+CjxwYXRoIGQ9Ik05LjkzMzExIDEzLjVIMTUuOTMzMSIgc3Ryb2tlPSJ3aGl0ZSIgc3Ryb2tlLXdpZHRoPSIxLjUiIHN0cm9rZS1saW5lY2FwPSJyb3VuZCIgc3Ryb2tlLWxpbmVqb2luPSJyb3VuZCIvPgo8L3N2Zz4K\" width=\"24\"/></a>,\n",
       " <a href=\"https://www.twitter.com/flipkart\"><img height=\"24\" src=\"data:image/svg+xml;base64,PHN2ZyB3aWR0aD0iMjQiIGhlaWdodD0iMjQiIHZpZXdCb3g9IjAgMCAyNCAyNCIgZmlsbD0ibm9uZSIgeG1sbnM9Imh0dHA6Ly93d3cudzMub3JnLzIwMDAvc3ZnIj4KPGcgY2xpcC1wYXRoPSJ1cmwoI2NsaXAwXzE4M18yMCkiPgo8cGF0aCBkPSJNMTMuNTQzNiAxMC42MTc5TDIwLjA5NzEgM0gxOC41NDQxTDEyLjg1MzcgOS42MTQ0OEw4LjMwODg3IDNIMy4wNjY4OUw5LjkzOTY0IDEzLjAwMjNMMy4wNjY4OSAyMC45OTA4SDQuNjE5OTRMMTAuNjI5MSAxNC4wMDU2TDE1LjQyODggMjAuOTkwOEgyMC42NzA4TDEzLjU0MzIgMTAuNjE3OUgxMy41NDM2Wk0xMS40MTY1IDEzLjA5MDRMMTAuNzIwMiAxMi4wOTQ0TDUuMTc5NTMgNC4xNjkxMUg3LjU2NDkxTDEyLjAzNjMgMTAuNTY1MUwxMi43MzI2IDExLjU2MTFMMTguNTQ0OCAxOS44NzQ4SDE2LjE1OTVMMTEuNDE2NSAxMy4wOTA4VjEzLjA5MDRaIiBmaWxsPSJ3aGl0ZSIvPgo8L2c+CjxkZWZzPgo8Y2xpcFBhdGggaWQ9ImNsaXAwXzE4M18yMCI+CjxyZWN0IHg9IjMuMDY2ODkiIHk9IjMiIHdpZHRoPSIxNy42MDM5IiBoZWlnaHQ9IjE4IiByeD0iMC4yIiBmaWxsPSJ3aGl0ZSIvPgo8L2NsaXBQYXRoPgo8L2RlZnM+Cjwvc3ZnPgo=\" width=\"24\"/></a>,\n",
       " <a href=\"https://www.youtube.com/flipkart\"><img height=\"24\" src=\"//static-assets-web.flixcart.com/fk-p-linchpin-web/fk-cp-zion/img/YoutubeLogo_958b78.svg\" width=\"24\"/></a>,\n",
       " <a href=\"tel:044-45614700\">044-45614700</a>,\n",
       " <a href=\"https://seller.flipkart.com/?utm_source=fkwebsite&amp;utm_medium=websitedirect\"><span class=\"hDTmm5\">Become a Seller</span></a>,\n",
       " <a href=\"https://brands.flipkart.com\"><span class=\"hDTmm5\">Advertise</span></a>,\n",
       " <a href=\"/the-gift-card-store?otracker=undefined_footer_footer_navlinks\"><span class=\"hDTmm5\">Gift Cards</span></a>,\n",
       " <a href=\"/helpcentre?otracker=undefined_footer_footer_navlinks\"><span class=\"hDTmm5\">Help Center</span></a>]"
      ]
     },
     "execution_count": 17,
     "metadata": {},
     "output_type": "execute_result"
    }
   ],
   "source": [
    "anchors = Soup.find_all(\"a\")\n",
    "anchors"
   ]
  },
  {
   "cell_type": "markdown",
   "id": "1e4f6fa2",
   "metadata": {
    "id": "1e4f6fa2"
   },
   "source": [
    "(12) Get All The Links On This HTML Page:-"
   ]
  },
  {
   "cell_type": "code",
   "execution_count": 18,
   "id": "7bf29f8c",
   "metadata": {
    "id": "7bf29f8c",
    "scrolled": false
   },
   "outputs": [
    {
     "name": "stdout",
     "output_type": "stream",
     "text": [
      "https://www.flipkart.com/hp-15s-ryzen-3-dual-core-3250u-4-gb-1-tb-hdd-windows-10-home-15s-gr0006au-thin-light-laptop/product-reviews/itmdbb2d234797b6?pid=COMFZHZFZFFBJBHH&lid=LSTCOMFZHZFZFFBJBHH7WNMPE&marketplace=FLIPKART/\n",
      "https://www.flipkart.com/hp-15s-ryzen-3-dual-core-3250u-4-gb-1-tb-hdd-windows-10-home-15s-gr0006au-thin-light-laptop/product-reviews/itmdbb2d234797b6?pid=COMFZHZFZFFBJBHH&lid=LSTCOMFZHZFZFFBJBHH7WNMPE&marketplace=FLIPKART/plus\n",
      "https://www.flipkart.com/hp-15s-ryzen-3-dual-core-3250u-4-gb-1-tb-hdd-windows-10-home-15s-gr0006au-thin-light-laptop/product-reviews/itmdbb2d234797b6?pid=COMFZHZFZFFBJBHH&lid=LSTCOMFZHZFZFFBJBHH7WNMPE&marketplace=FLIPKART/account/login?ret=/hp-15s-ryzen-3-dual-core-3250u-4-gb-1-tb-hdd-windows-10-home-15s-gr0006au-thin-light-laptop/product-reviews/itmdbb2d234797b6%3Fpid%3DCOMFZHZFZFFBJBHH%26lid%3DLSTCOMFZHZFZFFBJBHH7WNMPE%26marketplace%3DFLIPKART\n",
      "https://www.flipkart.com/hp-15s-ryzen-3-dual-core-3250u-4-gb-1-tb-hdd-windows-10-home-15s-gr0006au-thin-light-laptop/product-reviews/itmdbb2d234797b6?pid=COMFZHZFZFFBJBHH&lid=LSTCOMFZHZFZFFBJBHH7WNMPE&marketplace=FLIPKARThttps://seller.flipkart.com/sell-online/?utm_source=fkwebsite&utm_medium=websitedirect\n",
      "https://www.flipkart.com/hp-15s-ryzen-3-dual-core-3250u-4-gb-1-tb-hdd-windows-10-home-15s-gr0006au-thin-light-laptop/product-reviews/itmdbb2d234797b6?pid=COMFZHZFZFFBJBHH&lid=LSTCOMFZHZFZFFBJBHH7WNMPE&marketplace=FLIPKART/viewcart?exploreMode=true&preference=FLIPKART\n",
      "https://www.flipkart.com/hp-15s-ryzen-3-dual-core-3250u-4-gb-1-tb-hdd-windows-10-home-15s-gr0006au-thin-light-laptop/product-reviews/itmdbb2d234797b6?pid=COMFZHZFZFFBJBHH&lid=LSTCOMFZHZFZFFBJBHH7WNMPE&marketplace=FLIPKART/hp-15s-ryzen-3-dual-core-3250u-4-gb-1-tb-hdd-windows-10-home-15s-gr0006au-thin-light-laptop/p/itmdbb2d234797b6?pid=COMFZHZFZFFBJBHH&fm=organic&ppt=None&ppn=None&ssid=nm0ww8036o0000001707826062837\n",
      "https://www.flipkart.com/hp-15s-ryzen-3-dual-core-3250u-4-gb-1-tb-hdd-windows-10-home-15s-gr0006au-thin-light-laptop/product-reviews/itmdbb2d234797b6?pid=COMFZHZFZFFBJBHH&lid=LSTCOMFZHZFZFFBJBHH7WNMPE&marketplace=FLIPKART/hp-15s-ryzen-3-dual-core-3250u-4-gb-1-tb-hdd-windows-10-home-15s-gr0006au-thin-light-laptop/p/itmdbb2d234797b6?pid=COMFZHZFZFFBJBHH&fm=organic&ppt=None&ppn=None&ssid=nm0ww8036o0000001707826062837\n",
      "https://www.flipkart.com/hp-15s-ryzen-3-dual-core-3250u-4-gb-1-tb-hdd-windows-10-home-15s-gr0006au-thin-light-laptop/product-reviews/itmdbb2d234797b6?pid=COMFZHZFZFFBJBHH&lid=LSTCOMFZHZFZFFBJBHH7WNMPE&marketplace=FLIPKART/hp-15s-ryzen-3-dual-core-3250u-4-gb-1-tb-hdd-windows-10-home-15s-gr0006au-thin-light-laptop/product-reviews/itmdbb2d234797b6?pid=COMFZHZFZFFBJBHH&lid=LSTCOMFZHZFZFFBJBHH7WNMPE&sortOrder=MOST_HELPFUL&certifiedBuyer=false&aid=overall\n",
      "https://www.flipkart.com/hp-15s-ryzen-3-dual-core-3250u-4-gb-1-tb-hdd-windows-10-home-15s-gr0006au-thin-light-laptop/product-reviews/itmdbb2d234797b6?pid=COMFZHZFZFFBJBHH&lid=LSTCOMFZHZFZFFBJBHH7WNMPE&marketplace=FLIPKART/hp-15s-ryzen-3-dual-core-3250u-4-gb-1-tb-hdd-windows-10-home-15s-gr0006au-thin-light-laptop/product-reviews/itmdbb2d234797b6?pid=COMFZHZFZFFBJBHH&lid=LSTCOMFZHZFZFFBJBHH7WNMPE&sortOrder=MOST_HELPFUL&certifiedBuyer=false&aid=bb0d522c-0d71-4218-bf8d-59f4f6d9619b\n",
      "https://www.flipkart.com/hp-15s-ryzen-3-dual-core-3250u-4-gb-1-tb-hdd-windows-10-home-15s-gr0006au-thin-light-laptop/product-reviews/itmdbb2d234797b6?pid=COMFZHZFZFFBJBHH&lid=LSTCOMFZHZFZFFBJBHH7WNMPE&marketplace=FLIPKART/hp-15s-ryzen-3-dual-core-3250u-4-gb-1-tb-hdd-windows-10-home-15s-gr0006au-thin-light-laptop/product-reviews/itmdbb2d234797b6?pid=COMFZHZFZFFBJBHH&lid=LSTCOMFZHZFZFFBJBHH7WNMPE&sortOrder=MOST_HELPFUL&certifiedBuyer=false&aid=f2b10aa8-b719-4f2e-b49e-38056d41a9a5\n",
      "https://www.flipkart.com/hp-15s-ryzen-3-dual-core-3250u-4-gb-1-tb-hdd-windows-10-home-15s-gr0006au-thin-light-laptop/product-reviews/itmdbb2d234797b6?pid=COMFZHZFZFFBJBHH&lid=LSTCOMFZHZFZFFBJBHH7WNMPE&marketplace=FLIPKART/hp-15s-ryzen-3-dual-core-3250u-4-gb-1-tb-hdd-windows-10-home-15s-gr0006au-thin-light-laptop/product-reviews/itmdbb2d234797b6?pid=COMFZHZFZFFBJBHH&lid=LSTCOMFZHZFZFFBJBHH7WNMPE&sortOrder=MOST_HELPFUL&certifiedBuyer=false&aid=a785ae91-3171-460c-a347-e08ec6e4e5c9\n",
      "https://www.flipkart.com/hp-15s-ryzen-3-dual-core-3250u-4-gb-1-tb-hdd-windows-10-home-15s-gr0006au-thin-light-laptop/product-reviews/itmdbb2d234797b6?pid=COMFZHZFZFFBJBHH&lid=LSTCOMFZHZFZFFBJBHH7WNMPE&marketplace=FLIPKART/hp-15s-ryzen-3-dual-core-3250u-4-gb-1-tb-hdd-windows-10-home-15s-gr0006au-thin-light-laptop/product-reviews/itmdbb2d234797b6?pid=COMFZHZFZFFBJBHH&lid=LSTCOMFZHZFZFFBJBHH7WNMPE&sortOrder=MOST_HELPFUL&certifiedBuyer=false&aid=09d5f4d3-52b2-4a2a-a97d-c285003eb3a5\n",
      "https://www.flipkart.com/hp-15s-ryzen-3-dual-core-3250u-4-gb-1-tb-hdd-windows-10-home-15s-gr0006au-thin-light-laptop/product-reviews/itmdbb2d234797b6?pid=COMFZHZFZFFBJBHH&lid=LSTCOMFZHZFZFFBJBHH7WNMPE&marketplace=FLIPKART/hp-15s-ryzen-3-dual-core-3250u-4-gb-1-tb-hdd-windows-10-home-15s-gr0006au-thin-light-laptop/product-reviews/itmdbb2d234797b6?pid=COMFZHZFZFFBJBHH&lid=LSTCOMFZHZFZFFBJBHH7WNMPE&sortOrder=MOST_HELPFUL&certifiedBuyer=false&aid=41d28ac9-025c-45d9-a8c1-8fe347ceab25\n",
      "https://www.flipkart.com/hp-15s-ryzen-3-dual-core-3250u-4-gb-1-tb-hdd-windows-10-home-15s-gr0006au-thin-light-laptop/product-reviews/itmdbb2d234797b6?pid=COMFZHZFZFFBJBHH&lid=LSTCOMFZHZFZFFBJBHH7WNMPE&marketplace=FLIPKART/reviews/COMFZHZFZFFBJBHH:11?reviewId=277157f9-da90-4a81-aaee-28703614d7fe\n",
      "https://www.flipkart.com/hp-15s-ryzen-3-dual-core-3250u-4-gb-1-tb-hdd-windows-10-home-15s-gr0006au-thin-light-laptop/product-reviews/itmdbb2d234797b6?pid=COMFZHZFZFFBJBHH&lid=LSTCOMFZHZFZFFBJBHH7WNMPE&marketplace=FLIPKART/reviews/COMFZHZFZFFBJBHH:68?reviewId=89764dce-87e3-48b9-9196-d9b061f72e8f\n",
      "https://www.flipkart.com/hp-15s-ryzen-3-dual-core-3250u-4-gb-1-tb-hdd-windows-10-home-15s-gr0006au-thin-light-laptop/product-reviews/itmdbb2d234797b6?pid=COMFZHZFZFFBJBHH&lid=LSTCOMFZHZFZFFBJBHH7WNMPE&marketplace=FLIPKART/reviews/COMFZHZFZFFBJBHH:14?reviewId=f88a17d0-9709-4071-a85c-a648a6b84275\n",
      "https://www.flipkart.com/hp-15s-ryzen-3-dual-core-3250u-4-gb-1-tb-hdd-windows-10-home-15s-gr0006au-thin-light-laptop/product-reviews/itmdbb2d234797b6?pid=COMFZHZFZFFBJBHH&lid=LSTCOMFZHZFZFFBJBHH7WNMPE&marketplace=FLIPKART/reviews/COMFZHZFZFFBJBHH:20?reviewId=0b0a3dde-4740-469e-ae8a-e5b617036966\n",
      "https://www.flipkart.com/hp-15s-ryzen-3-dual-core-3250u-4-gb-1-tb-hdd-windows-10-home-15s-gr0006au-thin-light-laptop/product-reviews/itmdbb2d234797b6?pid=COMFZHZFZFFBJBHH&lid=LSTCOMFZHZFZFFBJBHH7WNMPE&marketplace=FLIPKART/reviews/COMFZHZFZFFBJBHH:1?reviewId=d30b21bd-fd6a-4dee-8c47-2d752cc163d1\n",
      "https://www.flipkart.com/hp-15s-ryzen-3-dual-core-3250u-4-gb-1-tb-hdd-windows-10-home-15s-gr0006au-thin-light-laptop/product-reviews/itmdbb2d234797b6?pid=COMFZHZFZFFBJBHH&lid=LSTCOMFZHZFZFFBJBHH7WNMPE&marketplace=FLIPKART/reviews/COMFZHZFZFFBJBHH:25?reviewId=7b3ec907-5442-417e-bf59-5f6aac7c70b2\n",
      "https://www.flipkart.com/hp-15s-ryzen-3-dual-core-3250u-4-gb-1-tb-hdd-windows-10-home-15s-gr0006au-thin-light-laptop/product-reviews/itmdbb2d234797b6?pid=COMFZHZFZFFBJBHH&lid=LSTCOMFZHZFZFFBJBHH7WNMPE&marketplace=FLIPKART/reviews/COMFZHZFZFFBJBHH:9?reviewId=92aef6a6-9cfb-4412-b702-a9760dfb711e\n",
      "https://www.flipkart.com/hp-15s-ryzen-3-dual-core-3250u-4-gb-1-tb-hdd-windows-10-home-15s-gr0006au-thin-light-laptop/product-reviews/itmdbb2d234797b6?pid=COMFZHZFZFFBJBHH&lid=LSTCOMFZHZFZFFBJBHH7WNMPE&marketplace=FLIPKART/reviews/COMFZHZFZFFBJBHH:115?reviewId=f1ed4758-77e6-4dd8-88c2-83cf1d33f8ed\n",
      "https://www.flipkart.com/hp-15s-ryzen-3-dual-core-3250u-4-gb-1-tb-hdd-windows-10-home-15s-gr0006au-thin-light-laptop/product-reviews/itmdbb2d234797b6?pid=COMFZHZFZFFBJBHH&lid=LSTCOMFZHZFZFFBJBHH7WNMPE&marketplace=FLIPKART/reviews/COMFZHZFZFFBJBHH:57?reviewId=79e454da-c1be-4dd7-9d1d-3a49e39dafe5\n",
      "https://www.flipkart.com/hp-15s-ryzen-3-dual-core-3250u-4-gb-1-tb-hdd-windows-10-home-15s-gr0006au-thin-light-laptop/product-reviews/itmdbb2d234797b6?pid=COMFZHZFZFFBJBHH&lid=LSTCOMFZHZFZFFBJBHH7WNMPE&marketplace=FLIPKART/reviews/COMFZHZFZFFBJBHH:36?reviewId=4469458e-bff7-4d59-a7f5-71fb57a7c3f1\n",
      "https://www.flipkart.com/hp-15s-ryzen-3-dual-core-3250u-4-gb-1-tb-hdd-windows-10-home-15s-gr0006au-thin-light-laptop/product-reviews/itmdbb2d234797b6?pid=COMFZHZFZFFBJBHH&lid=LSTCOMFZHZFZFFBJBHH7WNMPE&marketplace=FLIPKART/hp-15s-ryzen-3-dual-core-3250u-4-gb-1-tb-hdd-windows-10-home-15s-gr0006au-thin-light-laptop/product-reviews/itmdbb2d234797b6?pid=COMFZHZFZFFBJBHH&lid=LSTCOMFZHZFZFFBJBHH7WNMPE&marketplace=FLIPKART&page=1\n",
      "https://www.flipkart.com/hp-15s-ryzen-3-dual-core-3250u-4-gb-1-tb-hdd-windows-10-home-15s-gr0006au-thin-light-laptop/product-reviews/itmdbb2d234797b6?pid=COMFZHZFZFFBJBHH&lid=LSTCOMFZHZFZFFBJBHH7WNMPE&marketplace=FLIPKART/hp-15s-ryzen-3-dual-core-3250u-4-gb-1-tb-hdd-windows-10-home-15s-gr0006au-thin-light-laptop/product-reviews/itmdbb2d234797b6?pid=COMFZHZFZFFBJBHH&lid=LSTCOMFZHZFZFFBJBHH7WNMPE&marketplace=FLIPKART&page=2\n",
      "https://www.flipkart.com/hp-15s-ryzen-3-dual-core-3250u-4-gb-1-tb-hdd-windows-10-home-15s-gr0006au-thin-light-laptop/product-reviews/itmdbb2d234797b6?pid=COMFZHZFZFFBJBHH&lid=LSTCOMFZHZFZFFBJBHH7WNMPE&marketplace=FLIPKART/hp-15s-ryzen-3-dual-core-3250u-4-gb-1-tb-hdd-windows-10-home-15s-gr0006au-thin-light-laptop/product-reviews/itmdbb2d234797b6?pid=COMFZHZFZFFBJBHH&lid=LSTCOMFZHZFZFFBJBHH7WNMPE&marketplace=FLIPKART&page=3\n",
      "https://www.flipkart.com/hp-15s-ryzen-3-dual-core-3250u-4-gb-1-tb-hdd-windows-10-home-15s-gr0006au-thin-light-laptop/product-reviews/itmdbb2d234797b6?pid=COMFZHZFZFFBJBHH&lid=LSTCOMFZHZFZFFBJBHH7WNMPE&marketplace=FLIPKART/hp-15s-ryzen-3-dual-core-3250u-4-gb-1-tb-hdd-windows-10-home-15s-gr0006au-thin-light-laptop/product-reviews/itmdbb2d234797b6?pid=COMFZHZFZFFBJBHH&lid=LSTCOMFZHZFZFFBJBHH7WNMPE&marketplace=FLIPKART&page=4\n",
      "https://www.flipkart.com/hp-15s-ryzen-3-dual-core-3250u-4-gb-1-tb-hdd-windows-10-home-15s-gr0006au-thin-light-laptop/product-reviews/itmdbb2d234797b6?pid=COMFZHZFZFFBJBHH&lid=LSTCOMFZHZFZFFBJBHH7WNMPE&marketplace=FLIPKART/hp-15s-ryzen-3-dual-core-3250u-4-gb-1-tb-hdd-windows-10-home-15s-gr0006au-thin-light-laptop/product-reviews/itmdbb2d234797b6?pid=COMFZHZFZFFBJBHH&lid=LSTCOMFZHZFZFFBJBHH7WNMPE&marketplace=FLIPKART&page=5\n",
      "https://www.flipkart.com/hp-15s-ryzen-3-dual-core-3250u-4-gb-1-tb-hdd-windows-10-home-15s-gr0006au-thin-light-laptop/product-reviews/itmdbb2d234797b6?pid=COMFZHZFZFFBJBHH&lid=LSTCOMFZHZFZFFBJBHH7WNMPE&marketplace=FLIPKART/hp-15s-ryzen-3-dual-core-3250u-4-gb-1-tb-hdd-windows-10-home-15s-gr0006au-thin-light-laptop/product-reviews/itmdbb2d234797b6?pid=COMFZHZFZFFBJBHH&lid=LSTCOMFZHZFZFFBJBHH7WNMPE&marketplace=FLIPKART&page=6\n",
      "https://www.flipkart.com/hp-15s-ryzen-3-dual-core-3250u-4-gb-1-tb-hdd-windows-10-home-15s-gr0006au-thin-light-laptop/product-reviews/itmdbb2d234797b6?pid=COMFZHZFZFFBJBHH&lid=LSTCOMFZHZFZFFBJBHH7WNMPE&marketplace=FLIPKART/hp-15s-ryzen-3-dual-core-3250u-4-gb-1-tb-hdd-windows-10-home-15s-gr0006au-thin-light-laptop/product-reviews/itmdbb2d234797b6?pid=COMFZHZFZFFBJBHH&lid=LSTCOMFZHZFZFFBJBHH7WNMPE&marketplace=FLIPKART&page=7\n",
      "https://www.flipkart.com/hp-15s-ryzen-3-dual-core-3250u-4-gb-1-tb-hdd-windows-10-home-15s-gr0006au-thin-light-laptop/product-reviews/itmdbb2d234797b6?pid=COMFZHZFZFFBJBHH&lid=LSTCOMFZHZFZFFBJBHH7WNMPE&marketplace=FLIPKART/hp-15s-ryzen-3-dual-core-3250u-4-gb-1-tb-hdd-windows-10-home-15s-gr0006au-thin-light-laptop/product-reviews/itmdbb2d234797b6?pid=COMFZHZFZFFBJBHH&lid=LSTCOMFZHZFZFFBJBHH7WNMPE&marketplace=FLIPKART&page=8\n",
      "https://www.flipkart.com/hp-15s-ryzen-3-dual-core-3250u-4-gb-1-tb-hdd-windows-10-home-15s-gr0006au-thin-light-laptop/product-reviews/itmdbb2d234797b6?pid=COMFZHZFZFFBJBHH&lid=LSTCOMFZHZFZFFBJBHH7WNMPE&marketplace=FLIPKART/hp-15s-ryzen-3-dual-core-3250u-4-gb-1-tb-hdd-windows-10-home-15s-gr0006au-thin-light-laptop/product-reviews/itmdbb2d234797b6?pid=COMFZHZFZFFBJBHH&lid=LSTCOMFZHZFZFFBJBHH7WNMPE&marketplace=FLIPKART&page=9\n",
      "https://www.flipkart.com/hp-15s-ryzen-3-dual-core-3250u-4-gb-1-tb-hdd-windows-10-home-15s-gr0006au-thin-light-laptop/product-reviews/itmdbb2d234797b6?pid=COMFZHZFZFFBJBHH&lid=LSTCOMFZHZFZFFBJBHH7WNMPE&marketplace=FLIPKART/hp-15s-ryzen-3-dual-core-3250u-4-gb-1-tb-hdd-windows-10-home-15s-gr0006au-thin-light-laptop/product-reviews/itmdbb2d234797b6?pid=COMFZHZFZFFBJBHH&lid=LSTCOMFZHZFZFFBJBHH7WNMPE&marketplace=FLIPKART&page=10\n",
      "https://www.flipkart.com/hp-15s-ryzen-3-dual-core-3250u-4-gb-1-tb-hdd-windows-10-home-15s-gr0006au-thin-light-laptop/product-reviews/itmdbb2d234797b6?pid=COMFZHZFZFFBJBHH&lid=LSTCOMFZHZFZFFBJBHH7WNMPE&marketplace=FLIPKART/hp-15s-ryzen-3-dual-core-3250u-4-gb-1-tb-hdd-windows-10-home-15s-gr0006au-thin-light-laptop/product-reviews/itmdbb2d234797b6?pid=COMFZHZFZFFBJBHH&lid=LSTCOMFZHZFZFFBJBHH7WNMPE&marketplace=FLIPKART&page=2\n",
      "https://www.flipkart.com/hp-15s-ryzen-3-dual-core-3250u-4-gb-1-tb-hdd-windows-10-home-15s-gr0006au-thin-light-laptop/product-reviews/itmdbb2d234797b6?pid=COMFZHZFZFFBJBHH&lid=LSTCOMFZHZFZFFBJBHH7WNMPE&marketplace=FLIPKART/helpcentre?otracker=undefined_footer_navlinks\n",
      "https://www.flipkart.com/hp-15s-ryzen-3-dual-core-3250u-4-gb-1-tb-hdd-windows-10-home-15s-gr0006au-thin-light-laptop/product-reviews/itmdbb2d234797b6?pid=COMFZHZFZFFBJBHH&lid=LSTCOMFZHZFZFFBJBHH7WNMPE&marketplace=FLIPKARThttps://corporate.flipkart.net/corporate-home\n",
      "https://www.flipkart.com/hp-15s-ryzen-3-dual-core-3250u-4-gb-1-tb-hdd-windows-10-home-15s-gr0006au-thin-light-laptop/product-reviews/itmdbb2d234797b6?pid=COMFZHZFZFFBJBHH&lid=LSTCOMFZHZFZFFBJBHH7WNMPE&marketplace=FLIPKARThttps://www.flipkartcareers.com/?otracker=undefined_footer_navlinks\n",
      "https://www.flipkart.com/hp-15s-ryzen-3-dual-core-3250u-4-gb-1-tb-hdd-windows-10-home-15s-gr0006au-thin-light-laptop/product-reviews/itmdbb2d234797b6?pid=COMFZHZFZFFBJBHH&lid=LSTCOMFZHZFZFFBJBHH7WNMPE&marketplace=FLIPKARThttp://stories.flipkart.com/?otracker=undefined_footer_navlinks\n",
      "https://www.flipkart.com/hp-15s-ryzen-3-dual-core-3250u-4-gb-1-tb-hdd-windows-10-home-15s-gr0006au-thin-light-laptop/product-reviews/itmdbb2d234797b6?pid=COMFZHZFZFFBJBHH&lid=LSTCOMFZHZFZFFBJBHH7WNMPE&marketplace=FLIPKARThttp://stories.flipkart.com/category/top-stories/news/\n",
      "https://www.flipkart.com/hp-15s-ryzen-3-dual-core-3250u-4-gb-1-tb-hdd-windows-10-home-15s-gr0006au-thin-light-laptop/product-reviews/itmdbb2d234797b6?pid=COMFZHZFZFFBJBHH&lid=LSTCOMFZHZFZFFBJBHH7WNMPE&marketplace=FLIPKART/corporate-information\n",
      "https://www.flipkart.com/hp-15s-ryzen-3-dual-core-3250u-4-gb-1-tb-hdd-windows-10-home-15s-gr0006au-thin-light-laptop/product-reviews/itmdbb2d234797b6?pid=COMFZHZFZFFBJBHH&lid=LSTCOMFZHZFZFFBJBHH7WNMPE&marketplace=FLIPKARThttps://www.myntra.com/\n",
      "https://www.flipkart.com/hp-15s-ryzen-3-dual-core-3250u-4-gb-1-tb-hdd-windows-10-home-15s-gr0006au-thin-light-laptop/product-reviews/itmdbb2d234797b6?pid=COMFZHZFZFFBJBHH&lid=LSTCOMFZHZFZFFBJBHH7WNMPE&marketplace=FLIPKARThttps://www.flipkartwholesale.com/?otracker=undefined_footer_navlinks\n",
      "https://www.flipkart.com/hp-15s-ryzen-3-dual-core-3250u-4-gb-1-tb-hdd-windows-10-home-15s-gr0006au-thin-light-laptop/product-reviews/itmdbb2d234797b6?pid=COMFZHZFZFFBJBHH&lid=LSTCOMFZHZFZFFBJBHH7WNMPE&marketplace=FLIPKARThttps://www.cleartrip.com/\n",
      "https://www.flipkart.com/hp-15s-ryzen-3-dual-core-3250u-4-gb-1-tb-hdd-windows-10-home-15s-gr0006au-thin-light-laptop/product-reviews/itmdbb2d234797b6?pid=COMFZHZFZFFBJBHH&lid=LSTCOMFZHZFZFFBJBHH7WNMPE&marketplace=FLIPKARThttps://www.shopsy.in/\n",
      "https://www.flipkart.com/hp-15s-ryzen-3-dual-core-3250u-4-gb-1-tb-hdd-windows-10-home-15s-gr0006au-thin-light-laptop/product-reviews/itmdbb2d234797b6?pid=COMFZHZFZFFBJBHH&lid=LSTCOMFZHZFZFFBJBHH7WNMPE&marketplace=FLIPKART/pages/payments\n",
      "https://www.flipkart.com/hp-15s-ryzen-3-dual-core-3250u-4-gb-1-tb-hdd-windows-10-home-15s-gr0006au-thin-light-laptop/product-reviews/itmdbb2d234797b6?pid=COMFZHZFZFFBJBHH&lid=LSTCOMFZHZFZFFBJBHH7WNMPE&marketplace=FLIPKART/pages/shipping\n",
      "https://www.flipkart.com/hp-15s-ryzen-3-dual-core-3250u-4-gb-1-tb-hdd-windows-10-home-15s-gr0006au-thin-light-laptop/product-reviews/itmdbb2d234797b6?pid=COMFZHZFZFFBJBHH&lid=LSTCOMFZHZFZFFBJBHH7WNMPE&marketplace=FLIPKART/helpcentre?catalog=55c9c6edb000002e002c1701&view=CATALOG\n",
      "https://www.flipkart.com/hp-15s-ryzen-3-dual-core-3250u-4-gb-1-tb-hdd-windows-10-home-15s-gr0006au-thin-light-laptop/product-reviews/itmdbb2d234797b6?pid=COMFZHZFZFFBJBHH&lid=LSTCOMFZHZFZFFBJBHH7WNMPE&marketplace=FLIPKART/helpcentre?catalog=55c9c8e2b0000023002c1702&view=CATALOG\n",
      "https://www.flipkart.com/hp-15s-ryzen-3-dual-core-3250u-4-gb-1-tb-hdd-windows-10-home-15s-gr0006au-thin-light-laptop/product-reviews/itmdbb2d234797b6?pid=COMFZHZFZFFBJBHH&lid=LSTCOMFZHZFZFFBJBHH7WNMPE&marketplace=FLIPKARThttps://seller.flipkart.com/fiv?otracker=undefined_footer_navlinks\n",
      "https://www.flipkart.com/hp-15s-ryzen-3-dual-core-3250u-4-gb-1-tb-hdd-windows-10-home-15s-gr0006au-thin-light-laptop/product-reviews/itmdbb2d234797b6?pid=COMFZHZFZFFBJBHH&lid=LSTCOMFZHZFZFFBJBHH7WNMPE&marketplace=FLIPKART/pages/returnpolicy?otracker=undefined_footer_navlinks\n",
      "https://www.flipkart.com/hp-15s-ryzen-3-dual-core-3250u-4-gb-1-tb-hdd-windows-10-home-15s-gr0006au-thin-light-laptop/product-reviews/itmdbb2d234797b6?pid=COMFZHZFZFFBJBHH&lid=LSTCOMFZHZFZFFBJBHH7WNMPE&marketplace=FLIPKART/pages/terms?otracker=undefined_footer_navlinks\n",
      "https://www.flipkart.com/hp-15s-ryzen-3-dual-core-3250u-4-gb-1-tb-hdd-windows-10-home-15s-gr0006au-thin-light-laptop/product-reviews/itmdbb2d234797b6?pid=COMFZHZFZFFBJBHH&lid=LSTCOMFZHZFZFFBJBHH7WNMPE&marketplace=FLIPKART/pages/paymentsecurity?otracker=undefined_footer_navlinks\n",
      "https://www.flipkart.com/hp-15s-ryzen-3-dual-core-3250u-4-gb-1-tb-hdd-windows-10-home-15s-gr0006au-thin-light-laptop/product-reviews/itmdbb2d234797b6?pid=COMFZHZFZFFBJBHH&lid=LSTCOMFZHZFZFFBJBHH7WNMPE&marketplace=FLIPKART/pages/privacypolicy?otracker=undefined_footer_navlinks\n",
      "https://www.flipkart.com/hp-15s-ryzen-3-dual-core-3250u-4-gb-1-tb-hdd-windows-10-home-15s-gr0006au-thin-light-laptop/product-reviews/itmdbb2d234797b6?pid=COMFZHZFZFFBJBHH&lid=LSTCOMFZHZFZFFBJBHH7WNMPE&marketplace=FLIPKART/sitemap?otracker=undefined_footer_navlinks\n",
      "https://www.flipkart.com/hp-15s-ryzen-3-dual-core-3250u-4-gb-1-tb-hdd-windows-10-home-15s-gr0006au-thin-light-laptop/product-reviews/itmdbb2d234797b6?pid=COMFZHZFZFFBJBHH&lid=LSTCOMFZHZFZFFBJBHH7WNMPE&marketplace=FLIPKART/pages/grievance-redressal-mechanism?otracker=undefined_footer_navlinks\n",
      "https://www.flipkart.com/hp-15s-ryzen-3-dual-core-3250u-4-gb-1-tb-hdd-windows-10-home-15s-gr0006au-thin-light-laptop/product-reviews/itmdbb2d234797b6?pid=COMFZHZFZFFBJBHH&lid=LSTCOMFZHZFZFFBJBHH7WNMPE&marketplace=FLIPKART/pages/ewaste-compliance-tnc?otracker=undefined_footer_navlinks\n",
      "https://www.flipkart.com/hp-15s-ryzen-3-dual-core-3250u-4-gb-1-tb-hdd-windows-10-home-15s-gr0006au-thin-light-laptop/product-reviews/itmdbb2d234797b6?pid=COMFZHZFZFFBJBHH&lid=LSTCOMFZHZFZFFBJBHH7WNMPE&marketplace=FLIPKARThttps://www.facebook.com/flipkart\n",
      "https://www.flipkart.com/hp-15s-ryzen-3-dual-core-3250u-4-gb-1-tb-hdd-windows-10-home-15s-gr0006au-thin-light-laptop/product-reviews/itmdbb2d234797b6?pid=COMFZHZFZFFBJBHH&lid=LSTCOMFZHZFZFFBJBHH7WNMPE&marketplace=FLIPKARThttps://www.twitter.com/flipkart\n",
      "https://www.flipkart.com/hp-15s-ryzen-3-dual-core-3250u-4-gb-1-tb-hdd-windows-10-home-15s-gr0006au-thin-light-laptop/product-reviews/itmdbb2d234797b6?pid=COMFZHZFZFFBJBHH&lid=LSTCOMFZHZFZFFBJBHH7WNMPE&marketplace=FLIPKARThttps://www.youtube.com/flipkart\n",
      "https://www.flipkart.com/hp-15s-ryzen-3-dual-core-3250u-4-gb-1-tb-hdd-windows-10-home-15s-gr0006au-thin-light-laptop/product-reviews/itmdbb2d234797b6?pid=COMFZHZFZFFBJBHH&lid=LSTCOMFZHZFZFFBJBHH7WNMPE&marketplace=FLIPKARTtel:044-45614700\n",
      "https://www.flipkart.com/hp-15s-ryzen-3-dual-core-3250u-4-gb-1-tb-hdd-windows-10-home-15s-gr0006au-thin-light-laptop/product-reviews/itmdbb2d234797b6?pid=COMFZHZFZFFBJBHH&lid=LSTCOMFZHZFZFFBJBHH7WNMPE&marketplace=FLIPKARThttps://seller.flipkart.com/?utm_source=fkwebsite&utm_medium=websitedirect\n",
      "https://www.flipkart.com/hp-15s-ryzen-3-dual-core-3250u-4-gb-1-tb-hdd-windows-10-home-15s-gr0006au-thin-light-laptop/product-reviews/itmdbb2d234797b6?pid=COMFZHZFZFFBJBHH&lid=LSTCOMFZHZFZFFBJBHH7WNMPE&marketplace=FLIPKARThttps://brands.flipkart.com\n",
      "https://www.flipkart.com/hp-15s-ryzen-3-dual-core-3250u-4-gb-1-tb-hdd-windows-10-home-15s-gr0006au-thin-light-laptop/product-reviews/itmdbb2d234797b6?pid=COMFZHZFZFFBJBHH&lid=LSTCOMFZHZFZFFBJBHH7WNMPE&marketplace=FLIPKART/the-gift-card-store?otracker=undefined_footer_footer_navlinks\n",
      "https://www.flipkart.com/hp-15s-ryzen-3-dual-core-3250u-4-gb-1-tb-hdd-windows-10-home-15s-gr0006au-thin-light-laptop/product-reviews/itmdbb2d234797b6?pid=COMFZHZFZFFBJBHH&lid=LSTCOMFZHZFZFFBJBHH7WNMPE&marketplace=FLIPKART/helpcentre?otracker=undefined_footer_footer_navlinks\n"
     ]
    }
   ],
   "source": [
    "all_links = set()\n",
    "for link in anchors:\n",
    "    if(link != \"#\"):\n",
    "        link = \"https://www.flipkart.com/hp-15s-ryzen-3-dual-core-3250u-4-gb-1-tb-hdd-windows-10-home-15s-gr0006au-thin-light-laptop/product-reviews/itmdbb2d234797b6?pid=COMFZHZFZFFBJBHH&lid=LSTCOMFZHZFZFFBJBHH7WNMPE&marketplace=FLIPKART\" +link.get(\"href\")\n",
    "        all_links.add(link)\n",
    "        print(link)"
   ]
  },
  {
   "cell_type": "markdown",
   "id": "2ca707be",
   "metadata": {
    "id": "2ca707be"
   },
   "source": [
    "(13) Get All The Likes And Dislikes To Customers Review:-"
   ]
  },
  {
   "cell_type": "code",
   "execution_count": 19,
   "id": "e2564485",
   "metadata": {
    "id": "e2564485"
   },
   "outputs": [
    {
     "data": {
      "text/plain": [
       "[<span class=\"_3c3Px5\">87</span>,\n",
       " <span class=\"_3c3Px5\">4</span>,\n",
       " <span class=\"_3c3Px5\">31</span>,\n",
       " <span class=\"_3c3Px5\">0</span>,\n",
       " <span class=\"_3c3Px5\">314</span>,\n",
       " <span class=\"_3c3Px5\">67</span>,\n",
       " <span class=\"_3c3Px5\">26</span>,\n",
       " <span class=\"_3c3Px5\">3</span>,\n",
       " <span class=\"_3c3Px5\">92</span>,\n",
       " <span class=\"_3c3Px5\">16</span>,\n",
       " <span class=\"_3c3Px5\">32</span>,\n",
       " <span class=\"_3c3Px5\">5</span>,\n",
       " <span class=\"_3c3Px5\">98</span>,\n",
       " <span class=\"_3c3Px5\">24</span>,\n",
       " <span class=\"_3c3Px5\">10</span>,\n",
       " <span class=\"_3c3Px5\">0</span>,\n",
       " <span class=\"_3c3Px5\">73</span>,\n",
       " <span class=\"_3c3Px5\">25</span>,\n",
       " <span class=\"_3c3Px5\">19</span>,\n",
       " <span class=\"_3c3Px5\">4</span>]"
      ]
     },
     "execution_count": 19,
     "metadata": {},
     "output_type": "execute_result"
    }
   ],
   "source": [
    "LikesDislikes = Soup.find_all(class_=\"_3c3Px5\")\n",
    "LikesDislikes"
   ]
  },
  {
   "cell_type": "markdown",
   "id": "c6d61436",
   "metadata": {
    "id": "c6d61436"
   },
   "source": [
    "(14) Get All The Likes And Dislikes To Customers Review In List Form:-"
   ]
  },
  {
   "cell_type": "code",
   "execution_count": 20,
   "id": "923ed7da",
   "metadata": {
    "colab": {
     "base_uri": "https://localhost:8080/"
    },
    "executionInfo": {
     "elapsed": 130,
     "status": "ok",
     "timestamp": 1660286607284,
     "user": {
      "displayName": "Priyanka Awaje",
      "userId": "04948741848315503765"
     },
     "user_tz": -330
    },
    "id": "923ed7da",
    "outputId": "4b60948d-a3eb-4f4e-a4b0-f2d53eb735e5"
   },
   "outputs": [
    {
     "data": {
      "text/plain": [
       "['87',\n",
       " '4',\n",
       " '31',\n",
       " '0',\n",
       " '314',\n",
       " '67',\n",
       " '26',\n",
       " '3',\n",
       " '92',\n",
       " '16',\n",
       " '32',\n",
       " '5',\n",
       " '98',\n",
       " '24',\n",
       " '10',\n",
       " '0',\n",
       " '73',\n",
       " '25',\n",
       " '19',\n",
       " '4']"
      ]
     },
     "execution_count": 20,
     "metadata": {},
     "output_type": "execute_result"
    }
   ],
   "source": [
    "Product_LikesDislikes = []\n",
    "for i in range(0,len(LikesDislikes)):\n",
    "    Product_LikesDislikes.append(LikesDislikes[i].get_text())\n",
    "Product_LikesDislikes"
   ]
  },
  {
   "cell_type": "code",
   "execution_count": 21,
   "id": "62d0d817",
   "metadata": {},
   "outputs": [
    {
     "name": "stdout",
     "output_type": "stream",
     "text": [
      "0\n",
      "1\n",
      "2\n",
      "3\n",
      "4\n",
      "5\n",
      "6\n",
      "7\n",
      "8\n",
      "9\n",
      "10\n",
      "11\n",
      "12\n",
      "13\n",
      "14\n",
      "15\n",
      "16\n",
      "17\n",
      "18\n",
      "19\n",
      "['87', '31', '314', '26', '92', '32', '98', '10', '73', '19']\n",
      "['4', '0', '67', '3', '16', '5', '24', '0', '25', '4']\n"
     ]
    }
   ],
   "source": [
    "like=[]\n",
    "dislike=[]\n",
    "for i in range(0,len(Product_LikesDislikes)):\n",
    "    print(i)\n",
    "    if i%2==0:\n",
    "        like.append(Product_LikesDislikes[i])\n",
    "    elif i%2!=0:\n",
    "        dislike.append(Product_LikesDislikes[i]) \n",
    "        \n",
    "print(like)\n",
    "print(dislike)\n",
    "\n",
    "    "
   ]
  },
  {
   "cell_type": "markdown",
   "id": "c64d2218",
   "metadata": {
    "id": "c64d2218"
   },
   "source": [
    "# Applying a Tabular Data Structure"
   ]
  },
  {
   "cell_type": "code",
   "execution_count": 22,
   "id": "3f384c6a",
   "metadata": {
    "id": "3f384c6a"
   },
   "outputs": [],
   "source": [
    "import pandas as pd"
   ]
  },
  {
   "cell_type": "code",
   "execution_count": 23,
   "id": "1f5a2eb2",
   "metadata": {
    "colab": {
     "base_uri": "https://localhost:8080/",
     "height": 363
    },
    "executionInfo": {
     "elapsed": 126,
     "status": "ok",
     "timestamp": 1660286607286,
     "user": {
      "displayName": "Priyanka Awaje",
      "userId": "04948741848315503765"
     },
     "user_tz": -330
    },
    "id": "1f5a2eb2",
    "outputId": "edc76376-2e2a-490d-f3d9-1899f792f100"
   },
   "outputs": [
    {
     "name": "stdout",
     "output_type": "stream",
     "text": [
      "        Customers_Name         Review_Comment Review_Stars  \\\n",
      "101       Anoop Mathew              Just wow!            5   \n",
      "102       Vivek Raturi                   Good            3   \n",
      "103    Vaibhav Bharati              Very Good            4   \n",
      "104  Flipkart Customer              Very Good            4   \n",
      "105   Anand Amirtharaj              Wonderful            4   \n",
      "106    Gurudev  Nayak   Mind-blowing purchase            5   \n",
      "107  Sayani  Banerjee       Worth every penny            5   \n",
      "108    Shivani  Pankaj           Nice product            4   \n",
      "109      MD MATHIN ALI               Terrific            5   \n",
      "110        Aneel Sahoo              Just wow!            5   \n",
      "\n",
      "                                                Review Likes Dislikes  \n",
      "101  Awesome and nice for students and all. The fav...    87        4  \n",
      "102  Do not expect much :1)Very slow takes a lot of...    31        0  \n",
      "103  Read carefully.. My Experience was complicated...   314       67  \n",
      "104  Very nice product finishing is very good.READ ...    26        3  \n",
      "105  Compare to i3, ryzen 3 is far better in perfor...    92       16  \n",
      "106  Such a awesome product by HP. according to bud...    32        5  \n",
      "107  Nice laptop and Ryzen 3 is a good processor fo...    98       24  \n",
      "108  This laptop is very light weight and I am happ...    10        0  \n",
      "109  #Price up to markIts wonderful product for tho...    73       25  \n",
      "110                              Good productREAD MORE    19        4  \n"
     ]
    }
   ],
   "source": [
    "Consolidated_data = pd.DataFrame({\"Customers_Name\": cust_name,\"Review_Comment\":Review_Comment, \"Review_Stars\":Review_Stars,\"Review\":Content_Review,\"Likes\":like,\"Dislikes\":dislike },index=range(101,111))\n",
    "print(Consolidated_data)"
   ]
  },
  {
   "cell_type": "markdown",
   "id": "8bcf3533",
   "metadata": {
    "id": "8bcf3533"
   },
   "source": [
    "# Exporting The DataSet Into a CSV File"
   ]
  },
  {
   "cell_type": "code",
   "execution_count": 24,
   "id": "40418e39",
   "metadata": {
    "id": "40418e39"
   },
   "outputs": [],
   "source": [
    "Consolidated_data.to_csv(\"Flipcart_HP_Review_11to1_.csv\")"
   ]
  },
  {
   "cell_type": "code",
   "execution_count": 25,
   "id": "d8940e45",
   "metadata": {},
   "outputs": [
    {
     "data": {
      "text/plain": [
       "'C:\\\\Users\\\\acer\\\\Downloads'"
      ]
     },
     "execution_count": 25,
     "metadata": {},
     "output_type": "execute_result"
    }
   ],
   "source": [
    "import os\n",
    "os.getcwd()"
   ]
  },
  {
   "cell_type": "code",
   "execution_count": 26,
   "id": "67d83906",
   "metadata": {
    "colab": {
     "base_uri": "https://localhost:8080/",
     "height": 363
    },
    "executionInfo": {
     "elapsed": 124,
     "status": "ok",
     "timestamp": 1660286607288,
     "user": {
      "displayName": "Priyanka Awaje",
      "userId": "04948741848315503765"
     },
     "user_tz": -330
    },
    "id": "67d83906",
    "outputId": "2382dd90-2037-4c9f-e472-a4b6ee417237"
   },
   "outputs": [
    {
     "data": {
      "text/html": [
       "<div>\n",
       "<style scoped>\n",
       "    .dataframe tbody tr th:only-of-type {\n",
       "        vertical-align: middle;\n",
       "    }\n",
       "\n",
       "    .dataframe tbody tr th {\n",
       "        vertical-align: top;\n",
       "    }\n",
       "\n",
       "    .dataframe thead th {\n",
       "        text-align: right;\n",
       "    }\n",
       "</style>\n",
       "<table border=\"1\" class=\"dataframe\">\n",
       "  <thead>\n",
       "    <tr style=\"text-align: right;\">\n",
       "      <th></th>\n",
       "      <th>Unnamed: 0</th>\n",
       "      <th>Customers_Name</th>\n",
       "      <th>Review_Comment</th>\n",
       "      <th>Review_Stars</th>\n",
       "      <th>Review</th>\n",
       "      <th>Likes</th>\n",
       "      <th>Dislikes</th>\n",
       "    </tr>\n",
       "  </thead>\n",
       "  <tbody>\n",
       "    <tr>\n",
       "      <th>5</th>\n",
       "      <td>106</td>\n",
       "      <td>Gurudev  Nayak</td>\n",
       "      <td>Mind-blowing purchase</td>\n",
       "      <td>5</td>\n",
       "      <td>Such a awesome product by HP. according to bud...</td>\n",
       "      <td>32</td>\n",
       "      <td>5</td>\n",
       "    </tr>\n",
       "    <tr>\n",
       "      <th>6</th>\n",
       "      <td>107</td>\n",
       "      <td>Sayani  Banerjee</td>\n",
       "      <td>Worth every penny</td>\n",
       "      <td>5</td>\n",
       "      <td>Nice laptop and Ryzen 3 is a good processor fo...</td>\n",
       "      <td>98</td>\n",
       "      <td>24</td>\n",
       "    </tr>\n",
       "    <tr>\n",
       "      <th>7</th>\n",
       "      <td>108</td>\n",
       "      <td>Shivani  Pankaj</td>\n",
       "      <td>Nice product</td>\n",
       "      <td>4</td>\n",
       "      <td>This laptop is very light weight and I am happ...</td>\n",
       "      <td>10</td>\n",
       "      <td>0</td>\n",
       "    </tr>\n",
       "    <tr>\n",
       "      <th>8</th>\n",
       "      <td>109</td>\n",
       "      <td>MD MATHIN ALI</td>\n",
       "      <td>Terrific</td>\n",
       "      <td>5</td>\n",
       "      <td>#Price up to markIts wonderful product for tho...</td>\n",
       "      <td>73</td>\n",
       "      <td>25</td>\n",
       "    </tr>\n",
       "    <tr>\n",
       "      <th>9</th>\n",
       "      <td>110</td>\n",
       "      <td>Aneel Sahoo</td>\n",
       "      <td>Just wow!</td>\n",
       "      <td>5</td>\n",
       "      <td>Good productREAD MORE</td>\n",
       "      <td>19</td>\n",
       "      <td>4</td>\n",
       "    </tr>\n",
       "  </tbody>\n",
       "</table>\n",
       "</div>"
      ],
      "text/plain": [
       "   Unnamed: 0     Customers_Name         Review_Comment  Review_Stars  \\\n",
       "5         106    Gurudev  Nayak   Mind-blowing purchase             5   \n",
       "6         107  Sayani  Banerjee       Worth every penny             5   \n",
       "7         108    Shivani  Pankaj           Nice product             4   \n",
       "8         109      MD MATHIN ALI               Terrific             5   \n",
       "9         110        Aneel Sahoo              Just wow!             5   \n",
       "\n",
       "                                              Review  Likes  Dislikes  \n",
       "5  Such a awesome product by HP. according to bud...     32         5  \n",
       "6  Nice laptop and Ryzen 3 is a good processor fo...     98        24  \n",
       "7  This laptop is very light weight and I am happ...     10         0  \n",
       "8  #Price up to markIts wonderful product for tho...     73        25  \n",
       "9                              Good productREAD MORE     19         4  "
      ]
     },
     "execution_count": 26,
     "metadata": {},
     "output_type": "execute_result"
    }
   ],
   "source": [
    "df1 = pd.read_csv(\"Flipcart_HP_Review_11to1_.csv\")\n",
    "df1.tail()"
   ]
  },
  {
   "cell_type": "code",
   "execution_count": 27,
   "id": "b9bf6dd3",
   "metadata": {
    "colab": {
     "base_uri": "https://localhost:8080/",
     "height": 363
    },
    "executionInfo": {
     "elapsed": 124,
     "status": "ok",
     "timestamp": 1660286607289,
     "user": {
      "displayName": "Priyanka Awaje",
      "userId": "04948741848315503765"
     },
     "user_tz": -330
    },
    "id": "b9bf6dd3",
    "outputId": "30f89fef-58f9-4ae1-d6e9-d2181901b8f3"
   },
   "outputs": [
    {
     "data": {
      "text/html": [
       "<div>\n",
       "<style scoped>\n",
       "    .dataframe tbody tr th:only-of-type {\n",
       "        vertical-align: middle;\n",
       "    }\n",
       "\n",
       "    .dataframe tbody tr th {\n",
       "        vertical-align: top;\n",
       "    }\n",
       "\n",
       "    .dataframe thead th {\n",
       "        text-align: right;\n",
       "    }\n",
       "</style>\n",
       "<table border=\"1\" class=\"dataframe\">\n",
       "  <thead>\n",
       "    <tr style=\"text-align: right;\">\n",
       "      <th></th>\n",
       "      <th>Unnamed: 0</th>\n",
       "      <th>Review_Stars</th>\n",
       "      <th>Likes</th>\n",
       "      <th>Dislikes</th>\n",
       "    </tr>\n",
       "  </thead>\n",
       "  <tbody>\n",
       "    <tr>\n",
       "      <th>count</th>\n",
       "      <td>10.00000</td>\n",
       "      <td>10.000000</td>\n",
       "      <td>10.000000</td>\n",
       "      <td>10.000000</td>\n",
       "    </tr>\n",
       "    <tr>\n",
       "      <th>mean</th>\n",
       "      <td>105.50000</td>\n",
       "      <td>4.400000</td>\n",
       "      <td>78.200000</td>\n",
       "      <td>14.800000</td>\n",
       "    </tr>\n",
       "    <tr>\n",
       "      <th>std</th>\n",
       "      <td>3.02765</td>\n",
       "      <td>0.699206</td>\n",
       "      <td>89.151307</td>\n",
       "      <td>20.606364</td>\n",
       "    </tr>\n",
       "    <tr>\n",
       "      <th>min</th>\n",
       "      <td>101.00000</td>\n",
       "      <td>3.000000</td>\n",
       "      <td>10.000000</td>\n",
       "      <td>0.000000</td>\n",
       "    </tr>\n",
       "    <tr>\n",
       "      <th>25%</th>\n",
       "      <td>103.25000</td>\n",
       "      <td>4.000000</td>\n",
       "      <td>27.250000</td>\n",
       "      <td>3.250000</td>\n",
       "    </tr>\n",
       "    <tr>\n",
       "      <th>50%</th>\n",
       "      <td>105.50000</td>\n",
       "      <td>4.500000</td>\n",
       "      <td>52.500000</td>\n",
       "      <td>4.500000</td>\n",
       "    </tr>\n",
       "    <tr>\n",
       "      <th>75%</th>\n",
       "      <td>107.75000</td>\n",
       "      <td>5.000000</td>\n",
       "      <td>90.750000</td>\n",
       "      <td>22.000000</td>\n",
       "    </tr>\n",
       "    <tr>\n",
       "      <th>max</th>\n",
       "      <td>110.00000</td>\n",
       "      <td>5.000000</td>\n",
       "      <td>314.000000</td>\n",
       "      <td>67.000000</td>\n",
       "    </tr>\n",
       "  </tbody>\n",
       "</table>\n",
       "</div>"
      ],
      "text/plain": [
       "       Unnamed: 0  Review_Stars       Likes   Dislikes\n",
       "count    10.00000     10.000000   10.000000  10.000000\n",
       "mean    105.50000      4.400000   78.200000  14.800000\n",
       "std       3.02765      0.699206   89.151307  20.606364\n",
       "min     101.00000      3.000000   10.000000   0.000000\n",
       "25%     103.25000      4.000000   27.250000   3.250000\n",
       "50%     105.50000      4.500000   52.500000   4.500000\n",
       "75%     107.75000      5.000000   90.750000  22.000000\n",
       "max     110.00000      5.000000  314.000000  67.000000"
      ]
     },
     "execution_count": 27,
     "metadata": {},
     "output_type": "execute_result"
    }
   ],
   "source": [
    "df1.describe()"
   ]
  },
  {
   "cell_type": "markdown",
   "id": "36c0a025",
   "metadata": {
    "id": "36c0a025"
   },
   "source": [
    "(16) Change The Columns Names Permanently:-"
   ]
  },
  {
   "cell_type": "code",
   "execution_count": 28,
   "id": "dd7e7dd0",
   "metadata": {
    "colab": {
     "base_uri": "https://localhost:8080/",
     "height": 363
    },
    "executionInfo": {
     "elapsed": 122,
     "status": "ok",
     "timestamp": 1660286607289,
     "user": {
      "displayName": "Priyanka Awaje",
      "userId": "04948741848315503765"
     },
     "user_tz": -330
    },
    "id": "dd7e7dd0",
    "outputId": "af388ac7-019e-4a5e-b90a-06648759a4b8"
   },
   "outputs": [
    {
     "data": {
      "text/plain": [
       "Index(['Unnamed: 0', 'Customers_Name', 'Review_Comment', 'Review_Stars',\n",
       "       'Review', 'Likes', 'Dislikes'],\n",
       "      dtype='object')"
      ]
     },
     "execution_count": 28,
     "metadata": {},
     "output_type": "execute_result"
    }
   ],
   "source": [
    "#col = [\"Customer_Names\",\"Comments\",\"Stars\",\"Customer_Review\"]\n",
    "df1.columns\n",
    "#df1"
   ]
  },
  {
   "cell_type": "markdown",
   "id": "1f2bbbb7",
   "metadata": {
    "id": "1f2bbbb7"
   },
   "source": [
    "(17) Use .head() To Find First Five Data From DataSet:-"
   ]
  },
  {
   "cell_type": "code",
   "execution_count": 29,
   "id": "5d98ea36",
   "metadata": {
    "colab": {
     "base_uri": "https://localhost:8080/",
     "height": 206
    },
    "executionInfo": {
     "elapsed": 123,
     "status": "ok",
     "timestamp": 1660286607291,
     "user": {
      "displayName": "Priyanka Awaje",
      "userId": "04948741848315503765"
     },
     "user_tz": -330
    },
    "id": "5d98ea36",
    "outputId": "6ea434c6-42d9-4f4d-b483-55de99f99cd8"
   },
   "outputs": [
    {
     "data": {
      "text/html": [
       "<div>\n",
       "<style scoped>\n",
       "    .dataframe tbody tr th:only-of-type {\n",
       "        vertical-align: middle;\n",
       "    }\n",
       "\n",
       "    .dataframe tbody tr th {\n",
       "        vertical-align: top;\n",
       "    }\n",
       "\n",
       "    .dataframe thead th {\n",
       "        text-align: right;\n",
       "    }\n",
       "</style>\n",
       "<table border=\"1\" class=\"dataframe\">\n",
       "  <thead>\n",
       "    <tr style=\"text-align: right;\">\n",
       "      <th></th>\n",
       "      <th>Unnamed: 0</th>\n",
       "      <th>Customers_Name</th>\n",
       "      <th>Review_Comment</th>\n",
       "      <th>Review_Stars</th>\n",
       "      <th>Review</th>\n",
       "      <th>Likes</th>\n",
       "      <th>Dislikes</th>\n",
       "    </tr>\n",
       "  </thead>\n",
       "  <tbody>\n",
       "    <tr>\n",
       "      <th>0</th>\n",
       "      <td>101</td>\n",
       "      <td>Anoop Mathew</td>\n",
       "      <td>Just wow!</td>\n",
       "      <td>5</td>\n",
       "      <td>Awesome and nice for students and all. The fav...</td>\n",
       "      <td>87</td>\n",
       "      <td>4</td>\n",
       "    </tr>\n",
       "    <tr>\n",
       "      <th>1</th>\n",
       "      <td>102</td>\n",
       "      <td>Vivek Raturi</td>\n",
       "      <td>Good</td>\n",
       "      <td>3</td>\n",
       "      <td>Do not expect much :1)Very slow takes a lot of...</td>\n",
       "      <td>31</td>\n",
       "      <td>0</td>\n",
       "    </tr>\n",
       "    <tr>\n",
       "      <th>2</th>\n",
       "      <td>103</td>\n",
       "      <td>Vaibhav Bharati</td>\n",
       "      <td>Very Good</td>\n",
       "      <td>4</td>\n",
       "      <td>Read carefully.. My Experience was complicated...</td>\n",
       "      <td>314</td>\n",
       "      <td>67</td>\n",
       "    </tr>\n",
       "    <tr>\n",
       "      <th>3</th>\n",
       "      <td>104</td>\n",
       "      <td>Flipkart Customer</td>\n",
       "      <td>Very Good</td>\n",
       "      <td>4</td>\n",
       "      <td>Very nice product finishing is very good.READ ...</td>\n",
       "      <td>26</td>\n",
       "      <td>3</td>\n",
       "    </tr>\n",
       "    <tr>\n",
       "      <th>4</th>\n",
       "      <td>105</td>\n",
       "      <td>Anand Amirtharaj</td>\n",
       "      <td>Wonderful</td>\n",
       "      <td>4</td>\n",
       "      <td>Compare to i3, ryzen 3 is far better in perfor...</td>\n",
       "      <td>92</td>\n",
       "      <td>16</td>\n",
       "    </tr>\n",
       "  </tbody>\n",
       "</table>\n",
       "</div>"
      ],
      "text/plain": [
       "   Unnamed: 0     Customers_Name Review_Comment  Review_Stars  \\\n",
       "0         101       Anoop Mathew      Just wow!             5   \n",
       "1         102       Vivek Raturi           Good             3   \n",
       "2         103    Vaibhav Bharati      Very Good             4   \n",
       "3         104  Flipkart Customer      Very Good             4   \n",
       "4         105   Anand Amirtharaj      Wonderful             4   \n",
       "\n",
       "                                              Review  Likes  Dislikes  \n",
       "0  Awesome and nice for students and all. The fav...     87         4  \n",
       "1  Do not expect much :1)Very slow takes a lot of...     31         0  \n",
       "2  Read carefully.. My Experience was complicated...    314        67  \n",
       "3  Very nice product finishing is very good.READ ...     26         3  \n",
       "4  Compare to i3, ryzen 3 is far better in perfor...     92        16  "
      ]
     },
     "execution_count": 29,
     "metadata": {},
     "output_type": "execute_result"
    }
   ],
   "source": [
    "df1.head()"
   ]
  },
  {
   "cell_type": "markdown",
   "id": "2ed4685d",
   "metadata": {
    "id": "2ed4685d"
   },
   "source": [
    "(18) Use .tail() To Find Last Five Data From DataSet:-"
   ]
  },
  {
   "cell_type": "code",
   "execution_count": 30,
   "id": "b89fa228",
   "metadata": {
    "colab": {
     "base_uri": "https://localhost:8080/",
     "height": 206
    },
    "executionInfo": {
     "elapsed": 122,
     "status": "ok",
     "timestamp": 1660286607292,
     "user": {
      "displayName": "Priyanka Awaje",
      "userId": "04948741848315503765"
     },
     "user_tz": -330
    },
    "id": "b89fa228",
    "outputId": "2a255268-13d3-4dc3-871f-5e18e0be84fb"
   },
   "outputs": [
    {
     "data": {
      "text/html": [
       "<div>\n",
       "<style scoped>\n",
       "    .dataframe tbody tr th:only-of-type {\n",
       "        vertical-align: middle;\n",
       "    }\n",
       "\n",
       "    .dataframe tbody tr th {\n",
       "        vertical-align: top;\n",
       "    }\n",
       "\n",
       "    .dataframe thead th {\n",
       "        text-align: right;\n",
       "    }\n",
       "</style>\n",
       "<table border=\"1\" class=\"dataframe\">\n",
       "  <thead>\n",
       "    <tr style=\"text-align: right;\">\n",
       "      <th></th>\n",
       "      <th>Unnamed: 0</th>\n",
       "      <th>Customers_Name</th>\n",
       "      <th>Review_Comment</th>\n",
       "      <th>Review_Stars</th>\n",
       "      <th>Review</th>\n",
       "      <th>Likes</th>\n",
       "      <th>Dislikes</th>\n",
       "    </tr>\n",
       "  </thead>\n",
       "  <tbody>\n",
       "    <tr>\n",
       "      <th>5</th>\n",
       "      <td>106</td>\n",
       "      <td>Gurudev  Nayak</td>\n",
       "      <td>Mind-blowing purchase</td>\n",
       "      <td>5</td>\n",
       "      <td>Such a awesome product by HP. according to bud...</td>\n",
       "      <td>32</td>\n",
       "      <td>5</td>\n",
       "    </tr>\n",
       "    <tr>\n",
       "      <th>6</th>\n",
       "      <td>107</td>\n",
       "      <td>Sayani  Banerjee</td>\n",
       "      <td>Worth every penny</td>\n",
       "      <td>5</td>\n",
       "      <td>Nice laptop and Ryzen 3 is a good processor fo...</td>\n",
       "      <td>98</td>\n",
       "      <td>24</td>\n",
       "    </tr>\n",
       "    <tr>\n",
       "      <th>7</th>\n",
       "      <td>108</td>\n",
       "      <td>Shivani  Pankaj</td>\n",
       "      <td>Nice product</td>\n",
       "      <td>4</td>\n",
       "      <td>This laptop is very light weight and I am happ...</td>\n",
       "      <td>10</td>\n",
       "      <td>0</td>\n",
       "    </tr>\n",
       "    <tr>\n",
       "      <th>8</th>\n",
       "      <td>109</td>\n",
       "      <td>MD MATHIN ALI</td>\n",
       "      <td>Terrific</td>\n",
       "      <td>5</td>\n",
       "      <td>#Price up to markIts wonderful product for tho...</td>\n",
       "      <td>73</td>\n",
       "      <td>25</td>\n",
       "    </tr>\n",
       "    <tr>\n",
       "      <th>9</th>\n",
       "      <td>110</td>\n",
       "      <td>Aneel Sahoo</td>\n",
       "      <td>Just wow!</td>\n",
       "      <td>5</td>\n",
       "      <td>Good productREAD MORE</td>\n",
       "      <td>19</td>\n",
       "      <td>4</td>\n",
       "    </tr>\n",
       "  </tbody>\n",
       "</table>\n",
       "</div>"
      ],
      "text/plain": [
       "   Unnamed: 0     Customers_Name         Review_Comment  Review_Stars  \\\n",
       "5         106    Gurudev  Nayak   Mind-blowing purchase             5   \n",
       "6         107  Sayani  Banerjee       Worth every penny             5   \n",
       "7         108    Shivani  Pankaj           Nice product             4   \n",
       "8         109      MD MATHIN ALI               Terrific             5   \n",
       "9         110        Aneel Sahoo              Just wow!             5   \n",
       "\n",
       "                                              Review  Likes  Dislikes  \n",
       "5  Such a awesome product by HP. according to bud...     32         5  \n",
       "6  Nice laptop and Ryzen 3 is a good processor fo...     98        24  \n",
       "7  This laptop is very light weight and I am happ...     10         0  \n",
       "8  #Price up to markIts wonderful product for tho...     73        25  \n",
       "9                              Good productREAD MORE     19         4  "
      ]
     },
     "execution_count": 30,
     "metadata": {},
     "output_type": "execute_result"
    }
   ],
   "source": [
    "df1.tail()"
   ]
  },
  {
   "cell_type": "markdown",
   "id": "7b4558cc",
   "metadata": {
    "id": "7b4558cc"
   },
   "source": [
    "(19) Use .info() To Get The Information Of DataSet:-"
   ]
  },
  {
   "cell_type": "code",
   "execution_count": 31,
   "id": "2bebb907",
   "metadata": {
    "colab": {
     "base_uri": "https://localhost:8080/"
    },
    "executionInfo": {
     "elapsed": 120,
     "status": "ok",
     "timestamp": 1660286607292,
     "user": {
      "displayName": "Priyanka Awaje",
      "userId": "04948741848315503765"
     },
     "user_tz": -330
    },
    "id": "2bebb907",
    "outputId": "89dfb839-5b9f-4bc5-ad7f-01a148db43ae"
   },
   "outputs": [
    {
     "name": "stdout",
     "output_type": "stream",
     "text": [
      "<class 'pandas.core.frame.DataFrame'>\n",
      "RangeIndex: 10 entries, 0 to 9\n",
      "Data columns (total 7 columns):\n",
      " #   Column          Non-Null Count  Dtype \n",
      "---  ------          --------------  ----- \n",
      " 0   Unnamed: 0      10 non-null     int64 \n",
      " 1   Customers_Name  10 non-null     object\n",
      " 2   Review_Comment  10 non-null     object\n",
      " 3   Review_Stars    10 non-null     int64 \n",
      " 4   Review          10 non-null     object\n",
      " 5   Likes           10 non-null     int64 \n",
      " 6   Dislikes        10 non-null     int64 \n",
      "dtypes: int64(4), object(3)\n",
      "memory usage: 692.0+ bytes\n"
     ]
    }
   ],
   "source": [
    "df1.info()"
   ]
  },
  {
   "cell_type": "markdown",
   "id": "e8c9e6f3",
   "metadata": {
    "id": "e8c9e6f3"
   },
   "source": [
    "# SORTING THE DATASET FILE"
   ]
  },
  {
   "cell_type": "markdown",
   "id": "8d79cd3f",
   "metadata": {
    "id": "8d79cd3f"
   },
   "source": [
    "(20) Sorting The Names With Ascending Orders:-"
   ]
  },
  {
   "cell_type": "code",
   "execution_count": 32,
   "id": "00df65b7",
   "metadata": {
    "colab": {
     "base_uri": "https://localhost:8080/"
    },
    "executionInfo": {
     "elapsed": 118,
     "status": "ok",
     "timestamp": 1660286607293,
     "user": {
      "displayName": "Priyanka Awaje",
      "userId": "04948741848315503765"
     },
     "user_tz": -330
    },
    "id": "00df65b7",
    "outputId": "89e3a414-510b-4daa-80c5-00ee316755a9"
   },
   "outputs": [
    {
     "data": {
      "text/plain": [
       "4     Anand Amirtharaj\n",
       "9          Aneel Sahoo\n",
       "0         Anoop Mathew\n",
       "3    Flipkart Customer\n",
       "5      Gurudev  Nayak \n",
       "8        MD MATHIN ALI\n",
       "6    Sayani  Banerjee \n",
       "7      Shivani  Pankaj\n",
       "2      Vaibhav Bharati\n",
       "1         Vivek Raturi\n",
       "Name: Customers_Name, dtype: object"
      ]
     },
     "execution_count": 32,
     "metadata": {},
     "output_type": "execute_result"
    }
   ],
   "source": [
    "df1.Customers_Name.sort_values()"
   ]
  },
  {
   "cell_type": "markdown",
   "id": "50b59ec8",
   "metadata": {
    "id": "50b59ec8"
   },
   "source": [
    "(21) Sorting The Names With Descending Orders:-"
   ]
  },
  {
   "cell_type": "code",
   "execution_count": 33,
   "id": "8d6019c7",
   "metadata": {
    "colab": {
     "base_uri": "https://localhost:8080/"
    },
    "executionInfo": {
     "elapsed": 118,
     "status": "ok",
     "timestamp": 1660286607294,
     "user": {
      "displayName": "Priyanka Awaje",
      "userId": "04948741848315503765"
     },
     "user_tz": -330
    },
    "id": "8d6019c7",
    "outputId": "06a11fb4-00ce-4985-bf36-a86af11d514a"
   },
   "outputs": [
    {
     "data": {
      "text/plain": [
       "1         Vivek Raturi\n",
       "2      Vaibhav Bharati\n",
       "7      Shivani  Pankaj\n",
       "6    Sayani  Banerjee \n",
       "8        MD MATHIN ALI\n",
       "5      Gurudev  Nayak \n",
       "3    Flipkart Customer\n",
       "0         Anoop Mathew\n",
       "9          Aneel Sahoo\n",
       "4     Anand Amirtharaj\n",
       "Name: Customers_Name, dtype: object"
      ]
     },
     "execution_count": 33,
     "metadata": {},
     "output_type": "execute_result"
    }
   ],
   "source": [
    "df1.Customers_Name.sort_values(ascending=False)"
   ]
  },
  {
   "cell_type": "markdown",
   "id": "88470643",
   "metadata": {
    "id": "88470643"
   },
   "source": [
    "# FILTERING THE DATA"
   ]
  },
  {
   "cell_type": "markdown",
   "id": "d3619fde",
   "metadata": {
    "id": "d3619fde"
   },
   "source": [
    "(22) Find The Customers Who Gives This Product 5 Stars:-"
   ]
  },
  {
   "cell_type": "code",
   "execution_count": 34,
   "id": "0f9a02d6",
   "metadata": {
    "colab": {
     "base_uri": "https://localhost:8080/"
    },
    "executionInfo": {
     "elapsed": 118,
     "status": "ok",
     "timestamp": 1660286607295,
     "user": {
      "displayName": "Priyanka Awaje",
      "userId": "04948741848315503765"
     },
     "user_tz": -330
    },
    "id": "0f9a02d6",
    "outputId": "9c2c9070-4d9f-4c87-9e35-6b93edff06b5"
   },
   "outputs": [
    {
     "data": {
      "text/plain": [
       "0         Anoop Mathew\n",
       "5      Gurudev  Nayak \n",
       "6    Sayani  Banerjee \n",
       "8        MD MATHIN ALI\n",
       "9          Aneel Sahoo\n",
       "Name: Customers_Name, dtype: object"
      ]
     },
     "execution_count": 34,
     "metadata": {},
     "output_type": "execute_result"
    }
   ],
   "source": [
    "df1[df1.Review_Stars==5][\"Customers_Name\"]"
   ]
  },
  {
   "cell_type": "markdown",
   "id": "48e1164d",
   "metadata": {},
   "source": [
    "Half of the customers has given 5 Star Review. which mean most of them had liked this product"
   ]
  },
  {
   "cell_type": "markdown",
   "id": "faa9f655",
   "metadata": {
    "id": "faa9f655"
   },
   "source": [
    "(23) Find The Customers Who Gives This Product Less Than 5 stars:-"
   ]
  },
  {
   "cell_type": "code",
   "execution_count": 35,
   "id": "fa4dba46",
   "metadata": {
    "colab": {
     "base_uri": "https://localhost:8080/"
    },
    "executionInfo": {
     "elapsed": 118,
     "status": "ok",
     "timestamp": 1660286607296,
     "user": {
      "displayName": "Priyanka Awaje",
      "userId": "04948741848315503765"
     },
     "user_tz": -330
    },
    "id": "fa4dba46",
    "outputId": "e2d6cf16-e749-497f-ec1c-e3e85acf85e0"
   },
   "outputs": [
    {
     "data": {
      "text/plain": [
       "1         Vivek Raturi\n",
       "2      Vaibhav Bharati\n",
       "3    Flipkart Customer\n",
       "4     Anand Amirtharaj\n",
       "7      Shivani  Pankaj\n",
       "Name: Customers_Name, dtype: object"
      ]
     },
     "execution_count": 35,
     "metadata": {},
     "output_type": "execute_result"
    }
   ],
   "source": [
    "df1[df1.Review_Stars<5][\"Customers_Name\"]"
   ]
  },
  {
   "cell_type": "markdown",
   "id": "7846651a",
   "metadata": {
    "id": "7846651a"
   },
   "source": [
    "# MULTIPLE FILTERING"
   ]
  },
  {
   "cell_type": "markdown",
   "id": "21250612",
   "metadata": {
    "id": "21250612"
   },
   "source": [
    "(24) Check Only The Data Who Gives 5 Stars To This Product:-"
   ]
  },
  {
   "cell_type": "code",
   "execution_count": 36,
   "id": "5d1c48ac",
   "metadata": {
    "colab": {
     "base_uri": "https://localhost:8080/",
     "height": 143
    },
    "executionInfo": {
     "elapsed": 118,
     "status": "ok",
     "timestamp": 1660286607297,
     "user": {
      "displayName": "Priyanka Awaje",
      "userId": "04948741848315503765"
     },
     "user_tz": -330
    },
    "id": "5d1c48ac",
    "outputId": "e15cac67-4c0c-42c0-fc9a-a16ab76d77f9"
   },
   "outputs": [
    {
     "data": {
      "text/html": [
       "<div>\n",
       "<style scoped>\n",
       "    .dataframe tbody tr th:only-of-type {\n",
       "        vertical-align: middle;\n",
       "    }\n",
       "\n",
       "    .dataframe tbody tr th {\n",
       "        vertical-align: top;\n",
       "    }\n",
       "\n",
       "    .dataframe thead th {\n",
       "        text-align: right;\n",
       "    }\n",
       "</style>\n",
       "<table border=\"1\" class=\"dataframe\">\n",
       "  <thead>\n",
       "    <tr style=\"text-align: right;\">\n",
       "      <th></th>\n",
       "      <th>Unnamed: 0</th>\n",
       "      <th>Customers_Name</th>\n",
       "      <th>Review_Comment</th>\n",
       "      <th>Review_Stars</th>\n",
       "      <th>Review</th>\n",
       "      <th>Likes</th>\n",
       "      <th>Dislikes</th>\n",
       "    </tr>\n",
       "  </thead>\n",
       "  <tbody>\n",
       "    <tr>\n",
       "      <th>0</th>\n",
       "      <td>101</td>\n",
       "      <td>Anoop Mathew</td>\n",
       "      <td>Just wow!</td>\n",
       "      <td>5</td>\n",
       "      <td>Awesome and nice for students and all. The fav...</td>\n",
       "      <td>87</td>\n",
       "      <td>4</td>\n",
       "    </tr>\n",
       "    <tr>\n",
       "      <th>5</th>\n",
       "      <td>106</td>\n",
       "      <td>Gurudev  Nayak</td>\n",
       "      <td>Mind-blowing purchase</td>\n",
       "      <td>5</td>\n",
       "      <td>Such a awesome product by HP. according to bud...</td>\n",
       "      <td>32</td>\n",
       "      <td>5</td>\n",
       "    </tr>\n",
       "    <tr>\n",
       "      <th>6</th>\n",
       "      <td>107</td>\n",
       "      <td>Sayani  Banerjee</td>\n",
       "      <td>Worth every penny</td>\n",
       "      <td>5</td>\n",
       "      <td>Nice laptop and Ryzen 3 is a good processor fo...</td>\n",
       "      <td>98</td>\n",
       "      <td>24</td>\n",
       "    </tr>\n",
       "    <tr>\n",
       "      <th>8</th>\n",
       "      <td>109</td>\n",
       "      <td>MD MATHIN ALI</td>\n",
       "      <td>Terrific</td>\n",
       "      <td>5</td>\n",
       "      <td>#Price up to markIts wonderful product for tho...</td>\n",
       "      <td>73</td>\n",
       "      <td>25</td>\n",
       "    </tr>\n",
       "    <tr>\n",
       "      <th>9</th>\n",
       "      <td>110</td>\n",
       "      <td>Aneel Sahoo</td>\n",
       "      <td>Just wow!</td>\n",
       "      <td>5</td>\n",
       "      <td>Good productREAD MORE</td>\n",
       "      <td>19</td>\n",
       "      <td>4</td>\n",
       "    </tr>\n",
       "  </tbody>\n",
       "</table>\n",
       "</div>"
      ],
      "text/plain": [
       "   Unnamed: 0     Customers_Name         Review_Comment  Review_Stars  \\\n",
       "0         101       Anoop Mathew              Just wow!             5   \n",
       "5         106    Gurudev  Nayak   Mind-blowing purchase             5   \n",
       "6         107  Sayani  Banerjee       Worth every penny             5   \n",
       "8         109      MD MATHIN ALI               Terrific             5   \n",
       "9         110        Aneel Sahoo              Just wow!             5   \n",
       "\n",
       "                                              Review  Likes  Dislikes  \n",
       "0  Awesome and nice for students and all. The fav...     87         4  \n",
       "5  Such a awesome product by HP. according to bud...     32         5  \n",
       "6  Nice laptop and Ryzen 3 is a good processor fo...     98        24  \n",
       "8  #Price up to markIts wonderful product for tho...     73        25  \n",
       "9                              Good productREAD MORE     19         4  "
      ]
     },
     "execution_count": 36,
     "metadata": {},
     "output_type": "execute_result"
    }
   ],
   "source": [
    "df1[(df1.Review_Stars>=5) & (df1.Customers_Name)]"
   ]
  },
  {
   "cell_type": "markdown",
   "id": "f633d7cc",
   "metadata": {
    "id": "f633d7cc"
   },
   "source": [
    "(25) Check Only The Data Who Gives Less Than 5 Stars To This Product:-"
   ]
  },
  {
   "cell_type": "code",
   "execution_count": 37,
   "id": "1942b3b9",
   "metadata": {
    "colab": {
     "base_uri": "https://localhost:8080/",
     "height": 269
    },
    "executionInfo": {
     "elapsed": 118,
     "status": "ok",
     "timestamp": 1660286607298,
     "user": {
      "displayName": "Priyanka Awaje",
      "userId": "04948741848315503765"
     },
     "user_tz": -330
    },
    "id": "1942b3b9",
    "outputId": "6aa19ee1-4bd3-4732-81fc-fb3310d77830"
   },
   "outputs": [
    {
     "data": {
      "text/html": [
       "<div>\n",
       "<style scoped>\n",
       "    .dataframe tbody tr th:only-of-type {\n",
       "        vertical-align: middle;\n",
       "    }\n",
       "\n",
       "    .dataframe tbody tr th {\n",
       "        vertical-align: top;\n",
       "    }\n",
       "\n",
       "    .dataframe thead th {\n",
       "        text-align: right;\n",
       "    }\n",
       "</style>\n",
       "<table border=\"1\" class=\"dataframe\">\n",
       "  <thead>\n",
       "    <tr style=\"text-align: right;\">\n",
       "      <th></th>\n",
       "      <th>Unnamed: 0</th>\n",
       "      <th>Customers_Name</th>\n",
       "      <th>Review_Comment</th>\n",
       "      <th>Review_Stars</th>\n",
       "      <th>Review</th>\n",
       "      <th>Likes</th>\n",
       "      <th>Dislikes</th>\n",
       "    </tr>\n",
       "  </thead>\n",
       "  <tbody>\n",
       "    <tr>\n",
       "      <th>1</th>\n",
       "      <td>102</td>\n",
       "      <td>Vivek Raturi</td>\n",
       "      <td>Good</td>\n",
       "      <td>3</td>\n",
       "      <td>Do not expect much :1)Very slow takes a lot of...</td>\n",
       "      <td>31</td>\n",
       "      <td>0</td>\n",
       "    </tr>\n",
       "    <tr>\n",
       "      <th>2</th>\n",
       "      <td>103</td>\n",
       "      <td>Vaibhav Bharati</td>\n",
       "      <td>Very Good</td>\n",
       "      <td>4</td>\n",
       "      <td>Read carefully.. My Experience was complicated...</td>\n",
       "      <td>314</td>\n",
       "      <td>67</td>\n",
       "    </tr>\n",
       "    <tr>\n",
       "      <th>3</th>\n",
       "      <td>104</td>\n",
       "      <td>Flipkart Customer</td>\n",
       "      <td>Very Good</td>\n",
       "      <td>4</td>\n",
       "      <td>Very nice product finishing is very good.READ ...</td>\n",
       "      <td>26</td>\n",
       "      <td>3</td>\n",
       "    </tr>\n",
       "    <tr>\n",
       "      <th>4</th>\n",
       "      <td>105</td>\n",
       "      <td>Anand Amirtharaj</td>\n",
       "      <td>Wonderful</td>\n",
       "      <td>4</td>\n",
       "      <td>Compare to i3, ryzen 3 is far better in perfor...</td>\n",
       "      <td>92</td>\n",
       "      <td>16</td>\n",
       "    </tr>\n",
       "    <tr>\n",
       "      <th>7</th>\n",
       "      <td>108</td>\n",
       "      <td>Shivani  Pankaj</td>\n",
       "      <td>Nice product</td>\n",
       "      <td>4</td>\n",
       "      <td>This laptop is very light weight and I am happ...</td>\n",
       "      <td>10</td>\n",
       "      <td>0</td>\n",
       "    </tr>\n",
       "  </tbody>\n",
       "</table>\n",
       "</div>"
      ],
      "text/plain": [
       "   Unnamed: 0     Customers_Name Review_Comment  Review_Stars  \\\n",
       "1         102       Vivek Raturi           Good             3   \n",
       "2         103    Vaibhav Bharati      Very Good             4   \n",
       "3         104  Flipkart Customer      Very Good             4   \n",
       "4         105   Anand Amirtharaj      Wonderful             4   \n",
       "7         108    Shivani  Pankaj   Nice product             4   \n",
       "\n",
       "                                              Review  Likes  Dislikes  \n",
       "1  Do not expect much :1)Very slow takes a lot of...     31         0  \n",
       "2  Read carefully.. My Experience was complicated...    314        67  \n",
       "3  Very nice product finishing is very good.READ ...     26         3  \n",
       "4  Compare to i3, ryzen 3 is far better in perfor...     92        16  \n",
       "7  This laptop is very light weight and I am happ...     10         0  "
      ]
     },
     "execution_count": 37,
     "metadata": {},
     "output_type": "execute_result"
    }
   ],
   "source": [
    "df1[(df1.Review_Stars<5) & (df1.Customers_Name)]"
   ]
  },
  {
   "cell_type": "markdown",
   "id": "fcaf38d4",
   "metadata": {
    "id": "fcaf38d4"
   },
   "source": [
    "# WE CAN APPLY STRING METHODS ALSO"
   ]
  },
  {
   "cell_type": "markdown",
   "id": "d63928f9",
   "metadata": {
    "id": "d63928f9"
   },
   "source": [
    "(26) .upper() Method Convert All The LETTERS Into CAPITAL LETTERS:-"
   ]
  },
  {
   "cell_type": "code",
   "execution_count": 39,
   "id": "79a930b7",
   "metadata": {
    "colab": {
     "base_uri": "https://localhost:8080/"
    },
    "executionInfo": {
     "elapsed": 117,
     "status": "ok",
     "timestamp": 1660286607299,
     "user": {
      "displayName": "Priyanka Awaje",
      "userId": "04948741848315503765"
     },
     "user_tz": -330
    },
    "id": "79a930b7",
    "outputId": "e51aaec0-21ee-420f-ada4-6e4930a68f71"
   },
   "outputs": [
    {
     "data": {
      "text/plain": [
       "0         ANOOP MATHEW\n",
       "1         VIVEK RATURI\n",
       "2      VAIBHAV BHARATI\n",
       "3    FLIPKART CUSTOMER\n",
       "4     ANAND AMIRTHARAJ\n",
       "5      GURUDEV  NAYAK \n",
       "6    SAYANI  BANERJEE \n",
       "7      SHIVANI  PANKAJ\n",
       "8        MD MATHIN ALI\n",
       "9          ANEEL SAHOO\n",
       "Name: Customers_Name, dtype: object"
      ]
     },
     "execution_count": 39,
     "metadata": {},
     "output_type": "execute_result"
    }
   ],
   "source": [
    "df1.Customers_Name.str.upper()"
   ]
  },
  {
   "cell_type": "markdown",
   "id": "b1e9a703",
   "metadata": {
    "id": "b1e9a703"
   },
   "source": [
    "(27) .lower() Method Convert All The LETTERS Into Small LETTERS:-"
   ]
  },
  {
   "cell_type": "code",
   "execution_count": 41,
   "id": "98c861f0",
   "metadata": {
    "colab": {
     "base_uri": "https://localhost:8080/"
    },
    "executionInfo": {
     "elapsed": 118,
     "status": "ok",
     "timestamp": 1660286607300,
     "user": {
      "displayName": "Priyanka Awaje",
      "userId": "04948741848315503765"
     },
     "user_tz": -330
    },
    "id": "98c861f0",
    "outputId": "e2840c49-d6bb-4500-a76a-56eceeffc3e3"
   },
   "outputs": [
    {
     "data": {
      "text/plain": [
       "0         anoop mathew\n",
       "1         vivek raturi\n",
       "2      vaibhav bharati\n",
       "3    flipkart customer\n",
       "4     anand amirtharaj\n",
       "5      gurudev  nayak \n",
       "6    sayani  banerjee \n",
       "7      shivani  pankaj\n",
       "8        md mathin ali\n",
       "9          aneel sahoo\n",
       "Name: Customers_Name, dtype: object"
      ]
     },
     "execution_count": 41,
     "metadata": {},
     "output_type": "execute_result"
    }
   ],
   "source": [
    "df1.Customers_Name.str.lower()"
   ]
  },
  {
   "cell_type": "markdown",
   "id": "8120260e",
   "metadata": {
    "id": "8120260e"
   },
   "source": [
    "# SLICLING OPERATION IN DATASET"
   ]
  },
  {
   "cell_type": "markdown",
   "id": "6ecdeee5",
   "metadata": {
    "id": "6ecdeee5"
   },
   "source": [
    "(28) Find Names AND Review Of The Location We Have Given:-"
   ]
  },
  {
   "cell_type": "code",
   "execution_count": 42,
   "id": "8229c8c3",
   "metadata": {
    "colab": {
     "base_uri": "https://localhost:8080/"
    },
    "executionInfo": {
     "elapsed": 117,
     "status": "ok",
     "timestamp": 1660286607300,
     "user": {
      "displayName": "Priyanka Awaje",
      "userId": "04948741848315503765"
     },
     "user_tz": -330
    },
    "id": "8229c8c3",
    "outputId": "ce3c0e2f-9f79-4146-c973-0f59f6934a2f"
   },
   "outputs": [
    {
     "data": {
      "text/html": [
       "<div>\n",
       "<style scoped>\n",
       "    .dataframe tbody tr th:only-of-type {\n",
       "        vertical-align: middle;\n",
       "    }\n",
       "\n",
       "    .dataframe tbody tr th {\n",
       "        vertical-align: top;\n",
       "    }\n",
       "\n",
       "    .dataframe thead th {\n",
       "        text-align: right;\n",
       "    }\n",
       "</style>\n",
       "<table border=\"1\" class=\"dataframe\">\n",
       "  <thead>\n",
       "    <tr style=\"text-align: right;\">\n",
       "      <th></th>\n",
       "      <th>Customers_Name</th>\n",
       "      <th>Review_Comment</th>\n",
       "    </tr>\n",
       "  </thead>\n",
       "  <tbody>\n",
       "    <tr>\n",
       "      <th>3</th>\n",
       "      <td>Flipkart Customer</td>\n",
       "      <td>Very Good</td>\n",
       "    </tr>\n",
       "    <tr>\n",
       "      <th>9</th>\n",
       "      <td>Aneel Sahoo</td>\n",
       "      <td>Just wow!</td>\n",
       "    </tr>\n",
       "    <tr>\n",
       "      <th>6</th>\n",
       "      <td>Sayani  Banerjee</td>\n",
       "      <td>Worth every penny</td>\n",
       "    </tr>\n",
       "  </tbody>\n",
       "</table>\n",
       "</div>"
      ],
      "text/plain": [
       "      Customers_Name     Review_Comment\n",
       "3  Flipkart Customer          Very Good\n",
       "9        Aneel Sahoo          Just wow!\n",
       "6  Sayani  Banerjee   Worth every penny"
      ]
     },
     "execution_count": 42,
     "metadata": {},
     "output_type": "execute_result"
    }
   ],
   "source": [
    "df1.loc[[3,9,6],[\"Customers_Name\",\"Review_Comment\"]]"
   ]
  },
  {
   "cell_type": "markdown",
   "id": "a1e3459b",
   "metadata": {
    "id": "a1e3459b"
   },
   "source": [
    "# DATA VISUALIZATION"
   ]
  },
  {
   "cell_type": "code",
   "execution_count": 43,
   "id": "8f274f2f",
   "metadata": {
    "id": "8f274f2f"
   },
   "outputs": [],
   "source": [
    "import matplotlib.pyplot as plt\n",
    "%matplotlib inline"
   ]
  },
  {
   "cell_type": "markdown",
   "id": "dda8bc79",
   "metadata": {
    "id": "dda8bc79"
   },
   "source": [
    "# HISTOGRAM"
   ]
  },
  {
   "cell_type": "code",
   "execution_count": 45,
   "id": "76cc2a22",
   "metadata": {
    "colab": {
     "base_uri": "https://localhost:8080/",
     "height": 265
    },
    "executionInfo": {
     "elapsed": 115,
     "status": "ok",
     "timestamp": 1660286607305,
     "user": {
      "displayName": "Priyanka Awaje",
      "userId": "04948741848315503765"
     },
     "user_tz": -330
    },
    "id": "76cc2a22",
    "outputId": "4f6d9811-7d67-406e-cac8-7bfb557f2a65"
   },
   "outputs": [
    {
     "data": {
      "image/png": "[encoded data removed]",
      "text/plain": [
       "<Figure size 640x480 with 1 Axes>"
      ]
     },
     "metadata": {},
     "output_type": "display_data"
    }
   ],
   "source": [
    "plt.hist(x=df1.Review_Stars)\n",
    "plt.show()"
   ]
  },
  {
   "cell_type": "markdown",
   "id": "52b286ac",
   "metadata": {
    "id": "52b286ac"
   },
   "source": [
    "According To Histogram :-\n",
    "    \n",
    "    2 Person Gives 3 Stars\n",
    "    3 Person Gives 4 Stars\n",
    "    5 Person Gives 5 Stars"
   ]
  },
  {
   "cell_type": "markdown",
   "id": "f1a022fa",
   "metadata": {
    "id": "f1a022fa"
   },
   "source": [
    "# BAR PLOT"
   ]
  },
  {
   "cell_type": "code",
   "execution_count": 47,
   "id": "5526f25d",
   "metadata": {
    "colab": {
     "base_uri": "https://localhost:8080/",
     "height": 564
    },
    "executionInfo": {
     "elapsed": 115,
     "status": "ok",
     "timestamp": 1660286607306,
     "user": {
      "displayName": "Priyanka Awaje",
      "userId": "04948741848315503765"
     },
     "user_tz": -330
    },
    "id": "5526f25d",
    "outputId": "1aabab60-201e-43e8-e090-3f6cf7b5d003"
   },
   "outputs": [
    {
     "data": {
      "image/png": "[encoded data removed]",
      "text/plain": [
       "<Figure size 900x900 with 1 Axes>"
      ]
     },
     "metadata": {},
     "output_type": "display_data"
    }
   ],
   "source": [
    "plt.figure(figsize=(9,9))\n",
    "df1[\"Review_Stars\"].value_counts().plot(kind=\"bar\")\n",
    "plt.title(\"HP RYZEN LAPTOP STARS RATING\")\n",
    "plt.ylabel(\"Person Count\")\n",
    "plt.xlabel(\"Review_Stars\")\n",
    "plt.show()"
   ]
  },
  {
   "cell_type": "markdown",
   "id": "fb6cbd73",
   "metadata": {
    "id": "fb6cbd73"
   },
   "source": [
    "According To Bar Plot:-\n",
    "    \n",
    "    5 Person Gives 5 Stars\n",
    "    3 Person Gives 4 Stars\n",
    "    2 Person Gives 3 Stars"
   ]
  },
  {
   "cell_type": "markdown",
   "id": "c33046b0",
   "metadata": {
    "id": "c33046b0"
   },
   "source": [
    "# SCATTER PLOT"
   ]
  },
  {
   "cell_type": "code",
   "execution_count": 50,
   "id": "5229961a",
   "metadata": {
    "colab": {
     "base_uri": "https://localhost:8080/",
     "height": 403
    },
    "executionInfo": {
     "elapsed": 115,
     "status": "ok",
     "timestamp": 1660286607307,
     "user": {
      "displayName": "Priyanka Awaje",
      "userId": "04948741848315503765"
     },
     "user_tz": -330
    },
    "id": "5229961a",
    "outputId": "d8b86154-1863-4763-c081-7b4322429e1f"
   },
   "outputs": [
    {
     "data": {
      "image/png": "[encoded data removed]",
      "text/plain": [
       "<Figure size 640x480 with 1 Axes>"
      ]
     },
     "metadata": {},
     "output_type": "display_data"
    }
   ],
   "source": [
    "plt.scatter(x=df1[\"Customers_Name\"],y=df1[\"Review_Stars\"])\n",
    "plt.title(\"HP RYZEN LAPTOP STARS RATING\")\n",
    "plt.ylabel(\"Review_Stars\")\n",
    "plt.xlabel(\"Customers_Name\")\n",
    "plt.xticks(rotation=90)\n",
    "plt.show()"
   ]
  },
  {
   "cell_type": "markdown",
   "id": "eb43fee7",
   "metadata": {
    "id": "eb43fee7"
   },
   "source": [
    "# SEABORN"
   ]
  },
  {
   "cell_type": "code",
   "execution_count": 51,
   "id": "9b7e20fd",
   "metadata": {
    "id": "9b7e20fd"
   },
   "outputs": [],
   "source": [
    "import seaborn as sns"
   ]
  },
  {
   "cell_type": "markdown",
   "id": "4d63d5f2",
   "metadata": {
    "id": "4d63d5f2"
   },
   "source": [
    "# COUNT PLOT"
   ]
  },
  {
   "cell_type": "code",
   "execution_count": 52,
   "id": "eba815dc",
   "metadata": {
    "colab": {
     "base_uri": "https://localhost:8080/",
     "height": 336
    },
    "executionInfo": {
     "elapsed": 629,
     "status": "ok",
     "timestamp": 1660286607823,
     "user": {
      "displayName": "Priyanka Awaje",
      "userId": "04948741848315503765"
     },
     "user_tz": -330
    },
    "id": "eba815dc",
    "outputId": "9b1e4623-41e1-44b8-dccf-613588d55e08"
   },
   "outputs": [
    {
     "data": {
      "image/png": "[encoded data removed]",
      "text/plain": [
       "<Figure size 640x480 with 1 Axes>"
      ]
     },
     "metadata": {},
     "output_type": "display_data"
    }
   ],
   "source": [
    "sns.countplot(df1[\"Review_Stars\"])\n",
    "plt.show()"
   ]
  },
  {
   "cell_type": "markdown",
   "id": "d814ccb1",
   "metadata": {
    "id": "d814ccb1"
   },
   "source": [
    "# WEB-Scraping CONCLUSION:-"
   ]
  },
  {
   "cell_type": "markdown",
   "id": "ef8df738",
   "metadata": {
    "id": "ef8df738"
   },
   "source": [
    "(1):-\n",
    "      \n",
    "      Can Take Better Decision To Buy Any Product.\n",
    "(2):-\n",
    "\n",
    "      It Is More Convinient And Time Saving.\n",
    "(3):-\n",
    "        \n",
    "      Unique and rich datasets.\n",
    "(4):-\n",
    "      \n",
    "      Effective Data Management.\n",
    "\n",
    "(5)Marketing:-\n",
    "      \n",
    "      In the near future, Web scraping will be one of the important tools in the lead generation process.\n",
    "      The web scraping tool can make market research of the particular product/services and enormous benefits to offer in the marketing field."
   ]
  },
  {
   "cell_type": "markdown",
   "id": "087f4aaa",
   "metadata": {
    "id": "087f4aaa"
   },
   "source": [
    "# THANK YOU!"
   ]
  },
  {
   "cell_type": "code",
   "execution_count": null,
   "id": "7ec0ff99",
   "metadata": {
    "id": "7ec0ff99"
   },
   "outputs": [],
   "source": []
  }
 ],
 "metadata": {
  "colab": {
   "provenance": []
  },
  "kernelspec": {
   "display_name": "Python 3 (ipykernel)",
   "language": "python",
   "name": "python3"
  },
  "language_info": {
   "codemirror_mode": {
    "name": "ipython",
    "version": 3
   },
   "file_extension": ".py",
   "mimetype": "text/x-python",
   "name": "python",
   "nbconvert_exporter": "python",
   "pygments_lexer": "ipython3",
   "version": "3.11.5"
  }
 },
 "nbformat": 4,
 "nbformat_minor": 5
}
